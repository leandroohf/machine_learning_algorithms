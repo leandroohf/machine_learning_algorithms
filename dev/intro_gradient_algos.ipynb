{
 "cells": [
  {
   "cell_type": "markdown",
   "metadata": {},
   "source": [
    "# Gradients\n",
    "\n",
    "**TODO:** \n",
    "1. Fix mini-batch to work with simulated data by me and not using scikit-learn. (Where is the problem?)\n",
    "1. Add discussion about learning rate and batch size\n",
    "    * https://miguel-data-sc.github.io/2017-11-05-first/\n",
    "\n",
    "refs: \n",
    "* Book: Elements of Statistical Learning\n",
    "* https://www.deeplearningbook.org/  <== This is a goodreference for Deep Learning\n",
    "* https://stats.stackexchange.com/questions/179026/objective-function-cost-function-loss-function-are-they-the-same-thing\n",
    "* https://stackabuse.com/gradient-descent-in-python-implementation-and-theory/\n",
    "* https://www.youtube.com/watch?reload=9&v=Ne3hjpP7KSI\n",
    "* https://github.com/bhattbhavesh91/gradient-descent-variants/blob/master/gradient-descent-variants-notebook.ipynb\n",
    "* https://github.com/bhattbhavesh91/gradient-descent-variants\n",
    "* https://intellipaat.com/community/41845/what-is-the-difference-between-a-cost-function-and-a-loss-function-in-machine-learning\n",
    "* math demonstrations:\n",
    "    * https://stats.stackexchange.com/questions/278771/how-is-the-cost-function-from-logistic-regression-derivated/278812 \n",
    "    * https://medium.com/analytics-vidhya/derivative-of-log-loss-function-for-logistic-regression-9b832f025c2d\n",
    "    * https://ml-cheatsheet.readthedocs.io/en/latest/logistic_regression.html\n",
    "* Explanations and equeations about momentum and others optmizers:\n",
    "    * https://vzahorui.net/optimization/gradient-descent/\n",
    "    \n",
    "* Vidsual animations: https://towardsdatascience.com/a-visual-explanation-of-gradient-descent-methods-momentum-adagrad-rmsprop-adam-f898b102325c\n",
    "\n",
    "In this notebook, we review some main concepts in deep learning and implement the 3 main gradient descent algorithms using the NumPy library for linear regression and logistic regression.\n",
    "\n",
    "--------\n",
    "Terms used in deep learning:\n",
    "\n",
    "* epoch: one pass over the entire data\n",
    "* 1 step: update the parameters\n",
    "* B: mini-batch size\n",
    "\n",
    "ref: https://towardsdatascience.com/learning-parameters-part-3-ee8558f65dd7\n",
    "\n",
    "| Gradient Algo                     | #steps in epoch |\n",
    "|-----------------------------------|-----------------|\n",
    "| Vanilla or Batch Gradient Descent | 1               |\n",
    "| Stochastic Gradient Descent       | N               |\n",
    "| Mini Batch Gradient Descent       | N/B             |\n",
    "\n"
   ]
  },
  {
   "cell_type": "markdown",
   "metadata": {},
   "source": [
    "Analogy with Gravity (My background is in Physics)\n",
    "\n",
    "* Potential Energy => Loss Function\n",
    "* Goal Minimize Potential Energy => Minimize Loss Function \n",
    "* Mountain (x,y,z) => Regression Coefficient ($\\theta$)\n",
    "* modify (x,y) to archive the goal => modify $\\theta$ to achive the goal\n",
    "* Bottom of the Bowl or mountain => Minimum Value of Loss (Error)\n"
   ]
  },
  {
   "cell_type": "code",
   "execution_count": 1,
   "metadata": {},
   "outputs": [],
   "source": [
    "import numpy as np\n",
    "import random as rand\n",
    "\n",
    "import matplotlib\n",
    "import matplotlib.pyplot as plt\n",
    "# required for iteractive plot\n",
    "%matplotlib notebook  \n",
    "\n",
    "import seaborn as sns\n",
    "from scipy import stats \n",
    "\n",
    "from sklearn.datasets import make_classification, make_blobs, make_regression\n",
    "\n",
    "from typing import List, Set, Dict, Tuple, Optional, Union\n",
    "\n",
    "import warnings\n",
    "warnings.filterwarnings('ignore')\n",
    "\n",
    "from IPython.core.interactiveshell import InteractiveShell\n",
    "InteractiveShell.ast_node_interactivity = \"all\"\n",
    "%matplotlib inline"
   ]
  },
  {
   "cell_type": "markdown",
   "metadata": {},
   "source": [
    "## Cost, Loss and hypothesis function\n"
   ]
  },
  {
   "cell_type": "markdown",
   "metadata": {},
   "source": [
    "* Hypothesis function $h_{\\theta}(x, y)$\n",
    "    1. It is the fucntional responsiple to do the mapping: (x -> y). It is the model you pick that you believe is the best to solve the task. \n",
    "    1. Ex in the context of Machine learning: linear regression, logistic regression and support vector machine all they have different $h_{\\theta}(x, y)$. You neeed to determine the best by try and fail\n",
    "    1. Ex context of deep learning: It is the different architecture you are tryng\n",
    "\n",
    "\n",
    "The terms **Loss** and **Cost** functions are frequent used by meaning the same things, but there are differences.\n",
    "\n",
    "* Loss function $\\mathcal{L}(h_{\\theta}(x^{(i)}), y_i)$\n",
    "    1. It is the penality the algorithms pays by predicting $\\hat{y}_i = h_{\\theta}(x^{(i)}, y_i)$\n",
    "        * if the estimation (prediction) is right $\\hat{y}_i$, the penality should be zero\n",
    "        * if the estimation (prediction) is wrong, the penality should increase with the difference between $\\hat{y}_i$ and $y_i$\n",
    "     1. It is a fucntion of data and not parameters. The parameters are assumed given and constant\n",
    "     1. Examples of loss functions: Linear regression\n",
    "     \n",
    "$$\n",
    "\\mathcal{L}(x,y) =  \\frac{1}{2} \\left ( x \\theta_1 + \\theta_0 - y \\right )^2 \\\\\n",
    "h_{\\theta_0,\\theta_1}(x, y) = \\left ( x \\theta_1 + \\theta_0 - y \\right )^2\n",
    "$$\n",
    "     \n",
    "\n",
    "* Cost function $J(\\theta)$ \n",
    "    1. It is a function only of parameters. Data $x^{(i)},y_i$ are assumed as given and constant\n",
    "    1. It is the average of the loss function over the dataset\n",
    "    1. It means the average cost (penality) the algo paid for there mistakes over data sets or the complete batch\n",
    "    \n",
    "$$\n",
    "J(\\theta) = \\frac{1}{n} \\sum_{i=1}^n \\mathcal{L}(h_{\\theta}(x^{(i)}), y_i)\n",
    "$$"
   ]
  },
  {
   "cell_type": "markdown",
   "metadata": {},
   "source": [
    "## Gradient descent\n"
   ]
  },
  {
   "cell_type": "markdown",
   "metadata": {},
   "source": [
    "In machine learning we define the loss fucntion $L = L(y, h_{\\theta}(X))$. This function is reponsible to penalize mistakes. The machine learning algorithm learns by minimizing this function. $\\theta$ are the paremeters of the models, $X$ is the trainning data and $y$ are the labels. The term $h_{\\theta}(X)$ is the hypothesis.  We define the cost function $J(\\theta) = \\frac{1}{n} \\sum_{i=1}^n \\mathcal{L}(h_{\\theta}(x^{(i)}), y_i)$. Notices that the cost function $J(\\theta)$ depends of the trainning data $X$, $y$ as well, but is considered only a function of the parameters $\\theta$. Bellow is the cost function for Multiple Linear Regression:\n",
    "\n",
    "$\n",
    "J(\\theta) =  \\frac{1}{2n} \\left ( X \\theta - y \\right )^t\\left ( X \\theta - y \\right )\n",
    "$\n",
    "\n",
    "where $h_{\\theta}(X) = X \\theta$.\n",
    "\n",
    "From calclulus, \n",
    "\n",
    "$\n",
    "d J(\\theta) = \\nabla_{\\theta} J(\\theta) * d\\theta\n",
    "$\n",
    "\n",
    "where $*$ is the scalar product or inner product. Because the $cos(a)$ function is maximun when $a=0$ ($d\\theta$ and $\\nabla_{\\theta}$ are aligned in this situation), we know that the opposite direction of the gradient point to the direction that minimizes the cost function $J(\\theta)$.\n",
    "\n",
    "> PS: The opposite direction $\\nabla_{\\theta}J(\\theta)$ minimizes the cost function. The gradient is a compass that instead of point North, it is always point downhill.\n",
    "\n",
    "\n",
    "The algorithm is summarized as follow:\n",
    "    \n",
    "1. Start from a random point $\\theta = \\theta_0$\n",
    "\n",
    "1. Repeat the steps\n",
    "\n",
    "    1. update direction (find the direction to minimize $J(\\theta)$): $\\Delta \\theta = -\\eta \\nabla_{\\theta}J(\\theta)$\n",
    "    \n",
    "    1. update the position (keep changing the parameters to minimize $J(\\theta)$): $\\theta = \\theta + \\Delta \\theta$\n",
    "    \n",
    "where $\\eta$ is the **learning rate**. \n"
   ]
  },
  {
   "cell_type": "markdown",
   "metadata": {},
   "source": [
    "## Notes about Gradients"
   ]
  },
  {
   "cell_type": "markdown",
   "metadata": {},
   "source": [
    "**TODO:** Consider add this to another notebook\n",
    "\n",
    "* Gradient Descent with momentum\n",
    "\n",
    "    * The problem mmentum address is to speedup the steps in the regions where gradients is too small (Vanish). It helps the gradient:\n",
    "        * escape from local small valleys \n",
    "        * speedup in plateuas and\n",
    "        * also avoid stopping in saddle points\n",
    "    * Intuition: adds term that can be understood as innertial term in the update \n",
    "    * Gradients tends to jiggle more when it is closed to minimum because the gradients are change directions. Othe siolutions try to address this peoblems: **AdaGrad**, **RMSProp** and **Adam (momentum+ RMSProp) (This is the best available right now)**\n",
    "    \n",
    "    \n",
    "$\n",
    "d\\theta = \\beta d\\theta + \\eta (1 - \\beta)  \\nabla_{\\theta} J(\\theta) \n",
    "$\n",
    "    \n",
    "Default value $\\beta = 0.9$ works well in many situations\n",
    "* $\\beta = 0$: we have normall gardeints (no momentum)\n",
    "* $\\beta = 1$: oure momentum and the slopes (gradients) are ignored in the update\n",
    "\n",
    "\n"
   ]
  },
  {
   "cell_type": "markdown",
   "metadata": {},
   "source": [
    "## Examples of cost functions and their gradients"
   ]
  },
  {
   "cell_type": "markdown",
   "metadata": {},
   "source": [
    "### Linear Rgression"
   ]
  },
  {
   "cell_type": "markdown",
   "metadata": {},
   "source": [
    "$\n",
    "J(\\theta) = \\frac{1}{2n} \\sum_i^n \\left ( h_{\\theta}(x_i) - y_i \\right )^2\n",
    "$\n",
    "\n",
    "$\n",
    "J(\\theta) = \\frac{1}{2n} \\left ( X \\theta - y \\right )^t\\left ( X \\theta - y \\right )\n",
    "$\n",
    "\n",
    "\n",
    "$\n",
    "\\nabla_{\\theta}J(\\theta) = \\frac{1}{n} X^t \\left ( X\\theta - y \\right )\n",
    "$"
   ]
  },
  {
   "cell_type": "code",
   "execution_count": 1071,
   "metadata": {},
   "outputs": [],
   "source": [
    "# X: matrix nxd\n",
    "# y: column vector nx1\n",
    "# theta: column vector dx1\n",
    "\n",
    "def cost_func_linear_regression(theta, X, y):\n",
    "    \n",
    "    #import pdb; pdb.set_trace()\n",
    "    n = X.shape[0]\n",
    "    \n",
    "    # error: pred - y\n",
    "    z = np.matmul(X,theta) - y\n",
    "\n",
    "    return np.matmul(z.T,z)/2.0/n  # <== average of all loss MSE\n",
    "\n",
    "def gradient_linear_regression(theta,X,y):\n",
    "    \n",
    "    n = X.shape[0]\n",
    "    \n",
    "    # error: pred - y\n",
    "    z = np.matmul(X,theta) - y    \n",
    "    grad = np.matmul(X.T,z)\n",
    "    \n",
    "    #print(f\"theta.shape: {theta.shape}; X.shape: {X.shape}; z.shape: {z.shape}; grad.shape: {grad.shape}\")\n",
    "    \n",
    "    return grad/n"
   ]
  },
  {
   "cell_type": "markdown",
   "metadata": {},
   "source": [
    "### Logistic Regression Sigmoid activation\n",
    "\n",
    "* vectorized formula of the cost function: https://ml-cheatsheet.readthedocs.io/en/latest/logistic_regression.html\n",
    "\n",
    "* Cost function is also calles **Cross-entropy** or **log loss**\n",
    "\n",
    "**TODO:** Try to find a demonstartion of the vectorial version of the gradient using matrix derivative"
   ]
  },
  {
   "cell_type": "markdown",
   "metadata": {},
   "source": [
    "$\n",
    "J(\\theta) = \\frac{1}{n} \\sum_i^n \\left ( y^i log(h_{\\theta}(x_i)) - (1 - y_i) log(1 - h_{\\theta}(x_i)) \\right ) \\\\\n",
    "J(\\theta) = - \\frac{1}{n} \\left ( y^t log(h(X\\theta)) + (1 - y)^t log(1 - h(X\\theta))  \\right )\n",
    "$\n",
    "\n",
    "$\n",
    "\\nabla_{\\theta}J(\\theta) = X^t \\left ( \\sigma(X\\theta) - y) \\right )\n",
    "$\n",
    "\n",
    "where:\n",
    "\n",
    "$\n",
    "h(X\\theta) = h(z) = \\sigma(z) \\equiv \\frac{1}{1 + e^{-z}} \\\\\n",
    "\\frac{\\partial}{\\partial z} \\sigma(z) = \\sigma(z) (1 - \\sigma(z))  \\\\\n",
    "z = X\\theta\n",
    "$\n"
   ]
  },
  {
   "cell_type": "code",
   "execution_count": 1141,
   "metadata": {
    "code_folding": []
   },
   "outputs": [],
   "source": [
    "# X: matrix nxd\n",
    "# y: column vector nx1\n",
    "# theta: column vector dx1\n",
    "\n",
    "def cost_func_logistic_regression(theta, X, y):\n",
    "    \n",
    "    n = X.shape[0]\n",
    "    z = np.matmul(X,theta)  # nx1\n",
    "    h = 1.0/(1.0 + np.exp(-z))  # activation: nx1\n",
    "    \n",
    "    cost = (-1.0/n)*(y^t*np.log(h) + (1-y)^t*(np.log(1-h))) # scalar\n",
    "    \n",
    "    return cost\n",
    "\n",
    "def gradient_logistic_regression(theta,X,y):\n",
    "    \n",
    "    z = np.matmul(X,theta)\n",
    "    \n",
    "    # pred\n",
    "    h = 1.0/(1.0 + np.exp(-z))  # activation\n",
    "    \n",
    "    return np.matmul(X.T,h - y)"
   ]
  },
  {
   "cell_type": "markdown",
   "metadata": {},
   "source": [
    "### Minimizing a complex function"
   ]
  },
  {
   "cell_type": "markdown",
   "metadata": {},
   "source": [
    "**TODO:**: Review eq. I think I have small bug in hte gradient equation\n",
    "\n",
    "$\n",
    "J(\\theta_1, \\theta_2) = A(\\theta_1^2 + \\theta_1 + \\theta_2^2) + C e^{-\\frac{1}{2\\sigma^2} \\left [ (\\theta_1 - \\mu_1)^2 + (\\theta_2 - \\mu_2)^2 \\right ]}\n",
    "$\n",
    "\n",
    "$\n",
    "\\nabla_{\\theta}J(\\theta) = \\frac{\\partial}{\\partial \\theta_1 } J(\\theta) \\hat{\\theta_1} + \\frac{\\partial}{\\partial \\theta_2 } J(\\theta) \\hat{\\theta_2} \\\\\n",
    "\\frac{\\partial}{\\partial \\theta_1 } J(\\theta) = A(2\\theta_1 + 1) - \\frac{(\\theta_1 - \\mu_1)}{\\sigma^2} C e^{-\\frac{1}{2\\sigma^2} \\left [ (\\theta_1 - \\mu_1)^2 + (\\theta_2 - \\mu_2)^2 \\right ]} \\\\\n",
    "\\frac{\\partial}{\\partial \\theta_2 } J(\\theta) = 2A\\theta_2 - \\frac{(\\theta_2 - \\mu_2)}{\\sigma^2} C e^{-\\frac{1}{2\\sigma^2} \\left [ (\\theta_1 - \\mu_1)^2 + (\\theta_2 - \\mu_2)^2 \\right ]}  \n",
    "$\n"
   ]
  },
  {
   "cell_type": "code",
   "execution_count": 809,
   "metadata": {
    "code_folding": []
   },
   "outputs": [],
   "source": [
    "from matplotlib import cm\n",
    "\n",
    "def gen_function():\n",
    "    \n",
    "    A = 0.1\n",
    "    C = -5.0\n",
    "    A0 = 3.0 - 0.844  # Constant to make min of the cost function zero\n",
    "    \n",
    "    mu_1 = 3\n",
    "    mu_2 = 4\n",
    "    sigma = 2.0    \n",
    "    \n",
    "    def cost_function(theta, X=None, y=None):\n",
    "\n",
    "        theta1 = theta[0]\n",
    "        theta2 = theta[1]\n",
    "        \n",
    "        #A = 0.1\n",
    "        cost = A*(theta1**2 + theta1 + theta2**2) + A0\n",
    "\n",
    "        cost += C*np.exp(-0.5*((theta1-mu_1)**2 + (theta2-mu_2) ** 2)/sigma)\n",
    "\n",
    "        return cost\n",
    "\n",
    "    def gradient(theta,X,y):\n",
    "\n",
    "        theta1 = theta[0]\n",
    "        theta2 = theta[1]\n",
    "        \n",
    "        gaussian_cost = C*np.exp(-0.5*((theta1-mu_1)**2 + (theta2-mu_2) ** 2)/sigma)\n",
    "        # dJ/dtheta_1 \n",
    "        grad_theta1 = A*(2.0*theta1 + theta1) - (theta1-mu_1)/sigma/sigma* gaussian_cost\n",
    "        grad_theta2 = A*2.0*theta2 - (theta2-mu_2)/sigma/sigma* gaussian_cost\n",
    "        \n",
    "        return np.array([grad_theta1,grad_theta2])\n",
    "    \n",
    "    return cost_function, gradient\n",
    "\n",
    "cost_function, gradient = gen_function()\n",
    "\n",
    "grid_size = 25\n",
    "theta1 = np.linspace(-7, 7, grid_size)\n",
    "theta2 = np.linspace(-7, 7, grid_size)\n",
    "\n",
    "X = np.array([])\n",
    "y = np.array([])\n",
    "\n",
    "Theta1,Theta2 = np.meshgrid(theta1,theta2)\n",
    "\n",
    "J_grid = np.zeros((grid_size,grid_size))\n",
    "theta = np.array([0.0,0.0]).T\n",
    "for r in range(0,grid_size):\n",
    "    \n",
    "    for c in range(0,grid_size):\n",
    "        \n",
    "        theta[0] = theta1[r]\n",
    "        theta[1] = theta2[c]\n",
    "        \n",
    "        J_grid[r,c] = cost_function(theta, X,y)"
   ]
  },
  {
   "cell_type": "code",
   "execution_count": 810,
   "metadata": {},
   "outputs": [
    {
     "data": {
      "text/plain": [
       "-0.16555665024973987"
      ]
     },
     "execution_count": 810,
     "metadata": {},
     "output_type": "execute_result"
    },
    {
     "data": {
      "text/plain": [
       "12.655999999999993"
      ]
     },
     "execution_count": 810,
     "metadata": {},
     "output_type": "execute_result"
    }
   ],
   "source": [
    "J_grid.min()\n",
    "J_grid.max()"
   ]
  },
  {
   "cell_type": "code",
   "execution_count": 811,
   "metadata": {},
   "outputs": [
    {
     "data": {
      "image/png": "[encoded data removed]",
      "text/plain": [
       "<Figure size 432x288 with 2 Axes>"
      ]
     },
     "metadata": {
      "needs_background": "light"
     },
     "output_type": "display_data"
    }
   ],
   "source": [
    "fig = plt.subplot(121)\n",
    "ax = plt.axes(projection='3d')\n",
    "ax.contour3D(Theta1, Theta2, J_grid, 50, cmap=cm.coolwarm)\n",
    "ax.set_xlabel(r'$\\theta_1$')\n",
    "ax.set_ylabel(r'$\\theta_2$')\n",
    "ax.set_zlabel(r'$J(\\theta)$');"
   ]
  },
  {
   "cell_type": "code",
   "execution_count": 76,
   "metadata": {},
   "outputs": [
    {
     "data": {
      "image/png": "[encoded data removed]",
      "text/plain": [
       "<Figure size 432x288 with 2 Axes>"
      ]
     },
     "metadata": {
      "needs_background": "light"
     },
     "output_type": "display_data"
    }
   ],
   "source": [
    "cp = plt.contourf(Theta1, Theta2, J_grid)\n",
    "plt.colorbar(cp)\n",
    "\n",
    "ax.set_title('Contour Plot')\n",
    "ax.set_xlabel(r'$\\theta_1$')\n",
    "ax.set_ylabel(r'$\\theta_2$')\n",
    "plt.show();"
   ]
  },
  {
   "cell_type": "markdown",
   "metadata": {},
   "source": [
    "## Batch Gradient descent\n",
    "\n"
   ]
  },
  {
   "cell_type": "markdown",
   "metadata": {},
   "source": [
    "Batch gradient descent computes the gradient using the whole dataset. "
   ]
  },
  {
   "cell_type": "code",
   "execution_count": 812,
   "metadata": {},
   "outputs": [],
   "source": [
    "def gradient_descent(X,y, cost_func, gradient_func, learning_rate = 0.01, \n",
    "                     n_iterations = 100, init_guess=None):\n",
    "    \n",
    "    n = X.shape[0] # training size\n",
    "    d = X.shape[1]  # number of dimensions or paramters\n",
    "    \n",
    "    theta_history = np.zeros((n_iterations,d))\n",
    "    grad_history = np.zeros((n_iterations,d))\n",
    "    cost_history = np.zeros(n_iterations)\n",
    "    \n",
    "    # init guess\n",
    "    if init_guess is None:\n",
    "        theta = np.random.randn(d)\n",
    "        \n",
    "    else:\n",
    "        theta = init_guess\n",
    "\n",
    "    # FIXME: Saving 2 times initial values for parameters, gradients and cost func\n",
    "#     cost_at_theta = cost_func(theta,X,y)\n",
    "#     gradient_at_theta = gradient_func(theta,X,y)\n",
    "    \n",
    "#     theta_history[0, :] = theta.T\n",
    "#     grad_history[0,:] = gradient_at_theta.T\n",
    "#     cost_history[0] = cost_at_theta\n",
    "    \n",
    "    #print(f\"theta0: {theta}\")\n",
    "    for it in range(0,n_iterations):\n",
    "\n",
    "        # compute gradients and cost function\n",
    "        cost_at_theta = cost_func(theta,X,y)\n",
    "        gradient_at_theta = gradient_func(theta,X,y)\n",
    "\n",
    "        # log history for ploting\n",
    "        theta_history[it, :] = theta.T\n",
    "        grad_history[it,:] = gradient_at_theta.T\n",
    "        cost_history[it] = cost_at_theta\n",
    "        \n",
    "        # update parameters\n",
    "        dtheta = -learning_rate* gradient_at_theta\n",
    "        theta = theta + dtheta\n",
    "                \n",
    "        #print(f\"{it}: => theta: {theta.T}; grad: {gradient_at_theta.T}; cost: {cost_at_theta} \")\n",
    "        #print(f\"{it}: => theta.shape: {theta.shape}; grad.shape: {gradient_at_theta.shape}; cost: {cost_at_theta} \")\n",
    "\n",
    "    history = {'theta': theta_history, \"cost\": cost_history, \"grad\": grad_history}\n",
    "\n",
    "    return theta, history"
   ]
  },
  {
   "cell_type": "markdown",
   "metadata": {},
   "source": [
    "### Training "
   ]
  },
  {
   "cell_type": "code",
   "execution_count": 1072,
   "metadata": {},
   "outputs": [
    {
     "name": "stdout",
     "output_type": "stream",
     "text": [
      "True parameters: 32.69\n"
     ]
    },
    {
     "data": {
      "text/plain": [
       "(300, 1)"
      ]
     },
     "execution_count": 1072,
     "metadata": {},
     "output_type": "execute_result"
    },
    {
     "data": {
      "text/plain": [
       "(300,)"
      ]
     },
     "execution_count": 1072,
     "metadata": {},
     "output_type": "execute_result"
    },
    {
     "data": {
      "text/plain": [
       "<matplotlib.collections.PathCollection at 0x154270a60>"
      ]
     },
     "execution_count": 1072,
     "metadata": {},
     "output_type": "execute_result"
    },
    {
     "data": {
      "image/png": "[encoded data removed]",
      "text/plain": [
       "<Figure size 432x288 with 1 Axes>"
      ]
     },
     "metadata": {
      "needs_background": "light"
     },
     "output_type": "display_data"
    }
   ],
   "source": [
    "X, y, theta_true = make_regression(n_samples = 300, \n",
    "                       n_features=1, \n",
    "                       n_informative=1, \n",
    "                       noise=10,  # <== This is related with the bayes error. The minimum the cost function can converted\n",
    "                        coef=True,\n",
    "                       random_state=2021)\n",
    "\n",
    "print(f\"True parameters: {theta_true:.2f}\")\n",
    "\n",
    "X.shape\n",
    "y.shape\n",
    "plt.scatter(X,y)"
   ]
  },
  {
   "cell_type": "code",
   "execution_count": 1073,
   "metadata": {},
   "outputs": [
    {
     "name": "stdout",
     "output_type": "stream",
     "text": [
      "\n",
      "Initial Guess it: 0 => theta: [50.]; grad: [18.32942185]; cost: 209.80\n",
      "it: 99 => theta: [32.06496807]; grad: [0.10501694]; cost: 44.49\n",
      "Expected theta:32.69\n",
      "CPU times: user 6.97 ms, sys: 2.6 ms, total: 9.57 ms\n",
      "Wall time: 9.46 ms\n"
     ]
    }
   ],
   "source": [
    "%%time\n",
    "lr = 0.05\n",
    "n_iter = 100\n",
    "\n",
    "init_guess = np.array([50.0])\n",
    "\n",
    "theta, history = gradient_descent(X, y, cost_func_linear_regression, gradient_linear_regression, \n",
    "                                  lr, n_iter, init_guess)\n",
    "\n",
    "print()\n",
    "theta0 = history['theta'][0]\n",
    "grad0 =  history['grad'][0]\n",
    "cost0 = history['cost'][0]\n",
    "\n",
    "print(f\"Initial Guess it: 0 => theta: {theta0}; grad: {grad0}; cost: {cost0:.2f}\")\n",
    "\n",
    "it = n_iter -1\n",
    "theta = history['theta'][it]\n",
    "grad =  history['grad'][it]\n",
    "cost = history['cost'][it]\n",
    "\n",
    "print(f\"it: {it} => theta: {theta}; grad: {grad}; cost: {cost:.2f}\")\n",
    "print(f\"Expected theta:{theta_true:.2f}\")"
   ]
  },
  {
   "cell_type": "markdown",
   "metadata": {},
   "source": [
    "### Checking the fit\n",
    "\n",
    "We can inspect our solution by ploting the prediction against the data."
   ]
  },
  {
   "cell_type": "code",
   "execution_count": 1075,
   "metadata": {},
   "outputs": [
    {
     "data": {
      "image/png": "[encoded data removed]",
      "text/plain": [
       "<Figure size 432x288 with 1 Axes>"
      ]
     },
     "metadata": {
      "needs_background": "light"
     },
     "output_type": "display_data"
    }
   ],
   "source": [
    "y_pred0 = np.matmul(X,theta0)\n",
    "y_pred = np.matmul(X,theta)\n",
    "\n",
    "plt.plot(X,y_pred,c='black', label='fit');\n",
    "plt.plot(X,y_pred0,'r', label='Initial Guess');\n",
    "plt.plot(X,y,'b.', label='Data');\n",
    "plt.legend();"
   ]
  },
  {
   "cell_type": "markdown",
   "metadata": {},
   "source": [
    "### Cost Function and  learning rate "
   ]
  },
  {
   "cell_type": "markdown",
   "metadata": {},
   "source": [
    "1. large: loss will explode\n",
    "1. small: takes longer to learn\n",
    "1. need to find the optmum learning rate"
   ]
  },
  {
   "cell_type": "code",
   "execution_count": 1076,
   "metadata": {},
   "outputs": [
    {
     "name": "stdout",
     "output_type": "stream",
     "text": [
      "CPU times: user 7.92 ms, sys: 3.06 ms, total: 11 ms\n",
      "Wall time: 8.88 ms\n"
     ]
    }
   ],
   "source": [
    "%%time\n",
    "lr = 2.0\n",
    "n_iter = 100\n",
    "\n",
    "theta_big, history_big = gradient_descent(X, y, cost_func_linear_regression, gradient_linear_regression, \n",
    "                                          lr, n_iter, init_guess)\n",
    "\n",
    "lr = 5e-3\n",
    "n_iter = 100\n",
    "\n",
    "theta, history_small = gradient_descent(X, y, cost_func_linear_regression, gradient_linear_regression, \n",
    "                                        lr, n_iter, init_guess)"
   ]
  },
  {
   "cell_type": "code",
   "execution_count": 1077,
   "metadata": {},
   "outputs": [
    {
     "data": {
      "image/png": "[encoded data removed]",
      "text/plain": [
       "<Figure size 432x288 with 1 Axes>"
      ]
     },
     "metadata": {
      "needs_background": "light"
     },
     "output_type": "display_data"
    }
   ],
   "source": [
    "fig,ax = plt.subplots()\n",
    "_ = ax.plot(range(n_iter),history_small['cost'],'r',label='small lr');\n",
    "_ = ax.plot(range(n_iter),history['cost'],'b',label='better lr');\n",
    "_ = ax.plot(range(n_iter), history_big['cost'], 'g', label=\"lr big\");\n",
    "_ = ax.set_ylim([0, 20.0])\n",
    "ax.legend();"
   ]
  },
  {
   "cell_type": "markdown",
   "metadata": {},
   "source": [
    "### Changing bayes error"
   ]
  },
  {
   "cell_type": "code",
   "execution_count": 83,
   "metadata": {},
   "outputs": [
    {
     "name": "stdout",
     "output_type": "stream",
     "text": [
      "True parameters: 32.69\n"
     ]
    },
    {
     "data": {
      "text/plain": [
       "(300, 1)"
      ]
     },
     "execution_count": 83,
     "metadata": {},
     "output_type": "execute_result"
    },
    {
     "data": {
      "text/plain": [
       "(300,)"
      ]
     },
     "execution_count": 83,
     "metadata": {},
     "output_type": "execute_result"
    },
    {
     "data": {
      "image/png": "[encoded data removed]",
      "text/plain": [
       "<Figure size 432x288 with 2 Axes>"
      ]
     },
     "metadata": {
      "needs_background": "light"
     },
     "output_type": "display_data"
    }
   ],
   "source": [
    "n_sample = 300\n",
    "std_low_bayes_error = 1\n",
    "\n",
    "X_low_bayes_error, y_low_bayes_error, theta_true = make_regression(n_samples = n_sample, \n",
    "                       n_features=1, \n",
    "                       n_informative=1, \n",
    "                       noise=std_low_bayes_error,  # <== Low bayes error\n",
    "                        coef=True,\n",
    "                       random_state=2021)\n",
    "\n",
    "print(f\"True parameters: {theta_true:.2f}\")\n",
    "\n",
    "\n",
    "std_high_bayes_error = 10\n",
    "X_high_bayes_error, y_high_bayes_error, theta_true = make_regression(n_samples = n_sample, \n",
    "                       n_features=1, \n",
    "                       n_informative=1, \n",
    "                       noise=std_high_bayes_error,  # <== High bayes error\n",
    "                        coef=True,\n",
    "                       random_state=2021)\n",
    "\n",
    "X_low_bayes_error.shape\n",
    "y_low_bayes_error.shape\n",
    "\n",
    "_ = plt.subplot(121);\n",
    "_ = plt.scatter(X_low_bayes_error,y_low_bayes_error);\n",
    "_ = plt.subplot(122);\n",
    "_ = plt.scatter(X_high_bayes_error,y_high_bayes_error);\n",
    "\n",
    "plt.show()"
   ]
  },
  {
   "cell_type": "code",
   "execution_count": 84,
   "metadata": {},
   "outputs": [
    {
     "name": "stdout",
     "output_type": "stream",
     "text": [
      "CPU times: user 6.9 ms, sys: 2.42 ms, total: 9.33 ms\n",
      "Wall time: 8.01 ms\n"
     ]
    }
   ],
   "source": [
    "%%time\n",
    "lr = 0.05\n",
    "n_iter = 100\n",
    "\n",
    "init_guess = np.array([50.0])\n",
    "\n",
    "theta, history_low_bayes_error = gradient_descent(X_low_bayes_error, y_low_bayes_error, cost_func_linear_regression, gradient_linear_regression, \n",
    "                                  lr, n_iter, init_guess)\n",
    "\n",
    "\n",
    "theta, history_high_bayes_error = gradient_descent(X_high_bayes_error, y_high_bayes_error, cost_func_linear_regression, gradient_linear_regression, \n",
    "                                  lr, n_iter, init_guess)\n"
   ]
  },
  {
   "cell_type": "markdown",
   "metadata": {},
   "source": [
    "**TODO:** Review this later\n",
    "\n",
    "Remember for simple a linear regression:\n",
    "\n",
    "$y = \\hat{y} + \\epsilon$\n",
    "\n",
    "* $\\epsilon$ is the bayes error \n",
    "* $\\epsilon \\sim N(h_{\\theta}(x),\\sigma^2)$"
   ]
  },
  {
   "cell_type": "code",
   "execution_count": 91,
   "metadata": {},
   "outputs": [
    {
     "data": {
      "text/plain": [
       "1"
      ]
     },
     "execution_count": 91,
     "metadata": {},
     "output_type": "execute_result"
    },
    {
     "data": {
      "text/plain": [
       "0.5"
      ]
     },
     "execution_count": 91,
     "metadata": {},
     "output_type": "execute_result"
    },
    {
     "data": {
      "text/plain": [
       "0.4498957115700963"
      ]
     },
     "execution_count": 91,
     "metadata": {},
     "output_type": "execute_result"
    },
    {
     "name": "stdout",
     "output_type": "stream",
     "text": [
      "\n"
     ]
    },
    {
     "data": {
      "text/plain": [
       "10"
      ]
     },
     "execution_count": 91,
     "metadata": {},
     "output_type": "execute_result"
    },
    {
     "data": {
      "text/plain": [
       "50.0"
      ]
     },
     "execution_count": 91,
     "metadata": {},
     "output_type": "execute_result"
    },
    {
     "data": {
      "text/plain": [
       "44.491052934509085"
      ]
     },
     "execution_count": 91,
     "metadata": {},
     "output_type": "execute_result"
    }
   ],
   "source": [
    "J_low_bayes_error = 1.0/2.0*pow(std_low_bayes_error,2)\n",
    "std_low_bayes_error\n",
    "J_low_bayes_error  # <= half of std^2\n",
    "\n",
    "history_low_bayes_error['cost'][-1]\n",
    "\n",
    "print()\n",
    "J_high_bayes_error = 1.0/2.0*pow(std_high_bayes_error,2)\n",
    "std_high_bayes_error\n",
    "J_high_bayes_error # <= half of std^2\n",
    "\n",
    "history_high_bayes_error['cost'][-1]"
   ]
  },
  {
   "cell_type": "code",
   "execution_count": 98,
   "metadata": {},
   "outputs": [
    {
     "data": {
      "image/png": "[encoded data removed]",
      "text/plain": [
       "<Figure size 432x288 with 1 Axes>"
      ]
     },
     "metadata": {
      "needs_background": "light"
     },
     "output_type": "display_data"
    }
   ],
   "source": [
    "fig,ax = plt.subplots()\n",
    "_ = ax.plot(range(n_iter),history_low_bayes_error['cost'],'r',label='cost: low bayes error');\n",
    "_ = ax.plot(range(n_iter),history_high_bayes_error['cost'],'b',label='cost:high bayes error');\n",
    "_ = ax.axhline(y=J_low_bayes_error, color='r', linestyle='--',label='Expected: low bayes error');\n",
    "_ = ax.axhline(y=J_high_bayes_error, color='b', linestyle='--',label='Expected: high bayes error');\n",
    "ax.legend();"
   ]
  },
  {
   "cell_type": "markdown",
   "metadata": {},
   "source": [
    "### Case: 2D feature space compare all approaches (Linear Regression)"
   ]
  },
  {
   "cell_type": "code",
   "execution_count": 1078,
   "metadata": {},
   "outputs": [
    {
     "data": {
      "text/plain": [
       "(50, 2)"
      ]
     },
     "execution_count": 1078,
     "metadata": {},
     "output_type": "execute_result"
    },
    {
     "name": "stdout",
     "output_type": "stream",
     "text": [
      "True parameters: [ -8.85178353 198.3533707 ]\n"
     ]
    },
    {
     "data": {
      "text/plain": [
       "(50, 2)"
      ]
     },
     "execution_count": 1078,
     "metadata": {},
     "output_type": "execute_result"
    },
    {
     "data": {
      "text/plain": [
       "(50,)"
      ]
     },
     "execution_count": 1078,
     "metadata": {},
     "output_type": "execute_result"
    },
    {
     "data": {
      "image/png": "[encoded data removed]",
      "text/plain": [
       "<Figure size 432x288 with 2 Axes>"
      ]
     },
     "metadata": {
      "needs_background": "light"
     },
     "output_type": "display_data"
    }
   ],
   "source": [
    "#Simulating data\n",
    "X, y = make_regression(n_samples = 50, \n",
    "                       n_features=1, # Regression with 1 features has 2 parameters \\theta_1,\\theta_0  \n",
    "                       n_informative=1, \n",
    "                       noise=1,\n",
    "                       coef=False,# <= mean do not return true coefs\n",
    "                       random_state=1)\n",
    "\n",
    "X = np.interp(X, (X.min(), X.max()), (-1.0, 1.0))\n",
    "#plt.boxplot(y)\n",
    "\n",
    "x = X.flatten()\n",
    "slope, intercept,_,_,_ = stats.linregress(x,y)\n",
    "\n",
    "n = X.shape[0]\n",
    "_ones = np.ones((n,1))\n",
    "\n",
    "X = np.hstack((_ones, X))\n",
    "X.shape\n",
    "\n",
    "theta_true = np.zeros(2)\n",
    "theta_true[1] = slope\n",
    "theta_true[0] = intercept\n",
    "\n",
    "print(f\"True parameters: {theta_true}\")\n",
    "\n",
    "X.shape\n",
    "y.shape\n",
    "\n",
    "_ = plt.subplot(121);\n",
    "_ = plt.scatter(X[:,1],y);\n",
    "_ = plt.subplot(122);\n",
    "_ = plt.boxplot(y);\n",
    "\n",
    "plt.show()"
   ]
  },
  {
   "cell_type": "code",
   "execution_count": 1079,
   "metadata": {},
   "outputs": [
    {
     "name": "stdout",
     "output_type": "stream",
     "text": [
      "\n",
      "Initial Guess it: 0 => theta: [ 20. 300.]; grad: [32.32145962 20.830653  ]; cost: 1525.28\n",
      "it: 299 => theta: [ -9.08266818 203.80663273]; grad: [-0.04473924  1.05683079]; cost: 3.22\n",
      "Expected theta:[ -8.85178353 198.3533707 ]\n",
      "CPU times: user 9.5 ms, sys: 3.32 ms, total: 12.8 ms\n",
      "Wall time: 9.89 ms\n"
     ]
    }
   ],
   "source": [
    "%%time\n",
    "lr =0.05\n",
    "n_iter = 300\n",
    "\n",
    "init_guess = np.array([20, 300])\n",
    "\n",
    "theta, history = gradient_descent(X, y, cost_func_linear_regression, gradient_linear_regression, \n",
    "                                             lr, n_iter, init_guess)\n",
    "\n",
    "print()\n",
    "theta0 = history['theta'][0]\n",
    "grad0 =  history['grad'][0]\n",
    "cost0 = history['cost'][0]\n",
    "\n",
    "print(f\"Initial Guess it: 0 => theta: {theta0}; grad: {grad0}; cost: {cost0:.2f}\")\n",
    "\n",
    "it = n_iter -1\n",
    "theta = history['theta'][it]\n",
    "grad =  history['grad'][it]\n",
    "cost = history['cost'][it]\n",
    "\n",
    "print(f\"it: {it} => theta: {theta}; grad: {grad}; cost: {cost:.2f}\")\n",
    "print(f\"Expected theta:{theta_true}\")"
   ]
  },
  {
   "cell_type": "code",
   "execution_count": 1080,
   "metadata": {},
   "outputs": [
    {
     "data": {
      "text/plain": [
       "array([1525.2804531 , 1452.82001039, 1385.96036107, 1324.18308714,\n",
       "       1267.01983931, 1214.04745892, 1164.88357606, 1119.18263724,\n",
       "       1076.6323207 , 1036.95030152,  999.88133244])"
      ]
     },
     "execution_count": 1080,
     "metadata": {},
     "output_type": "execute_result"
    }
   ],
   "source": [
    "history['cost'][0:11]"
   ]
  },
  {
   "cell_type": "code",
   "execution_count": 1081,
   "metadata": {},
   "outputs": [
    {
     "data": {
      "image/png": "[encoded data removed]",
      "text/plain": [
       "<Figure size 432x288 with 1 Axes>"
      ]
     },
     "metadata": {
      "needs_background": "light"
     },
     "output_type": "display_data"
    }
   ],
   "source": [
    "fig,ax = plt.subplots()\n",
    "_ = ax.plot(range(n_iter),history['cost'],'b',label='cost');\n",
    "#_ = ax.set_ylim([0, 1])\n",
    "ax.legend();"
   ]
  },
  {
   "cell_type": "markdown",
   "metadata": {},
   "source": [
    "Generating parameters space"
   ]
  },
  {
   "cell_type": "code",
   "execution_count": 1082,
   "metadata": {},
   "outputs": [],
   "source": [
    "grid_size = 300\n",
    "theta1 = np.linspace(-20, 20, grid_size)\n",
    "theta2 = np.linspace(150, 300, grid_size)\n",
    "\n",
    "Theta1,Theta2 = np.meshgrid(theta1,theta2)\n",
    "\n",
    "J_grid = np.zeros((grid_size,grid_size))\n",
    "theta = np.array([0.0,0.0]).T\n",
    "for r in range(0,grid_size):\n",
    "    \n",
    "    for c in range(0,grid_size):\n",
    "        \n",
    "        theta[0] = theta1[r]\n",
    "        theta[1] = theta2[c]\n",
    "        \n",
    "        J_grid[r,c] = cost_func_linear_regression(theta, X,y)"
   ]
  },
  {
   "cell_type": "code",
   "execution_count": 1083,
   "metadata": {},
   "outputs": [
    {
     "data": {
      "image/png": "[encoded data removed]",
      "text/plain": [
       "<Figure size 432x288 with 1 Axes>"
      ]
     },
     "metadata": {
      "needs_background": "light"
     },
     "output_type": "display_data"
    }
   ],
   "source": [
    "cp = plt.contour(Theta1, Theta2, J_grid)\n",
    "#plt.colorbar(cp)\n",
    "\n",
    "thetas = [ history['theta'][k] for k in range(0, n_iter,3) ] \n",
    "for j in range(1,len(thetas)):\n",
    "    _ = plt.annotate('', xy=thetas[j], xytext=thetas[j-1],\n",
    "                   arrowprops={'arrowstyle': '->', 'color': 'r', 'lw': 1},\n",
    "                   va='center', ha='center');\n",
    "\n",
    "plt.title('Contour Plot')\n",
    "plt.xlabel(r'$\\theta_1$')\n",
    "plt.ylabel(r'$\\theta_2$')\n",
    "plt.scatter(theta_true[0],theta_true[1])  # <= Expected true value\n",
    "# ax.set_ylim([205,215])\n",
    "# ax.set_xlim([-15,0])\n",
    "plt.show();"
   ]
  },
  {
   "cell_type": "markdown",
   "metadata": {},
   "source": [
    "### Minimize complex function\n",
    "\n",
    "**TODO** \n",
    "\n",
    "\n",
    "Start form different initial points and plot all paths. (I did this but I lost the code)"
   ]
  },
  {
   "cell_type": "code",
   "execution_count": null,
   "metadata": {},
   "outputs": [],
   "source": []
  },
  {
   "cell_type": "markdown",
   "metadata": {},
   "source": [
    "### Visualizing gradients in 2d with vector fields\n",
    "\n",
    "**TODO:** This later\n",
    "\n",
    "* 2d example with vector field\n",
    "* https://stackoverflow.com/questions/63843310/how-to-plot-gradient-vector-on-contour-plot-in-python\n",
    "* https://scipython.com/blog/visualizing-the-gradient-descent-method/\n",
    "\n",
    "plot vector field\n",
    "https://krajit.github.io/sympy/vectorFields/vectorFields.html"
   ]
  },
  {
   "cell_type": "markdown",
   "metadata": {},
   "source": [
    "#### Linear Regression\n",
    "\n",
    "**TODO**: https://scipython.com/blog/visualizing-the-gradient-descent-method/"
   ]
  },
  {
   "cell_type": "code",
   "execution_count": null,
   "metadata": {},
   "outputs": [],
   "source": [
    "X, y, theta_true = make_regression(n_samples = 200, \n",
    "                       n_features=2, \n",
    "                       n_informative=1, \n",
    "                       noise=3,\n",
    "                       coef=True,\n",
    "                       random_state=2021)\n",
    "\n",
    "print(f\"True parameters: {theta_true}\")\n",
    "\n",
    "# re scale X\n",
    "X = np.interp(X, (X.min(), X.max()), (0.0, 1.0))\n",
    "\n",
    "# re scale y\n",
    "\n",
    "\n",
    "X.shape\n",
    "y.shape\n",
    "theta_true.shape"
   ]
  },
  {
   "cell_type": "code",
   "execution_count": null,
   "metadata": {},
   "outputs": [],
   "source": [
    "ax = plt.axes(projection='3d')\n",
    "ax.scatter3D(X[:,0], X[:,1], y, c=\"b\");\n",
    "ax.view_init(15, 60)\n",
    "ax.set_xlabel(r'X1')\n",
    "ax.set_ylabel(r'X2')\n",
    "ax.set_zlabel(r'y');"
   ]
  },
  {
   "cell_type": "markdown",
   "metadata": {},
   "source": [
    "* **Ploting parameter space**"
   ]
  },
  {
   "cell_type": "code",
   "execution_count": null,
   "metadata": {},
   "outputs": [],
   "source": [
    "grid_size = 100\n",
    "theta1 = np.linspace(-1, 1, grid_size)  # intercept\n",
    "theta2 = np.linspace(-5, 5, grid_size)   # slope\n",
    "\n",
    "Theta1,Theta2 = np.meshgrid(theta1,theta2)\n",
    "\n",
    "J_grid = np.zeros((grid_size,grid_size))\n",
    "theta = np.array([0.0,0.0]).T\n",
    "for r in range(0,grid_size):\n",
    "    \n",
    "    for c in range(0,grid_size):\n",
    "        \n",
    "        theta[0] = theta1[r]\n",
    "        theta[1] = theta2[c]\n",
    "        \n",
    "        J_grid[r,c] = cost_func_linear_regression(theta, X,y)\n",
    "\n",
    "cp = plt.contourf(Theta1, Theta2, J_grid)\n",
    "plt.colorbar(cp)\n",
    "\n",
    "ax.set_title('Contour Plot')\n",
    "ax.set_xlabel(r'$\\theta_1$')\n",
    "ax.set_ylabel(r'$\\theta_2$')\n",
    "plt.show();"
   ]
  },
  {
   "cell_type": "code",
   "execution_count": null,
   "metadata": {},
   "outputs": [],
   "source": [
    "# %%time\n",
    "lr = 0.05\n",
    "n_iter = 200\n",
    "\n",
    "X_dummy = np.zeros((3,2))\n",
    "y_dummy = np.zeros(3)\n",
    "\n",
    "theta0 = np.array([7.0, 2.0])\n",
    "\n",
    "theta, history = gradient_descent(X_dummy, y_dummy, cost_function, gradient, lr, n_iter, theta0)\n",
    "\n",
    "print()\n",
    "theta0 = history['theta'][0]\n",
    "grad0 =  history['grad'][0]\n",
    "cost0 = history['cost'][0]\n",
    "\n",
    "print(f\"Initial Guess it: 0 => theta: {theta0}; grad: {grad0}; cost: {cost0:.2f}\")\n",
    "\n",
    "it = n_iter -1\n",
    "theta = history['theta'][it]\n",
    "grad =  history['grad'][it]\n",
    "cost = history['cost'][it]\n",
    "\n",
    "print(f\"it: {it} => theta: {theta}; grad: {grad}; cost: {cost:.2f}\")"
   ]
  },
  {
   "cell_type": "code",
   "execution_count": null,
   "metadata": {},
   "outputs": [],
   "source": [
    "fig,ax = plt.subplots()\n",
    "_ = ax.plot(range(n_iter),history['cost'],'b.',label='cost');\n",
    "ax.legend();"
   ]
  },
  {
   "cell_type": "markdown",
   "metadata": {},
   "source": [
    "## Stochastic Gradient Descent\n",
    "\n",
    "refs: https://towardsdatascience.com/learning-parameters-part-3-ee8558f65dd7\n",
    "\n",
    "In stochastic Gradient descent, instead of use the entire data $X$ to compute the gradients, we randonly peak one sample and use it to have an estimation of the gradients at that point. The estimation will not be accurate, but in average the algorithm will converge to an optimal solution. The lagorithm is ilustrade bellow:\n",
    "\n",
    "* Start with initi guess: $\\theta$\n",
    "\n",
    "* for each iteration\n",
    "\n",
    "    1. Sample a mini batch of $m$ samples: $X_{mini}: {X_1, X_2, .., X_m}$ and $y_1, y_2, ..., y_m$\n",
    "    1. Compute the gradients\n",
    "    1. update the parameters $\\theta$\n"
   ]
  },
  {
   "cell_type": "code",
   "execution_count": 261,
   "metadata": {},
   "outputs": [],
   "source": [
    "def stochastic_gradient_descent(X,y, cost_func, gradient_func, \n",
    "                                learning_rate = 0.01, n_iterations = 100, \n",
    "                                init_guess=None):\n",
    "    \n",
    "    n = X.shape[0] # training size\n",
    "    d = X.shape[1]  # number of dimensions or paramters\n",
    "    \n",
    "    theta_history = np.zeros((n_iterations,d))\n",
    "    grad_history = np.zeros((n_iterations,d))\n",
    "    cost_history = np.zeros(n_iterations)\n",
    "    \n",
    "    # init guess\n",
    "    if init_guess is None:\n",
    "        theta = np.random.randn(d)\n",
    "        \n",
    "    else:\n",
    "        theta = init_guess\n",
    "\n",
    "    cost_at_theta = cost_func(theta,X,y)\n",
    "    gradient_at_theta = gradient_func(theta,X,y)\n",
    "    \n",
    "    theta_history[0, :] = theta.T\n",
    "    grad_history[0,:] = gradient_at_theta.T\n",
    "    cost_history[0] = cost_at_theta\n",
    "    \n",
    "    #print(f\"theta0: {theta}\")\n",
    "    for it in range(1,n_iterations):\n",
    "\n",
    "        cost = 0.0\n",
    "        \n",
    "        # take n random samples of size 1 of the data \n",
    "        for i in range(n):\n",
    "    \n",
    "            rand_ind = np.random.randint(0, n)\n",
    "            X_i = X[rand_ind, :].reshape(1, X.shape[1])\n",
    "            y_i = y[rand_ind]#.reshape(1, 1)\n",
    "            \n",
    "            #print(f\"{it}, {rand_ind}: => X_i.shape: {X_i.shape};y_i: {y_i.shape}; cost: {cost} \")\n",
    "\n",
    "            # compute the gradients and cost function\n",
    "            cost_at_theta = cost_func(theta,X_i,y_i)\n",
    "            gradient_at_theta = gradient_func(theta,X_i,y_i)  # gradient approximation using 1 data point\n",
    "\n",
    "            # update parameters\n",
    "            #dtheta = -learning_rate* gradient_at_theta/n\n",
    "            dtheta = -learning_rate* gradient_at_theta\n",
    "            theta = theta + dtheta\n",
    "            \n",
    "            cost += cost_at_theta\n",
    "            \n",
    "        # log history for oploting\n",
    "        theta_history[it, :] = theta.T\n",
    "        grad_history[it,:] = gradient_at_theta.T\n",
    "        cost_history[it] = cost/n\n",
    "        \n",
    "        #print(f\"{it}: => theta: {theta.T}; grad: {gradient_at_theta.T}; cost: {cost_at_theta} \")\n",
    "        \n",
    "    history = {'theta': theta_history, \"cost\": cost_history, \"grad\": grad_history}\n",
    "\n",
    "    return theta, history"
   ]
  },
  {
   "cell_type": "markdown",
   "metadata": {},
   "source": [
    "#### Case: 1D parameter sapce"
   ]
  },
  {
   "cell_type": "code",
   "execution_count": 1084,
   "metadata": {},
   "outputs": [
    {
     "name": "stdout",
     "output_type": "stream",
     "text": [
      "True parameters: 32.69\n"
     ]
    },
    {
     "data": {
      "text/plain": [
       "(300, 1)"
      ]
     },
     "execution_count": 1084,
     "metadata": {},
     "output_type": "execute_result"
    },
    {
     "data": {
      "text/plain": [
       "(300,)"
      ]
     },
     "execution_count": 1084,
     "metadata": {},
     "output_type": "execute_result"
    },
    {
     "data": {
      "text/plain": [
       "<matplotlib.collections.PathCollection at 0x15554c7c0>"
      ]
     },
     "execution_count": 1084,
     "metadata": {},
     "output_type": "execute_result"
    },
    {
     "data": {
      "image/png": "[encoded data removed]",
      "text/plain": [
       "<Figure size 432x288 with 1 Axes>"
      ]
     },
     "metadata": {
      "needs_background": "light"
     },
     "output_type": "display_data"
    }
   ],
   "source": [
    "# Simulating data\n",
    "X, y, theta_true = make_regression(n_samples = 300, \n",
    "                       n_features=1, \n",
    "                       n_informative=1, \n",
    "                       noise=2,\n",
    "                       coef=True,\n",
    "                       random_state=2021)\n",
    "\n",
    "print(f\"True parameters: {theta_true:.2f}\")\n",
    "\n",
    "X.shape\n",
    "y.shape\n",
    "plt.scatter(X,y)"
   ]
  },
  {
   "cell_type": "code",
   "execution_count": 1085,
   "metadata": {},
   "outputs": [
    {
     "name": "stdout",
     "output_type": "stream",
     "text": [
      "\n",
      "Initial Guess it: 0 => theta: [35.]; grad: [2.49528571]; cost: 4.84\n",
      "it: 99 => theta: [32.54819674]; grad: [-2.77855794]; cost: 1.69\n",
      "Expected theta:32.69\n",
      "CPU times: user 705 ms, sys: 8.94 ms, total: 714 ms\n",
      "Wall time: 751 ms\n"
     ]
    }
   ],
   "source": [
    "%%time\n",
    "lr =0.0005\n",
    "n_iter = 100\n",
    "\n",
    "init_guess = np.array([35])\n",
    "\n",
    "theta, history = stochastic_gradient_descent(X, y, cost_func_linear_regression, gradient_linear_regression, \n",
    "                                             lr, n_iter, init_guess)\n",
    "\n",
    "print()\n",
    "theta0 = history['theta'][0]\n",
    "grad0 =  history['grad'][0]\n",
    "cost0 = history['cost'][0]\n",
    "\n",
    "print(f\"Initial Guess it: 0 => theta: {theta0}; grad: {grad0}; cost: {cost0:.2f}\")\n",
    "\n",
    "it = n_iter -1\n",
    "theta = history['theta'][it]\n",
    "grad =  history['grad'][it]\n",
    "cost = history['cost'][it]\n",
    "\n",
    "print(f\"it: {it} => theta: {theta}; grad: {grad}; cost: {cost:.2f}\")\n",
    "print(f\"Expected theta:{theta_true:.2f}\")"
   ]
  },
  {
   "cell_type": "code",
   "execution_count": 1086,
   "metadata": {},
   "outputs": [
    {
     "data": {
      "image/png": "[encoded data removed]",
      "text/plain": [
       "<Figure size 432x288 with 1 Axes>"
      ]
     },
     "metadata": {
      "needs_background": "light"
     },
     "output_type": "display_data"
    }
   ],
   "source": [
    "fig,ax = plt.subplots()\n",
    "_ = ax.plot(range(n_iter),history['cost'],'b',label='cost');\n",
    "#_ = ax.set_ylim([0, 0.7])\n",
    "ax.legend();"
   ]
  },
  {
   "cell_type": "code",
   "execution_count": 1087,
   "metadata": {},
   "outputs": [
    {
     "data": {
      "image/png": "[encoded data removed]",
      "text/plain": [
       "<Figure size 432x288 with 1 Axes>"
      ]
     },
     "metadata": {
      "needs_background": "light"
     },
     "output_type": "display_data"
    }
   ],
   "source": [
    "fig,ax = plt.subplots()\n",
    "_ = ax.plot(range(n_iter),history['theta'],'b',label='parameter');\n",
    "_ = ax.axhline(y=theta_true, color='k', linestyle='--',label='Expected: parameter');\n",
    "# _ = ax.set_ylim([0, 25])\n",
    "ax.legend();"
   ]
  },
  {
   "cell_type": "markdown",
   "metadata": {},
   "source": [
    "#### Case: 2D parameters space"
   ]
  },
  {
   "cell_type": "code",
   "execution_count": 1088,
   "metadata": {},
   "outputs": [
    {
     "data": {
      "text/plain": [
       "(50, 2)"
      ]
     },
     "execution_count": 1088,
     "metadata": {},
     "output_type": "execute_result"
    },
    {
     "name": "stdout",
     "output_type": "stream",
     "text": [
      "True parameters: [ -8.85178353 198.3533707 ]\n"
     ]
    },
    {
     "data": {
      "text/plain": [
       "(50, 2)"
      ]
     },
     "execution_count": 1088,
     "metadata": {},
     "output_type": "execute_result"
    },
    {
     "data": {
      "text/plain": [
       "(50,)"
      ]
     },
     "execution_count": 1088,
     "metadata": {},
     "output_type": "execute_result"
    },
    {
     "data": {
      "image/png": "[encoded data removed]",
      "text/plain": [
       "<Figure size 432x288 with 2 Axes>"
      ]
     },
     "metadata": {
      "needs_background": "light"
     },
     "output_type": "display_data"
    }
   ],
   "source": [
    "# Simulating data\n",
    "X, y = make_regression(n_samples = 50, \n",
    "                       n_features=1, # Regression with 1 features has 2 parameters \\theta_1,\\theta_0  \n",
    "                       n_informative=1, \n",
    "                       noise=1,\n",
    "                       coef=False,# <= mean do not return true coefs\n",
    "                       random_state=1)\n",
    "\n",
    "X = np.interp(X, (X.min(), X.max()), (-1.0, 1.0))\n",
    "#plt.boxplot(y)\n",
    "\n",
    "x = X.flatten()\n",
    "slope, intercept,_,_,_ = stats.linregress(x,y)\n",
    "\n",
    "n = X.shape[0]\n",
    "_ones = np.ones((n,1))\n",
    "\n",
    "X = np.hstack((_ones, X))\n",
    "X.shape\n",
    "\n",
    "theta_true = np.zeros(2)\n",
    "theta_true[1] = slope\n",
    "theta_true[0] = intercept\n",
    "\n",
    "print(f\"True parameters: {theta_true}\")\n",
    "\n",
    "X.shape\n",
    "y.shape\n",
    "\n",
    "_ = plt.subplot(121);\n",
    "_ = plt.scatter(X[:,1],y);\n",
    "_ = plt.subplot(122);\n",
    "_ = plt.boxplot(y);\n",
    "\n",
    "plt.show()"
   ]
  },
  {
   "cell_type": "code",
   "execution_count": 1312,
   "metadata": {},
   "outputs": [
    {
     "data": {
      "text/plain": [
       "(50, 1)"
      ]
     },
     "execution_count": 1312,
     "metadata": {},
     "output_type": "execute_result"
    },
    {
     "data": {
      "text/plain": [
       "(50, 1)"
      ]
     },
     "execution_count": 1312,
     "metadata": {},
     "output_type": "execute_result"
    },
    {
     "data": {
      "text/plain": [
       "(50, 2)"
      ]
     },
     "execution_count": 1312,
     "metadata": {},
     "output_type": "execute_result"
    },
    {
     "data": {
      "text/plain": [
       "(50,)"
      ]
     },
     "execution_count": 1312,
     "metadata": {},
     "output_type": "execute_result"
    },
    {
     "data": {
      "text/plain": [
       "array([[ 1.        , -1.        ],\n",
       "       [ 1.        , -0.95918367],\n",
       "       [ 1.        , -0.91836735]])"
      ]
     },
     "execution_count": 1312,
     "metadata": {},
     "output_type": "execute_result"
    },
    {
     "name": "stdout",
     "output_type": "stream",
     "text": [
      "True parameters: [4. 5.]\n",
      "bayes error: 0.01\n"
     ]
    },
    {
     "data": {
      "image/png": "[encoded data removed]",
      "text/plain": [
       "<Figure size 432x288 with 1 Axes>"
      ]
     },
     "metadata": {
      "needs_background": "light"
     },
     "output_type": "display_data"
    }
   ],
   "source": [
    "slope = 5.0 \n",
    "intercept = 4.0\n",
    "noise = 0.1\n",
    "n = 50\n",
    "\n",
    "x = np.linspace(-1.0, 1.0, n).reshape(n,1)\n",
    "e = np.random.normal(0.0,noise,n).reshape(n,1)\n",
    "y = slope*x + intercept + e\n",
    "y = y.reshape(n,)\n",
    "\n",
    "_ones = np.ones((n,1))\n",
    "\n",
    "x.shape\n",
    "\n",
    "_ones.shape\n",
    "\n",
    "X = np.hstack((_ones, x))\n",
    "X.shape\n",
    "y.shape\n",
    "\n",
    "X[0:3]\n",
    "\n",
    "theta_true = np.zeros(2)\n",
    "theta_true[1] = slope\n",
    "theta_true[0] = intercept\n",
    "\n",
    "print(f\"True parameters: {theta_true}\")\n",
    "bayes_error = np.sum(np.matmul(e.T,e))/n  # <== mse\n",
    "print(f\"bayes error: {bayes_error:.2f}\")\n",
    "\n",
    "_ = plt.subplot(121);\n",
    "_ = plt.scatter(X[:,1],y);\n",
    "\n",
    "plt.show()"
   ]
  },
  {
   "cell_type": "code",
   "execution_count": 1323,
   "metadata": {},
   "outputs": [
    {
     "name": "stdout",
     "output_type": "stream",
     "text": [
      "\n",
      "Initial Guess it: 0 => theta: [ 1. -1.]; grad: [-2.98521595 -2.079601  ]; cost: 10.69\n",
      "it: 149 => theta: [3.98339008 4.54284369]; grad: [ 0.32405861 -0.0330672 ]; cost: 0.04\n",
      "Expected theta:[4. 5.]\n",
      "CPU times: user 245 ms, sys: 8.23 ms, total: 253 ms\n",
      "Wall time: 281 ms\n"
     ]
    }
   ],
   "source": [
    "%%time\n",
    "lr = 0.001\n",
    "n_iter = 150\n",
    "\n",
    "init_guess = np.array([1.0, -1.0])\n",
    "\n",
    "theta, history = stochastic_gradient_descent(X, y, cost_func_linear_regression, gradient_linear_regression, \n",
    "                                             lr, n_iter, init_guess)\n",
    "\n",
    "print()\n",
    "theta0 = history['theta'][0]\n",
    "grad0 =  history['grad'][0]\n",
    "cost0 = history['cost'][0]\n",
    "\n",
    "print(f\"Initial Guess it: 0 => theta: {theta0}; grad: {grad0}; cost: {cost0:.2f}\")\n",
    "\n",
    "it = n_iter -1\n",
    "theta = history['theta'][it]\n",
    "grad =  history['grad'][it]\n",
    "cost = history['cost'][it]\n",
    "\n",
    "print(f\"it: {it} => theta: {theta}; grad: {grad}; cost: {cost:.2f}\")\n",
    "print(f\"Expected theta:{theta_true}\")"
   ]
  },
  {
   "cell_type": "code",
   "execution_count": 1324,
   "metadata": {},
   "outputs": [
    {
     "data": {
      "text/plain": [
       "array([10.69271144,  9.86594228,  9.02099618,  8.2389254 ,  8.72399124,\n",
       "        8.89716313,  7.94877033,  7.65746339,  5.90354109,  5.76798755,\n",
       "        5.6708933 ])"
      ]
     },
     "execution_count": 1324,
     "metadata": {},
     "output_type": "execute_result"
    }
   ],
   "source": [
    "history['cost'][0:11]"
   ]
  },
  {
   "cell_type": "code",
   "execution_count": 1325,
   "metadata": {},
   "outputs": [
    {
     "data": {
      "image/png": "[encoded data removed]",
      "text/plain": [
       "<Figure size 432x288 with 1 Axes>"
      ]
     },
     "metadata": {
      "needs_background": "light"
     },
     "output_type": "display_data"
    }
   ],
   "source": [
    "fig,ax = plt.subplots()\n",
    "_ = ax.plot(range(n_iter),history['cost'],'b',label='cost');\n",
    "#_ = ax.set_ylim([0, 1])\n",
    "ax.legend();"
   ]
  },
  {
   "cell_type": "markdown",
   "metadata": {},
   "source": [
    "Generating parameters space"
   ]
  },
  {
   "cell_type": "code",
   "execution_count": 1092,
   "metadata": {},
   "outputs": [],
   "source": [
    "grid_size = n_iter\n",
    "theta1 = np.linspace(-20, 20, grid_size)\n",
    "theta2 = np.linspace(150, 300, grid_size)\n",
    "\n",
    "Theta1,Theta2 = np.meshgrid(theta1,theta2)\n",
    "\n",
    "J_grid = np.zeros((grid_size,grid_size))\n",
    "theta = np.array([0.0,0.0]).T\n",
    "for r in range(0,grid_size):\n",
    "    \n",
    "    for c in range(0,grid_size):\n",
    "        \n",
    "        theta[0] = theta1[r]\n",
    "        theta[1] = theta2[c]\n",
    "        \n",
    "        J_grid[r,c] = cost_func_linear_regression(theta, X,y)"
   ]
  },
  {
   "cell_type": "code",
   "execution_count": 1093,
   "metadata": {},
   "outputs": [
    {
     "data": {
      "image/png": "[encoded data removed]",
      "text/plain": [
       "<Figure size 432x288 with 1 Axes>"
      ]
     },
     "metadata": {
      "needs_background": "light"
     },
     "output_type": "display_data"
    }
   ],
   "source": [
    "cp = plt.contour(Theta1, Theta2, J_grid)\n",
    "#plt.colorbar(cp)\n",
    "\n",
    "thetas = [ history['theta'][k] for k in range(0, n_iter,3) ] \n",
    "for j in range(1,len(thetas)):\n",
    "    _ = plt.annotate('', xy=thetas[j], xytext=thetas[j-1],\n",
    "                   arrowprops={'arrowstyle': '->', 'color': 'r', 'lw': 1},\n",
    "                   va='center', ha='center');\n",
    "\n",
    "plt.title('Contour Plot')\n",
    "plt.xlabel(r'$\\theta_1$')\n",
    "plt.ylabel(r'$\\theta_2$')\n",
    "plt.scatter(theta_true[0],theta_true[1])  # <= Expected true value\n",
    "# ax.set_ylim([205,215])\n",
    "# ax.set_xlim([-15,0])\n",
    "plt.show();"
   ]
  },
  {
   "cell_type": "markdown",
   "metadata": {},
   "source": [
    "## Mini Batch Gradient Descent\n",
    "\n",
    "\n",
    "In the case of mini-batch, instead of making an update with gradients of one data point at a time, we calculate gradients of a batch of data points of size B. \n",
    "\n",
    "https://stats.stackexchange.com/questions/140811/how-large-should-the-batch-size-be-for-stochastic-gradient-descent\n",
    "\n",
    "\n",
    "$\n",
    "\\theta_{t+1} \\leftarrow \\theta_{t} - \\epsilon(t) \\frac{1}{B} \\sum_{b=0}^{B - 1}  \\dfrac{\\partial \\mathcal{L}(\\theta, m_b)}{\\partial \\theta}\n",
    "$\n",
    "\n",
    "where $B$ is the cardinality of $m_b$ (the size of the batch).\n",
    "\n",
    "1. Batch gradient descent, $𝐵=|X|$\n",
    "1. Online stochastic gradient descent: $𝐵=1$\n",
    "1. Mini-batch stochastic gradient descent: $𝐵>1$ but $𝐵<|𝑥|$.\n",
    "\n",
    "> Note: in real life we're reading these training example data from memory and, due to cache pre-fetching and other memory tricks done by your computer, your algorithm will run faster if the memory accesses are coalesced, i.e. when you read the memory in order and don't jump around randomly. So, most SGD implementations shuffle the dataset and then load the examples into memory in the order that they'll be read.\n",
    "\n",
    "\n",
    "The function $\\epsilon(t)$ is called learning rate schedule and it is constant in this notebook. \n",
    "\n",
    "\n",
    "> NOte: proper weight should be assigned to each mini-batch as a function of its size, when there are mini-batches with different size because number of training examples are not exatly divide by batch size."
   ]
  },
  {
   "cell_type": "code",
   "execution_count": 863,
   "metadata": {},
   "outputs": [
    {
     "data": {
      "text/plain": [
       "array([[ 1,  2],\n",
       "       [-2, -2],\n",
       "       [ 3,  3],\n",
       "       [ 4,  4]])"
      ]
     },
     "execution_count": 863,
     "metadata": {},
     "output_type": "execute_result"
    },
    {
     "data": {
      "text/plain": [
       "(4, 1)"
      ]
     },
     "execution_count": 863,
     "metadata": {},
     "output_type": "execute_result"
    },
    {
     "data": {
      "text/plain": [
       "array([[1],\n",
       "       [2],\n",
       "       [3],\n",
       "       [4]])"
      ]
     },
     "execution_count": 863,
     "metadata": {},
     "output_type": "execute_result"
    },
    {
     "data": {
      "text/plain": [
       "array([[ 1,  2,  1],\n",
       "       [-2, -2,  2],\n",
       "       [ 3,  3,  3],\n",
       "       [ 4,  4,  4]])"
      ]
     },
     "execution_count": 863,
     "metadata": {},
     "output_type": "execute_result"
    },
    {
     "name": "stdout",
     "output_type": "stream",
     "text": [
      "shuffle\n"
     ]
    },
    {
     "data": {
      "text/plain": [
       "array([[ 4,  4,  4],\n",
       "       [-2, -2,  2],\n",
       "       [ 1,  2,  1],\n",
       "       [ 3,  3,  3]])"
      ]
     },
     "execution_count": 863,
     "metadata": {},
     "output_type": "execute_result"
    },
    {
     "name": "stdout",
     "output_type": "stream",
     "text": [
      "shuffle again\n"
     ]
    },
    {
     "data": {
      "text/plain": [
       "array([[ 3,  3,  3],\n",
       "       [-2, -2,  2],\n",
       "       [ 1,  2,  1],\n",
       "       [ 4,  4,  4]])"
      ]
     },
     "execution_count": 863,
     "metadata": {},
     "output_type": "execute_result"
    },
    {
     "data": {
      "text/plain": [
       "array([[ 3,  3],\n",
       "       [-2, -2],\n",
       "       [ 1,  2],\n",
       "       [ 4,  4]])"
      ]
     },
     "execution_count": 863,
     "metadata": {},
     "output_type": "execute_result"
    },
    {
     "data": {
      "text/plain": [
       "array([3, 2, 1, 4])"
      ]
     },
     "execution_count": 863,
     "metadata": {},
     "output_type": "execute_result"
    }
   ],
   "source": [
    "X = np.array([[1,2],[-2,-2],[3,3], [4,4]])\n",
    "X\n",
    "\n",
    "y = np.array([1,2,3,4]).reshape((4,1))\n",
    "y.shape\n",
    "y\n",
    "\n",
    "data_shuffle = np.hstack((X,y))\n",
    "data_shuffle\n",
    "\n",
    "print(\"shuffle\")\n",
    "# in-place shuffle\n",
    "np.random.shuffle(data_shuffle)\n",
    "data_shuffle\n",
    "\n",
    "\n",
    "print(\"shuffle again\")\n",
    "# in-place shuffle\n",
    "np.random.shuffle(data_shuffle)\n",
    "data_shuffle\n",
    "\n",
    "X_shuffle = data_shuffle[:, :-1]\n",
    "y_shuffle = data_shuffle[:, -1]\n",
    "\n",
    "X_shuffle\n",
    "y_shuffle"
   ]
  },
  {
   "cell_type": "code",
   "execution_count": 864,
   "metadata": {},
   "outputs": [
    {
     "data": {
      "text/plain": [
       "array([10])"
      ]
     },
     "execution_count": 864,
     "metadata": {},
     "output_type": "execute_result"
    }
   ],
   "source": [
    "n = 10\n",
    "data = np.array([1,2,3,4,5,6,7,8,9,10])\n",
    "batch_size = 3\n",
    "\n",
    "data[9:12]  # numpy array take care of index, no segmentatio fault\n"
   ]
  },
  {
   "cell_type": "code",
   "execution_count": 923,
   "metadata": {},
   "outputs": [
    {
     "data": {
      "text/plain": [
       "array([3, 0, 3, 1])"
      ]
     },
     "execution_count": 923,
     "metadata": {},
     "output_type": "execute_result"
    },
    {
     "data": {
      "text/plain": [
       "array([[ 4,  4],\n",
       "       [ 1,  2],\n",
       "       [ 4,  4],\n",
       "       [-2, -2]])"
      ]
     },
     "execution_count": 923,
     "metadata": {},
     "output_type": "execute_result"
    }
   ],
   "source": [
    "data = np.array([[1,2],[-2,-2],[3,3], [4,4]])\n",
    "rand_idx = np.random.randint(0, 4,4)\n",
    "    \n",
    "rand_idx \n",
    "data[rand_idx,:]"
   ]
  },
  {
   "cell_type": "code",
   "execution_count": 1287,
   "metadata": {},
   "outputs": [],
   "source": [
    "# TODO: Change create_mini_batche to shuffle the shuffled data like in:\n",
    "# https://ruder.io/optimizing-gradient-descent/\n",
    "# https://realpython.com/gradient-descent-algorithm-python/\n",
    "# https://www.pyimagesearch.com/2016/10/17/stochastic-gradient-descent-sgd-with-python/\n",
    "# Test if I have the behavor I am expecting\n",
    "# oscilation stochsstic > mini > vanila\n",
    "# faster (needs less epoch): stochstic < mini < vanila\n",
    "def create_mini_batches(X, y, batch_size):\n",
    "    \n",
    "    n = X.shape[0]\n",
    "    data_shuffle = np.hstack((X,y.reshape((n,1))))\n",
    "    \n",
    "    #print(f\"data_shuffle shape: {data_shuffle.shape}\")\n",
    "    \n",
    "    # in-place\n",
    "    np.random.shuffle(data_shuffle)\n",
    "    \n",
    "    n_mini_batches = n // batch_size\n",
    "    \n",
    "    rand_ind = np.random.randint(0, n, n_mini_batches)\n",
    "    \n",
    "#     print(f\"ran_ind: {rand_ind}\")\n",
    "    \n",
    "#     data_shuffle = data_shuffle[rand_ind,:]\n",
    "    \n",
    "    \n",
    "    mini_batches = []\n",
    "    \n",
    "    k = 0\n",
    "    while k*batch_size < n:\n",
    "    \n",
    "        # numpy array take care of the index. No segmentation at the end of the last \n",
    "        # mini-batch\n",
    "        end_mini_batch = (k+1)*batch_size if (k+1)*batch_size < n else n\n",
    "        mini_batch = data_shuffle[k*batch_size:(k+1)*batch_size,:]\n",
    "        \n",
    "        X_mini_batch = mini_batch[:, :-1]\n",
    "        y_mini_batch = mini_batch[:, -1]\n",
    "    \n",
    "        mini_batches.append((X_mini_batch,y_mini_batch))\n",
    "        k += 1\n",
    "    \n",
    "    return mini_batches\n",
    "\n",
    "def next_batch(X, y, batchSize):\n",
    "    # loop over our dataset \"X\" in mini-batches, yielding a tuple of\n",
    "    # the current batched data and labels\n",
    "    \n",
    "    for i in np.arange(0, X.shape[0], batchSize):\n",
    "        yield (X[i:i + batchSize], y[i:i + batchSize])\n",
    "\n",
    "def create_mini_batches(data_shuffle, batch_size):\n",
    "    \n",
    "    n = data_shuffle.shape[0]\n",
    "    mini_batches = []\n",
    "    \n",
    "    for k in np.arange(0, n, batch_size):\n",
    "        \n",
    "        X_mini = data_shuffle[k:k+batch_size,:-1]\n",
    "        y_mini = data_shuffle[k:k+batch_size,-1]\n",
    "        \n",
    "        mini_batches.append((X_mini,y_mini))\n",
    "    return mini_batches\n",
    "\n",
    "def mini_batch_gradient_descent(X,y, cost_func, gradient_func, \n",
    "                                learning_rate = 0.01, n_iterations = 100,\n",
    "                                batch_size = 8,\n",
    "                                init_guess=None,seed=1):\n",
    "    \n",
    "    n = X.shape[0] # training size\n",
    "    d = X.shape[1]  # number of dimensions or paramters\n",
    "    \n",
    "    theta_history = np.zeros((n_iterations,d))\n",
    "    grad_history = np.zeros((n_iterations,d))\n",
    "    cost_history = np.zeros(n_iterations)\n",
    "    \n",
    "    # init guess\n",
    "    if init_guess is None:\n",
    "        theta = np.random.randn(d)\n",
    "        \n",
    "    else:\n",
    "        theta = init_guess\n",
    "\n",
    "    cost_at_theta = cost_func(theta,X,y)\n",
    "    gradient_at_theta = gradient_func(theta,X,y)\n",
    "    \n",
    "    theta_history[0, :] = theta.T\n",
    "    grad_history[0,:] = gradient_at_theta.T\n",
    "    cost_history[0] = cost_at_theta\n",
    "\n",
    "#     theta_history = [ theta.T]\n",
    "#     grad_history = [gradient_at_theta.T]\n",
    "#     cost_history = [cost_at_theta]\n",
    "    \n",
    "    \n",
    "    #rng = np.random.default_rng(seed=seed)\n",
    "\n",
    "     \n",
    "    Xy = np.hstack((X,y.reshape((n,1))))\n",
    "    \n",
    "    #print(f\"theta0: {theta}\")\n",
    "    for it in range(1,n_iterations):\n",
    "\n",
    "        cost = 0.0\n",
    "        \n",
    "        # shuffle data every epoch\n",
    "        #rng.shuffle(data_shuffle)\n",
    "        \n",
    "        rand_idx = np.random.randint(0, n, n )\n",
    "        data_shuffle = Xy[rand_idx,:]\n",
    "        \n",
    "        #mini_batches = create_mini_batches(X,y,batch_size)\n",
    "        mini_batches = create_mini_batches(data_shuffle,batch_size)\n",
    "        n_bs = len(mini_batches)\n",
    "        \n",
    "        #for (X_mini, y_mini) in next_batch(X, y,batch_size):\n",
    "        for X_mini, y_mini in mini_batches:\n",
    "    \n",
    "    \n",
    "#             #rand_ind = np.random.randint(0, n)\n",
    "#             X_i = X[i:i+batch_size,:]#.reshape(1, X.shape[1])\n",
    "#             y_i = y[i:i+batch_size]#.reshape(1, 1)\n",
    "            \n",
    "            #print(f\"{it}, {rand_ind}: => X_i.shape: {X_i.shape};y_i: {y_i.shape}; cost: {cost} \")\n",
    "\n",
    "            # compute the gradients and cost function\n",
    "            cost_at_theta = cost_func(theta,X_mini,y_mini)\n",
    "            gradient_at_theta = gradient_func(theta,X_mini,y_mini)  # gradient approximation using 1 data point\n",
    "                        \n",
    "                \n",
    "            # update parameters\n",
    "            dtheta = -learning_rate* gradient_at_theta\n",
    "            theta = theta + dtheta\n",
    "            \n",
    "            cost += cost_at_theta\n",
    "            \n",
    "#             theta_history.append(theta.T)\n",
    "#             grad_history.append(gradient_at_theta.T)\n",
    "#             cost_history.append(cost_at_theta)\n",
    "            \n",
    "        # log history for oploting\n",
    "        theta_history[it, :] = theta.T\n",
    "        grad_history[it,:] = gradient_at_theta.T\n",
    "        cost_history[it] = cost/n_bs\n",
    "        \n",
    "        #print(f\"{it}: => theta: {theta.T}; grad: {gradient_at_theta.T}; cost: {cost_at_theta} \")\n",
    "        \n",
    "    history = {'theta': theta_history, \"cost\": cost_history, \"grad\": grad_history}\n",
    "\n",
    "    return theta, history"
   ]
  },
  {
   "cell_type": "code",
   "execution_count": 1288,
   "metadata": {},
   "outputs": [
    {
     "data": {
      "text/plain": [
       "(5, 2)"
      ]
     },
     "execution_count": 1288,
     "metadata": {},
     "output_type": "execute_result"
    },
    {
     "data": {
      "text/plain": [
       "array([[1, 1],\n",
       "       [2, 2],\n",
       "       [3, 3],\n",
       "       [4, 4],\n",
       "       [5, 5]])"
      ]
     },
     "execution_count": 1288,
     "metadata": {},
     "output_type": "execute_result"
    },
    {
     "data": {
      "text/plain": [
       "(5,)"
      ]
     },
     "execution_count": 1288,
     "metadata": {},
     "output_type": "execute_result"
    },
    {
     "data": {
      "text/plain": [
       "array([1, 2, 3, 4, 5])"
      ]
     },
     "execution_count": 1288,
     "metadata": {},
     "output_type": "execute_result"
    },
    {
     "name": "stdout",
     "output_type": "stream",
     "text": [
      "bs: 1\n"
     ]
    },
    {
     "data": {
      "text/plain": [
       "[(array([[1, 1]]), array([1])),\n",
       " (array([[2, 2]]), array([2])),\n",
       " (array([[3, 3]]), array([3])),\n",
       " (array([[4, 4]]), array([4])),\n",
       " (array([[5, 5]]), array([5]))]"
      ]
     },
     "execution_count": 1288,
     "metadata": {},
     "output_type": "execute_result"
    },
    {
     "name": "stdout",
     "output_type": "stream",
     "text": [
      "bs: 2\n"
     ]
    },
    {
     "data": {
      "text/plain": [
       "[(array([[1, 1],\n",
       "         [2, 2]]),\n",
       "  array([1, 2])),\n",
       " (array([[3, 3],\n",
       "         [4, 4]]),\n",
       "  array([3, 4])),\n",
       " (array([[5, 5]]), array([5]))]"
      ]
     },
     "execution_count": 1288,
     "metadata": {},
     "output_type": "execute_result"
    },
    {
     "name": "stdout",
     "output_type": "stream",
     "text": [
      "bs: 3\n"
     ]
    },
    {
     "data": {
      "text/plain": [
       "[(array([[1, 1],\n",
       "         [2, 2],\n",
       "         [3, 3]]),\n",
       "  array([1, 2, 3])),\n",
       " (array([[4, 4],\n",
       "         [5, 5]]),\n",
       "  array([4, 5]))]"
      ]
     },
     "execution_count": 1288,
     "metadata": {},
     "output_type": "execute_result"
    },
    {
     "name": "stdout",
     "output_type": "stream",
     "text": [
      "bs: 5\n"
     ]
    },
    {
     "data": {
      "text/plain": [
       "[(array([[1, 1],\n",
       "         [2, 2],\n",
       "         [3, 3],\n",
       "         [4, 4],\n",
       "         [5, 5]]),\n",
       "  array([1, 2, 3, 4, 5]))]"
      ]
     },
     "execution_count": 1288,
     "metadata": {},
     "output_type": "execute_result"
    }
   ],
   "source": [
    "# Verifying create_mini_batches function\n",
    "X = np.array([[1,1],[2,2],[3,3],[4,4],[5,5]])\n",
    "X.shape\n",
    "X\n",
    "\n",
    "y = np.array([1,2,3,4,5]).T\n",
    "y.shape\n",
    "y\n",
    "\n",
    "# for bs in [1,2,3,5]:\n",
    "#     print(f\"bs: {bs}\")\n",
    "#     create_mini_batches(X,y,bs)\n",
    "    \n",
    "    \n",
    "# for bs in [1,2,3,5]:\n",
    "#     print(f\"bs: {bs}\")\n",
    "    \n",
    "#     for (X_mini, y_mini) in next_batch(X, y,bs):\n",
    "        \n",
    "#         print(X_mini)\n",
    "  \n",
    "Xy  = np.hstack((X,y.reshape((5,1))))\n",
    "for bs in [1,2,3,5]:\n",
    "    print(f\"bs: {bs}\")\n",
    "    create_mini_batches(Xy,bs)\n",
    "        \n",
    "# create_mini_batches(X,y,2)\n",
    "# create_mini_batches(X,y,3)\n",
    "# create_mini_batches(X,y,5)"
   ]
  },
  {
   "cell_type": "code",
   "execution_count": 1289,
   "metadata": {},
   "outputs": [
    {
     "data": {
      "text/plain": [
       "(5, 2)"
      ]
     },
     "execution_count": 1289,
     "metadata": {},
     "output_type": "execute_result"
    },
    {
     "data": {
      "text/plain": [
       "array([[1, 1],\n",
       "       [2, 2],\n",
       "       [3, 3],\n",
       "       [4, 4],\n",
       "       [5, 5]])"
      ]
     },
     "execution_count": 1289,
     "metadata": {},
     "output_type": "execute_result"
    },
    {
     "data": {
      "text/plain": [
       "(5,)"
      ]
     },
     "execution_count": 1289,
     "metadata": {},
     "output_type": "execute_result"
    },
    {
     "data": {
      "text/plain": [
       "array([1, 2, 3, 4, 5])"
      ]
     },
     "execution_count": 1289,
     "metadata": {},
     "output_type": "execute_result"
    },
    {
     "data": {
      "text/plain": [
       "array([[1, 1, 1],\n",
       "       [2, 2, 2],\n",
       "       [3, 3, 3],\n",
       "       [4, 4, 4],\n",
       "       [5, 5, 5]])"
      ]
     },
     "execution_count": 1289,
     "metadata": {},
     "output_type": "execute_result"
    }
   ],
   "source": [
    "X = np.array([[1,1],[2,2],[3,3],[4,4],[5,5]])\n",
    "X.shape\n",
    "X\n",
    "\n",
    "y = np.array([1,2,3,4,5]).T\n",
    "y.shape\n",
    "y\n",
    "\n",
    "n_obs = 5\n",
    "Xy = np.c_[X.reshape(n_obs, -1), y.reshape(n_obs, 1)]\n",
    "\n",
    "Xy"
   ]
  },
  {
   "cell_type": "markdown",
   "metadata": {},
   "source": [
    "### Case: 2D feature space compare all approaches (Linear Regression)"
   ]
  },
  {
   "cell_type": "code",
   "execution_count": 1290,
   "metadata": {},
   "outputs": [
    {
     "data": {
      "text/plain": [
       "(50, 2)"
      ]
     },
     "execution_count": 1290,
     "metadata": {},
     "output_type": "execute_result"
    },
    {
     "name": "stdout",
     "output_type": "stream",
     "text": [
      "True parameters: [ -8.37135518 197.40121412]\n"
     ]
    },
    {
     "data": {
      "text/plain": [
       "(50, 2)"
      ]
     },
     "execution_count": 1290,
     "metadata": {},
     "output_type": "execute_result"
    },
    {
     "data": {
      "text/plain": [
       "(50,)"
      ]
     },
     "execution_count": 1290,
     "metadata": {},
     "output_type": "execute_result"
    },
    {
     "data": {
      "image/png": "[encoded data removed]",
      "text/plain": [
       "<Figure size 432x288 with 2 Axes>"
      ]
     },
     "metadata": {
      "needs_background": "light"
     },
     "output_type": "display_data"
    }
   ],
   "source": [
    "n_samples = 50 \n",
    "X, y = make_regression(n_samples = n_samples, \n",
    "                       n_features=1, # Regression with 1 features has 2 parameters \\theta_1,\\theta_0  \n",
    "                       n_informative=1, \n",
    "                       noise=3,\n",
    "                       coef=False, # <= mean do not return true coefs\n",
    "                       random_state=1)\n",
    "\n",
    "\n",
    "\n",
    "X = np.interp(X, (X.min(), X.max()), (-1.0, 1.0))\n",
    "#plt.boxplot(y)\n",
    "\n",
    "x = X.flatten()\n",
    "slope, intercept,_,_,_ = stats.linregress(x,y)\n",
    "\n",
    "n = X.shape[0]\n",
    "_ones = np.ones((n,1))\n",
    "\n",
    "X = np.hstack((_ones, X))\n",
    "X.shape\n",
    "\n",
    "theta_true = np.zeros(2)\n",
    "theta_true[1] = slope\n",
    "theta_true[0] = intercept\n",
    "\n",
    "print(f\"True parameters: {theta_true}\")\n",
    "\n",
    "X.shape\n",
    "y.shape\n",
    "\n",
    "_ = plt.subplot(121);\n",
    "_ = plt.scatter(X[:,1],y);\n",
    "_ = plt.subplot(122);\n",
    "_ = plt.boxplot(y);\n",
    "\n",
    "plt.show()"
   ]
  },
  {
   "cell_type": "code",
   "execution_count": 1291,
   "metadata": {},
   "outputs": [
    {
     "data": {
      "text/plain": [
       "(50, 1)"
      ]
     },
     "execution_count": 1291,
     "metadata": {},
     "output_type": "execute_result"
    },
    {
     "data": {
      "text/plain": [
       "(50, 1)"
      ]
     },
     "execution_count": 1291,
     "metadata": {},
     "output_type": "execute_result"
    },
    {
     "data": {
      "text/plain": [
       "(50, 2)"
      ]
     },
     "execution_count": 1291,
     "metadata": {},
     "output_type": "execute_result"
    },
    {
     "data": {
      "text/plain": [
       "(50,)"
      ]
     },
     "execution_count": 1291,
     "metadata": {},
     "output_type": "execute_result"
    },
    {
     "data": {
      "text/plain": [
       "array([[ 1.        , -1.        ],\n",
       "       [ 1.        , -0.95918367],\n",
       "       [ 1.        , -0.91836735]])"
      ]
     },
     "execution_count": 1291,
     "metadata": {},
     "output_type": "execute_result"
    },
    {
     "name": "stdout",
     "output_type": "stream",
     "text": [
      "True parameters: [4. 5.]\n",
      "bayes error: 0.01\n"
     ]
    },
    {
     "data": {
      "image/png": "[encoded data removed]",
      "text/plain": [
       "<Figure size 432x288 with 1 Axes>"
      ]
     },
     "metadata": {
      "needs_background": "light"
     },
     "output_type": "display_data"
    }
   ],
   "source": [
    "slope = 5.0 \n",
    "intercept = 4.0\n",
    "noise = 0.1\n",
    "n = 50\n",
    "\n",
    "x = np.linspace(-1.0, 1.0, n).reshape(n,1)\n",
    "e = np.random.normal(0.0,noise,n).reshape(n,1)\n",
    "y = slope*x + intercept + e\n",
    "y = y.reshape(n,)\n",
    "\n",
    "_ones = np.ones((n,1))\n",
    "\n",
    "x.shape\n",
    "\n",
    "_ones.shape\n",
    "\n",
    "X = np.hstack((_ones, x))\n",
    "X.shape\n",
    "y.shape\n",
    "\n",
    "X[0:3]\n",
    "\n",
    "theta_true = np.zeros(2)\n",
    "theta_true[1] = slope\n",
    "theta_true[0] = intercept\n",
    "\n",
    "print(f\"True parameters: {theta_true}\")\n",
    "bayes_error = np.sum(np.matmul(e.T,e))/n  # <== mse\n",
    "print(f\"bayes error: {bayes_error:.2f}\")\n",
    "\n",
    "_ = plt.subplot(121);\n",
    "_ = plt.scatter(X[:,1],y);\n",
    "\n",
    "plt.show()"
   ]
  },
  {
   "cell_type": "code",
   "execution_count": 1366,
   "metadata": {},
   "outputs": [
    {
     "name": "stdout",
     "output_type": "stream",
     "text": [
      "#samples: 50\n",
      "sthocastic, bs: 1\n",
      "Initial Guess it: 0 => theta: [ 1. -1.]; grad: [-2.98521595 -2.079601  ]; cost: 10.69\n",
      "it: 149 => theta: [3.98985451 4.99498322]; grad: [0.17565922 0.11830111]; cost: 0.00\n",
      "Expected theta:[4. 5.]\n",
      "\n",
      "mini, bs: 8\n",
      "Initial Guess it: 0 => theta: [ 1. -1.]; grad: [-2.98521595 -2.079601  ]; cost: 10.69\n",
      "it: 149 => theta: [3.98689561 4.83464184]; grad: [-0.13203451 -0.07798645]; cost: 0.01\n",
      "Expected theta:[4. 5.]\n",
      "\n",
      "CPU times: user 207 ms, sys: 6.64 ms, total: 213 ms\n",
      "Wall time: 232 ms\n"
     ]
    }
   ],
   "source": [
    "%%time\n",
    "n_iter = 150\n",
    "\n",
    "print(f\"#samples: {n}\")\n",
    "\n",
    "init_guess = np.array([1.0, -1.0])\n",
    "\n",
    "history = dict()\n",
    "batch_sizes = [('sthocastic',1, 0.01),('mini',4, 0.01),('vanila',n,0.01 )]\n",
    "\n",
    "batch_sizes = [('sthocastic',1, 0.01),('mini',4, 0.01)]\n",
    "\n",
    "batch_sizes = [('sthocastic',1, 0.01),('mini',8, 0.01)]\n",
    "\n",
    "for name, bs, lr in batch_sizes:\n",
    "\n",
    "    theta, history[name] = mini_batch_gradient_descent(X, y, cost_func_linear_regression, gradient_linear_regression, \n",
    "                                             lr, n_iter,bs, init_guess)\n",
    "\n",
    "    print(f\"{name}, bs: {bs}\")\n",
    "    theta0 = history[name]['theta'][0]\n",
    "    grad0 =  history[name]['grad'][0]\n",
    "    cost0 = history[name]['cost'][0]\n",
    "\n",
    "    print(f\"Initial Guess it: 0 => theta: {theta0}; grad: {grad0}; cost: {cost0:.2f}\")\n",
    "\n",
    "    it = n_iter -1\n",
    "    theta = history[name]['theta'][-1]\n",
    "    grad =  history[name]['grad'][-1]\n",
    "    cost = history[name]['cost'][-1]\n",
    "\n",
    "    print(f\"it: {it} => theta: {theta}; grad: {grad}; cost: {cost:.2f}\")\n",
    "    print(f\"Expected theta:{theta_true}\")\n",
    "    print()"
   ]
  },
  {
   "cell_type": "code",
   "execution_count": 1367,
   "metadata": {},
   "outputs": [
    {
     "name": "stdout",
     "output_type": "stream",
     "text": [
      "0: sthocastic => bs:1\n"
     ]
    },
    {
     "data": {
      "text/plain": [
       "array([10.69271144,  8.04411532,  5.99665824,  3.42037795,  1.75984764,\n",
       "        1.12149372,  0.62759379,  0.42005589,  0.40060497,  0.24721253,\n",
       "        0.17665514])"
      ]
     },
     "execution_count": 1367,
     "metadata": {},
     "output_type": "execute_result"
    },
    {
     "name": "stdout",
     "output_type": "stream",
     "text": [
      "1: mini => bs:8\n"
     ]
    },
    {
     "data": {
      "text/plain": [
       "array([10.69271144,  9.86123242,  6.64096398,  8.2700896 ,  6.88852259,\n",
       "        6.78106436,  8.33669031,  8.27831626,  5.03948609,  5.76848467,\n",
       "        6.84132981])"
      ]
     },
     "execution_count": 1367,
     "metadata": {},
     "output_type": "execute_result"
    }
   ],
   "source": [
    "k = 11\n",
    "for idx, alg in enumerate(batch_sizes):\n",
    "    \n",
    "    name, bs, lr = alg\n",
    "    \n",
    "    print(f\"{idx}: {name} => bs:{bs}\")\n",
    "    history[name]['cost'][:k]"
   ]
  },
  {
   "cell_type": "code",
   "execution_count": 1368,
   "metadata": {},
   "outputs": [
    {
     "data": {
      "text/plain": [
       "150"
      ]
     },
     "execution_count": 1368,
     "metadata": {},
     "output_type": "execute_result"
    },
    {
     "data": {
      "text/plain": [
       "150"
      ]
     },
     "execution_count": 1368,
     "metadata": {},
     "output_type": "execute_result"
    },
    {
     "data": {
      "text/plain": [
       "(0.0, 10.692711444739432)"
      ]
     },
     "execution_count": 1368,
     "metadata": {},
     "output_type": "execute_result"
    },
    {
     "data": {
      "text/plain": [
       "(150.0, 0.009571180519155684)"
      ]
     },
     "execution_count": 1368,
     "metadata": {},
     "output_type": "execute_result"
    }
   ],
   "source": [
    "cost = history['mini']['cost']\n",
    "m = len(cost)\n",
    "m \n",
    "x = np.linspace(0,n_iter,m)\n",
    "len(x)\n",
    "\n",
    "x[0], cost[0]\n",
    "x[-1], cost[-1]"
   ]
  },
  {
   "cell_type": "code",
   "execution_count": 1369,
   "metadata": {},
   "outputs": [
    {
     "data": {
      "image/png": "[encoded data removed]",
      "text/plain": [
       "<Figure size 432x288 with 1 Axes>"
      ]
     },
     "metadata": {
      "needs_background": "light"
     },
     "output_type": "display_data"
    }
   ],
   "source": [
    "colors = ['b','k','g']\n",
    "\n",
    "fig,ax = plt.subplots()\n",
    "for idx, hyper_params in enumerate(batch_sizes):\n",
    "    \n",
    "    name, bs, lr = hyper_params\n",
    "    \n",
    "    cost = history[name]['cost']\n",
    "    \n",
    "    m = len(cost)\n",
    "    x = np.linspace(0,n_iter,m)\n",
    "    \n",
    "    _ = ax.plot(x,cost,colors[idx],label=name);\n",
    "    \n",
    "#_ = ax.set_ylim([6, 8])\n",
    "_ = ax.set_ylabel(\"Cost\")\n",
    "_ = ax.set_ylabel(\"Epoch\")\n",
    "ax.legend();"
   ]
  },
  {
   "cell_type": "markdown",
   "metadata": {},
   "source": [
    "* **Confirming fit**"
   ]
  },
  {
   "cell_type": "code",
   "execution_count": 1173,
   "metadata": {},
   "outputs": [
    {
     "data": {
      "image/png": "[encoded data removed]",
      "text/plain": [
       "<Figure size 432x288 with 1 Axes>"
      ]
     },
     "metadata": {
      "needs_background": "light"
     },
     "output_type": "display_data"
    }
   ],
   "source": [
    "name = 'mini'\n",
    "\n",
    "theta = history[name]['theta'][-1]\n",
    "y_pred0 = np.matmul(X,init_guess)\n",
    "y_pred = np.matmul(X,theta)\n",
    "\n",
    "y_pred.shape\n",
    "\n",
    "plt.plot(X[:,1],y_pred,c='black', label='fit');\n",
    "plt.plot(X[:,1],y_pred0,'r', label='Initial Guess');\n",
    "plt.plot(X[:,1],y,'b.', label='Data');\n",
    "plt.legend();"
   ]
  },
  {
   "cell_type": "code",
   "execution_count": 1175,
   "metadata": {},
   "outputs": [
    {
     "name": "stdout",
     "output_type": "stream",
     "text": [
      "Cost neighboor\n"
     ]
    },
    {
     "data": {
      "text/plain": [
       "0.12336734693877548"
      ]
     },
     "execution_count": 1175,
     "metadata": {},
     "output_type": "execute_result"
    },
    {
     "data": {
      "text/plain": [
       "0.0"
      ]
     },
     "execution_count": 1175,
     "metadata": {},
     "output_type": "execute_result"
    },
    {
     "data": {
      "text/plain": [
       "0.1233673469387756"
      ]
     },
     "execution_count": 1175,
     "metadata": {},
     "output_type": "execute_result"
    },
    {
     "name": "stdout",
     "output_type": "stream",
     "text": [
      "Grads\n"
     ]
    },
    {
     "data": {
      "text/plain": [
       "array([0., 0.])"
      ]
     },
     "execution_count": 1175,
     "metadata": {},
     "output_type": "execute_result"
    }
   ],
   "source": [
    "# Initial Guess it: 0 => theta: [1. 5.]; grad: [-3.57033183 -2.24865653]; cost: 8.01\n",
    "# it: 299 => theta: [3.4544965  7.59671996]; grad: [-2.07734288 -2.05987406]; cost: 0.80\n",
    "\n",
    "print(\"Cost neighboor\")\n",
    "cost_func_linear_regression(np.array([intercept,slope])*0.90, X,y)\n",
    "cost_func_linear_regression(np.array([intercept,slope]), X,y)\n",
    "cost_func_linear_regression(np.array([intercept,slope])*1.10, X,y)\n",
    "\n",
    "print(\"Grads\")\n",
    "gradient_linear_regression(np.array([intercept,slope]), X,y)"
   ]
  },
  {
   "cell_type": "code",
   "execution_count": 1262,
   "metadata": {},
   "outputs": [],
   "source": [
    "# Generatin 2d feature space\n",
    "grid_size = 500\n",
    "\n",
    "theta1 = np.linspace(-1.0, 12.0, grid_size)\n",
    "theta2 = np.linspace(-7., 9.0, grid_size)\n",
    "\n",
    "Theta1,Theta2 = np.meshgrid(theta1,theta2)\n",
    "\n",
    "def parabola(theta):\n",
    "\n",
    "    return pow(theta[0],2) + pow(theta[1],2)\n",
    "\n",
    "J_grid = np.zeros((grid_size,grid_size))\n",
    "theta = np.array([0.0,0.0]).T\n",
    "\n",
    "for r in range(0,grid_size):\n",
    "    \n",
    "    for c in range(0,grid_size):\n",
    "        \n",
    "        theta[0] = theta1[r]\n",
    "        theta[1] = theta2[c]\n",
    "        \n",
    "        J_grid[r,c] = parabola(theta)\n",
    "        #J_grid[r,c] = cost_func_linear_regression(theta, X,y)"
   ]
  },
  {
   "cell_type": "code",
   "execution_count": 1263,
   "metadata": {},
   "outputs": [],
   "source": [
    "# debug\n",
    "if len(theta1) < 7:\n",
    "    theta1 \n",
    "    Theta1\n",
    "    \n",
    "    theta2\n",
    "    Theta2\n",
    "\n",
    "    J_grid"
   ]
  },
  {
   "cell_type": "code",
   "execution_count": 1264,
   "metadata": {},
   "outputs": [
    {
     "data": {
      "image/png": "[encoded data removed]",
      "text/plain": [
       "<Figure size 432x288 with 1 Axes>"
      ]
     },
     "metadata": {
      "needs_background": "light"
     },
     "output_type": "display_data"
    }
   ],
   "source": [
    "cp = plt.contour(Theta1, Theta2, J_grid)\n",
    "#plt.colorbar(cp)\n",
    "colors = ['b','k','g']\n",
    "\n",
    "# for idx, hyper_params in enumerate(batch_sizes):\n",
    "#     name, bs, lr = hyper_params\n",
    "#     thetas = [ history[name]['theta'][k] for k in range(0, n_iter,5) ] \n",
    "#     for j in range(1,len(thetas)):\n",
    "#         _ = plt.annotate('', xy=thetas[j], xytext=thetas[j-1],\n",
    "#                    arrowprops={'arrowstyle': '->', 'color': colors[idx], 'lw': 1},\n",
    "#                    va='center', ha='center');\n",
    "\n",
    "        \n",
    "# # thetas = [ history['theta'][k] for k in range(0, n_iter,5) ] \n",
    "# # for j in range(1,len(thetas)):\n",
    "# #     _ = plt.annotate('', xy=thetas[j], xytext=thetas[j-1],\n",
    "# #                    arrowprops={'arrowstyle': '->', 'color': 'r', 'lw': 1},\n",
    "# #                    va='center', ha='center');\n",
    "        \n",
    "plt.title('Contour Plot')\n",
    "plt.xlabel(r'$\\theta_1$')\n",
    "plt.ylabel(r'$\\theta_2$')\n",
    "plt.scatter(intercept,slope)  # <= Expected true value\n",
    "plt.grid(axis='x', color='0.95')\n",
    "plt.grid(axis='y', color='0.95')\n",
    "# ax.set_ylim([-50,50])\n",
    "# ax.set_xlim([-10,10])\n",
    "plt.show();"
   ]
  },
  {
   "cell_type": "code",
   "execution_count": 1224,
   "metadata": {},
   "outputs": [],
   "source": [
    "?plt.contour"
   ]
  },
  {
   "cell_type": "markdown",
   "metadata": {},
   "source": [
    "### Compare Tensorflow"
   ]
  },
  {
   "cell_type": "code",
   "execution_count": 1376,
   "metadata": {},
   "outputs": [
    {
     "data": {
      "text/plain": [
       "(50, 2)"
      ]
     },
     "execution_count": 1376,
     "metadata": {},
     "output_type": "execute_result"
    },
    {
     "data": {
      "text/plain": [
       "array([[ 1.        , -1.        ],\n",
       "       [ 1.        , -0.95918367],\n",
       "       [ 1.        , -0.91836735]])"
      ]
     },
     "execution_count": 1376,
     "metadata": {},
     "output_type": "execute_result"
    },
    {
     "data": {
      "text/plain": [
       "(50, 1)"
      ]
     },
     "execution_count": 1376,
     "metadata": {},
     "output_type": "execute_result"
    },
    {
     "data": {
      "text/plain": [
       "array([[-1.        ],\n",
       "       [-0.95918367],\n",
       "       [-0.91836735]])"
      ]
     },
     "execution_count": 1376,
     "metadata": {},
     "output_type": "execute_result"
    },
    {
     "data": {
      "text/plain": [
       "(50,)"
      ]
     },
     "execution_count": 1376,
     "metadata": {},
     "output_type": "execute_result"
    },
    {
     "data": {
      "text/plain": [
       "array([ 1., -1.])"
      ]
     },
     "execution_count": 1376,
     "metadata": {},
     "output_type": "execute_result"
    },
    {
     "name": "stdout",
     "output_type": "stream",
     "text": [
      "lr: 0.009999999776482582\n"
     ]
    },
    {
     "data": {
      "text/plain": [
       "{'name': 'SGD',\n",
       " 'learning_rate': 0.01,\n",
       " 'decay': 0.0,\n",
       " 'momentum': 0.0,\n",
       " 'nesterov': False}"
      ]
     },
     "execution_count": 1376,
     "metadata": {},
     "output_type": "execute_result"
    },
    {
     "name": "stdout",
     "output_type": "stream",
     "text": [
      "lr: 0.009999999776482582\n"
     ]
    },
    {
     "data": {
      "text/plain": [
       "{'name': 'SGD',\n",
       " 'learning_rate': 0.01,\n",
       " 'decay': 0.0,\n",
       " 'momentum': 0.0,\n",
       " 'nesterov': False}"
      ]
     },
     "execution_count": 1376,
     "metadata": {},
     "output_type": "execute_result"
    }
   ],
   "source": [
    "import tensorflow as tf\n",
    "\n",
    "X.shape\n",
    "\n",
    "# X  = [1, X]\n",
    "X[0:3]\n",
    "\n",
    "# remove first column\n",
    "Xi =X[:,1].reshape(X.shape[0],1)\n",
    "Xi.shape\n",
    "Xi[0:3]\n",
    "\n",
    "y.shape\n",
    "\n",
    "init_guess\n",
    "\n",
    "batch_sizes = [('sthocastic',1, 0.01),('mini',8, 0.01)]\n",
    "\n",
    "W0 = tf.constant_initializer(init_guess[1])\n",
    "b0 = tf.constant_initializer(init_guess[0])\n",
    "\n",
    "models = {}\n",
    "for name, bs, lr in batch_sizes:\n",
    "\n",
    "\n",
    "    # https://www.tensorflow.org/api_docs/python/tf/keras/layers/Dense\n",
    "    models[name] = tf.keras.Sequential([\n",
    "                tf.keras.layers.Dense(1, activation='linear',\n",
    "                          kernel_initializer=W0,\n",
    "                          bias_initializer=b0,\n",
    "                          input_shape=(1,))\n",
    "    ])\n",
    "\n",
    "\n",
    "    sgd = tf.keras.optimizers.SGD(learning_rate=lr, \n",
    "                              momentum=0.0,\n",
    "                              nesterov=False, name='SGD'\n",
    "                             )\n",
    "\n",
    "    models[name].compile(loss='mse', optimizer=sgd, metrics=['mse'])\n",
    "\n",
    "    print('lr: {}'.format(models[name].optimizer.lr.numpy()))\n",
    "\n",
    "    models[name].optimizer.get_config()\n",
    "    \n",
    "    _ = models[name].fit(Xi, y, epochs=n_iter, batch_size=bs, verbose=0, validation_split=0.0)"
   ]
  },
  {
   "cell_type": "code",
   "execution_count": 1377,
   "metadata": {},
   "outputs": [
    {
     "data": {
      "image/png": "[encoded data removed]",
      "text/plain": [
       "<Figure size 432x288 with 1 Axes>"
      ]
     },
     "metadata": {
      "needs_background": "light"
     },
     "output_type": "display_data"
    }
   ],
   "source": [
    "Ws, bs = models['sthocastic'].get_weights()\n",
    "\n",
    "theta = np.array([bs[0],Ws[0]])\n",
    "\n",
    "theta\n",
    "\n",
    "# theta = history[name]['theta'][-1]\n",
    "y_pred0 = np.matmul(X,init_guess)\n",
    "y_pred = np.matmul(X,theta)\n",
    "\n",
    "y_pred.shape\n",
    "\n",
    "plt.plot(Xi,y_pred,c='black', label='fit');\n",
    "plt.plot(Xi,y_pred0,'r', label='Initial Guess');\n",
    "plt.plot(Xi,y,'b.', label='Data');\n",
    "plt.legend();"
   ]
  },
  {
   "cell_type": "code",
   "execution_count": 1378,
   "metadata": {},
   "outputs": [
    {
     "data": {
      "image/png": "[encoded data removed]",
      "text/plain": [
       "<Figure size 432x288 with 1 Axes>"
      ]
     },
     "metadata": {
      "needs_background": "light"
     },
     "output_type": "display_data"
    }
   ],
   "source": [
    "colors = ['b','k','g']\n",
    "\n",
    "fig,ax = plt.subplots()\n",
    "for idx, hyper_params in enumerate(batch_sizes):\n",
    "    \n",
    "    name, bs, lr = hyper_params\n",
    "    \n",
    "    tf_cost = models[name].history.history['loss']\n",
    "    \n",
    "    m = len(tf_cost)\n",
    "    x = np.linspace(0,n_iter,m)\n",
    "    \n",
    "    _ = ax.plot(x,tf_cost,colors[idx],label=name);\n",
    "    \n",
    "#_ = ax.set_ylim([6, 8])\n",
    "_ = ax.set_ylabel(\"Cost\")\n",
    "_ = ax.set_ylabel(\"Epoch\")\n",
    "ax.legend();"
   ]
  },
  {
   "cell_type": "code",
   "execution_count": 1379,
   "metadata": {},
   "outputs": [
    {
     "ename": "ValueError",
     "evalue": "x and y must have same first dimension, but have shapes (150,) and (300,)",
     "output_type": "error",
     "traceback": [
      "\u001b[0;31m---------------------------------------------------------------------------\u001b[0m",
      "\u001b[0;31mValueError\u001b[0m                                Traceback (most recent call last)",
      "\u001b[0;32m<ipython-input-1379-2c4b40e29f4f>\u001b[0m in \u001b[0;36m<module>\u001b[0;34m\u001b[0m\n\u001b[1;32m      4\u001b[0m \u001b[0;34m\u001b[0m\u001b[0m\n\u001b[1;32m      5\u001b[0m \u001b[0mfig\u001b[0m\u001b[0;34m,\u001b[0m\u001b[0max\u001b[0m \u001b[0;34m=\u001b[0m \u001b[0mplt\u001b[0m\u001b[0;34m.\u001b[0m\u001b[0msubplots\u001b[0m\u001b[0;34m(\u001b[0m\u001b[0;34m)\u001b[0m\u001b[0;34m\u001b[0m\u001b[0;34m\u001b[0m\u001b[0m\n\u001b[0;32m----> 6\u001b[0;31m \u001b[0m_\u001b[0m \u001b[0;34m=\u001b[0m \u001b[0max\u001b[0m\u001b[0;34m.\u001b[0m\u001b[0mplot\u001b[0m\u001b[0;34m(\u001b[0m\u001b[0mrange\u001b[0m\u001b[0;34m(\u001b[0m\u001b[0mn_iter\u001b[0m\u001b[0;34m)\u001b[0m\u001b[0;34m,\u001b[0m\u001b[0mtf_cost\u001b[0m\u001b[0;34m,\u001b[0m\u001b[0;34m'b'\u001b[0m\u001b[0;34m,\u001b[0m\u001b[0mlabel\u001b[0m\u001b[0;34m=\u001b[0m\u001b[0;34m'tf_cost'\u001b[0m\u001b[0;34m)\u001b[0m\u001b[0;34m;\u001b[0m\u001b[0;34m\u001b[0m\u001b[0;34m\u001b[0m\u001b[0m\n\u001b[0m\u001b[1;32m      7\u001b[0m \u001b[0m_\u001b[0m \u001b[0;34m=\u001b[0m \u001b[0max\u001b[0m\u001b[0;34m.\u001b[0m\u001b[0mplot\u001b[0m\u001b[0;34m(\u001b[0m\u001b[0mrange\u001b[0m\u001b[0;34m(\u001b[0m\u001b[0mn_iter\u001b[0m\u001b[0;34m)\u001b[0m\u001b[0;34m,\u001b[0m\u001b[0mcost\u001b[0m\u001b[0;34m,\u001b[0m\u001b[0;34m'k'\u001b[0m\u001b[0;34m,\u001b[0m\u001b[0mlabel\u001b[0m\u001b[0;34m=\u001b[0m\u001b[0malgo\u001b[0m\u001b[0;34m)\u001b[0m\u001b[0;34m;\u001b[0m\u001b[0;34m\u001b[0m\u001b[0;34m\u001b[0m\u001b[0m\n\u001b[1;32m      8\u001b[0m \u001b[0;31m#_ = ax.set_ylim([0, 1])\u001b[0m\u001b[0;34m\u001b[0m\u001b[0;34m\u001b[0m\u001b[0m\n",
      "\u001b[0;32m/usr/local/lib/python3.9/site-packages/matplotlib/axes/_axes.py\u001b[0m in \u001b[0;36mplot\u001b[0;34m(self, scalex, scaley, data, *args, **kwargs)\u001b[0m\n\u001b[1;32m   1603\u001b[0m         \"\"\"\n\u001b[1;32m   1604\u001b[0m         \u001b[0mkwargs\u001b[0m \u001b[0;34m=\u001b[0m \u001b[0mcbook\u001b[0m\u001b[0;34m.\u001b[0m\u001b[0mnormalize_kwargs\u001b[0m\u001b[0;34m(\u001b[0m\u001b[0mkwargs\u001b[0m\u001b[0;34m,\u001b[0m \u001b[0mmlines\u001b[0m\u001b[0;34m.\u001b[0m\u001b[0mLine2D\u001b[0m\u001b[0;34m)\u001b[0m\u001b[0;34m\u001b[0m\u001b[0;34m\u001b[0m\u001b[0m\n\u001b[0;32m-> 1605\u001b[0;31m         \u001b[0mlines\u001b[0m \u001b[0;34m=\u001b[0m \u001b[0;34m[\u001b[0m\u001b[0;34m*\u001b[0m\u001b[0mself\u001b[0m\u001b[0;34m.\u001b[0m\u001b[0m_get_lines\u001b[0m\u001b[0;34m(\u001b[0m\u001b[0;34m*\u001b[0m\u001b[0margs\u001b[0m\u001b[0;34m,\u001b[0m \u001b[0mdata\u001b[0m\u001b[0;34m=\u001b[0m\u001b[0mdata\u001b[0m\u001b[0;34m,\u001b[0m \u001b[0;34m**\u001b[0m\u001b[0mkwargs\u001b[0m\u001b[0;34m)\u001b[0m\u001b[0;34m]\u001b[0m\u001b[0;34m\u001b[0m\u001b[0;34m\u001b[0m\u001b[0m\n\u001b[0m\u001b[1;32m   1606\u001b[0m         \u001b[0;32mfor\u001b[0m \u001b[0mline\u001b[0m \u001b[0;32min\u001b[0m \u001b[0mlines\u001b[0m\u001b[0;34m:\u001b[0m\u001b[0;34m\u001b[0m\u001b[0;34m\u001b[0m\u001b[0m\n\u001b[1;32m   1607\u001b[0m             \u001b[0mself\u001b[0m\u001b[0;34m.\u001b[0m\u001b[0madd_line\u001b[0m\u001b[0;34m(\u001b[0m\u001b[0mline\u001b[0m\u001b[0;34m)\u001b[0m\u001b[0;34m\u001b[0m\u001b[0;34m\u001b[0m\u001b[0m\n",
      "\u001b[0;32m/usr/local/lib/python3.9/site-packages/matplotlib/axes/_base.py\u001b[0m in \u001b[0;36m__call__\u001b[0;34m(self, data, *args, **kwargs)\u001b[0m\n\u001b[1;32m    313\u001b[0m                 \u001b[0mthis\u001b[0m \u001b[0;34m+=\u001b[0m \u001b[0margs\u001b[0m\u001b[0;34m[\u001b[0m\u001b[0;36m0\u001b[0m\u001b[0;34m]\u001b[0m\u001b[0;34m,\u001b[0m\u001b[0;34m\u001b[0m\u001b[0;34m\u001b[0m\u001b[0m\n\u001b[1;32m    314\u001b[0m                 \u001b[0margs\u001b[0m \u001b[0;34m=\u001b[0m \u001b[0margs\u001b[0m\u001b[0;34m[\u001b[0m\u001b[0;36m1\u001b[0m\u001b[0;34m:\u001b[0m\u001b[0;34m]\u001b[0m\u001b[0;34m\u001b[0m\u001b[0;34m\u001b[0m\u001b[0m\n\u001b[0;32m--> 315\u001b[0;31m             \u001b[0;32myield\u001b[0m \u001b[0;32mfrom\u001b[0m \u001b[0mself\u001b[0m\u001b[0;34m.\u001b[0m\u001b[0m_plot_args\u001b[0m\u001b[0;34m(\u001b[0m\u001b[0mthis\u001b[0m\u001b[0;34m,\u001b[0m \u001b[0mkwargs\u001b[0m\u001b[0;34m)\u001b[0m\u001b[0;34m\u001b[0m\u001b[0;34m\u001b[0m\u001b[0m\n\u001b[0m\u001b[1;32m    316\u001b[0m \u001b[0;34m\u001b[0m\u001b[0m\n\u001b[1;32m    317\u001b[0m     \u001b[0;32mdef\u001b[0m \u001b[0mget_next_color\u001b[0m\u001b[0;34m(\u001b[0m\u001b[0mself\u001b[0m\u001b[0;34m)\u001b[0m\u001b[0;34m:\u001b[0m\u001b[0;34m\u001b[0m\u001b[0;34m\u001b[0m\u001b[0m\n",
      "\u001b[0;32m/usr/local/lib/python3.9/site-packages/matplotlib/axes/_base.py\u001b[0m in \u001b[0;36m_plot_args\u001b[0;34m(self, tup, kwargs, return_kwargs)\u001b[0m\n\u001b[1;32m    499\u001b[0m \u001b[0;34m\u001b[0m\u001b[0m\n\u001b[1;32m    500\u001b[0m         \u001b[0;32mif\u001b[0m \u001b[0mx\u001b[0m\u001b[0;34m.\u001b[0m\u001b[0mshape\u001b[0m\u001b[0;34m[\u001b[0m\u001b[0;36m0\u001b[0m\u001b[0;34m]\u001b[0m \u001b[0;34m!=\u001b[0m \u001b[0my\u001b[0m\u001b[0;34m.\u001b[0m\u001b[0mshape\u001b[0m\u001b[0;34m[\u001b[0m\u001b[0;36m0\u001b[0m\u001b[0;34m]\u001b[0m\u001b[0;34m:\u001b[0m\u001b[0;34m\u001b[0m\u001b[0;34m\u001b[0m\u001b[0m\n\u001b[0;32m--> 501\u001b[0;31m             raise ValueError(f\"x and y must have same first dimension, but \"\n\u001b[0m\u001b[1;32m    502\u001b[0m                              f\"have shapes {x.shape} and {y.shape}\")\n\u001b[1;32m    503\u001b[0m         \u001b[0;32mif\u001b[0m \u001b[0mx\u001b[0m\u001b[0;34m.\u001b[0m\u001b[0mndim\u001b[0m \u001b[0;34m>\u001b[0m \u001b[0;36m2\u001b[0m \u001b[0;32mor\u001b[0m \u001b[0my\u001b[0m\u001b[0;34m.\u001b[0m\u001b[0mndim\u001b[0m \u001b[0;34m>\u001b[0m \u001b[0;36m2\u001b[0m\u001b[0;34m:\u001b[0m\u001b[0;34m\u001b[0m\u001b[0;34m\u001b[0m\u001b[0m\n",
      "\u001b[0;31mValueError\u001b[0m: x and y must have same first dimension, but have shapes (150,) and (300,)"
     ]
    },
    {
     "data": {
      "image/png": "[encoded data removed]",
      "text/plain": [
       "<Figure size 432x288 with 1 Axes>"
      ]
     },
     "metadata": {
      "needs_background": "light"
     },
     "output_type": "display_data"
    }
   ],
   "source": [
    "algo = 'mini'\n",
    "tf_cost = model.history.history['loss']\n",
    "cost = history[algo]['cost']\n",
    "\n",
    "fig,ax = plt.subplots()\n",
    "_ = ax.plot(range(n_iter),tf_cost,'b',label='tf_cost');\n",
    "_ = ax.plot(range(n_iter),cost,'k',label=algo);\n",
    "#_ = ax.set_ylim([0, 1])\n",
    "ax.legend();"
   ]
  },
  {
   "cell_type": "code",
   "execution_count": 921,
   "metadata": {},
   "outputs": [],
   "source": [
    "??tf.keras.optimizers.SGD"
   ]
  },
  {
   "cell_type": "code",
   "execution_count": 849,
   "metadata": {},
   "outputs": [],
   "source": [
    "grid_size = n_iter\n",
    "theta1 = np.linspace(-20, 20, grid_size)\n",
    "theta2 = np.linspace(150, 300, grid_size)\n",
    "\n",
    "Theta1,Theta2 = np.meshgrid(theta1,theta2)\n",
    "\n",
    "J_grid = np.zeros((grid_size,grid_size))\n",
    "theta = np.array([0.0,0.0]).T\n",
    "for r in range(0,grid_size):\n",
    "    \n",
    "    for c in range(0,grid_size):\n",
    "        \n",
    "        theta[0] = theta1[r]\n",
    "        theta[1] = theta2[c]\n",
    "        \n",
    "        J_grid[r,c] = cost_func_linear_regression(theta, X,y)"
   ]
  },
  {
   "cell_type": "code",
   "execution_count": null,
   "metadata": {},
   "outputs": [],
   "source": [
    "cp = plt.contour(Theta1, Theta2, J_grid)\n",
    "#plt.colorbar(cp)\n",
    "\n",
    "thetas = [ history['theta'][k] for k in range(0, n_iter,3) ] \n",
    "for j in range(1,len(thetas)):\n",
    "    _ = plt.annotate('', xy=thetas[j], xytext=thetas[j-1],\n",
    "                   arrowprops={'arrowstyle': '->', 'color': 'r', 'lw': 1},\n",
    "                   va='center', ha='center');\n",
    "\n",
    "plt.title('Contour Plot')\n",
    "plt.xlabel(r'$\\theta_1$')\n",
    "plt.ylabel(r'$\\theta_2$')\n",
    "plt.scatter(theta_true[0],theta_true[1])  # <= Expected true value\n",
    "# ax.set_ylim([205,215])\n",
    "# ax.set_xlim([-15,0])\n",
    "plt.show();"
   ]
  },
  {
   "cell_type": "markdown",
   "metadata": {},
   "source": [
    "### TODO: Try to visualize vanish gradients and exploding gradients\n",
    "\n",
    "\n",
    "with simulated data"
   ]
  },
  {
   "cell_type": "code",
   "execution_count": null,
   "metadata": {},
   "outputs": [],
   "source": []
  }
 ],
 "metadata": {
  "kernelspec": {
   "display_name": "Python 3",
   "language": "python",
   "name": "python3"
  },
  "language_info": {
   "codemirror_mode": {
    "name": "ipython",
    "version": 3
   },
   "file_extension": ".py",
   "mimetype": "text/x-python",
   "name": "python",
   "nbconvert_exporter": "python",
   "pygments_lexer": "ipython3",
   "version": "3.9.7"
  },
  "latex_envs": {
   "LaTeX_envs_menu_present": true,
   "autoclose": false,
   "autocomplete": true,
   "bibliofile": "biblio.bib",
   "cite_by": "apalike",
   "current_citInitial": 1,
   "eqLabelWithNumbers": true,
   "eqNumInitial": 1,
   "hotkeys": {
    "equation": "Ctrl-E",
    "itemize": "Ctrl-I"
   },
   "labels_anchors": false,
   "latex_user_defs": false,
   "report_style_numbering": false,
   "user_envs_cfg": false
  },
  "name": "intro_gradient_algos.ipynb",
  "toc": {
   "base_numbering": 1,
   "nav_menu": {
    "height": "383.75px",
    "width": "252.222px"
   },
   "number_sections": true,
   "sideBar": true,
   "skip_h1_title": true,
   "title_cell": "Table of Contents",
   "title_sidebar": "Contents",
   "toc_cell": false,
   "toc_position": {
    "height": "calc(100% - 180px)",
    "left": "10px",
    "top": "150px",
    "width": "201.128px"
   },
   "toc_section_display": true,
   "toc_window_display": true
  },
  "varInspector": {
   "cols": {
    "lenName": 16,
    "lenType": 16,
    "lenVar": 40
   },
   "kernels_config": {
    "python": {
     "delete_cmd_postfix": "",
     "delete_cmd_prefix": "del ",
     "library": "var_list.py",
     "varRefreshCmd": "print(var_dic_list())"
    },
    "r": {
     "delete_cmd_postfix": ") ",
     "delete_cmd_prefix": "rm(",
     "library": "var_list.r",
     "varRefreshCmd": "cat(var_dic_list()) "
    }
   },
   "types_to_exclude": [
    "module",
    "function",
    "builtin_function_or_method",
    "instance",
    "_Feature"
   ],
   "window_display": false
  }
 },
 "nbformat": 4,
 "nbformat_minor": 4
}
