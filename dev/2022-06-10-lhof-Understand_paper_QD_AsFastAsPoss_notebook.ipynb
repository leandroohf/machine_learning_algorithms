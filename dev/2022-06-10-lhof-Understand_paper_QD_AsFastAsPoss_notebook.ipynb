{
 "cells": [
  {
   "cell_type": "markdown",
   "metadata": {},
   "source": [
    "# Understanding the code and loss funtion\n",
    "\n",
    "refs:\n",
    "* https://github.com/TeaPearce/Deep_Learning_Prediction_Intervals\n",
    "* https://arxiv.org/pdf/1802.07167.pdf\n",
    "    * High-Quality Prediction Intervals for Deep Learning: A Distribution-Free, Ensembled Approach\n",
    "\n",
    "**GOals**\n",
    "\n",
    "* Understand how to train\n",
    "    * y :\n",
    "    * X: \n",
    "    \n",
    "* Understand the loss and how it will help us\n"
   ]
  },
  {
   "cell_type": "markdown",
   "metadata": {},
   "source": [
    "## Notes"
   ]
  },
  {
   "cell_type": "markdown",
   "metadata": {},
   "source": [
    "* **findings** \n",
    "\n",
    "**Reviewing the paper**\n",
    "\n",
    "* HQ: High Quality\n",
    "    1. Should narrow as posisible\n",
    "    1. capture the data uncertainty. The $y$ should rely on the narrow interval \n",
    "\n",
    "Ex: Car lentght of 1km all true values will rely on the interval. But it is not narrow.\n",
    "\n",
    "* CIs: consider only model uncertainty\n",
    "    * $Pr(f(x)|\\hat{f}(X))$\n",
    "\n",
    "* PIs: \n",
    "    * consider model + noise uncertainty: $Pr(y|\\hat{f}(X))$\n",
    "    * $Pi > CI$\n",
    "    \n",
    "The PI should capture set portion $(1 - \\alpha)$ of the true values $y_1$\n",
    "\n",
    "* $Pr(\\hat{y_{Li}} \\le y_i \\le \\hat{y_{Ui}}) \\ge (1 - \\alpha) $\n",
    "* The vector $k$ tells each $y_i$ fall in the Pestimated PI\n",
    "    * the toal number capture by the estimate PI is $c = \\sum_i^n k_i$\n",
    "    \n",
    "* Prediction interval coverage probability:  $PICP = \\frac{c}{n}$\n",
    "\n",
    "* Mean prdiction interval width: $MPIW = \\frac{1}{n} \\sum_i^n \\hat{y_{Li}} - \\hat{y_{ui}}$\n",
    "\n",
    "* We should minimize  MPIW with the constraint $PICP \\ge (1 - \\alpha)$\n",
    "\n",
    "The cases where the PI does not capture the true value $y_i$ we do not want to shrink it, we want to make than wider or keep it constant. Because of that the author intorduced the MPIW captured.\n",
    "\n",
    "\n",
    "$MPIW_{cap} = \\frac{1}{c} \\sum_i^n (\\hat{y_{Li}} - \\hat{y_{ui}}) k_i$\n",
    "\n",
    "* Loss definition\n",
    "    * Approximation $B(n, (1- \\alpha)) \\approx N(n(1-\\alpha), n\\alpha(1 - \\alpha)) $  \n",
    "        * requies batch size greather than 50  \n",
    "    * We want minimize MPIW with the contraint $PICP < (1 - \\alpha) \\equiv (PCIP - (1 -\\alpha)) > 0 $\n",
    "    * $Loss = MPIW_{cap} + \\lambda \\frac{n}{\\alpha (1 - \\alpha)}max(0, (1-\\alpha) - PCIP)^2$\n",
    "        * extra penality when the $y_i$ is not in the interval: $\\lambda \\frac{n}{\\alpha (1 - \\alpha)}max(0, (1-\\alpha) - PCIP)^2$\n",
    "        * MPIW capture we want to minimize\n",
    "        * Increase lambda penalize more due to coverage.\n",
    "    * soften parameter is introduced by numerical reason so the Gradient descent can converge easily (TODO: Review later)\n",
    "\n",
    "* Inputs:\n",
    "    X: features \n",
    "    y: [y,y]\n"
   ]
  },
  {
   "cell_type": "code",
   "execution_count": 1,
   "metadata": {},
   "outputs": [],
   "source": [
    "import IPython\n",
    "from IPython.core.interactiveshell import InteractiveShell\n",
    "\n",
    "InteractiveShell.ast_node_interactivity = \"all\""
   ]
  },
  {
   "cell_type": "code",
   "execution_count": 2,
   "metadata": {
    "tags": []
   },
   "outputs": [],
   "source": [
    "import numpy as np\n",
    "import matplotlib.pyplot as plt\n",
    "from keras.models import Sequential\n",
    "from keras.layers import Dense, Activation\n",
    "import keras\n",
    "from keras import backend as K\n",
    "import tensorflow as tf"
   ]
  },
  {
   "cell_type": "code",
   "execution_count": 3,
   "metadata": {},
   "outputs": [],
   "source": [
    "from utils import qd_objective, mpiw_pct, mpiw, picp,mpiw_pct_metric, mpiw_metric,picp_metric"
   ]
  },
  {
   "cell_type": "code",
   "execution_count": 6,
   "metadata": {
    "tags": []
   },
   "outputs": [
    {
     "name": "stdout",
     "output_type": "stream",
     "text": [
      "5 numbers\n"
     ]
    },
    {
     "data": {
      "text/plain": [
       "-4.931950110034318"
      ]
     },
     "execution_count": 6,
     "metadata": {},
     "output_type": "execute_result"
    },
    {
     "data": {
      "text/plain": [
       "-0.0042148931650851425"
      ]
     },
     "execution_count": 6,
     "metadata": {},
     "output_type": "execute_result"
    },
    {
     "data": {
      "text/plain": [
       "6.257800020966172"
      ]
     },
     "execution_count": 6,
     "metadata": {},
     "output_type": "execute_result"
    },
    {
     "data": {
      "text/plain": [
       "1.9977768963217117"
      ]
     },
     "execution_count": 6,
     "metadata": {},
     "output_type": "execute_result"
    },
    {
     "name": "stdout",
     "output_type": "stream",
     "text": [
      "5 numbers\n"
     ]
    },
    {
     "data": {
      "text/plain": [
       "-0.9863900220068637"
      ]
     },
     "execution_count": 6,
     "metadata": {},
     "output_type": "execute_result"
    },
    {
     "data": {
      "text/plain": [
       "-0.0008429786330170269"
      ]
     },
     "execution_count": 6,
     "metadata": {},
     "output_type": "execute_result"
    },
    {
     "data": {
      "text/plain": [
       "1.2515600041932344"
      ]
     },
     "execution_count": 6,
     "metadata": {},
     "output_type": "execute_result"
    },
    {
     "data": {
      "text/plain": [
       "0.3995553792643423"
      ]
     },
     "execution_count": 6,
     "metadata": {},
     "output_type": "execute_result"
    }
   ],
   "source": [
    "# create some data\n",
    "n_samples = 100\n",
    "X = np.random.uniform(low=-2.,high=2.,size=(n_samples,1))\n",
    "y = 1.5*np.sin(np.pi*X[:,0]) + np.random.normal(loc=0.,scale=1.*np.power(X[:,0],2))\n",
    "\n",
    "print(\"5 numbers\")\n",
    "np.min(y)\n",
    "np.mean(y)\n",
    "np.max(y)\n",
    "np.std(y)\n",
    "\n",
    "y = y.reshape([-1,1])/5.\n",
    "\n",
    "print(\"5 numbers\")\n",
    "np.min(y)\n",
    "np.mean(y)\n",
    "np.max(y)\n",
    "np.std(y)\n",
    "\n",
    "X_train = X.reshape(-1)\n",
    "y_train = y.reshape(-1)\n",
    "\n",
    "y_train = np.stack((y_train,y_train),axis=1) # make this 2d so will be accepted\n",
    "x_grid = np.linspace(-2,2,100) # for evaluation plots"
   ]
  },
  {
   "cell_type": "code",
   "execution_count": 5,
   "metadata": {},
   "outputs": [
    {
     "data": {
      "text/plain": [
       "(100, 1)"
      ]
     },
     "execution_count": 5,
     "metadata": {},
     "output_type": "execute_result"
    },
    {
     "data": {
      "text/plain": [
       "(100,)"
      ]
     },
     "execution_count": 5,
     "metadata": {},
     "output_type": "execute_result"
    },
    {
     "data": {
      "text/plain": [
       "(100, 1)"
      ]
     },
     "execution_count": 5,
     "metadata": {},
     "output_type": "execute_result"
    },
    {
     "data": {
      "text/plain": [
       "(100, 1)"
      ]
     },
     "execution_count": 5,
     "metadata": {},
     "output_type": "execute_result"
    },
    {
     "data": {
      "text/plain": [
       "(100, 2)"
      ]
     },
     "execution_count": 5,
     "metadata": {},
     "output_type": "execute_result"
    },
    {
     "name": "stdout",
     "output_type": "stream",
     "text": [
      "\n"
     ]
    },
    {
     "data": {
      "text/plain": [
       "array([[ 0.32429604],\n",
       "       [ 0.7188177 ],\n",
       "       [ 0.10006933],\n",
       "       [ 0.22082863],\n",
       "       [-0.13884454]])"
      ]
     },
     "execution_count": 5,
     "metadata": {},
     "output_type": "execute_result"
    },
    {
     "data": {
      "text/plain": [
       "array([[ 0.32429604,  0.32429604],\n",
       "       [ 0.7188177 ,  0.7188177 ],\n",
       "       [ 0.10006933,  0.10006933],\n",
       "       [ 0.22082863,  0.22082863],\n",
       "       [-0.13884454, -0.13884454]])"
      ]
     },
     "execution_count": 5,
     "metadata": {},
     "output_type": "execute_result"
    }
   ],
   "source": [
    "y_reshape = y.reshape([-1,1])/5.  # making column vector\n",
    "\n",
    "# Understanding all dim\n",
    "X.shape\n",
    "x_grid.shape\n",
    "\n",
    "y.shape\n",
    "y_reshape.shape\n",
    "y_train.shape\n",
    "\n",
    "print()\n",
    "k = 5\n",
    "y[0:k]\n",
    "y_train[0:k,:]"
   ]
  },
  {
   "cell_type": "code",
   "execution_count": 6,
   "metadata": {
    "tags": []
   },
   "outputs": [],
   "source": [
    "# set up model\n",
    "model = Sequential()\n",
    "model.add(Dense(100, input_dim=1, activation='relu',\n",
    "                kernel_initializer=keras.initializers.RandomNormal(mean=0.0, stddev=0.2)))\n",
    "model.add(Dense(2, activation='linear',\n",
    "                kernel_initializer=keras.initializers.RandomNormal(mean=0.0, stddev=0.3), \n",
    "                bias_initializer=keras.initializers.Constant(value=[3.,-3.]))) # important to init biases to start!\n",
    "\n",
    "# compile\n",
    "opt = keras.optimizers.Adam(lr=0.02, decay=0.01)\n",
    "model.compile(loss=qd_objective, optimizer=opt)"
   ]
  },
  {
   "cell_type": "code",
   "execution_count": 7,
   "metadata": {},
   "outputs": [
    {
     "data": {
      "text/plain": [
       "<matplotlib.collections.PathCollection at 0x7f2efc4ba1d0>"
      ]
     },
     "execution_count": 7,
     "metadata": {},
     "output_type": "execute_result"
    },
    {
     "data": {
      "text/plain": [
       "[<matplotlib.lines.Line2D at 0x7f2f1420dcf8>]"
      ]
     },
     "execution_count": 7,
     "metadata": {},
     "output_type": "execute_result"
    },
    {
     "data": {
      "text/plain": [
       "[<matplotlib.lines.Line2D at 0x7f2efc4ba550>]"
      ]
     },
     "execution_count": 7,
     "metadata": {},
     "output_type": "execute_result"
    },
    {
     "data": {
      "text/plain": [
       "Text(0.5, 1.0, 'BEFORE training')"
      ]
     },
     "execution_count": 7,
     "metadata": {},
     "output_type": "execute_result"
    },
    {
     "data": {
      "text/plain": [
       "(-2.0, 2.0)"
      ]
     },
     "execution_count": 7,
     "metadata": {},
     "output_type": "execute_result"
    },
    {
     "data": {
      "image/png": "[encoded data removed]",
      "text/plain": [
       "<Figure size 432x288 with 1 Axes>"
      ]
     },
     "metadata": {
      "needs_background": "light"
     },
     "output_type": "display_data"
    }
   ],
   "source": [
    "# plot and view some predictions\n",
    "y_pred = model.predict(x_grid, verbose=0)\n",
    "y_u_pred = y_pred[:,0]\n",
    "y_l_pred = y_pred[:,1]\n",
    "\n",
    "plt.scatter(X_train,y_train[:,0])\n",
    "plt.plot(x_grid, y_u_pred, color='r') # upper boundary prediction\n",
    "plt.plot(x_grid, y_l_pred, color='g') # lower boundary prediction\n",
    "plt.title('BEFORE training')\n",
    "plt.xlim(-2,2)\n",
    "plt.show()"
   ]
  },
  {
   "cell_type": "code",
   "execution_count": 29,
   "metadata": {},
   "outputs": [
    {
     "data": {
      "text/plain": [
       "<matplotlib.collections.PathCollection at 0x7f2efc4ae828>"
      ]
     },
     "execution_count": 29,
     "metadata": {},
     "output_type": "execute_result"
    },
    {
     "data": {
      "text/plain": [
       "[<matplotlib.lines.Line2D at 0x7f2efc4aeac8>]"
      ]
     },
     "execution_count": 29,
     "metadata": {},
     "output_type": "execute_result"
    },
    {
     "data": {
      "text/plain": [
       "[<matplotlib.lines.Line2D at 0x7f2efc4aeb70>]"
      ]
     },
     "execution_count": 29,
     "metadata": {},
     "output_type": "execute_result"
    },
    {
     "data": {
      "text/plain": [
       "Text(0.5, 1.0, 'AFTER training 400 epochs')"
      ]
     },
     "execution_count": 29,
     "metadata": {},
     "output_type": "execute_result"
    },
    {
     "data": {
      "text/plain": [
       "(-2.0, 2.0)"
      ]
     },
     "execution_count": 29,
     "metadata": {},
     "output_type": "execute_result"
    },
    {
     "data": {
      "image/png": "[encoded data removed]",
      "text/plain": [
       "<Figure size 432x288 with 1 Axes>"
      ]
     },
     "metadata": {
      "needs_background": "light"
     },
     "output_type": "display_data"
    },
    {
     "data": {
      "text/plain": [
       "<matplotlib.collections.PathCollection at 0x7f2e0d719e80>"
      ]
     },
     "execution_count": 29,
     "metadata": {},
     "output_type": "execute_result"
    },
    {
     "data": {
      "text/plain": [
       "[<matplotlib.lines.Line2D at 0x7f2e0d793240>]"
      ]
     },
     "execution_count": 29,
     "metadata": {},
     "output_type": "execute_result"
    },
    {
     "data": {
      "text/plain": [
       "[<matplotlib.lines.Line2D at 0x7f2e0d793588>]"
      ]
     },
     "execution_count": 29,
     "metadata": {},
     "output_type": "execute_result"
    },
    {
     "data": {
      "text/plain": [
       "Text(0.5, 1.0, 'AFTER training 800 epochs')"
      ]
     },
     "execution_count": 29,
     "metadata": {},
     "output_type": "execute_result"
    },
    {
     "data": {
      "text/plain": [
       "(-2.0, 2.0)"
      ]
     },
     "execution_count": 29,
     "metadata": {},
     "output_type": "execute_result"
    },
    {
     "data": {
      "image/png": "[encoded data removed]",
      "text/plain": [
       "<Figure size 432x288 with 1 Axes>"
      ]
     },
     "metadata": {
      "needs_background": "light"
     },
     "output_type": "display_data"
    },
    {
     "data": {
      "text/plain": [
       "<matplotlib.collections.PathCollection at 0x7f2e0d9b76d8>"
      ]
     },
     "execution_count": 29,
     "metadata": {},
     "output_type": "execute_result"
    },
    {
     "data": {
      "text/plain": [
       "[<matplotlib.lines.Line2D at 0x7f2e0d9b7a58>]"
      ]
     },
     "execution_count": 29,
     "metadata": {},
     "output_type": "execute_result"
    },
    {
     "data": {
      "text/plain": [
       "[<matplotlib.lines.Line2D at 0x7f2e0d9b7da0>]"
      ]
     },
     "execution_count": 29,
     "metadata": {},
     "output_type": "execute_result"
    },
    {
     "data": {
      "text/plain": [
       "Text(0.5, 1.0, 'AFTER training 1200 epochs')"
      ]
     },
     "execution_count": 29,
     "metadata": {},
     "output_type": "execute_result"
    },
    {
     "data": {
      "text/plain": [
       "(-2.0, 2.0)"
      ]
     },
     "execution_count": 29,
     "metadata": {},
     "output_type": "execute_result"
    },
    {
     "data": {
      "image/png": "[encoded data removed]",
      "text/plain": [
       "<Figure size 432x288 with 1 Axes>"
      ]
     },
     "metadata": {
      "needs_background": "light"
     },
     "output_type": "display_data"
    },
    {
     "data": {
      "text/plain": [
       "<matplotlib.collections.PathCollection at 0x7f2e0daa6438>"
      ]
     },
     "execution_count": 29,
     "metadata": {},
     "output_type": "execute_result"
    },
    {
     "data": {
      "text/plain": [
       "[<matplotlib.lines.Line2D at 0x7f2e0daa67f0>]"
      ]
     },
     "execution_count": 29,
     "metadata": {},
     "output_type": "execute_result"
    },
    {
     "data": {
      "text/plain": [
       "[<matplotlib.lines.Line2D at 0x7f2e0daa6b38>]"
      ]
     },
     "execution_count": 29,
     "metadata": {},
     "output_type": "execute_result"
    },
    {
     "data": {
      "text/plain": [
       "Text(0.5, 1.0, 'AFTER training 1600 epochs')"
      ]
     },
     "execution_count": 29,
     "metadata": {},
     "output_type": "execute_result"
    },
    {
     "data": {
      "text/plain": [
       "(-2.0, 2.0)"
      ]
     },
     "execution_count": 29,
     "metadata": {},
     "output_type": "execute_result"
    },
    {
     "data": {
      "image/png": "[encoded data removed]",
      "text/plain": [
       "<Figure size 432x288 with 1 Axes>"
      ]
     },
     "metadata": {
      "needs_background": "light"
     },
     "output_type": "display_data"
    },
    {
     "data": {
      "text/plain": [
       "<matplotlib.collections.PathCollection at 0x7f2e0d5a07f0>"
      ]
     },
     "execution_count": 29,
     "metadata": {},
     "output_type": "execute_result"
    },
    {
     "data": {
      "text/plain": [
       "[<matplotlib.lines.Line2D at 0x7f2e0d5a0ba8>]"
      ]
     },
     "execution_count": 29,
     "metadata": {},
     "output_type": "execute_result"
    },
    {
     "data": {
      "text/plain": [
       "[<matplotlib.lines.Line2D at 0x7f2e0d5a0c18>]"
      ]
     },
     "execution_count": 29,
     "metadata": {},
     "output_type": "execute_result"
    },
    {
     "data": {
      "text/plain": [
       "Text(0.5, 1.0, 'AFTER training 2000 epochs')"
      ]
     },
     "execution_count": 29,
     "metadata": {},
     "output_type": "execute_result"
    },
    {
     "data": {
      "text/plain": [
       "(-2.0, 2.0)"
      ]
     },
     "execution_count": 29,
     "metadata": {},
     "output_type": "execute_result"
    },
    {
     "data": {
      "image/png": "[encoded data removed]",
      "text/plain": [
       "<Figure size 432x288 with 1 Axes>"
      ]
     },
     "metadata": {
      "needs_background": "light"
     },
     "output_type": "display_data"
    },
    {
     "data": {
      "text/plain": [
       "<matplotlib.collections.PathCollection at 0x7f2e0d514ba8>"
      ]
     },
     "execution_count": 29,
     "metadata": {},
     "output_type": "execute_result"
    },
    {
     "data": {
      "text/plain": [
       "[<matplotlib.lines.Line2D at 0x7f2e0d514f60>]"
      ]
     },
     "execution_count": 29,
     "metadata": {},
     "output_type": "execute_result"
    },
    {
     "data": {
      "text/plain": [
       "[<matplotlib.lines.Line2D at 0x7f2e0d514f98>]"
      ]
     },
     "execution_count": 29,
     "metadata": {},
     "output_type": "execute_result"
    },
    {
     "data": {
      "text/plain": [
       "Text(0.5, 1.0, 'AFTER training 2400 epochs')"
      ]
     },
     "execution_count": 29,
     "metadata": {},
     "output_type": "execute_result"
    },
    {
     "data": {
      "text/plain": [
       "(-2.0, 2.0)"
      ]
     },
     "execution_count": 29,
     "metadata": {},
     "output_type": "execute_result"
    },
    {
     "data": {
      "image/png": "[encoded data removed]",
      "text/plain": [
       "<Figure size 432x288 with 1 Axes>"
      ]
     },
     "metadata": {
      "needs_background": "light"
     },
     "output_type": "display_data"
    }
   ],
   "source": [
    "result_loss=[]\n",
    "for i in range(6):\n",
    "    result = model.fit(X_train, y_train, epochs=400, batch_size=n_, verbose=0,  validation_split=0.)\n",
    "    result_loss.append(result.history['loss'])\n",
    "    \n",
    "    # plot and view some predictions\n",
    "    y_pred = model.predict(x_grid, verbose=0)\n",
    "    y_u_pred = y_pred[:,0]\n",
    "    y_l_pred = y_pred[:,1]\n",
    "\n",
    "    plt.scatter(X_train,y_train[:,0])\n",
    "    plt.plot(x_grid, y_u_pred, color='r') # upper boundary prediction\n",
    "    plt.plot(x_grid, y_l_pred, color='g') # lower boundary prediction\n",
    "    plt.title('AFTER training '+str((i+1)*400)+' epochs')\n",
    "    plt.xlim(-2,2)\n",
    "    plt.show()"
   ]
  },
  {
   "cell_type": "code",
   "execution_count": null,
   "metadata": {},
   "outputs": [],
   "source": [
    "# view training\n",
    "result_loss = np.array(result_loss).reshape(-1)\n",
    "\n",
    "print(f\"loss last 5 values: {result_loss[-6:-1]}\")\n",
    "\n",
    "x = range(result_loss.shape[0])\n",
    "plt.plot(x, result_loss, label='train')\n",
    "plt.title('Loss')\n",
    "plt.legend(loc='center left', bbox_to_anchor=(1, 0.5))\n",
    "plt.ylim(0,10)\n",
    "plt.show()"
   ]
  },
  {
   "cell_type": "code",
   "execution_count": null,
   "metadata": {},
   "outputs": [],
   "source": [
    "# print some stats\n",
    "y_pred = model.predict(X_train, verbose=0)\n",
    "y_u_pred = y_pred[:,0]\n",
    "y_l_pred = y_pred[:,1]\n",
    "K_u = y_u_pred > y_train[:,0]\n",
    "K_l = y_l_pred < y_train[:,0]\n",
    "print('PICP:', np.mean(K_u * K_l))\n",
    "print('MPIW:', np.round(np.mean(y_u_pred - y_l_pred),3))"
   ]
  },
  {
   "cell_type": "markdown",
   "metadata": {},
   "source": [
    "## Run the code with my examples"
   ]
  },
  {
   "cell_type": "code",
   "execution_count": 9,
   "metadata": {},
   "outputs": [],
   "source": [
    "# create some data\n",
    "n_samples = 500\n",
    "\n",
    "X = np.random.uniform(low=-2.,high=2.,size=(n_samples,1))\n",
    "y = 1.5*np.sin(np.pi*X[:,0]) + np.random.normal(loc=0.,scale=1.*np.power(X[:,0],2))\n",
    "\n",
    "XX = X.reshape(-1)\n",
    "yy = y.reshape(-1)\n",
    "\n",
    "yy = np.stack((yy,yy),axis=1) # make this 2d so will be accepted\n",
    "x_grid = np.linspace(-2,2,n_samples) # for evaluation plots"
   ]
  },
  {
   "cell_type": "code",
   "execution_count": 10,
   "metadata": {},
   "outputs": [
    {
     "data": {
      "text/plain": [
       "<matplotlib.collections.PathCollection at 0x7f2efc2b1748>"
      ]
     },
     "execution_count": 10,
     "metadata": {},
     "output_type": "execute_result"
    },
    {
     "data": {
      "image/png": "[encoded data removed]",
      "text/plain": [
       "<Figure size 432x288 with 1 Axes>"
      ]
     },
     "metadata": {
      "needs_background": "light"
     },
     "output_type": "display_data"
    }
   ],
   "source": [
    "plt.scatter(XX,yy[:,0])"
   ]
  },
  {
   "cell_type": "code",
   "execution_count": 11,
   "metadata": {},
   "outputs": [],
   "source": [
    "from sklearn.model_selection import train_test_split\n",
    "\n",
    "X_train, X_test, y_train, y_test = train_test_split(XX, yy, test_size=0.25, random_state=42)"
   ]
  },
  {
   "cell_type": "markdown",
   "metadata": {},
   "source": [
    "## Train"
   ]
  },
  {
   "cell_type": "code",
   "execution_count": 12,
   "metadata": {},
   "outputs": [
    {
     "data": {
      "text/plain": [
       "'1.19.5'"
      ]
     },
     "execution_count": 12,
     "metadata": {},
     "output_type": "execute_result"
    },
    {
     "data": {
      "text/plain": [
       "'2.2.0'"
      ]
     },
     "execution_count": 12,
     "metadata": {},
     "output_type": "execute_result"
    }
   ],
   "source": [
    "np.__version__\n",
    "tf.__version__"
   ]
  },
  {
   "cell_type": "code",
   "execution_count": 80,
   "metadata": {},
   "outputs": [],
   "source": [
    "# hyperparameters\n",
    "lambda_ = 0.01/1e3 # lambda in loss fn\n",
    "alpha_ = 0.05  # capturing (1-alpha)% of samples\n",
    "soften_ = 160.\n",
    "n_ = n_samples # batch size\n",
    "\n",
    "def loss_qd(y_true, y_pred):\n",
    "\n",
    "    return qd_objective(y_true, y_pred,n_, lambda_, alpha_, soften_)\n",
    "\n",
    "\n",
    "def picp_metric_(y_true, y_pred):\n",
    "    \n",
    "    return picp_metric(y_true, y_pred, soften_=soften_)\n",
    "\n",
    "def coverage_term_metric(y_true, y_pred):\n",
    "    \n",
    "    y_true = y_true[:,0]\n",
    "\n",
    "    y_u = y_pred[:,0]\n",
    "    y_l = y_pred[:,1]\n",
    "\n",
    "    K_SU = tf.sigmoid(soften_ * (y_u - y_true))\n",
    "    K_SL = tf.sigmoid(soften_ * (y_true - y_l))\n",
    "    K_S = tf.multiply(K_SU, K_SL)\n",
    "    \n",
    "    PICP_S = tf.reduce_mean(K_S)\n",
    "\n",
    "    coverage_term = lambda_ * n_ / (alpha_*(1-alpha_)) * tf.maximum(0.,(1-alpha_) - PICP_S)\n",
    "    \n",
    "    return coverage_term\n"
   ]
  },
  {
   "cell_type": "code",
   "execution_count": 81,
   "metadata": {},
   "outputs": [],
   "source": [
    "def qd_objective_debugg(y_true, y_pred):\n",
    "    '''Loss_QD-soft, from algorithm 1'''\n",
    "    y_true = y_true[:,0]\n",
    "    y_u = y_pred[:,0]\n",
    "    y_l = y_pred[:,1]\n",
    "    \n",
    "    K_HU = tf.maximum(0.,tf.sign(y_u - y_true))\n",
    "    K_HL = tf.maximum(0.,tf.sign(y_true - y_l))\n",
    "    K_H = tf.multiply(K_HU, K_HL)\n",
    "    \n",
    "    print(f\"K_HU: {K_HU.shape}: {K_HU}\")\n",
    "    print(f\"K_HL: {K_HL.shape}: {K_HL}\")\n",
    "    print(f\"K_H: {K_H.shape}: {K_H}\")\n",
    "    \n",
    "    K_SU = tf.sigmoid(soften_ * (y_u - y_true))\n",
    "    K_SL = tf.sigmoid(soften_ * (y_true - y_l))\n",
    "    K_S = tf.multiply(K_SU, K_SL)\n",
    "    \n",
    "    print(f\"K_SU: {K_SU.shape}: {K_SU}\")\n",
    "    print(f\"K_SL: {K_SL.shape}: {K_SL}\")\n",
    "    print(f\"K_S: {K_S.shape}: {K_S}\")\n",
    "        \n",
    "    MPIW_c = tf.reduce_sum(tf.multiply((y_u - y_l),K_H))/tf.reduce_sum(K_H)\n",
    "    PICP_H = tf.reduce_mean(K_H)\n",
    "    PICP_S = tf.reduce_mean(K_S)\n",
    "    \n",
    "    tf.print(f\"MPIW_c: {MPIW_c.shape}: {MPIW_c}\")\n",
    "    tf.print(f\"PICP_S: {PICP_S.shape}: {PICP_S}\")\n",
    "    \n",
    "    Loss_S = MPIW_c + lambda_ * n_ / (alpha_*(1-alpha_)) * tf.maximum(0.,(1-alpha_) - PICP_S)\n",
    "    \n",
    "    return Loss_S\n",
    "\n",
    "def numpy_sigmoid(x):\n",
    "\n",
    "    return 1/(1 + np.exp(-x))\n",
    "\n",
    "def get_loss_terms(y_true, y_pred):\n",
    "   \n",
    "    y_true = y_true[:,0]\n",
    "    y_u = y_pred[:,0]\n",
    "    y_l = y_pred[:,1]\n",
    "    \n",
    "    K_HU = np.maximum(0., np.sign(y_u - y_true))\n",
    "    K_HL = np.maximum(0.,np.sign(y_true - y_l))\n",
    "    K_H = np.multiply(K_HU, K_HL)\n",
    "    \n",
    "#     print(f\"K_HU: {K_HU.shape}: {K_HU}\")\n",
    "#     print(f\"K_HL: {K_HL.shape}: {K_HL}\")\n",
    "#     print(f\"K_H: {K_H.shape}: {K_H}\")\n",
    "    \n",
    "    K_SU = numpy_sigmoid(soften_ * (y_u - y_true))\n",
    "    K_SL = numpy_sigmoid(soften_ * (y_true - y_l))\n",
    "    K_S = np.multiply(K_SU, K_SL)\n",
    "    \n",
    "    # print(f\"K_SU: {K_SU.shape}: {K_SU}\")\n",
    "    # print(f\"K_SL: {K_SL.shape}: {K_SL}\")\n",
    "    # print(f\"K_S: {K_S.shape}: {K_S}\")\n",
    "        \n",
    "    MPIW_c = np.sum(np.multiply((y_u - y_l),K_H))/np.sum(K_H)\n",
    "    PICP_H = np.mean(K_H)\n",
    "    PICP_S = np.mean(K_S)\n",
    "    \n",
    "    print(f\"MPIW_c: {MPIW_c.shape}: {MPIW_c}\")\n",
    "    print(f\"PICP_S: {PICP_S.shape}: {PICP_S}\")\n",
    "    \n",
    "    term_picp =  lambda_ * n_ / (alpha_*(1-alpha_)) * np.maximum(0.,(1-alpha_) - PICP_S)\n",
    "    \n",
    "    Loss_S = MPIW_c + term_picp\n",
    "    \n",
    "    return Loss_S, MPIW_c, PICP_S, term_picp"
   ]
  },
  {
   "cell_type": "code",
   "execution_count": 82,
   "metadata": {},
   "outputs": [
    {
     "data": {
      "text/plain": [
       "array([ 0, -1, -2])"
      ]
     },
     "execution_count": 82,
     "metadata": {},
     "output_type": "execute_result"
    },
    {
     "data": {
      "text/plain": [
       "0"
      ]
     },
     "execution_count": 82,
     "metadata": {},
     "output_type": "execute_result"
    },
    {
     "data": {
      "text/plain": [
       "array([0, 0, 0])"
      ]
     },
     "execution_count": 82,
     "metadata": {},
     "output_type": "execute_result"
    }
   ],
   "source": [
    "y_u = np.array([1,2,3])\n",
    "y_true = np.array([1,3,5])\n",
    "\n",
    "y_u - y_true\n",
    "\n",
    "np.max(np.concatenate([np.array([0]),np.sign(y_u - y_true)]))\n",
    "\n",
    "np.maximum(0, np.sign(y_u - y_true))"
   ]
  },
  {
   "cell_type": "code",
   "execution_count": 83,
   "metadata": {},
   "outputs": [],
   "source": [
    "# set up model\n",
    "model = Sequential()\n",
    "model.add(Dense(100, input_dim=1, activation='relu',\n",
    "                kernel_initializer=keras.initializers.RandomNormal(mean=0.0, stddev=0.2)))\n",
    "model.add(Dense(2, activation='linear',\n",
    "                kernel_initializer=keras.initializers.RandomNormal(mean=0.0, stddev=0.3), \n",
    "                bias_initializer=keras.initializers.Constant(value=[0.5,-0.5]))) # important to init biases to start!\n",
    "\n",
    "# compile\n",
    "opt = keras.optimizers.Adam(lr=0.02, decay=0.01)\n",
    "model.compile(loss=qd_objective, optimizer=opt, metrics=[mpiw_metric,coverage_term_metric,picp_metric_])"
   ]
  },
  {
   "cell_type": "code",
   "execution_count": 84,
   "metadata": {},
   "outputs": [
    {
     "data": {
      "text/plain": [
       "(375, 2)"
      ]
     },
     "execution_count": 84,
     "metadata": {},
     "output_type": "execute_result"
    },
    {
     "data": {
      "text/plain": [
       "(5, 2)"
      ]
     },
     "execution_count": 84,
     "metadata": {},
     "output_type": "execute_result"
    },
    {
     "data": {
      "text/plain": [
       "array([[ 0.81392683,  0.81392683],\n",
       "       [ 1.90069213,  1.90069213],\n",
       "       [ 0.96932418,  0.96932418],\n",
       "       [ 1.66461594,  1.66461594],\n",
       "       [-1.0592839 , -1.0592839 ]])"
      ]
     },
     "execution_count": 84,
     "metadata": {},
     "output_type": "execute_result"
    },
    {
     "data": {
      "text/plain": [
       "array([[ 0.07812271, -0.44460538],\n",
       "       [ 1.0163764 , -0.8854213 ],\n",
       "       [ 0.08746737, -0.4458323 ],\n",
       "       [ 0.6358261 , -0.60138005],\n",
       "       [ 0.28500617, -0.47177023]], dtype=float32)"
      ]
     },
     "execution_count": 84,
     "metadata": {},
     "output_type": "execute_result"
    },
    {
     "name": "stdout",
     "output_type": "stream",
     "text": [
      "K_HU: (5,): [0. 0. 0. 0. 1.]\n",
      "K_HL: (5,): [1. 1. 1. 1. 0.]\n",
      "K_H: (5,): [0. 0. 0. 0. 0.]\n",
      "K_SU: (5,): [7.43178164e-52 3.55997933e-62 5.27609568e-62 3.25357342e-72\n",
      " 1.00000000e+00]\n",
      "K_SL: (5,): [1.00000000e+00 1.00000000e+00 1.00000000e+00 1.00000000e+00\n",
      " 1.49750504e-41]\n",
      "K_S: (5,): [7.43178164e-52 3.55997933e-62 5.27609568e-62 3.25357342e-72\n",
      " 1.49750504e-41]\n",
      "MPIW_c: (): nan\n",
      "PICP_S: (): 2.995010079857013e-42\n"
     ]
    },
    {
     "data": {
      "text/plain": [
       "nan"
      ]
     },
     "execution_count": 84,
     "metadata": {},
     "output_type": "execute_result"
    }
   ],
   "source": [
    "y_pred = model.predict(X_train[0:5], verbose=0)\n",
    "\n",
    "y_train.shape\n",
    "y_pred.shape\n",
    "\n",
    "y_train[0:5,:]\n",
    "y_pred[0:5,:]\n",
    "\n",
    "qd_objective_debugg(y_train[0:5,:], y_pred).numpy()"
   ]
  },
  {
   "cell_type": "code",
   "execution_count": 85,
   "metadata": {
    "tags": []
   },
   "outputs": [
    {
     "name": "stdout",
     "output_type": "stream",
     "text": [
      "CPU times: user 15 s, sys: 2.23 s, total: 17.2 s\n",
      "Wall time: 9.33 s\n"
     ]
    }
   ],
   "source": [
    "%%time\n",
    "result = model.fit(X_train, y_train, epochs=5000, batch_size=n_, verbose=0, validation_split=0.)"
   ]
  },
  {
   "cell_type": "code",
   "execution_count": 86,
   "metadata": {},
   "outputs": [
    {
     "data": {
      "text/plain": [
       "[3.9154465198516846, 3.915313482284546]"
      ]
     },
     "execution_count": 86,
     "metadata": {},
     "output_type": "execute_result"
    },
    {
     "data": {
      "text/plain": [
       "[0.948713481426239, 0.948710024356842]"
      ]
     },
     "execution_count": 86,
     "metadata": {},
     "output_type": "execute_result"
    },
    {
     "data": {
      "text/plain": [
       "[0.0001354217529296875, 0.00013578565267380327]"
      ]
     },
     "execution_count": 86,
     "metadata": {},
     "output_type": "execute_result"
    },
    {
     "data": {
      "text/plain": [
       "[3.942530870437622, 3.9424707889556885]"
      ]
     },
     "execution_count": 86,
     "metadata": {},
     "output_type": "execute_result"
    }
   ],
   "source": [
    "result.history[\"mpiw_metric\"][-3:-1]\n",
    "result.history[\"picp_metric_\"][-3:-1]\n",
    "result.history[\"coverage_term_metric\"][-3:-1]\n",
    "\n",
    "result.history[\"loss\"][-3:-1]"
   ]
  },
  {
   "cell_type": "code",
   "execution_count": 87,
   "metadata": {},
   "outputs": [
    {
     "name": "stdout",
     "output_type": "stream",
     "text": [
      "MPIW_c: (): 3.9157192182591123\n",
      "PICP_S: (): 0.9487324074562969\n"
     ]
    },
    {
     "name": "stderr",
     "output_type": "stream",
     "text": [
      "/home/ubuntu/.local/lib/python3.6/site-packages/ipykernel_launcher.py:36: RuntimeWarning: overflow encountered in exp\n"
     ]
    },
    {
     "data": {
      "text/plain": [
       "(3.9158526490531864,\n",
       " 3.9157192182591123,\n",
       " 0.9487324074562969,\n",
       " 0.00013343079407400116)"
      ]
     },
     "execution_count": 87,
     "metadata": {},
     "output_type": "execute_result"
    }
   ],
   "source": [
    "y_pred = model.predict(X_train)\n",
    "\n",
    "Loss_S, MPIW_c, PICP_S, term_picp  = get_loss_terms(y_train, y_pred)\n",
    "\n",
    "Loss_S, MPIW_c, PICP_S, term_picp"
   ]
  },
  {
   "cell_type": "code",
   "execution_count": 88,
   "metadata": {
    "tags": []
   },
   "outputs": [
    {
     "name": "stdout",
     "output_type": "stream",
     "text": [
      "loss last 5 values: [3.94260883 3.9426136  3.94260478 3.94253087 3.94247079]\n"
     ]
    },
    {
     "data": {
      "text/plain": [
       "[<matplotlib.lines.Line2D at 0x7f2dff4440b8>]"
      ]
     },
     "execution_count": 88,
     "metadata": {},
     "output_type": "execute_result"
    },
    {
     "data": {
      "text/plain": [
       "Text(0.5, 1.0, 'Loss')"
      ]
     },
     "execution_count": 88,
     "metadata": {},
     "output_type": "execute_result"
    },
    {
     "data": {
      "text/plain": [
       "<matplotlib.legend.Legend at 0x7f2dff444320>"
      ]
     },
     "execution_count": 88,
     "metadata": {},
     "output_type": "execute_result"
    },
    {
     "data": {
      "image/png": "[encoded data removed]",
      "text/plain": [
       "<Figure size 432x288 with 1 Axes>"
      ]
     },
     "metadata": {
      "needs_background": "light"
     },
     "output_type": "display_data"
    }
   ],
   "source": [
    "# view training\n",
    "result_loss = np.array(result.history['loss']).reshape(-1)\n",
    "\n",
    "print(f\"loss last 5 values: {result_loss[-6:-1]}\")\n",
    "\n",
    "x = range(result_loss.shape[0])\n",
    "plt.plot(x, result_loss, label='train')\n",
    "plt.title('Loss')\n",
    "plt.legend(loc='center left', bbox_to_anchor=(1, 0.5))\n",
    "#plt.ylim(0,10)\n",
    "plt.show()"
   ]
  },
  {
   "cell_type": "code",
   "execution_count": 89,
   "metadata": {},
   "outputs": [
    {
     "data": {
      "text/plain": [
       "<matplotlib.collections.PathCollection at 0x7f2dff43ae48>"
      ]
     },
     "execution_count": 89,
     "metadata": {},
     "output_type": "execute_result"
    },
    {
     "data": {
      "text/plain": [
       "[<matplotlib.lines.Line2D at 0x7f2dff4fe940>]"
      ]
     },
     "execution_count": 89,
     "metadata": {},
     "output_type": "execute_result"
    },
    {
     "data": {
      "text/plain": [
       "[<matplotlib.lines.Line2D at 0x7f2dff43aef0>]"
      ]
     },
     "execution_count": 89,
     "metadata": {},
     "output_type": "execute_result"
    },
    {
     "data": {
      "text/plain": [
       "Text(0.5, 1.0, 'AFTER training 5000 epochs')"
      ]
     },
     "execution_count": 89,
     "metadata": {},
     "output_type": "execute_result"
    },
    {
     "data": {
      "text/plain": [
       "(-2.0, 2.0)"
      ]
     },
     "execution_count": 89,
     "metadata": {},
     "output_type": "execute_result"
    },
    {
     "data": {
      "image/png": "[encoded data removed]",
      "text/plain": [
       "<Figure size 432x288 with 1 Axes>"
      ]
     },
     "metadata": {
      "needs_background": "light"
     },
     "output_type": "display_data"
    }
   ],
   "source": [
    "x_grid = np.linspace(-2,2,150) # for evaluation plots\n",
    "\n",
    "y_pred = model.predict(x_grid, verbose=0)\n",
    "y_u_pred = y_pred[:,0]\n",
    "y_l_pred = y_pred[:,1]\n",
    "\n",
    "plt.scatter(X_train,y_train[:,0])\n",
    "plt.plot(x_grid, y_u_pred, color='r') # upper boundary prediction\n",
    "plt.plot(x_grid, y_l_pred, color='g') # lower boundary prediction\n",
    "plt.title('AFTER training '+ str(len(result_loss)) +' epochs')\n",
    "plt.xlim(-2,2)\n",
    "plt.show()"
   ]
  },
  {
   "cell_type": "code",
   "execution_count": 90,
   "metadata": {},
   "outputs": [
    {
     "data": {
      "text/plain": [
       "[<matplotlib.lines.Line2D at 0x7f2dff409c50>]"
      ]
     },
     "execution_count": 90,
     "metadata": {},
     "output_type": "execute_result"
    },
    {
     "data": {
      "text/plain": [
       "[<matplotlib.lines.Line2D at 0x7f2dff3b4fd0>]"
      ]
     },
     "execution_count": 90,
     "metadata": {},
     "output_type": "execute_result"
    },
    {
     "data": {
      "text/plain": [
       "Text(0, 0.5, 'mpiw_metric')"
      ]
     },
     "execution_count": 90,
     "metadata": {},
     "output_type": "execute_result"
    },
    {
     "data": {
      "text/plain": [
       "Text(0, 0.5, 'picp_metric_')"
      ]
     },
     "execution_count": 90,
     "metadata": {},
     "output_type": "execute_result"
    },
    {
     "data": {
      "image/png": "[encoded data removed]",
      "text/plain": [
       "<Figure size 432x288 with 2 Axes>"
      ]
     },
     "metadata": {
      "needs_background": "light"
     },
     "output_type": "display_data"
    }
   ],
   "source": [
    "# view training\n",
    "result_mpiw = np.array(result.history['mpiw_metric']).reshape(-1)\n",
    "result_picp = np.array(result.history['picp_metric_']).reshape(-1)\n",
    "\n",
    "fig, ax1 = plt.subplots()\n",
    "\n",
    "x = range(result_mpiw_pct.shape[0])\n",
    "\n",
    "ax2 = ax1.twinx()\n",
    "ax1.plot(x, result_mpiw, label='mpiw_metric', color='b')\n",
    "ax2.plot(x, result_picp,label='picp_metric_',color='g')\n",
    "\n",
    "# ax1.set_xlabel('X data')\n",
    "ax1.set_ylabel('mpiw_metric', color='b')\n",
    "ax2.set_ylabel('picp_metric_', color='g')\n",
    "\n",
    "plt.show()"
   ]
  },
  {
   "cell_type": "code",
   "execution_count": 92,
   "metadata": {},
   "outputs": [
    {
     "name": "stdout",
     "output_type": "stream",
     "text": [
      "Init guess => mpiw: 1.212986707687378; coverage_term: 0.07875027507543564\n",
      "Last values => mpiw: 3.91621994972229; coverage_term: 0.00013138746726326644\n"
     ]
    },
    {
     "data": {
      "text/plain": [
       "[<matplotlib.lines.Line2D at 0x7f2dfda7a278>]"
      ]
     },
     "execution_count": 92,
     "metadata": {},
     "output_type": "execute_result"
    },
    {
     "data": {
      "text/plain": [
       "[<matplotlib.lines.Line2D at 0x7f2dff409be0>]"
      ]
     },
     "execution_count": 92,
     "metadata": {},
     "output_type": "execute_result"
    },
    {
     "data": {
      "text/plain": [
       "<matplotlib.legend.Legend at 0x7f2dfda7a4e0>"
      ]
     },
     "execution_count": 92,
     "metadata": {},
     "output_type": "execute_result"
    },
    {
     "data": {
      "image/png": "[encoded data removed]",
      "text/plain": [
       "<Figure size 432x288 with 1 Axes>"
      ]
     },
     "metadata": {
      "needs_background": "light"
     },
     "output_type": "display_data"
    }
   ],
   "source": [
    "# view training\n",
    "result_mpiw = np.array(result.history['mpiw_metric']).reshape(-1)\n",
    "result_coverage_term = np.array(result.history['coverage_term_metric']).reshape(-1)\n",
    "\n",
    "\n",
    "print(f\"Init guess => mpiw: {result_mpiw[0]}; coverage_term: {result_coverage_term[0]}\")\n",
    "print(f\"Last values => mpiw: {result_mpiw[-1]}; coverage_term: {result_coverage_term[-1]}\")\n",
    "\n",
    "x = range(result_mpiw.shape[0])\n",
    "\n",
    "plt.plot(x, result_mpiw, color='b',  label='mpiw_metric') # upper boundary prediction\n",
    "plt.plot(x, result_coverage_term, color='g', label='coverage_term_metric') # lower boundary prediction\n",
    "\n",
    "plt.legend()\n",
    "plt.show()"
   ]
  },
  {
   "cell_type": "code",
   "execution_count": null,
   "metadata": {},
   "outputs": [],
   "source": [
    "# update the learning rate\n",
    "print(\"[INFO] old learning rate: {}\".format(K.get_value(model.optimizer.lr)))\n",
    "\n",
    "K.set_value(model.optimizer.lr, 1e-3)\n",
    "print(\"[INFO] new learning rate: {}\".format(K.get_value(model.optimizer.lr)))"
   ]
  },
  {
   "cell_type": "code",
   "execution_count": null,
   "metadata": {},
   "outputs": [],
   "source": [
    "%%time\n",
    "result = model.fit(X_train, y_train, epochs=1000, batch_size=n_, verbose=0,  validation_split=0.)"
   ]
  },
  {
   "cell_type": "code",
   "execution_count": null,
   "metadata": {},
   "outputs": [],
   "source": [
    "# view training\n",
    "result_loss = np.concatenate([result_loss, np.array(result.history['loss']).reshape(-1)])\n",
    "\n",
    "print(f\"loss last 5 values: {result_loss[-6:-1]}\")\n",
    "\n",
    "x = range(result_loss.shape[0])\n",
    "plt.plot(x, result_loss, label='train')\n",
    "plt.title('Loss')\n",
    "plt.legend(loc='center left', bbox_to_anchor=(1, 0.5))\n",
    "plt.ylim(0,6)\n",
    "plt.show()"
   ]
  },
  {
   "cell_type": "code",
   "execution_count": null,
   "metadata": {},
   "outputs": [],
   "source": [
    "x = np.array([1,2,3])\n",
    "y = np.array([4,5])\n",
    "\n",
    "np.concatenate([x,y])"
   ]
  },
  {
   "cell_type": "markdown",
   "metadata": {},
   "source": [
    "## Performnace"
   ]
  },
  {
   "cell_type": "markdown",
   "metadata": {},
   "source": [
    "### Train"
   ]
  },
  {
   "cell_type": "code",
   "execution_count": null,
   "metadata": {},
   "outputs": [],
   "source": [
    "# plot and view some predictions\n",
    "x_grid = np.linspace(-2,2,y_pred.shape[0]) \n",
    "y_pred = model.predict(x_grid, verbose=0)  # test \n",
    "y_u_pred = y_pred[:,0]\n",
    "y_l_pred = y_pred[:,1]\n",
    "\n",
    "plt.scatter(X_train,y_train[:,0])\n",
    "plt.plot(x_grid, y_u_pred, color='r') # upper boundary prediction\n",
    "plt.plot(x_grid, y_l_pred, color='g') # lower boundary prediction\n",
    "plt.title('AFTER training '+str(result_loss.shape[0])+' epochs')\n",
    "plt.xlim(-2,2)\n",
    "plt.show()"
   ]
  },
  {
   "cell_type": "code",
   "execution_count": null,
   "metadata": {},
   "outputs": [],
   "source": [
    "# print some stats\n",
    "y_pred = model.predict(X_train, verbose=0)\n",
    "y_u_pred = y_pred[:,0]\n",
    "y_l_pred = y_pred[:,1]\n",
    "K_u = y_u_pred > y_train[:,0]\n",
    "K_l = y_l_pred < y_train[:,0]\n",
    "\n",
    "PICP_train = np.mean(K_u * K_l)\n",
    "print('PICP:', PICP_train)\n",
    "\n",
    "MPIW_train = np.round(np.mean(y_u_pred - y_l_pred),3)\n",
    "print('MPIW:', MPIW_train)\n",
    "\n",
    "PIWpct = y_train[:,0]/(y_u_pred - y_l_pred)\n",
    "MPIPCT_train =  np.round(np.mean(PIWpct),3)\n",
    "print('MPIPCT (y/w):', MPIPCT_train)"
   ]
  },
  {
   "cell_type": "markdown",
   "metadata": {},
   "source": [
    "### test"
   ]
  },
  {
   "cell_type": "code",
   "execution_count": null,
   "metadata": {},
   "outputs": [],
   "source": [
    "y_pred = model.predict(x_grid, verbose=0)\n",
    "\n",
    "X_test.shape\n",
    "y_test.shape"
   ]
  },
  {
   "cell_type": "code",
   "execution_count": null,
   "metadata": {},
   "outputs": [],
   "source": [
    "# plot and view some predictions\n",
    "x_grid = np.linspace(-2,2,y_pred.shape[0]) \n",
    "y_u_pred = y_pred[:,0]\n",
    "y_l_pred = y_pred[:,1]\n",
    "\n",
    "plt.scatter(X_test,y_test[:,0])\n",
    "plt.plot(x_grid, y_u_pred, color='r') # upper boundary prediction\n",
    "plt.plot(x_grid, y_l_pred, color='g') # lower boundary prediction\n",
    "plt.title('AFTER training '+str((i+1)*400)+' epochs')\n",
    "plt.xlim(-2,2)\n",
    "plt.show()"
   ]
  },
  {
   "cell_type": "code",
   "execution_count": null,
   "metadata": {},
   "outputs": [],
   "source": [
    "# print some stats\n",
    "y_pred = model.predict(X_test, verbose=0)\n",
    "\n",
    "PICP_test = picp(y_test,y_pred)\n",
    "print('PICP:', PICP_test)\n",
    "\n",
    "MPIW_test =  mpiw(y_test,y_pred)\n",
    "print('MPIW:', MPIW_test)\n",
    "\n",
    "PIWpct = y_test[:,0]/(y_u_pred - y_l_pred)\n",
    "MPIPCT_test =  mpiw_pct(y_test,y_pred)\n",
    "print('MPIPCT (y/w):', MPIPCT_test)"
   ]
  },
  {
   "cell_type": "code",
   "execution_count": null,
   "metadata": {},
   "outputs": [],
   "source": [
    "\n",
    "X_test.shape\n",
    "y_pred = model.predict(X_test, verbose=0)\n",
    "\n",
    "k = 1 # 7 false but it i sokay\n",
    "PIW_k = y_pred[k,0] - y_pred[k,1]\n",
    "y_k = y_test[k,0]\n",
    "\n",
    "c = y_k < y_pred[k,0] and y_k > y_pred[k,1]\n",
    "print(f\"{y_pred[k,1]} < {y_k} < {y_pred[k,0]}: {PIW_k}; PI%: {y_k/PIW_k} {c}\")\n"
   ]
  }
 ],
 "metadata": {
  "kernelspec": {
   "display_name": "Python 3",
   "language": "python",
   "name": "python3"
  },
  "language_info": {
   "codemirror_mode": {
    "name": "ipython",
    "version": 3
   },
   "file_extension": ".py",
   "mimetype": "text/x-python",
   "name": "python",
   "nbconvert_exporter": "python",
   "pygments_lexer": "ipython3",
   "version": "3.6.15"
  }
 },
 "nbformat": 4,
 "nbformat_minor": 4
}
