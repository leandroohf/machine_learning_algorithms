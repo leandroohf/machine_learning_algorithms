{
 "cells": [
  {
   "cell_type": "markdown",
   "metadata": {},
   "source": [
    "# GANS\n",
    "\n",
    "\n",
    "I want to understand GANS so I can use to to data augmentation on tabular data or spot bad predictions.\n",
    "\n",
    "**GOAL:** \n",
    "    \n",
    "1. Understand GANS big picture \n",
    "1. How to initialze the DNNs\n",
    "1. Why to use binary cross entropy loss\n",
    "1. Simple explanation\n",
    "1. Have tensorflow code\n",
    "\n",
    "refs:\n",
    "\n",
    "* https://debuggercafe.com/introduction-to-generative-adversarial-networks-gans/ <== looks good\n",
    "    * https://debuggercafe.com/vanilla-gan-pytorch/ <== short version\n",
    "* https://towardsdatascience.com/gans-generative-adversarial-networks-an-advanced-solution-for-data-generation-2ac9756a8a99\n",
    "* https://towardsdatascience.com/fundamentals-of-generative-adversarial-networks-b7ca8c34f0bc#:~:text=What%20are%20GANs%2C%20and%20what,photos%20of%20more%20handwritten%20digits.\n",
    "* https://towardsdatascience.com/understanding-generative-adversarial-networks-gans-cd6e4651a29\n",
    "* https://machinelearningmastery.com/how-to-develop-a-generative-adversarial-network-for-an-mnist-handwritten-digits-from-scratch-in-keras/\n",
    "* https://arxiv.org/pdf/1406.2661.pdf <== paper\n",
    "*  https://mafda.medium.com/gans-generative-adversarial-network-with-mnist-part-db8b9c061de0\n",
    "* https://www.safwan.xyz/Vanilla-GAN/ <= with the algo in pseud code\n"
   ]
  },
  {
   "cell_type": "code",
   "execution_count": 1,
   "metadata": {},
   "outputs": [
    {
     "name": "stdout",
     "output_type": "stream",
     "text": [
      "MacBook-Pro.local\n",
      "2018-06-08-lhof-running_gmm_em_code_from_mcdickenson.ipynb\n",
      "2018-06-18-lhof-simulated_data.ipynb\n",
      "2021-10-31-lhof-study_learning_rate_finder.ipynb\n",
      "2023-02-10-lhof-study_GANS.ipynb\n",
      "intro_KNN.ipynb\n",
      "intro_batch_normalization.ipynb\n",
      "intro_gradient_algos.ipynb\n",
      "intro_kmeans.ipynb\n",
      "intro_pca.ipynb\n",
      "intro_plda.ipynb\n",
      "intro_reinforcement_learning.ipynb\n",
      "intro_to_prediction_interval.ipynb\n",
      "machine_learning_metrics.ipynb\n",
      "nohup.out\n"
     ]
    }
   ],
   "source": [
    "!hostname \n",
    "!ls"
   ]
  },
  {
   "cell_type": "markdown",
   "metadata": {},
   "source": [
    "# Intro"
   ]
  },
  {
   "cell_type": "markdown",
   "metadata": {},
   "source": [
    "A Generative Adversarial Network (GAN) is a deep learning technique used for generating new data similar to existing data. It consists of two neural networks:\n",
    "\n",
    "1. Generator: The generator goal is to learn how to generate sysnthectic data. We say the generator learns the data distribution\n",
    "1. Discriminator: The discriminator goals is to distinguish between real data and the synsthetic data\n",
    "\n",
    "\n",
    "The NN are trained in a way that the Generator try to fools the Discriminator to label the data produced by the Generator as real (zero-sum game). The Discriminator tries to correctly label the Generator output as fake (synthetic data). At the begining of training both NN commit a lot of error since they are still learning. But up to certain point, the quality of the output of the Generator increase and also the Discriminator becomes better and hard to be fooled.\n",
    "\n",
    "GANs has many applications in the industry:\n",
    "1. Image, Video and audio generations: application on social media, advertisemenst and entertainment industry. Widely used i social media\n",
    "1. Data augmentation: Help training other MAchine learnings models. Many task that utilizes GANs for increase the the data size of the minority classes acheive SOTA performance. Ex:\n",
    "    * CIFAR-10: paper \"Improved Training of Wasserstein GANs,\" Arjovsky et al. (2017) and \"BigGAN: Large Scale GAN Training for High Fidelity Natural Image Synthesis,\" Brock et al. (2018) \n",
    "    * Medical imaging: \"Adversarial deep structured nets for mass segmentation from mammograms\" by Li et al. (2019), Synthesizing medical images for augmented reality training data using generative adversarial networks\" by Yang et al. (2018)  and \"Improving medical image segmentation via adversarial training and perceptual similarity metrics\" by Zhang et al. (2018)\n",
    "1. Anomaly detection: Achieve SOTA performance \n",
    "    * Credit Card Fraud Detection\n",
    "    * paper \"Generating Synthetic Tabular Data using Generative Adversarial Networks,\" Wang et al. (2019) \n",
    "\n"
   ]
  },
  {
   "cell_type": "markdown",
   "metadata": {},
   "source": [
    "In the figure below is an example of GANS archictectur for generating handwritten digits using the public mnist digit database \n",
    "\n",
    "* It is reccomended that the input noisy size matches images sizes\n",
    "    * Smaller: the generator may not have enough information to create a high-quality image\n",
    "    * Larger: he generator may have too much information, leading to overfitting and producing similar images repeatedly\n",
    "    \n",
    "\n",
    "* Generator and Discrminator DNN size\n",
    "    * relative size and complexity of the generator and discriminator can affect the performance and stability of the GAN.\n",
    "    * discriminator is much larger and more complex than the generator, it may be able to easily identify and reject the generated samples. This result in the generator failing to learn and producing low-quality samples\n",
    "    * if the generator is much larger and more complex than the discriminator, it may be able to generate realistic-looking samples that can fool the discriminator, but at the cost of requiring more training time and computational resources.\n"
   ]
  },
  {
   "cell_type": "markdown",
   "metadata": {},
   "source": [
    "<img src=\"../images/gans.png\" alt=\"GANS\">"
   ]
  },
  {
   "cell_type": "markdown",
   "metadata": {},
   "source": [
    "During training, GANs alternate between updating the discriminator to better distinguish real from generated images, and updating the generator to produce more realistic images that fool the discriminator.\n",
    "The discriminator and generators have different losses (Because they are performing different tasks). The classifier nature of the discriminator impose loss related to binary classification or multiclass classifications while the generator  has a special loss that takes the discriminator predictions into account. Usually, discriminator loss decreases rapidly compared to the generator and then generator catch ups. The discriminator loss increases (not mandatory) at the end keep stable.\n",
    "\n",
    "* GANS loss:\n",
    "\n",
    "$\n",
    "L_{GAN}(G,D) = E_{x \\sim p_{data}(x)}[\\log D(x)] + E_{z \\sim p_z(z)}[\\log(1-D(G(z))]\n",
    "$\n",
    "\n",
    "\n",
    "where:\n",
    "* $G$ is the generator and $D$ is the discriminator\n",
    "* $G(z)$ is the generator output (fake image)\n",
    "* $x$ is real data (real image) drawn from the true data distribution $p_{data}$ ($x \\sim p_{data}$)\n",
    "* $z$ is random noise data drawn from a **prior** distribution $p_z$ ($z \\sim p_z$)\n",
    "* $E$ is the expectation operaor (\"The mean\")\n",
    "\n",
    "Bellow is a discussion of the equation above. It is the **GANS loss big picture equation**:\n",
    "\n",
    "$\n",
    "L(G, D) = E_x[log(D(x))] + E_z[log(1 - D(G(z)))]\n",
    "$\n",
    "\n",
    "where:\n",
    "* $G$ is the generator and $D$ is the discriminator \n",
    "* $x$ is the true images \n",
    "* $z$ is noise data for generating fake images\n",
    "* $E$ is the expectation operator (\"The mean\")\n",
    "\n",
    "The first term $ E_x[log(D(x))]$ is related to the probability of the discriminator (log-likelihood of the discriminator) detect an image is true given the image is real. Training find the parameters of the discriminator that maximize that term. The discriminator is encouraged to maximize the probablity of detected real images. \n",
    "\n",
    "The second term is related to the ability of the generator to foo the discriminator (log-likelihood of the discriminator incorrectly classifying a fake image as true). **Maximize** that ability of the generator ecncourage the generator creates more realistic images to foo the discriminator. This is the same of **minimize** the probability of be detected by the discriminator (the probability that the discriminator correctly classifies generated samples as fake).\n",
    "\n",
    "\n",
    "The choice of prior distribution can have a significant impact on the quality and diversity of the generated samples. Using a non-uniform prior distribution, such as a normal distribution ($z \\sim N(0,1)$), is that it can help the generator to focus on specific regions of the data distribution where the most important features are located. For example, if the data distribution has a specific shape or structure, the prior distribution can be designed to reflect this structure and guide the generator to generate more realistic samples.Most common common priori distribution is the uniform $z \\sim U(0,1)$, but different authors use: Normal, Bernouli, Multivariate Normal Distribution and Laplacian Distribution. \n",
    "\n",
    "\n"
   ]
  },
  {
   "cell_type": "markdown",
   "metadata": {},
   "source": [
    "# Load requirements"
   ]
  },
  {
   "cell_type": "code",
   "execution_count": 2,
   "metadata": {},
   "outputs": [
    {
     "name": "stdout",
     "output_type": "stream",
     "text": [
      "agor vai\n"
     ]
    }
   ],
   "source": [
    "import IPython\n",
    "from IPython.core.interactiveshell import InteractiveShell\n",
    "from IPython.display import Image\n",
    "\n",
    "InteractiveShell.ast_node_interactivity = \"all\"\n",
    "print(\"agor vai\")\n",
    "\n",
    "# import nbformat\n",
    "# from nbformat import v4"
   ]
  },
  {
   "cell_type": "code",
   "execution_count": 3,
   "metadata": {},
   "outputs": [
    {
     "name": "stderr",
     "output_type": "stream",
     "text": [
      "2023-03-02 16:34:59.346498: I tensorflow/core/platform/cpu_feature_guard.cc:193] This TensorFlow binary is optimized with oneAPI Deep Neural Network Library (oneDNN) to use the following CPU instructions in performance-critical operations:  AVX2 FMA\n",
      "To enable them in other operations, rebuild TensorFlow with the appropriate compiler flags.\n"
     ]
    }
   ],
   "source": [
    "import tensorflow as tf\n",
    "from keras.utils.vis_utils import plot_model\n",
    "\n",
    "import numpy as np\n",
    "import matplotlib.pyplot as plt"
   ]
  },
  {
   "cell_type": "markdown",
   "metadata": {},
   "source": [
    "```sh\n",
    "pip install nbformat\n",
    "```"
   ]
  },
  {
   "cell_type": "code",
   "execution_count": 4,
   "metadata": {},
   "outputs": [],
   "source": [
    "# # save the current notebook\n",
    "# nb = v4.new_notebook()\n",
    "# nbformat.write(nb, open('2023-02-10-lhof-study_GANS-v1.ipynb', 'w'), version=4)"
   ]
  },
  {
   "cell_type": "markdown",
   "metadata": {},
   "source": [
    "# Load data"
   ]
  },
  {
   "cell_type": "code",
   "execution_count": 5,
   "metadata": {},
   "outputs": [
    {
     "name": "stdout",
     "output_type": "stream",
     "text": [
      "Downloading data from https://storage.googleapis.com/tensorflow/tf-keras-datasets/mnist.npz\n",
      "11490434/11490434 [==============================] - 2s 0us/step\n",
      "Train (60000, 28, 28, 1) (60000,)\n",
      "Test (10000, 28, 28) (10000,)\n"
     ]
    }
   ],
   "source": [
    "(x_train, y_train), (x_test, y_test) = tf.keras.datasets.mnist.load_data()\n",
    "\n",
    "x_train = x_train / 255.0\n",
    "x_train = np.expand_dims(x_train, axis=-1)\n",
    "\n",
    "# summarize the shape of the dataset\n",
    "print('Train', x_train.shape, y_train.shape)\n",
    "print('Test', x_test.shape, y_test.shape)"
   ]
  },
  {
   "cell_type": "code",
   "execution_count": 6,
   "metadata": {},
   "outputs": [
    {
     "data": {
      "text/plain": [
       "8"
      ]
     },
     "execution_count": 6,
     "metadata": {},
     "output_type": "execute_result"
    },
    {
     "data": {
      "text/plain": [
       "<matplotlib.image.AxesImage at 0x7fa3151b6c10>"
      ]
     },
     "execution_count": 6,
     "metadata": {},
     "output_type": "execute_result"
    },
    {
     "data": {
      "image/png": "[encoded data removed]",
      "text/plain": [
       "<Figure size 640x480 with 1 Axes>"
      ]
     },
     "metadata": {},
     "output_type": "display_data"
    }
   ],
   "source": [
    "\n",
    "# plot raw pixel data\n",
    "#pyplot.imshow(trainX[i], cmap='gray')\n",
    "k = 17\n",
    "y_train[k]\n",
    "plt.imshow(x_train[k], cmap='gray')"
   ]
  },
  {
   "cell_type": "markdown",
   "metadata": {},
   "source": [
    "# Discriminator"
   ]
  },
  {
   "cell_type": "code",
   "execution_count": 8,
   "metadata": {},
   "outputs": [
    {
     "name": "stderr",
     "output_type": "stream",
     "text": [
      "2023-03-02 16:36:23.792137: I tensorflow/core/platform/cpu_feature_guard.cc:193] This TensorFlow binary is optimized with oneAPI Deep Neural Network Library (oneDNN) to use the following CPU instructions in performance-critical operations:  AVX2 FMA\n",
      "To enable them in other operations, rebuild TensorFlow with the appropriate compiler flags.\n",
      "WARNING:absl:`lr` is deprecated, please use `learning_rate` instead, or use the legacy optimizer, e.g.,tf.keras.optimizers.legacy.Adam.\n"
     ]
    },
    {
     "name": "stdout",
     "output_type": "stream",
     "text": [
      "Model: \"sequential\"\n",
      "_________________________________________________________________\n",
      " Layer (type)                Output Shape              Param #   \n",
      "=================================================================\n",
      " conv2d (Conv2D)             (None, 14, 14, 64)        640       \n",
      "                                                                 \n",
      " leaky_re_lu (LeakyReLU)     (None, 14, 14, 64)        0         \n",
      "                                                                 \n",
      " dropout (Dropout)           (None, 14, 14, 64)        0         \n",
      "                                                                 \n",
      " conv2d_1 (Conv2D)           (None, 7, 7, 64)          36928     \n",
      "                                                                 \n",
      " leaky_re_lu_1 (LeakyReLU)   (None, 7, 7, 64)          0         \n",
      "                                                                 \n",
      " dropout_1 (Dropout)         (None, 7, 7, 64)          0         \n",
      "                                                                 \n",
      " flatten (Flatten)           (None, 3136)              0         \n",
      "                                                                 \n",
      " dense (Dense)               (None, 1)                 3137      \n",
      "                                                                 \n",
      "=================================================================\n",
      "Total params: 40,705\n",
      "Trainable params: 40,705\n",
      "Non-trainable params: 0\n",
      "_________________________________________________________________\n"
     ]
    }
   ],
   "source": [
    "def discriminator_model(in_shape=(28,28,1)):\n",
    "\n",
    "    model =  tf.keras.Sequential([\n",
    "        tf.keras.layers.Conv2D(64, (3,3), strides=(2, 2), padding='same', input_shape=in_shape),\n",
    "        tf.keras.layers.LeakyReLU(alpha=0.2),\n",
    "        tf.keras.layers.Dropout(0.4),\n",
    "        tf.keras.layers.Conv2D(64, (3,3), strides=(2, 2), padding='same'),\n",
    "        tf.keras.layers.LeakyReLU(alpha=0.2),\n",
    "        tf.keras.layers.Dropout(0.4),\n",
    "        tf.keras.layers.Flatten(),\n",
    "      tf.keras.layers.Dense(1, activation='sigmoid')\n",
    "    ])\n",
    "    # compile model\n",
    "    opt =  tf.keras.optimizers.Adam(lr=0.0002, beta_1=0.5)\n",
    "    model.compile(loss='binary_crossentropy', optimizer=opt, metrics=['accuracy'])\n",
    "\n",
    "    return model\n",
    "\n",
    "discriminator = discriminator_model()\n",
    "\n",
    "discriminator.summary()\n",
    "#plot_model(discriminator, show_shapes=True, show_layer_names=True)\n"
   ]
  },
  {
   "cell_type": "markdown",
   "metadata": {},
   "source": [
    "# Generator "
   ]
  },
  {
   "cell_type": "code",
   "execution_count": 9,
   "metadata": {},
   "outputs": [
    {
     "name": "stdout",
     "output_type": "stream",
     "text": [
      "Model: \"sequential_1\"\n",
      "_________________________________________________________________\n",
      " Layer (type)                Output Shape              Param #   \n",
      "=================================================================\n",
      " dense_1 (Dense)             (None, 128)               100480    \n",
      "                                                                 \n",
      " batch_normalization (BatchN  (None, 128)              512       \n",
      " ormalization)                                                   \n",
      "                                                                 \n",
      " leaky_re_lu_2 (LeakyReLU)   (None, 128)               0         \n",
      "                                                                 \n",
      " dense_2 (Dense)             (None, 256)               33024     \n",
      "                                                                 \n",
      " batch_normalization_1 (Batc  (None, 256)              1024      \n",
      " hNormalization)                                                 \n",
      "                                                                 \n",
      " leaky_re_lu_3 (LeakyReLU)   (None, 256)               0         \n",
      "                                                                 \n",
      " dense_3 (Dense)             (None, 784)               201488    \n",
      "                                                                 \n",
      " reshape (Reshape)           (None, 28, 28, 1)         0         \n",
      "                                                                 \n",
      "=================================================================\n",
      "Total params: 336,528\n",
      "Trainable params: 335,760\n",
      "Non-trainable params: 768\n",
      "_________________________________________________________________\n"
     ]
    }
   ],
   "source": [
    "def generator_model(latent_dim = 100):\n",
    "    model = tf.keras.Sequential([\n",
    "        tf.keras.layers.Dense(128, input_shape=(latent_dim,)),\n",
    "        tf.keras.layers.BatchNormalization(momentum=0.8),\n",
    "        tf.keras.layers.LeakyReLU(0.2),\n",
    "        tf.keras.layers.Dense(256),\n",
    "        tf.keras.layers.BatchNormalization(momentum=0.8),\n",
    "        tf.keras.layers.LeakyReLU(0.2),\n",
    "        tf.keras.layers.Dense(28 * 28 * 1, activation='tanh'),\n",
    "        tf.keras.layers.Reshape((28, 28, 1))\n",
    "    ])\n",
    "\n",
    "    return model\n",
    "\n",
    "latent_dim = 28*28\n",
    "generator = generator_model(latent_dim)\n",
    "\n",
    "# Compiling the generator\n",
    "generator.compile(loss='binary_crossentropy', optimizer='adam')\n",
    "\n",
    "generator.summary()"
   ]
  },
  {
   "cell_type": "markdown",
   "metadata": {},
   "source": [
    "# GANS"
   ]
  },
  {
   "cell_type": "code",
   "execution_count": 10,
   "metadata": {},
   "outputs": [
    {
     "name": "stderr",
     "output_type": "stream",
     "text": [
      "WARNING:absl:`lr` is deprecated, please use `learning_rate` instead, or use the legacy optimizer, e.g.,tf.keras.optimizers.legacy.Adam.\n"
     ]
    }
   ],
   "source": [
    "discriminator.trainable = False\n",
    "\n",
    "gans = tf.keras.Sequential([generator,discriminator])\n",
    "\n",
    "opt =  tf.keras.optimizers.Adam(lr=0.0002, beta_1=0.5)\n",
    "gans.compile(optimizer=opt, loss='binary_crossentropy', metrics=['binary_accuracy'])"
   ]
  },
  {
   "cell_type": "code",
   "execution_count": 11,
   "metadata": {},
   "outputs": [
    {
     "data": {
      "text/plain": [
       "[<keras.engine.sequential.Sequential at 0x7fa2c0060dd0>,\n",
       " <keras.engine.sequential.Sequential at 0x7fa2f11cadd0>]"
      ]
     },
     "execution_count": 11,
     "metadata": {},
     "output_type": "execute_result"
    },
    {
     "name": "stdout",
     "output_type": "stream",
     "text": [
      "Model: \"sequential_2\"\n",
      "_________________________________________________________________\n",
      " Layer (type)                Output Shape              Param #   \n",
      "=================================================================\n",
      " sequential_1 (Sequential)   (None, 28, 28, 1)         336528    \n",
      "                                                                 \n",
      " sequential (Sequential)     (None, 1)                 40705     \n",
      "                                                                 \n",
      "=================================================================\n",
      "Total params: 377,233\n",
      "Trainable params: 335,760\n",
      "Non-trainable params: 41,473\n",
      "_________________________________________________________________\n"
     ]
    }
   ],
   "source": [
    "gans.layers\n",
    "\n",
    "gans.summary()"
   ]
  },
  {
   "cell_type": "markdown",
   "metadata": {},
   "source": [
    "# Training"
   ]
  },
  {
   "cell_type": "code",
   "execution_count": 12,
   "metadata": {},
   "outputs": [
    {
     "name": "stdout",
     "output_type": "stream",
     "text": [
      "Finish him\n"
     ]
    }
   ],
   "source": [
    "batch_size = 1024*3\n",
    "\n",
    "real = np.ones((batch_size, 1))\n",
    "fake = np.zeros((batch_size, 1))\n",
    "\n",
    "smooth = 0.1\n",
    "\n",
    "i = 0\n",
    "# Train Discriminator weights\n",
    "discriminator.trainable = True\n",
    "        \n",
    "# Real samples\n",
    "X_batch = x_train[i*batch_size:(i+1)*batch_size]\n",
    "d_loss_real = discriminator.train_on_batch(x=X_batch, y=real)\n",
    "        \n",
    "# Fake Samples\n",
    "z = np.random.normal(loc=0, scale=1, size=(batch_size, latent_dim))\n",
    "X_fake = generator.predict_on_batch(z)\n",
    "d_loss_fake = discriminator.train_on_batch(x=X_fake, y=fake)\n",
    "         \n",
    "# Discriminator loss\n",
    "d_loss_batch = 0.5 * (d_loss_real[0] + d_loss_fake[0])\n",
    "        \n",
    "# Train Generator weights\n",
    "discriminator.trainable = False\n",
    "d_g_loss_batch = gans.train_on_batch(x=z, y=real)\n",
    "\n",
    "print(\"Finish him\")"
   ]
  },
  {
   "cell_type": "code",
   "execution_count": 15,
   "metadata": {},
   "outputs": [],
   "source": [
    "def train_gan(gan, discriminator, generator, x_train, epochs=30, batch_size=64, latent_dim=100):\n",
    "\n",
    "    history = {'discriminator': {'loss': [], 'accuracy': []}, 'generator': {'loss': [], 'accuracy': []}}\n",
    "    for epoch in range(epochs):\n",
    "        \n",
    "        for i in range(x_train.shape[0] // batch_size):\n",
    "\n",
    "            # Select a random batch of images\n",
    "            idxs  = np.random.randint(low=0,high=x_train.shape[0],size=batch_size)\n",
    "            real_images = x_train[idxs]\n",
    "            \n",
    "            # Generate fake images\n",
    "            noise = np.random.normal(0, 1,size=[batch_size, latent_dim])\n",
    "            fake_images = generator.predict(noise,verbose=False)\n",
    "            \n",
    "            # Combine real and fake images\n",
    "            x = np.concatenate([real_images, fake_images])\n",
    "            \n",
    "            # Labels for real and fake images\n",
    "            y = np.ones(2 * batch_size)\n",
    "            y[batch_size:] = 0\n",
    "            \n",
    "            # Train the discriminator\n",
    "            discriminator.trainable = True\n",
    "            d_loss = discriminator.train_on_batch(x, y)\n",
    "            \n",
    "            # Train the generator\n",
    "            noise = np.random.normal(0, 1, (batch_size, latent_dim))\n",
    "            y = np.ones(batch_size)\n",
    "            discriminator.trainable = False\n",
    "            g_loss = gan.train_on_batch(noise, y)\n",
    "\n",
    "        if epoch % 50 == 0:\n",
    "            samples = 3\n",
    "            # Generate fake images to visualize progress\n",
    "            noise = np.random.normal(0, 1, (samples, latent_dim))\n",
    "            fake_images = generator.predict(noise,verbose=False)\n",
    "\n",
    "            # Plot the fake images\n",
    "            plt.figure(figsize=(10, 10))\n",
    "            for i in range(samples):\n",
    "                plt.subplot(1, samples, i + 1)\n",
    "                plt.imshow(fake_images[i, :, :, 0], cmap='gray')\n",
    "                plt.axis('off')\n",
    "        \n",
    "        # Save the losses and accuracies\n",
    "        history['discriminator']['loss'].append(d_loss[0])\n",
    "        history['discriminator']['accuracy'].append(d_loss[1])\n",
    "        history['generator']['loss'].append(g_loss[0])\n",
    "        history['generator']['accuracy'].append(g_loss[1])\n",
    "\n",
    "        \n",
    "        if epoch % 25 == 0:\n",
    "            # Print the progress\n",
    "            print(\"Epoch:\", epoch + 1, \n",
    "                f\"Generator Loss: {g_loss[0]:.4f}\", f\"Generator Accuracy: {g_loss[1]:.1%}\", \n",
    "                f\"Discriminator Loss: {d_loss[0]:.4f}\", f\"Discriminator Accuracy: {d_loss[1]:.1%}\")\n",
    "\n",
    "    return history\n"
   ]
  },
  {
   "cell_type": "code",
   "execution_count": 16,
   "metadata": {},
   "outputs": [
    {
     "data": {
      "text/plain": [
       "3072"
      ]
     },
     "execution_count": 16,
     "metadata": {},
     "output_type": "execute_result"
    },
    {
     "data": {
      "text/plain": [
       "(60000, 28, 28, 1)"
      ]
     },
     "execution_count": 16,
     "metadata": {},
     "output_type": "execute_result"
    },
    {
     "data": {
      "text/plain": [
       "19"
      ]
     },
     "execution_count": 16,
     "metadata": {},
     "output_type": "execute_result"
    }
   ],
   "source": [
    "batch_size\n",
    "x_train.shape\n",
    "x_train.shape[0]//batch_size\n"
   ]
  },
  {
   "cell_type": "code",
   "execution_count": 19,
   "metadata": {},
   "outputs": [
    {
     "name": "stdout",
     "output_type": "stream",
     "text": [
      "Epoch: 1 Generator Loss: 1.7354 Generator Accuracy: 0.0% Discriminator Loss: 0.3866 Discriminator Accuracy: 93.1%\n",
      "CPU times: user 58min 5s, sys: 3min 38s, total: 1h 1min 43s\n",
      "Wall time: 12min 17s\n"
     ]
    },
    {
     "data": {
      "image/png": "[encoded data removed]",
      "text/plain": [
       "<Figure size 1000x1000 with 3 Axes>"
      ]
     },
     "metadata": {},
     "output_type": "display_data"
    }
   ],
   "source": [
    "%%time\n",
    "# Training the GAN\n",
    "#train_gan(generator, discriminator, x_train)\n",
    "\n",
    "# Tooke 12m for 25 epochs. (I need to run in cloud)\n",
    "history = train_gan(gans, discriminator, generator, x_train, epochs=25, batch_size=batch_size, latent_dim=latent_dim)"
   ]
  },
  {
   "cell_type": "code",
   "execution_count": 20,
   "metadata": {},
   "outputs": [
    {
     "data": {
      "text/plain": [
       "[<matplotlib.lines.Line2D at 0x7fa31591f910>]"
      ]
     },
     "execution_count": 20,
     "metadata": {},
     "output_type": "execute_result"
    },
    {
     "data": {
      "text/plain": [
       "[<matplotlib.lines.Line2D at 0x7fa3028eb450>]"
      ]
     },
     "execution_count": 20,
     "metadata": {},
     "output_type": "execute_result"
    },
    {
     "data": {
      "image/png": "[encoded data removed]",
      "text/plain": [
       "<Figure size 640x480 with 1 Axes>"
      ]
     },
     "metadata": {},
     "output_type": "display_data"
    }
   ],
   "source": [
    "plt.plot(history['discriminator']['loss'], 'r')\n",
    "plt.plot(history['generator']['loss'], 'b')"
   ]
  },
  {
   "cell_type": "code",
   "execution_count": 21,
   "metadata": {},
   "outputs": [
    {
     "data": {
      "text/plain": [
       "[<matplotlib.lines.Line2D at 0x7fa2f11ca550>]"
      ]
     },
     "execution_count": 21,
     "metadata": {},
     "output_type": "execute_result"
    },
    {
     "data": {
      "text/plain": [
       "[<matplotlib.lines.Line2D at 0x7fa2f1442850>]"
      ]
     },
     "execution_count": 21,
     "metadata": {},
     "output_type": "execute_result"
    },
    {
     "data": {
      "image/png": "[encoded data removed]",
      "text/plain": [
       "<Figure size 640x480 with 1 Axes>"
      ]
     },
     "metadata": {},
     "output_type": "display_data"
    }
   ],
   "source": [
    "plt.plot(history['discriminator']['accuracy'], 'r')\n",
    "plt.plot(history['generator']['accuracy'], 'b')"
   ]
  },
  {
   "cell_type": "code",
   "execution_count": 22,
   "metadata": {},
   "outputs": [
    {
     "data": {
      "text/plain": [
       "<Figure size 1000x1000 with 0 Axes>"
      ]
     },
     "execution_count": 22,
     "metadata": {},
     "output_type": "execute_result"
    },
    {
     "data": {
      "text/plain": [
       "<AxesSubplot:>"
      ]
     },
     "execution_count": 22,
     "metadata": {},
     "output_type": "execute_result"
    },
    {
     "data": {
      "text/plain": [
       "<matplotlib.image.AxesImage at 0x7fa2f133d650>"
      ]
     },
     "execution_count": 22,
     "metadata": {},
     "output_type": "execute_result"
    },
    {
     "data": {
      "text/plain": [
       "(-0.5, 27.5, 27.5, -0.5)"
      ]
     },
     "execution_count": 22,
     "metadata": {},
     "output_type": "execute_result"
    },
    {
     "data": {
      "text/plain": [
       "<AxesSubplot:>"
      ]
     },
     "execution_count": 22,
     "metadata": {},
     "output_type": "execute_result"
    },
    {
     "data": {
      "text/plain": [
       "<matplotlib.image.AxesImage at 0x7fa321443a10>"
      ]
     },
     "execution_count": 22,
     "metadata": {},
     "output_type": "execute_result"
    },
    {
     "data": {
      "text/plain": [
       "(-0.5, 27.5, 27.5, -0.5)"
      ]
     },
     "execution_count": 22,
     "metadata": {},
     "output_type": "execute_result"
    },
    {
     "data": {
      "text/plain": [
       "<AxesSubplot:>"
      ]
     },
     "execution_count": 22,
     "metadata": {},
     "output_type": "execute_result"
    },
    {
     "data": {
      "text/plain": [
       "<matplotlib.image.AxesImage at 0x7fa2f132e110>"
      ]
     },
     "execution_count": 22,
     "metadata": {},
     "output_type": "execute_result"
    },
    {
     "data": {
      "text/plain": [
       "(-0.5, 27.5, 27.5, -0.5)"
      ]
     },
     "execution_count": 22,
     "metadata": {},
     "output_type": "execute_result"
    },
    {
     "data": {
      "text/plain": [
       "<AxesSubplot:>"
      ]
     },
     "execution_count": 22,
     "metadata": {},
     "output_type": "execute_result"
    },
    {
     "data": {
      "text/plain": [
       "<matplotlib.image.AxesImage at 0x7fa302968290>"
      ]
     },
     "execution_count": 22,
     "metadata": {},
     "output_type": "execute_result"
    },
    {
     "data": {
      "text/plain": [
       "(-0.5, 27.5, 27.5, -0.5)"
      ]
     },
     "execution_count": 22,
     "metadata": {},
     "output_type": "execute_result"
    },
    {
     "data": {
      "image/png": "[encoded data removed]",
      "text/plain": [
       "<Figure size 1000x1000 with 4 Axes>"
      ]
     },
     "metadata": {},
     "output_type": "display_data"
    }
   ],
   "source": [
    "n_col = 2\n",
    "n_row = 2\n",
    "samples = n_col + n_row\n",
    "# Generate fake images to visualize progress\n",
    "noise = np.random.normal(0, 1, (samples, latent_dim))\n",
    "fake_images = generator.predict(noise,verbose=False)\n",
    "\n",
    "# Plot the fake images\n",
    "plt.figure(figsize=(10, 10))\n",
    "for i in range(samples):\n",
    "    plt.subplot(n_row,n_col, i + 1)\n",
    "    plt.imshow(fake_images[i, :, :, 0], cmap='gray')\n",
    "    plt.axis('off')\n"
   ]
  },
  {
   "cell_type": "markdown",
   "metadata": {},
   "source": [
    "# Change the archictecture to be able to select the digit\n",
    "\n",
    "https://www.kaggle.com/code/zhoulingyan0228/generating-mnist-gan\n",
    "\n",
    "\n",
    "**PAREI**\n",
    "* PRECISO EMNTENDER A ARQUITETURA** \n",
    "    * alterar batchnormalization depois de activation\n",
    "    * remover dropout com bacthnormalization (talvez se for usado em layers diferentes eh ok)"
   ]
  },
  {
   "cell_type": "code",
   "execution_count": 42,
   "metadata": {},
   "outputs": [],
   "source": [
    "from tensorflow.keras.layers import Input, Embedding, concatenate, Dense, Reshape, Dropout, Flatten\n",
    "from tensorflow.keras.layers import LeakyReLU, BatchNormalization, UpSampling2D, Conv2D,Activation\n",
    "\n",
    "from tensorflow.keras.models import Model"
   ]
  },
  {
   "cell_type": "code",
   "execution_count": 43,
   "metadata": {},
   "outputs": [
    {
     "name": "stdout",
     "output_type": "stream",
     "text": [
      "Model: \"model_2\"\n",
      "__________________________________________________________________________________________________\n",
      " Layer (type)                   Output Shape         Param #     Connected to                     \n",
      "==================================================================================================\n",
      " label_input (InputLayer)       [(None, 1)]          0           []                               \n",
      "                                                                                                  \n",
      " embedding_6 (Embedding)        (None, 1, 10)        100         ['label_input[0][0]']            \n",
      "                                                                                                  \n",
      " reshape_15 (Reshape)           (None, 10)           0           ['embedding_6[0][0]']            \n",
      "                                                                                                  \n",
      " latent_input (InputLayer)      [(None, 100)]        0           []                               \n",
      "                                                                                                  \n",
      " concatenate_4 (Concatenate)    (None, 110)          0           ['reshape_15[0][0]',             \n",
      "                                                                  'latent_input[0][0]']           \n",
      "                                                                                                  \n",
      " dense_8 (Dense)                (None, 6272)         696192      ['concatenate_4[0][0]']          \n",
      "                                                                                                  \n",
      " leaky_re_lu_28 (LeakyReLU)     (None, 6272)         0           ['dense_8[0][0]']                \n",
      "                                                                                                  \n",
      " reshape_16 (Reshape)           (None, 7, 7, 128)    0           ['leaky_re_lu_28[0][0]']         \n",
      "                                                                                                  \n",
      " up_sampling2d_8 (UpSampling2D)  (None, 14, 14, 128)  0          ['reshape_16[0][0]']             \n",
      "                                                                                                  \n",
      " conv2d_26 (Conv2D)             (None, 14, 14, 64)   73792       ['up_sampling2d_8[0][0]']        \n",
      "                                                                                                  \n",
      " leaky_re_lu_29 (LeakyReLU)     (None, 14, 14, 64)   0           ['conv2d_26[0][0]']              \n",
      "                                                                                                  \n",
      " batch_normalization_20 (BatchN  (None, 14, 14, 64)  256         ['leaky_re_lu_29[0][0]']         \n",
      " ormalization)                                                                                    \n",
      "                                                                                                  \n",
      " up_sampling2d_9 (UpSampling2D)  (None, 28, 28, 64)  0           ['batch_normalization_20[0][0]'] \n",
      "                                                                                                  \n",
      " conv2d_27 (Conv2D)             (None, 28, 28, 32)   18464       ['up_sampling2d_9[0][0]']        \n",
      "                                                                                                  \n",
      " leaky_re_lu_30 (LeakyReLU)     (None, 28, 28, 32)   0           ['conv2d_27[0][0]']              \n",
      "                                                                                                  \n",
      " batch_normalization_21 (BatchN  (None, 28, 28, 32)  128         ['leaky_re_lu_30[0][0]']         \n",
      " ormalization)                                                                                    \n",
      "                                                                                                  \n",
      " conv2d_28 (Conv2D)             (None, 28, 28, 1)    289         ['batch_normalization_21[0][0]'] \n",
      "                                                                                                  \n",
      " activation_3 (Activation)      (None, 28, 28, 1)    0           ['conv2d_28[0][0]']              \n",
      "                                                                                                  \n",
      " reshape_17 (Reshape)           (None, 28, 28)       0           ['activation_3[0][0]']           \n",
      "                                                                                                  \n",
      "==================================================================================================\n",
      "Total params: 789,221\n",
      "Trainable params: 789,029\n",
      "Non-trainable params: 192\n",
      "__________________________________________________________________________________________________\n"
     ]
    }
   ],
   "source": [
    "def generator_model(latent_dim = 100):\n",
    "    \n",
    "         \n",
    "    latent_input = Input(shape=(latent_dim,), name='latent_input')\n",
    "    \n",
    "    label_input = Input(shape=(1,), name='label_input') # 0...9\n",
    "    x = Embedding(input_dim=10, output_dim=10)(label_input)\n",
    "    x = Reshape((10,))(x)\n",
    "    \n",
    "    x = concatenate([x, latent_input], axis=-1)\n",
    "\n",
    "    x = Dense(7*7*128)(x)\n",
    "    x = LeakyReLU()(x)\n",
    "    x = Reshape((7,7,128))(x)\n",
    "    x = UpSampling2D()(x)\n",
    "    x = Conv2D(64, kernel_size=3, strides=1, padding='same')(x)\n",
    "    x = LeakyReLU()(x)\n",
    "    x = BatchNormalization()(x)\n",
    "    x = UpSampling2D()(x)\n",
    "    x = Conv2D(32, kernel_size=3, strides=1, padding='same')(x)\n",
    "    x = LeakyReLU()(x)\n",
    "    x = BatchNormalization()(x)\n",
    "    x = Conv2D(1, kernel_size=3, strides=1, padding='same')(x)\n",
    "    x = Activation('sigmoid')(x)\n",
    "    x = Reshape((28,28,))(x)\n",
    "    \n",
    "    model = Model(inputs=[latent_input, label_input], outputs=x)\n",
    "\n",
    "    return model\n",
    "\n",
    "generator = generator_model()\n",
    "\n",
    "# Compiling the generator\n",
    "generator.compile(loss='binary_crossentropy', optimizer='adam')\n",
    "\n",
    "generator.summary()"
   ]
  },
  {
   "cell_type": "code",
   "execution_count": 46,
   "metadata": {},
   "outputs": [],
   "source": [
    "def discriminator_model(in_shape=(28,28,)):\n",
    "\n",
    "    img_input = Input(shape=in_shape)\n",
    "    x = Reshape((28,28,1))(img_input)\n",
    "    \n",
    "    x = Conv2D(16, kernel_size=3, strides=2, padding='same')(x)\n",
    "    x = LeakyReLU()(x)\n",
    "    x = BatchNormalization()(x)\n",
    "    \n",
    "    x = Conv2D(32, kernel_size=3, strides=2, padding='same')(x)\n",
    "    x = LeakyReLU()(x)\n",
    "    x = BatchNormalization()(x)\n",
    "    \n",
    "    x = Conv2D(64, kernel_size=3, strides=2, padding='same')(x)\n",
    "    x = LeakyReLU()(x)\n",
    "    x = BatchNormalization()(x)\n",
    "    \n",
    "    x = Conv2D(128, kernel_size=3, strides=2, padding='same')(x)\n",
    "    x = LeakyReLU()(x)\n",
    "    x = Dropout(0.3)(x)\n",
    "    x = BatchNormalization()(x)\n",
    "    \n",
    "    x = Flatten()(x)\n",
    "    x = Dense(11, activation='softmax')(x)\n",
    "    \n",
    "    model = Model(inputs=img_input, outputs=x)\n",
    "    \n",
    "    return model"
   ]
  },
  {
   "cell_type": "code",
   "execution_count": 47,
   "metadata": {},
   "outputs": [
    {
     "name": "stdout",
     "output_type": "stream",
     "text": [
      "Model: \"model_4\"\n",
      "_________________________________________________________________\n",
      " Layer (type)                Output Shape              Param #   \n",
      "=================================================================\n",
      " input_5 (InputLayer)        [(None, 28, 28)]          0         \n",
      "                                                                 \n",
      " reshape_19 (Reshape)        (None, 28, 28, 1)         0         \n",
      "                                                                 \n",
      " conv2d_33 (Conv2D)          (None, 14, 14, 16)        160       \n",
      "                                                                 \n",
      " leaky_re_lu_35 (LeakyReLU)  (None, 14, 14, 16)        0         \n",
      "                                                                 \n",
      " batch_normalization_26 (Bat  (None, 14, 14, 16)       64        \n",
      " chNormalization)                                                \n",
      "                                                                 \n",
      " conv2d_34 (Conv2D)          (None, 7, 7, 32)          4640      \n",
      "                                                                 \n",
      " leaky_re_lu_36 (LeakyReLU)  (None, 7, 7, 32)          0         \n",
      "                                                                 \n",
      " batch_normalization_27 (Bat  (None, 7, 7, 32)         128       \n",
      " chNormalization)                                                \n",
      "                                                                 \n",
      " conv2d_35 (Conv2D)          (None, 4, 4, 64)          18496     \n",
      "                                                                 \n",
      " leaky_re_lu_37 (LeakyReLU)  (None, 4, 4, 64)          0         \n",
      "                                                                 \n",
      " batch_normalization_28 (Bat  (None, 4, 4, 64)         256       \n",
      " chNormalization)                                                \n",
      "                                                                 \n",
      " conv2d_36 (Conv2D)          (None, 2, 2, 128)         73856     \n",
      "                                                                 \n",
      " leaky_re_lu_38 (LeakyReLU)  (None, 2, 2, 128)         0         \n",
      "                                                                 \n",
      " dropout_4 (Dropout)         (None, 2, 2, 128)         0         \n",
      "                                                                 \n",
      " batch_normalization_29 (Bat  (None, 2, 2, 128)        512       \n",
      " chNormalization)                                                \n",
      "                                                                 \n",
      " flatten_2 (Flatten)         (None, 512)               0         \n",
      "                                                                 \n",
      " dense_10 (Dense)            (None, 11)                5643      \n",
      "                                                                 \n",
      "=================================================================\n",
      "Total params: 103,755\n",
      "Trainable params: 103,275\n",
      "Non-trainable params: 480\n",
      "_________________________________________________________________\n"
     ]
    }
   ],
   "source": [
    "discriminator = discriminator_model()\n",
    "\n",
    "discriminator.summary()"
   ]
  },
  {
   "cell_type": "code",
   "execution_count": null,
   "metadata": {},
   "outputs": [],
   "source": []
  }
 ],
 "metadata": {
  "kernelspec": {
   "display_name": "gans-env",
   "language": "python",
   "name": "gans-env"
  },
  "language_info": {
   "codemirror_mode": {
    "name": "ipython",
    "version": 3
   },
   "file_extension": ".py",
   "mimetype": "text/x-python",
   "name": "python",
   "nbconvert_exporter": "python",
   "pygments_lexer": "ipython3",
   "version": "3.7.6"
  },
  "toc": {
   "base_numbering": 1,
   "nav_menu": {},
   "number_sections": true,
   "sideBar": true,
   "skip_h1_title": false,
   "title_cell": "Table of Contents",
   "title_sidebar": "Contents",
   "toc_cell": false,
   "toc_position": {
    "height": "calc(100% - 180px)",
    "left": "10px",
    "top": "150px",
    "width": "230px"
   },
   "toc_section_display": true,
   "toc_window_display": true
  },
  "vscode": {
   "interpreter": {
    "hash": "92274f54c36a370591365d84493a50389ebed307f294330ec188d930f0bcf294"
   }
  }
 },
 "nbformat": 4,
 "nbformat_minor": 2
}
