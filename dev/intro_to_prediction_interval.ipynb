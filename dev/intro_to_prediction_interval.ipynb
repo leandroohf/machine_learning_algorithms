{
 "cells": [
  {
   "cell_type": "markdown",
   "id": "d6d48eed",
   "metadata": {
    "toc": true
   },
   "source": [
    "<h1>Table of Contents<span class=\"tocSkip\"></span></h1>\n",
    "<div class=\"toc\"><ul class=\"toc-item\"><li><span><a href=\"#Intro\" data-toc-modified-id=\"Intro-1\"><span class=\"toc-item-num\">1&nbsp;&nbsp;</span>Intro</a></span></li><li><span><a href=\"#Data\" data-toc-modified-id=\"Data-2\"><span class=\"toc-item-num\">2&nbsp;&nbsp;</span>Data</a></span></li><li><span><a href=\"#DNN\" data-toc-modified-id=\"DNN-3\"><span class=\"toc-item-num\">3&nbsp;&nbsp;</span>DNN</a></span></li><li><span><a href=\"#Quantile-regressor\" data-toc-modified-id=\"Quantile-regressor-4\"><span class=\"toc-item-num\">4&nbsp;&nbsp;</span>Quantile regressor</a></span></li><li><span><a href=\"#Boostrap\" data-toc-modified-id=\"Boostrap-5\"><span class=\"toc-item-num\">5&nbsp;&nbsp;</span>Boostrap</a></span></li><li><span><a href=\"#Compare\" data-toc-modified-id=\"Compare-6\"><span class=\"toc-item-num\">6&nbsp;&nbsp;</span>Compare</a></span></li></ul></div>"
   ]
  },
  {
   "cell_type": "markdown",
   "id": "48ec53ad",
   "metadata": {},
   "source": [
    "# Prediction interval "
   ]
  },
  {
   "cell_type": "markdown",
   "id": "80a54581",
   "metadata": {},
   "source": [
    "## Intro"
   ]
  },
  {
   "cell_type": "markdown",
   "id": "d1deac77",
   "metadata": {},
   "source": [
    "In this notebook we present 3 different ways of estimate predictions intervals in machine learnings. We adopt pragmatic approach in how to use the models and highlight the main concepts of each methodology. The details on how it works and the models implamenations is outside of the scope this notebook. Please rely on the references and academic pares from that. \n",
    "\n",
    "\n",
    "The first conept we want to dicuss is the cocept of prediction intervals and confidence intervals. below is the main diferences:\n",
    "\n",
    "* Confidence Intervals  \n",
    "    * Take sinto account data dispersion\n",
    "    * Based on data and not model. \n",
    "    * Usually measure uncertainty in determination of the statistics of a population like the mean.\n",
    "\n",
    "> PS: code (python) and discusison to help with plot ci and pi together:\n",
    "> * https://towardsdatascience.com/how-confidence-and-prediction-intervals-work-4592019576d8\n",
    "> * https://towardsdatascience.com/confidence-intervals-vs-prediction-intervals-7b296ae58745\n",
    "\n",
    "* Prediciton Intervals\n",
    "    * Takes into account uncertainty introduced by the models\n",
    "    * Prediction intervals ususlay is not constant acroos $X$ and certainly $PI > CI$\n",
    "\n",
    "1. What is prediction intervals\n",
    "    * range size vs coverage trade offs \n",
    "    * source of uncertainty: models, data and bayes\n",
    "    * difference between prediction intervals and confidence intervals\n",
    "        \n",
    "1. Why it is important \n",
    "\n",
    "1. Summary of what. Discuss pros and cons of each approach  \n",
    "    * DNN \n",
    "    * Quantile approaches \n",
    "    * Bootstrap \n",
    "    \n",
    "    \n",
    "Overview:\n",
    "\n",
    "1. First section: Linear data and complex data generation\n",
    "1. Second part: Introduce all models using linear data and compare them with linear regerssion\n",
    "1. 3rd part: Compare all models using complex data "
   ]
  },
  {
   "cell_type": "code",
   "execution_count": 2,
   "id": "4266d133",
   "metadata": {},
   "outputs": [
    {
     "name": "stdout",
     "output_type": "stream",
     "text": [
      "2.6.2\n"
     ]
    }
   ],
   "source": [
    "import IPython\n",
    "from IPython.core.interactiveshell import InteractiveShell\n",
    "\n",
    "InteractiveShell.ast_node_interactivity = \"all\"\n",
    "\n",
    "import numpy as np\n",
    "import matplotlib.pyplot as plt\n",
    "import tensorflow as tf\n",
    "from tensorflow.keras.models import Sequential\n",
    "from tensorflow.keras.layers import Dense, Activation\n",
    "# import keras\n",
    "# from keras import backend as K\n",
    "\n",
    "print(tf.__version__)"
   ]
  },
  {
   "cell_type": "code",
   "execution_count": 2,
   "id": "cae3eb41",
   "metadata": {},
   "outputs": [
    {
     "ename": "ModuleNotFoundError",
     "evalue": "No module named 'utils'",
     "output_type": "error",
     "traceback": [
      "\u001b[0;31m---------------------------------------------------------------------------\u001b[0m",
      "\u001b[0;31mModuleNotFoundError\u001b[0m                       Traceback (most recent call last)",
      "\u001b[0;32m<ipython-input-2-38a891deb62d>\u001b[0m in \u001b[0;36m<module>\u001b[0;34m\u001b[0m\n\u001b[0;32m----> 1\u001b[0;31m \u001b[0;32mfrom\u001b[0m \u001b[0mutils\u001b[0m \u001b[0;32mimport\u001b[0m \u001b[0mqd_objective\u001b[0m\u001b[0;34m,\u001b[0m \u001b[0mmpiw_pct\u001b[0m\u001b[0;34m,\u001b[0m \u001b[0mmpiw\u001b[0m\u001b[0;34m,\u001b[0m \u001b[0mpicp\u001b[0m\u001b[0;34m,\u001b[0m\u001b[0mmpiw_pct_metric\u001b[0m\u001b[0;34m,\u001b[0m \u001b[0mmpiw_metric\u001b[0m\u001b[0;34m,\u001b[0m\u001b[0mpicp_metric\u001b[0m\u001b[0;34m\u001b[0m\u001b[0;34m\u001b[0m\u001b[0m\n\u001b[0m",
      "\u001b[0;31mModuleNotFoundError\u001b[0m: No module named 'utils'"
     ]
    }
   ],
   "source": [
    "from utils import qd_objective, mpiw_pct, mpiw, picp,mpiw_pct_metric, mpiw_metric,picp_metric"
   ]
  },
  {
   "cell_type": "code",
   "execution_count": 16,
   "id": "2d2ff8ce",
   "metadata": {},
   "outputs": [
    {
     "name": "stdout",
     "output_type": "stream",
     "text": [
      "Defaulting to user installation because normal site-packages is not writeable\n",
      "Collecting tensorflow\n",
      "  Downloading tensorflow-2.6.2-cp36-cp36m-manylinux2010_x86_64.whl (458.3 MB)\n",
      "     |████████████████████████████████| 458.3 MB 32 kB/s              \n",
      "\u001b[?25hCollecting grpcio<2.0,>=1.37.0\n",
      "  Downloading grpcio-1.48.1-cp36-cp36m-manylinux_2_17_x86_64.manylinux2014_x86_64.whl (4.6 MB)\n",
      "     |████████████████████████████████| 4.6 MB 10.2 MB/s            \n",
      "\u001b[?25hCollecting astunparse~=1.6.3\n",
      "  Using cached astunparse-1.6.3-py2.py3-none-any.whl (12 kB)\n",
      "Requirement already satisfied: numpy~=1.19.2 in /home/leandroohf/.local/lib/python3.6/site-packages (from tensorflow) (1.19.5)\n",
      "Collecting termcolor~=1.1.0\n",
      "  Using cached termcolor-1.1.0-py3-none-any.whl\n",
      "Collecting opt-einsum~=3.3.0\n",
      "  Using cached opt_einsum-3.3.0-py3-none-any.whl (65 kB)\n",
      "Collecting tensorflow-estimator<2.7,>=2.6.0\n",
      "  Downloading tensorflow_estimator-2.6.0-py2.py3-none-any.whl (462 kB)\n",
      "     |████████████████████████████████| 462 kB 10.9 MB/s            \n",
      "\u001b[?25hCollecting tensorboard<2.7,>=2.6.0\n",
      "  Downloading tensorboard-2.6.0-py3-none-any.whl (5.6 MB)\n",
      "     |████████████████████████████████| 5.6 MB 7.7 MB/s            \n",
      "\u001b[?25hCollecting clang~=5.0\n",
      "  Downloading clang-5.0.tar.gz (30 kB)\n",
      "  Preparing metadata (setup.py) ... \u001b[?25ldone\n",
      "\u001b[?25hCollecting gast==0.4.0\n",
      "  Downloading gast-0.4.0-py3-none-any.whl (9.8 kB)\n",
      "Collecting h5py~=3.1.0\n",
      "  Downloading h5py-3.1.0-cp36-cp36m-manylinux1_x86_64.whl (4.0 MB)\n",
      "     |████████████████████████████████| 4.0 MB 8.2 MB/s            \n",
      "\u001b[?25hCollecting protobuf>=3.9.2\n",
      "  Using cached protobuf-3.19.4-cp36-cp36m-manylinux_2_17_x86_64.manylinux2014_x86_64.whl (1.1 MB)\n",
      "Requirement already satisfied: wheel~=0.35 in /home/leandroohf/.local/lib/python3.6/site-packages (from tensorflow) (0.37.1)\n",
      "Collecting typing-extensions~=3.7.4\n",
      "  Downloading typing_extensions-3.7.4.3-py3-none-any.whl (22 kB)\n",
      "Collecting wrapt~=1.12.1\n",
      "  Downloading wrapt-1.12.1.tar.gz (27 kB)\n",
      "  Preparing metadata (setup.py) ... \u001b[?25ldone\n",
      "\u001b[?25hCollecting six~=1.15.0\n",
      "  Downloading six-1.15.0-py2.py3-none-any.whl (10 kB)\n",
      "Collecting keras-preprocessing~=1.1.2\n",
      "  Using cached Keras_Preprocessing-1.1.2-py2.py3-none-any.whl (42 kB)\n",
      "Collecting flatbuffers~=1.12.0\n",
      "  Downloading flatbuffers-1.12-py2.py3-none-any.whl (15 kB)\n",
      "Collecting google-pasta~=0.2\n",
      "  Using cached google_pasta-0.2.0-py3-none-any.whl (57 kB)\n",
      "Collecting absl-py~=0.10\n",
      "  Downloading absl_py-0.15.0-py3-none-any.whl (132 kB)\n",
      "     |████████████████████████████████| 132 kB 10.2 MB/s            \n",
      "\u001b[?25hCollecting keras<2.7,>=2.6.0\n",
      "  Downloading keras-2.6.0-py2.py3-none-any.whl (1.3 MB)\n",
      "     |████████████████████████████████| 1.3 MB 8.6 MB/s            \n",
      "\u001b[?25hCollecting cached-property\n",
      "  Using cached cached_property-1.5.2-py2.py3-none-any.whl (7.6 kB)\n",
      "Collecting tensorboard-data-server<0.7.0,>=0.6.0\n",
      "  Using cached tensorboard_data_server-0.6.1-py3-none-manylinux2010_x86_64.whl (4.9 MB)\n",
      "Requirement already satisfied: requests<3,>=2.21.0 in /usr/lib/python3/dist-packages (from tensorboard<2.7,>=2.6.0->tensorflow) (2.22.0)\n",
      "Collecting tensorboard-plugin-wit>=1.6.0\n",
      "  Using cached tensorboard_plugin_wit-1.8.1-py3-none-any.whl (781 kB)\n",
      "Collecting werkzeug>=0.11.15\n",
      "  Downloading Werkzeug-2.0.3-py3-none-any.whl (289 kB)\n",
      "     |████████████████████████████████| 289 kB 8.6 MB/s            \n",
      "\u001b[?25hCollecting markdown>=2.6.8\n",
      "  Downloading Markdown-3.3.7-py3-none-any.whl (97 kB)\n",
      "     |████████████████████████████████| 97 kB 3.4 MB/s             \n",
      "\u001b[?25hCollecting google-auth-oauthlib<0.5,>=0.4.1\n",
      "  Using cached google_auth_oauthlib-0.4.6-py2.py3-none-any.whl (18 kB)\n",
      "Requirement already satisfied: setuptools>=41.0.0 in /home/leandroohf/.local/lib/python3.6/site-packages (from tensorboard<2.7,>=2.6.0->tensorflow) (59.6.0)\n",
      "Collecting google-auth<2,>=1.6.3\n",
      "  Using cached google_auth-1.35.0-py2.py3-none-any.whl (152 kB)\n",
      "Collecting cachetools<5.0,>=2.0.0\n",
      "  Using cached cachetools-4.2.4-py3-none-any.whl (10 kB)\n",
      "Collecting pyasn1-modules>=0.2.1\n",
      "  Using cached pyasn1_modules-0.2.8-py2.py3-none-any.whl (155 kB)\n",
      "Collecting rsa<5,>=3.1.4\n",
      "  Downloading rsa-4.9-py3-none-any.whl (34 kB)\n",
      "Collecting requests-oauthlib>=0.7.0\n",
      "  Downloading requests_oauthlib-1.3.1-py2.py3-none-any.whl (23 kB)\n",
      "Requirement already satisfied: importlib-metadata>=4.4 in /home/leandroohf/.local/lib/python3.6/site-packages (from markdown>=2.6.8->tensorboard<2.7,>=2.6.0->tensorflow) (4.8.3)\n",
      "Requirement already satisfied: dataclasses in /home/leandroohf/.local/lib/python3.6/site-packages (from werkzeug>=0.11.15->tensorboard<2.7,>=2.6.0->tensorflow) (0.8)\n",
      "Requirement already satisfied: zipp>=0.5 in /home/leandroohf/.local/lib/python3.6/site-packages (from importlib-metadata>=4.4->markdown>=2.6.8->tensorboard<2.7,>=2.6.0->tensorflow) (3.6.0)\n",
      "Collecting pyasn1<0.5.0,>=0.4.6\n",
      "  Using cached pyasn1-0.4.8-py2.py3-none-any.whl (77 kB)\n",
      "Collecting oauthlib>=3.0.0\n",
      "  Downloading oauthlib-3.2.1-py3-none-any.whl (151 kB)\n",
      "     |████████████████████████████████| 151 kB 9.6 MB/s            \n",
      "\u001b[?25hBuilding wheels for collected packages: clang, wrapt\n",
      "  Building wheel for clang (setup.py) ... \u001b[?25ldone\n",
      "\u001b[?25h  Created wheel for clang: filename=clang-5.0-py3-none-any.whl size=30694 sha256=a83746c3cbefbeac1ad4821a9a218e88a3a1b4308d823c7d35aa13d9afee6eb4\n",
      "  Stored in directory: /home/leandroohf/.cache/pip/wheels/22/4c/94/0583f60c9c5b6024ed64f290cb2d43b06bb4f75577dc3c93a7\n",
      "  Building wheel for wrapt (setup.py) ... \u001b[?25ldone\n",
      "\u001b[?25h  Created wheel for wrapt: filename=wrapt-1.12.1-py3-none-any.whl size=19572 sha256=a7493e52c3748d92427ba4be85c589c040b6fc3ac84c174e94ff18472e949ea0\n",
      "  Stored in directory: /home/leandroohf/.cache/pip/wheels/32/42/7f/23cae9ff6ef66798d00dc5d659088e57dbba01566f6c60db63\n",
      "Successfully built clang wrapt\n",
      "Installing collected packages: pyasn1, typing-extensions, six, rsa, pyasn1-modules, oauthlib, cachetools, requests-oauthlib, google-auth, werkzeug, tensorboard-plugin-wit, tensorboard-data-server, protobuf, markdown, grpcio, google-auth-oauthlib, cached-property, absl-py, wrapt, termcolor, tensorflow-estimator, tensorboard, opt-einsum, keras-preprocessing, keras, h5py, google-pasta, gast, flatbuffers, clang, astunparse, tensorflow\n",
      "  Attempting uninstall: typing-extensions\n",
      "    Found existing installation: typing-extensions 4.0.1\n",
      "    Uninstalling typing-extensions-4.0.1:\n",
      "      Successfully uninstalled typing-extensions-4.0.1\n",
      "  Attempting uninstall: six\n",
      "    Found existing installation: six 1.16.0\n",
      "    Uninstalling six-1.16.0:\n",
      "      Successfully uninstalled six-1.16.0\n",
      "Successfully installed absl-py-0.15.0 astunparse-1.6.3 cached-property-1.5.2 cachetools-4.2.4 clang-5.0 flatbuffers-1.12 gast-0.4.0 google-auth-1.35.0 google-auth-oauthlib-0.4.6 google-pasta-0.2.0 grpcio-1.48.1 h5py-3.1.0 keras-2.6.0 keras-preprocessing-1.1.2 markdown-3.3.7 oauthlib-3.2.1 opt-einsum-3.3.0 protobuf-3.19.4 pyasn1-0.4.8 pyasn1-modules-0.2.8 requests-oauthlib-1.3.1 rsa-4.9 six-1.15.0 tensorboard-2.6.0 tensorboard-data-server-0.6.1 tensorboard-plugin-wit-1.8.1 tensorflow-2.6.2 tensorflow-estimator-2.6.0 termcolor-1.1.0 typing-extensions-3.7.4.3 werkzeug-2.0.3 wrapt-1.12.1\n"
     ]
    }
   ],
   "source": [
    "!pip install tensorflow"
   ]
  },
  {
   "cell_type": "markdown",
   "id": "113bf1dd",
   "metadata": {},
   "source": [
    "## Data"
   ]
  },
  {
   "cell_type": "markdown",
   "id": "22ac30b8",
   "metadata": {},
   "source": [
    "* Linear data for simplicity and comapre with linera reression\n",
    "* Non linear qith hetredosticity data to compare all approaches"
   ]
  },
  {
   "cell_type": "code",
   "execution_count": 25,
   "id": "8d589430",
   "metadata": {},
   "outputs": [
    {
     "name": "stdout",
     "output_type": "stream",
     "text": [
      "2 std: 0.50\n"
     ]
    },
    {
     "data": {
      "image/png": "[encoded data removed]",
      "text/plain": [
       "<Figure size 432x288 with 1 Axes>"
      ]
     },
     "metadata": {
      "needs_background": "light"
     },
     "output_type": "display_data"
    }
   ],
   "source": [
    "# create some data\n",
    "n_samples = 1000\n",
    "\n",
    "X = np.random.uniform(low=0.,high=2.,size=(n_samples,1))\n",
    "\n",
    "_sigma = 0.25\n",
    "noise = np.random.normal(loc=0.,scale=_sigma,size=(n_samples,1))\n",
    "\n",
    "a = 1.5\n",
    "b = 2.0\n",
    "\n",
    "f_x = a*X + b  \n",
    "y =  f_x + noise\n",
    "\n",
    "#y = y.reshape([-1,1])/5.  # Is this important? Divide by 5 ? Why did he do it?\n",
    "y = y.reshape([-1,1])  # Is this important? Divide by 5 ? Why did he do it?\n",
    "\n",
    "noise.shape\n",
    "X_train = X.reshape(-1)\n",
    "y_train = y.reshape(-1)\n",
    "\n",
    "X_train.shape\n",
    "y_train.shape\n",
    "\n",
    "y_train = np.stack((y_train,y_train),axis=1) # make this 2d so will be accepted\n",
    "x_grid = np.linspace(0.0,2,100) # for evaluation plots\n",
    "\n",
    "plt.scatter(X_train,y_train[:,0])\n",
    "\n",
    "f_x = a*x_grid + b  \n",
    "\n",
    "_delta = 2.0*_sigma  # 2 sigmas\n",
    "\n",
    "print(f\"2 std: {_delta:.2f}\")\n",
    "\n",
    "plt.plot(x_grid, f_x, 'k--',label='f(x)'); # regression line\n",
    "plt.plot(x_grid, f_x + _delta, 'r--', label='+/-2$\\sigma$'); # upper boundary prediction\n",
    "plt.plot(x_grid, f_x - _delta, 'r--'); # lower boundary prediction\n",
    "plt.legend();"
   ]
  },
  {
   "cell_type": "code",
   "execution_count": 30,
   "id": "ff5163e1",
   "metadata": {},
   "outputs": [
    {
     "data": {
      "image/png": "[encoded data removed]",
      "text/plain": [
       "<Figure size 432x288 with 1 Axes>"
      ]
     },
     "metadata": {
      "needs_background": "light"
     },
     "output_type": "display_data"
    }
   ],
   "source": [
    "# create some data\n",
    "n_samples = 2500\n",
    "X = np.random.uniform(low=-2.,high=2.,size=(n_samples,1))\n",
    "y = 1.5*np.sin(np.pi*X[:,0]) + np.random.normal(loc=0.,scale=1.*np.power(X[:,0],2))\n",
    "\n",
    "# nrmalization\n",
    "y = y.reshape([-1,1])/5.\n",
    "\n",
    "X_train = X.reshape(-1)\n",
    "y_train = y.reshape(-1)\n",
    "\n",
    "y_train = np.stack((y_train,y_train),axis=1) # make this 2d so will be accepted\n",
    "x_grid = np.linspace(-2,2,100) # for evaluation plots\n",
    "\n",
    "plt.scatter(X_train,y_train[:,0]);\n",
    "plt.xlim(-2,2);\n",
    "plt.show();"
   ]
  },
  {
   "cell_type": "markdown",
   "id": "672995db",
   "metadata": {},
   "source": [
    "## DNN"
   ]
  },
  {
   "cell_type": "markdown",
   "id": "0abbd368",
   "metadata": {},
   "source": [
    "refs:\n",
    "\n",
    "* https://github.com/TeaPearce/Deep_Learning_Prediction_Intervals\n",
    "* High-Quality Prediction Intervals for Deep Learning: A Distribution-Free, Ensembled Approach\n",
    "    * https://arxiv.org/pdf/1802.07167.pdf\n",
    "\n",
    "A High Quality (HQ) is defined as:\n",
    "1. Should narrow as posisible capture the data uncertainty. The  should rely on the narrow interval\n",
    "1. It has highest as possible interval coverage\n",
    "\n",
    "The author purpose a new loss functions with 2 terms to address the problem of find a high quality interval. The first term is relared to the interval size (MPIW_c) and the second with interval coverage. Both tersm in the los are minimized: MPIW_c and coverage related term:\n",
    "* $Loss_{QD} = MPIW_c + f(PICP_S)$\n",
    "\n",
    "The interval coverage (PICP) is maximized by minimizing the second term. \n",
    "\n",
    "Loss definition\n",
    "\n",
    "* Approximation $B(n, (1- \\alpha)) \\approx N(n(1-\\alpha), n\\alpha(1 - \\alpha))$ requires batch size greather than 50\n",
    "    * requies batch size greather than 50\n",
    "\n",
    "* We want minimize MPIW with the contraint: $PICP < (1 - \\alpha) \\equiv (PCIP - (1 -\\alpha)) > 0$\n",
    "* $Loss = MPIW_{cap} + \\lambda \\frac{n}{\\alpha (1 - \\alpha)}max(0, (1-\\alpha) - PCIP)^2$\n",
    "    * extra penality when the $\\lambda \\frac{n}{\\alpha (1 - \\alpha)}max(0, (1-\\alpha) - PCIP)^2$ is not in the interval\n",
    "    * \n",
    " \n",
    "extra penality when the \n",
    " is not in the interval: \n",
    " \n",
    "MPIW capture we want to minimize\n",
    "Increase lambda penalize more due to coverage.\n",
    "soften parameter is introduced by numerical reason so the Gradient descent can converge easily (TODO: Review later)\n",
    "Inputs: X: features y: [y,y]\n"
   ]
  },
  {
   "cell_type": "code",
   "execution_count": 14,
   "id": "28e66f94",
   "metadata": {},
   "outputs": [
    {
     "data": {
      "text/plain": [
       "500"
      ]
     },
     "execution_count": 14,
     "metadata": {},
     "output_type": "execute_result"
    }
   ],
   "source": [
    "# hyperparameters\n",
    "lambda_ = 0.01 # lambda in loss fn\n",
    "alpha_ = 0.30  # capturing (1-alpha)% of samples\n",
    "soften_ = 160.\n",
    "n_ = n_samples # batch size\n",
    "\n",
    "n_\n",
    "\n",
    "# define loss fn\n",
    "def qd_objective(y_true, y_pred, n_=100, lambda_=0.01, alpha_ = 0.05, soften_ = 160):\n",
    "    '''Loss_QD-soft, from algorithm 1'''\n",
    "\n",
    "    y_true = y_true[:,0]\n",
    "    y_u = y_pred[:,0]\n",
    "    y_l = y_pred[:,1]\n",
    "\n",
    "    K_HU = tf.maximum(0.,tf.sign(y_u - y_true))\n",
    "    K_HL = tf.maximum(0.,tf.sign(y_true - y_l))\n",
    "    K_H = tf.multiply(K_HU, K_HL)\n",
    "\n",
    "    K_SU = tf.sigmoid(soften_ * (y_u - y_true))\n",
    "    K_SL = tf.sigmoid(soften_ * (y_true - y_l))\n",
    "    K_S = tf.multiply(K_SU, K_SL)\n",
    "\n",
    "    MPIW_c = tf.reduce_sum(tf.multiply((y_u - y_l),K_H))/tf.reduce_sum(K_H)\n",
    "    PICP_H = tf.reduce_mean(K_H)\n",
    "    PICP_S = tf.reduce_mean(K_S)\n",
    "\n",
    "    Loss_S = MPIW_c + lambda_ * n_ / (alpha_*(1-alpha_)) * tf.maximum(0.,(1-alpha_) - PICP_S)\n",
    "\n",
    "    return Loss_S\n",
    "\n",
    "def picp_metric(y_true, y_pred, soften_=160):\n",
    "\n",
    "    y_true = y_true[:,0]\n",
    "    \n",
    "    y_u = y_pred[:,0]\n",
    "    y_l = y_pred[:,1]\n",
    "\n",
    "    K_SU = tf.sigmoid(soften_ * (y_u - y_true))\n",
    "    K_SL = tf.sigmoid(soften_ * (y_true - y_l))\n",
    "    K_S = tf.multiply(K_SU, K_SL)\n",
    "\n",
    "    PICP_S = tf.reduce_mean(K_S)\n",
    "    \n",
    "    return PICP_S\n",
    "\n",
    "\n",
    "def mpiw_metric(y_true, y_pred):\n",
    "    \n",
    "    y_true = y_true[:,0]\n",
    "    \n",
    "    y_u = y_pred[:,0]\n",
    "    y_l = y_pred[:,1]\n",
    "\n",
    "    K_HU = tf.maximum(0.,tf.sign(y_u - y_true))\n",
    "    K_HL = tf.maximum(0.,tf.sign(y_true - y_l))\n",
    "    K_H = tf.multiply(K_HU, K_HL)\n",
    "\n",
    "    MPIW_c = tf.reduce_sum(tf.multiply((y_u - y_l),K_H))/tf.reduce_sum(K_H)\n",
    "\n",
    "    return MPIW_c\n",
    "\n",
    "\n",
    "def loss_qd(y_true, y_pred):\n",
    "\n",
    "    return qd_objective(y_true, y_pred,n_, lambda_, alpha_, soften_)\n",
    "\n",
    "\n",
    "def picp_metric_(y_true, y_pred):\n",
    "    \n",
    "    return picp_metric(y_true, y_pred, soften_=soften_)\n",
    "\n",
    "def coverage_term_metric(y_true, y_pred):\n",
    "    \n",
    "    y_true = y_true[:,0]\n",
    "\n",
    "    y_u = y_pred[:,0]\n",
    "    y_l = y_pred[:,1]\n",
    "\n",
    "    K_SU = tf.sigmoid(soften_ * (y_u - y_true))\n",
    "    K_SL = tf.sigmoid(soften_ * (y_true - y_l))\n",
    "    K_S = tf.multiply(K_SU, K_SL)\n",
    "    \n",
    "    PICP_S = tf.reduce_mean(K_S)\n",
    "\n",
    "    coverage_term = lambda_ * n_ / (alpha_*(1-alpha_)) * tf.maximum(0.,(1-alpha_) - PICP_S)\n",
    "    \n",
    "    return coverage_term"
   ]
  },
  {
   "cell_type": "code",
   "execution_count": 17,
   "id": "0b5a24dc",
   "metadata": {},
   "outputs": [],
   "source": [
    "# set up model\n",
    "model = Sequential()\n",
    "model.add(Dense(100, input_dim=1, activation='relu',\n",
    "                kernel_initializer=tf.keras.initializers.RandomNormal(mean=0.0, stddev=0.2)))\n",
    "model.add(Dense(2, activation='linear',\n",
    "                kernel_initializer=tf.keras.initializers.RandomNormal(mean=0.0, stddev=0.3), \n",
    "                bias_initializer=tf.keras.initializers.Constant(value=[2.0,1.0]))) # important to init biases to start!\n",
    "\n",
    "# compile\n",
    "opt = tf.keras.optimizers.Adam(learning_rate=0.02, decay=0.005)\n",
    "model.compile(loss=qd_objective, optimizer=opt, metrics=[mpiw_metric,coverage_term_metric,picp_metric_])"
   ]
  },
  {
   "cell_type": "code",
   "execution_count": 16,
   "id": "b4251ccd",
   "metadata": {},
   "outputs": [
    {
     "name": "stdout",
     "output_type": "stream",
     "text": [
      "Epoch 1/5\n",
      "1/1 [==============================] - 1s 522ms/step - loss: 20.4210 - mpiw_metric: 1.1267 - coverage_term_metric: 15.8686 - picp_metric_: 0.0335\n",
      "Epoch 2/5\n",
      "1/1 [==============================] - 0s 3ms/step - loss: 19.3235 - mpiw_metric: 1.2218 - coverage_term_metric: 14.5198 - picp_metric_: 0.0902\n",
      "Epoch 3/5\n",
      "1/1 [==============================] - 0s 2ms/step - loss: 16.7175 - mpiw_metric: 1.5239 - coverage_term_metric: 11.2309 - picp_metric_: 0.2283\n",
      "Epoch 4/5\n",
      "1/1 [==============================] - 0s 3ms/step - loss: 11.2790 - mpiw_metric: 2.0425 - coverage_term_metric: 4.4936 - picp_metric_: 0.5113\n",
      "Epoch 5/5\n",
      "1/1 [==============================] - 0s 5ms/step - loss: 2.7500 - mpiw_metric: 2.7500 - coverage_term_metric: 0.0000e+00 - picp_metric_: 0.9582\n",
      "CPU times: user 547 ms, sys: 46.9 ms, total: 594 ms\n",
      "Wall time: 577 ms\n"
     ]
    }
   ],
   "source": [
    "%%time\n",
    "result = model.fit(X_train, y_train, epochs=5, batch_size=n_, verbose=1,  validation_split=0.)"
   ]
  },
  {
   "cell_type": "code",
   "execution_count": 32,
   "id": "66bea931",
   "metadata": {},
   "outputs": [],
   "source": [
    "def graph_pi_report(result):\n",
    "    \n",
    "    result_loss =np.array(result.history['loss']).reshape(-1)\n",
    "\n",
    "    result_loss.shape\n",
    "\n",
    "    print(f\"loss last 5 values: {result_loss[-6:-1]}\")\n",
    "    print(f\"mean loss last 5 values: {np.mean(result_loss[-6:-1])}\")\n",
    "\n",
    "    val_loss = result.history.get('val_loss')\n",
    "    \n",
    "    x = range(result_loss.shape[0])\n",
    "    plt.plot(x, result_loss, label='train')\n",
    "    \n",
    "    if val_loss:\n",
    "        plt.plot(x, val_loss, label='val')\n",
    "    \n",
    "    plt.title('Loss')\n",
    "    \n",
    "    plt.legend(loc='center left', bbox_to_anchor=(1, 0.5))\n",
    "    #plt.ylim(0,6)\n",
    "    plt.show()\n",
    " \n",
    "    # view training\n",
    "    result_mpiw = np.array(result.history['mpiw_metric']).reshape(-1)\n",
    "    result_coverage_term = np.array(result.history['coverage_term_metric']).reshape(-1)\n",
    "\n",
    "    print(f\"Init guess => mpiw: {result_mpiw[0]}; coverage_term: {result_coverage_term[0]}\")\n",
    "    print(f\"Last values => mpiw: {result_mpiw[-1]}; coverage_term: {result_coverage_term[-1]}\")\n",
    "\n",
    "    fig, ax1 = plt.subplots()\n",
    "    x = range(result_mpiw.shape[0])\n",
    "\n",
    "    ax2 = ax1.twinx()\n",
    "    ax1.plot(x, result_mpiw, label='mpiw_metric', color='b')\n",
    "    ax2.plot(x, result_coverage_term,label='coverage_term_metric',color='g')\n",
    "\n",
    "    # ax1.set_xlabel('X data')\n",
    "    ax1.set_ylabel('mpiw_metric', color='b')\n",
    "    ax2.set_ylabel('coverage_term_metric', color='g')\n",
    "\n",
    "    #plt.legend()\n",
    "    plt.show()\n",
    "\n",
    "    # view training\n",
    "    result_mpiw = np.array(result.history['mpiw_metric']).reshape(-1)\n",
    "    result_picp = np.array(result.history['picp_metric_']).reshape(-1)\n",
    "\n",
    "    print(f\"Init guess => mpiw: {result_mpiw[0]}; picp: {result_picp[0]}\")\n",
    "    print(f\"Last values => mpiw: {result_mpiw[-1]}; picp: {result_picp[-1]}\")\n",
    "\n",
    "    fig, ax1 = plt.subplots()\n",
    "\n",
    "    x = range(result_mpiw.shape[0])\n",
    "\n",
    "    ax2 = ax1.twinx()\n",
    "    ax1.plot(x, result_mpiw, label='mpiw_metric', color='b')\n",
    "    ax2.plot(x, result_picp,label='picp_metric_',color='g')\n",
    "\n",
    "    # ax1.set_xlabel('X data')\n",
    "    ax1.set_ylabel('mpiw_metric', color='b')\n",
    "    ax2.set_ylabel('picp_metric_', color='g')\n",
    "\n",
    "    plt.show()\n",
    "    \n",
    "    val_picp = result.history.get('val_picp_metric_')\n",
    "    train_picp = result.history['picp_metric_']\n",
    "    \n",
    "    if val_picp:\n",
    "        \n",
    "        plt.plot(x, train_picp, label='train')\n",
    "        plt.plot(x, val_picp, label='val')\n",
    "        plt.title('picp')\n",
    "        \n",
    "        plt.legend(loc='center left', bbox_to_anchor=(1, 0.5))\n",
    "        \n",
    "        plt.show()"
   ]
  },
  {
   "cell_type": "code",
   "execution_count": 33,
   "id": "e42b2748",
   "metadata": {},
   "outputs": [
    {
     "name": "stdout",
     "output_type": "stream",
     "text": [
      "loss last 5 values: [20.42104149 19.32352257 16.71748734 11.27900314]\n",
      "mean loss last 5 values: 16.935263633728027\n"
     ]
    },
    {
     "data": {
      "image/png": "[encoded data removed]",
      "text/plain": [
       "<Figure size 432x288 with 1 Axes>"
      ]
     },
     "metadata": {
      "needs_background": "light"
     },
     "output_type": "display_data"
    },
    {
     "name": "stdout",
     "output_type": "stream",
     "text": [
      "Init guess => mpiw: 1.1266885995864868; coverage_term: 15.868614196777344\n",
      "Last values => mpiw: 2.7500405311584473; coverage_term: 0.0\n"
     ]
    },
    {
     "data": {
      "image/png": "[encoded data removed]",
      "text/plain": [
       "<Figure size 432x288 with 2 Axes>"
      ]
     },
     "metadata": {
      "needs_background": "light"
     },
     "output_type": "display_data"
    },
    {
     "name": "stdout",
     "output_type": "stream",
     "text": [
      "Init guess => mpiw: 1.1266885995864868; picp: 0.03351818025112152\n",
      "Last values => mpiw: 2.7500405311584473; picp: 0.9582106471061707\n"
     ]
    },
    {
     "data": {
      "image/png": "[encoded data removed]",
      "text/plain": [
       "<Figure size 432x288 with 2 Axes>"
      ]
     },
     "metadata": {
      "needs_background": "light"
     },
     "output_type": "display_data"
    }
   ],
   "source": [
    "graph_pi_report(result)"
   ]
  },
  {
   "cell_type": "markdown",
   "id": "5999a6f8",
   "metadata": {
    "heading_collapsed": true
   },
   "source": [
    "## Quantile regressor "
   ]
  },
  {
   "cell_type": "markdown",
   "id": "c7ffe3a1",
   "metadata": {
    "hidden": true
   },
   "source": [
    "Disanbiquation:\n",
    "\n",
    "Linear Quantile Regressor (Statistics)\n",
    "* alternative to linear regression when there is Heteroscedasticity. Can be seen as generalization of Lnear regression\n",
    "assumptions (https://stats.stackexchange.com/questions/320991/what-are-the-assumptions-for-applying-a-quantile-regression-model)\n",
    "* no assumtions about the target distributions (**The main motivation**)\n",
    "* linearity of the coeficients (LighGBM does not have this assumtions)\n",
    "* independence of observations\n",
    "* very large sample size, as quantile regression is not very efficient\n",
    "* y is \"very\" continuos\n",
    "\n",
    "\n",
    "LightGBM quantile regressor (Machine Learning)\n",
    "\n",
    "* Quantile is used to predict intervals of target variable\n",
    "* The main difference related to generic regression is the loss function:\n",
    "pinball loss: pos slope is  and negative slope is  (https://www.lokad.com/pinball-loss-function-definition#:~:text=The%20pinball%20loss%20function%20is,forecast%20is%20a%20subtle%20problem.)\n",
    " * $\\tau = 0.5$ the loss is symetric\n",
    " * $\\tau < 0.5$ penalizes more the positive error (see inclimation of the loss)\n",
    " * $\\tau > 0.5$ penalizes more the negative side\n",
    "* based on R doc: https://astrostatistics.psu.edu/datasets/R/html/quantreg/html/rq.html\n",
    "    * $\\tau$ is the quantile to be predict, so in python is \n",
    "* LIGHGBM $\\alpha$ is the quantile we want to predict"
   ]
  },
  {
   "cell_type": "code",
   "execution_count": null,
   "id": "5611095a",
   "metadata": {
    "hidden": true
   },
   "outputs": [],
   "source": []
  },
  {
   "cell_type": "markdown",
   "id": "fcb6c5ce",
   "metadata": {
    "heading_collapsed": true
   },
   "source": [
    "## Boostrap "
   ]
  },
  {
   "cell_type": "code",
   "execution_count": null,
   "id": "59f0051e",
   "metadata": {
    "hidden": true
   },
   "outputs": [],
   "source": []
  },
  {
   "cell_type": "code",
   "execution_count": null,
   "id": "c8812d71",
   "metadata": {
    "hidden": true
   },
   "outputs": [],
   "source": []
  },
  {
   "cell_type": "markdown",
   "id": "e3f37125",
   "metadata": {
    "heading_collapsed": true
   },
   "source": [
    "## Compare \n",
    "\n",
    "* same data "
   ]
  },
  {
   "cell_type": "code",
   "execution_count": null,
   "id": "e8290452",
   "metadata": {
    "hidden": true
   },
   "outputs": [],
   "source": []
  }
 ],
 "metadata": {
  "kernelspec": {
   "display_name": "Python 3",
   "language": "python",
   "name": "python3"
  },
  "language_info": {
   "codemirror_mode": {
    "name": "ipython",
    "version": 3
   },
   "file_extension": ".py",
   "mimetype": "text/x-python",
   "name": "python",
   "nbconvert_exporter": "python",
   "pygments_lexer": "ipython3",
   "version": "3.6.15"
  },
  "toc": {
   "base_numbering": 1,
   "nav_menu": {},
   "number_sections": true,
   "sideBar": true,
   "skip_h1_title": true,
   "title_cell": "Table of Contents",
   "title_sidebar": "Contents",
   "toc_cell": true,
   "toc_position": {},
   "toc_section_display": true,
   "toc_window_display": true
  }
 },
 "nbformat": 4,
 "nbformat_minor": 5
}
