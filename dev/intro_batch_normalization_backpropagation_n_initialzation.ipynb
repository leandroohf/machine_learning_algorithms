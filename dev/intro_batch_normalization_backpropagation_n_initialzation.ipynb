{
 "cells": [
  {
   "cell_type": "markdown",
   "metadata": {},
   "source": [
    "# Deep Learning\n",
    "\n",
    "**TODO:** Split notebook:\n",
    "1. backpropagation algorithm\n",
    "1. batch normalization\n",
    "1. intor to initializations on DNN \n",
    "\n",
    "1. Add discussion a bout gradient vanish on deep learning and how relu can help with that: https://machinelearningmastery.com/how-to-fix-vanishing-gradients-using-the-rectified-linear-activation-function/\n",
    "    * intro to grad or\n",
    "    * ds pragamatic tensorflow <== is better lHOw to detect gardient vanish or\n",
    "    * backpropagation\n",
    "    \n",
    "\n",
    "**Goals**:\n",
    "\n",
    "* Goal understand better the link with gradients and backpropagation\n",
    "* Review backpropagation\n",
    "* Implement dense layer and neural netowork\n",
    "* tets implemenattion\n",
    "* Learn batch normalization\n",
    "* IMplement Batch normalization layer\n"
   ]
  },
  {
   "cell_type": "code",
   "execution_count": null,
   "metadata": {},
   "outputs": [],
   "source": []
  },
  {
   "cell_type": "code",
   "execution_count": 87,
   "metadata": {},
   "outputs": [
    {
     "name": "stdout",
     "output_type": "stream",
     "text": [
      "2.6.0\n"
     ]
    }
   ],
   "source": [
    "import math\n",
    "import numpy as np\n",
    "import h5py\n",
    "import matplotlib.pyplot as plt\n",
    "import tensorflow as tf\n",
    "\n",
    "from typing import List, Set, Dict, Tuple, Optional, Union\n",
    "\n",
    "%matplotlib inline\n",
    "np.random.seed(1)\n",
    "\n",
    "import IPython\n",
    "from IPython.core.interactiveshell import InteractiveShell\n",
    "InteractiveShell.ast_node_interactivity = \"all\"\n",
    "\n",
    "print(tf.__version__)"
   ]
  },
  {
   "cell_type": "markdown",
   "metadata": {},
   "source": [
    "## Backpropagation\n",
    "\n",
    "\n",
    "Maybe this pdf fprm stanford is more reliable \n",
    "\n",
    "* https://web.stanford.edu/class/cs224n/readings/gradient-notes.pdf\n",
    "* https://web.stanford.edu/class/cs224n/slides/cs224n-2020-lecture04-neuralnets.pdf\n",
    "\n",
    "--------------\n",
    "* https://kevinzakka.github.io/2016/09/14/batch_normalization/\n",
    "* https://towardsdatascience.com/lets-code-a-neural-network-in-plain-numpy-ae7e74410795\n",
    "* https://medium.com/@a.mirzaei69/implement-a-neural-network-from-scratch-with-python-numpy-backpropagation-e82b70caa9bb\n",
    "\n",
    "\n",
    "\n",
    "* Understand the math \n",
    "Watch this video explaining the math behing backpropagation from stanfor:\n",
    "* https://www.youtube.com/watch?v=isPiE-DBagM&list=PL3FW7Lu3i5Jsnh1rnUwq_TcylNr7EkRe6 (Stanford)\n",
    "\n",
    "\n",
    "Often people confuse back propagation with gradient descent. The gradient descent algorithm minimizes (optmizes) the cost function. And the backpropagation updates all parameters in the neural network based on the chain rule fomula and the gradient returned in the gradient descent algorithm   \n",
    "\n"
   ]
  },
  {
   "cell_type": "markdown",
   "metadata": {},
   "source": [
    "### Notes about initializations\n",
    "\n",
    "**TODO:**\n",
    "1. Using tensorflow and simple DNN (Peceptron)\n",
    "    * init parameters as zero\n",
    "        1. Linear\n",
    "        1. Relu\n",
    "        1. sigmoid\n",
    "        \n",
    "1. Using tensorflow and simple DNN (keep contant number of neurons to make init simple)\n",
    "    * init large parameters\n",
    "    * init small parameters\n",
    "        * Relu, Linear\n",
    "        * tanh and sigmoid\n",
    "\n",
    "Refs:\n",
    "* He paper: https://arxiv.org/pdf/1502.01852.pdf\n",
    "* with visual explanation to play: \n",
    "    https://www.deeplearning.ai/ai-notes/initialization/#I\n",
    "* https://wandb.ai/site/articles/the-effects-of-weight-initialization-on-neural-nets <== can help with the code to test all initializations scenarios"
   ]
  },
  {
   "cell_type": "markdown",
   "metadata": {},
   "source": [
    "1. W = 0, b = 0: DNN not learn, Cost funtion $J = cte$\n",
    "\n",
    "1. W = cte, b = 0: Is hard to DNN to learn because all neurons has the same contrubution for the output and the grads will be the same so all neuron learn the same thing always. Neuron evolve symetrically hroughout training,ffectively preventing different neurons from learning different things.\n",
    "\n",
    "1. Case 1: A too-large initialization leads to exploding gradients\n",
    "\n",
    "Consider deeper DNN with 10 Layers all activation beeing **linear**.\n",
    "\n",
    "$\n",
    "W^{[l]} = \\begin{bmatrix}\n",
    "1.5 & 0 \\\\ \n",
    " 0& 1.5\n",
    "\\end{bmatrix} \\\\\n",
    "$\n",
    "\n",
    "for $l = {1,2,...,L}$\n",
    "\n",
    "\n",
    "$\n",
    "\\hat{y} = W^{[L]}1.5^{L-1}x \n",
    "$\n",
    "\n",
    "The activations $a^{l}$ increase exponentially:\n",
    "* In backward propagation, this leads to the exploding gradient \n",
    "* Cost funct $J$ will oscilate around its minimum !? Why?\n",
    "\n",
    "1. Case 2: A too-small initialization leads to vanishing gradients \n",
    "\n",
    "\n",
    "$\n",
    "W^{[l]} = \\begin{bmatrix}\n",
    "0.5 & 0 \\\\ \n",
    " 0& 0.5\n",
    "\\end{bmatrix} \\\\\n",
    "$\n",
    "\n",
    "for $l = {1,2,...,L}$\n",
    "\n",
    "$\n",
    "\\hat{y} = W^{[L]}0.5^{L-1}x \n",
    "$\n",
    "\n",
    "The activations functions decrease exponentially with $l$:\n",
    "\n",
    "* In backward propagation, this leads to the vanishing gradient\n",
    "* Leading to convergence of the cost before it has reached the minimum value. Train is slow, pramaeters almost do not change.\n",
    "\n",
    "In summary it is important to initialize properly the DNN:\n",
    "\n",
    "\n",
    "```text\n",
    "* din: dim of the input of the payer\n",
    "* dout: dim of output of the payer\n",
    "* d_avg = (d_in + d_out)/2 \n",
    "\n",
    "|Init  |Activation                           | sigma2 (Normal)|\n",
    "|------+-------------------------------------+----------------|\n",
    "|Xavier|Tanh, Linear(None), Logistic, softmax| 1/d_avg        |\n",
    "|He    |Relu n variants                      | 2/d_avg        |\n",
    "|leCun |Selu !?                              | 1/d_avg        |\n",
    "|------+-------------------------------------+----------------|\n",
    "```"
   ]
  },
  {
   "cell_type": "markdown",
   "metadata": {
    "heading_collapsed": true
   },
   "source": [
    "### Implement simple regression first\n",
    "\n",
    "\n",
    "1. One layer Dense\n",
    "1. Regression\n",
    "\n",
    "Steps:\n",
    "    \n",
    "* Implement parts \n",
    "    1. activatoins\n",
    "    1. code one layer \n"
   ]
  },
  {
   "cell_type": "markdown",
   "metadata": {},
   "source": [
    "### Forward propagation"
   ]
  },
  {
   "cell_type": "markdown",
   "metadata": {},
   "source": [
    "<img src=\"../images/simple_nn.jpg\" width=\"600\"/>"
   ]
  },
  {
   "cell_type": "markdown",
   "metadata": {},
   "source": [
    "$\n",
    "z^{[l]} = W^{[l]} a^{[l-1]} + b^{[l]} \\\\\n",
    "a^{[l]} = g^{[l]}(z^{[l]})\n",
    "$\n",
    "\n",
    "<img src=\"../images/forward_step.png\" width=\"800\"/>"
   ]
  },
  {
   "cell_type": "markdown",
   "metadata": {},
   "source": [
    "### Backward propagation\n",
    "\n",
    "refs:\n",
    "* https://sudeepraja.github.io/Neural/ Matrix notation\n",
    "* https://towardsdatascience.com/understanding-backpropagation-algorithm-7bb3aa2f95fd\n",
    "* https://kratzert.github.io/2016/02/12/understanding-the-gradient-flow-through-the-batch-normalization-layer.html"
   ]
  },
  {
   "cell_type": "markdown",
   "metadata": {},
   "source": [
    "\n",
    "<img src=\"../images/chainrule_example.png\" width=\"400\"/>"
   ]
  },
  {
   "cell_type": "markdown",
   "metadata": {},
   "source": [
    "#### Some notes about the big picture\n",
    "\n",
    "* We want to optmize the cost function $J(\\theta = {W,b}) = \\frac{1}{m} \\sum^m_{i=1} \\ell(\\hat{y^{(i)}} = h_{\\theta}(x^{(i)}), y^{(i)})$\n",
    "\n",
    "* In order to do that we need:\n",
    "\n",
    "    1. We need to update all the parameters: $\\{W^{[1]}, b^{[1]},...., W^{[L]}, b^{[L]}\\}$ of the NN in the right direction.\n",
    "    \n",
    "    1. To discover the right direction to update, we need to compute the gradients.: $\\frac{\\partial}{\\partial W^{[l]}}J$ and $\\frac{\\partial}{\\partial b^{[l]}}J$ for $l = \\{1,.., L\\} $\n",
    "    \n",
    "    1. To compute the gradients, we need to use the chain rule\n",
    "    \n",
    "\n",
    "The 4 equations we need to compute the gradients can be written in matrix form as:\n",
    "\n",
    "\n",
    "$\n",
    "\\delta^L = \\frac{\\partial}{\\partial \\hat{y}}J \\circ f'(z^{[L]}) \\\\\n",
    "\\delta^l = \\left ( (W^{[l+1]})^t \\delta^{[l+1]} \\right )  \\circ f'(z^{[l]}) \\\\\n",
    "\\frac{\\partial}{\\partial W^{[l]}}J = \\delta^l (a^{[l-1]})^t  \\\\\n",
    "\\frac{\\partial}{\\partial W^{[l]}}J = \\delta^l\n",
    "$\n",
    "    \n",
    "where $\\hat{y} = a^{[L]}$, $X = a^{[0]}$ and we assume all activations function are the same $f$ . Also, $\\circ$ is the element-wise multiplication. It is important in the euqation so the matrix dimensions can match.  \n",
    "\n",
    "The proof of the equations can be found: http://neuralnetworksanddeeplearning.com/chap2.html#proof_of_the_four_fundamental_equations_(optional)\n",
    "\n",
    "**TODO**: Try read and understand the proof. It will help you a lot understand the papers in the area. Or if you need to implement you personal layer. "
   ]
  },
  {
   "cell_type": "markdown",
   "metadata": {},
   "source": [
    "---------------\n",
    "* There is a lot of details and math hot to get the equations. But there a ways to develope the equations\n",
    "\n",
    "    * Using sum and indexes notation like in: $\\frac{\\partial}{\\partial W^{[2]}_{i,j}}J = U_i f'(z^{[3]}_i)a^{[2]}_j \\equiv \\delta^{[3]}_i a^{[2]}_j$\n",
    "    \n",
    "    * Using matrix notation that simplify the equations but it is hard to understand. The equation above is tranlaste as: $\\frac{\\partial}{\\partial W^{[2]}}J = \\delta^{[3]}(a^{[2]})^t$ where $\\delta^{[3]} = U\\circ f'(z^{[3]})$ and $\\circ$ is the element-wise or Hadamard product.\n",
    "    \n",
    "* UNderstandthe big picture\n",
    "\n",
    "    * https://medium.com/@a.mirzaei69/implement-a-neural-network-from-scratch-with-python-numpy-backpropagation-e82b70caa9bb  See code in train method <== Help me understand the diff with gradient descent\n",
    "    * helps to understand the equations: http://neuralnetworksanddeeplearning.com/chap2.html\n",
    "    * wikipedia: https://en.wikipedia.org/wiki/Backpropagation\n",
    "    \n",
    "* UNderstan the implementatiio\n",
    "    * https://towardsdatascience.com/lets-code-a-neural-network-in-plain-numpy-ae7e74410795\n",
    "    \n",
    "    \n",
    "* Understanding math with index notation\n",
    "    * https://towardsdatascience.com/understanding-backpropagation-algorithm-7bb3aa2f95fd\n",
    "    \n",
    "* Undersatnding math with matrix notation\n",
    "    * https://sudeepraja.github.io/Neural/\n",
    "    * https://www.youtube.com/watch?v=isPiE-DBagM&list=PL3FW7Lu3i5Jsnh1rnUwq_TcylNr7EkRe6 vidoe form standfort\n",
    "    \n",
    "    "
   ]
  },
  {
   "cell_type": "markdown",
   "metadata": {},
   "source": [
    "#### The chain rule and rule while deriving matrix"
   ]
  },
  {
   "cell_type": "markdown",
   "metadata": {},
   "source": [
    "Chain rules\n",
    "\n",
    "$\n",
    "u = u(x(r,t), y(r,y)) \\\\\n",
    "\\frac{\\partial}{\\partial r}u = \\frac{\\partial}{\\partial x}u \\frac{\\partial}{\\partial r}x = \\frac{\\partial}{\\partial y}u \\frac{\\partial}{\\partial r}y\n",
    "$\n",
    "\n",
    "When deriving related to a matrix or vector\n",
    "\n",
    "1. The derivative has the same dimension of the the ariable been derived  **\n",
    "\n",
    "    * Scalar by scalar: $\\frac{\\partial}{\\partial x}f(x) = f'$ , so $f'$ is scalar\n",
    "    * Scalar by a vector $\\frac{\\partial}{\\partial \\mathbf{x}}f(\\mathbf{x}) = \\mathbf{f'}$ , so $\\mathbf{f'}$ is a vector of dim of $\\mathbf{x}$\n",
    "    * Matrix or vector by a matrix: $\\frac{\\partial}{\\partial \\mathbf{x}}f(\\mathbf{x}) = \\mathbf{f'}$ , so $\\mathbf{f'}$ is a vector of dim of $\\mathbf{x}$\n",
    "\n",
    "ref: https://kevinzakka.github.io/2016/09/14/batch_normalization/ But I need to double check this rules with other sources and check if it is compatible to 4 Backpropagation equations "
   ]
  },
  {
   "cell_type": "markdown",
   "metadata": {},
   "source": [
    "#### Some equations"
   ]
  },
  {
   "cell_type": "markdown",
   "metadata": {},
   "source": [
    "Try to proof some of the equations\n",
    "\n",
    "Define gradient in matrix form as:\n",
    "\n",
    "$\n",
    "J = J(X_1,X_2,...,X_m)  \\\\\n",
    "\\frac{\\partial}{\\partial X}J = [\\frac{\\partial}{\\partial X_1}J, \\frac{\\partial}{\\partial X_2}J, ..., \\frac{\\partial}{\\partial X_m}J] \n",
    "$\n",
    "\n",
    "> PS: derivatives are row vectors\n",
    "\n",
    "\n",
    "Page 1\n",
    "<img src=\"../images/backprop_1.jpg\" style=\"float:left\" width=\"600\" align=\"left\"/> \n",
    "\n",
    "-----\n",
    "Page2\n",
    "\n",
    "<img src=\"../images/backprop_2.jpg\" style=\"float:left\" width=\"600\" align=\"left\"/> "
   ]
  },
  {
   "cell_type": "markdown",
   "metadata": {},
   "source": [
    "* The cost or objective function:  \n",
    "\n",
    "$\n",
    "J(\\theta = {W,b}) = \\frac{1}{m} \\sum^m_{i=1} \\ell(\\hat{y^{(i)}} = h_{\\theta}(x^{(i)}), y^{(i)})\n",
    "$\n",
    "\n",
    "* The loss function:\n",
    "\n",
    "$\n",
    "\\ell(\\hat{y^{(i)}}, y^{(i)})\n",
    "$\n",
    "\n",
    "* The activation function of the last layer:\n",
    "\n",
    "$\n",
    "g = h_{\\theta}(x^{(i)})\n",
    "$\n",
    "\n",
    "Reviewing chaing rule:\n",
    "\n",
    "* For function of 1 variable:\n",
    "$\n",
    "y =  f(u(x)) \\\\\n",
    "\\frac{d}{dx}y = \\frac{d}{du}y \\frac{d}{dx}u\n",
    "$\n",
    "\n",
    "* For 2 vriables \n",
    "\n",
    "$\n",
    "y =  f(u(x)) \\\\\n",
    "\\frac{d}{dx}y = \\frac{d}{du}y \\frac{d}{dx}u\n",
    "$\n",
    "\n",
    "To optmize the cost funtction $J(W^{[1]},b^{[1]},..., W^{[l]}, b^{[l]}, ...,W^{[L]}, b^{[L]} )$, where $L$ is the number of layers, we need to compute:\n",
    "\n",
    "\n",
    "$\n",
    "\\frac{\\partial}{\\partial W^{[l]}}J = \\frac{\\partial}{\\partial z^{[l]}}J \\frac{\\partial}{\\partial W^{[l]}}z^{[l]} \\\\ \n",
    "\\frac{\\partial}{\\partial W^{[l]}}J = \\frac{\\partial}{\\partial z^{[l]}}J a^{[l-1]} \\\\\n",
    "\\frac{\\partial}{\\partial b^{[l]}}J = \\frac{\\partial}{\\partial z^{[l]}}J \\frac{\\partial}{\\partial b^{[l]}}z^{[l]} \\\\ \n",
    "\\frac{\\partial}{\\partial b^{[l]}}J = \\frac{\\partial}{\\partial z^{[l]}}J\n",
    "$\n",
    "\n",
    "\n",
    "The common term is called the local gradient:\n",
    "\n",
    "$\n",
    "\\delta^{[l]} = \\frac{\\partial}{\\partial z^{[l]}}J\n",
    "$\n",
    "\n",
    "\n",
    "-----------------\n",
    "\n",
    "\n",
    "* Forwards pass in matrix notation:\n",
    "\n",
    "https://sudeepraja.github.io/Neural/ Matrix notation\n",
    "\n",
    "$\n",
    "J(\\theta = {W,b}) = \\frac{1}{m} \\sum^m_{i=1} \\ell(\\hat{y^{(i)}} = h_{\\theta}(x^{(i)}), y^{(i)}) \\\\\n",
    "a^{[l]} = g^{[l]}(z^{[l]} = W^{[l]}a^{[l-1]} + b^{[l]})\n",
    "$\n",
    "\n",
    "* Backwards pass\n",
    "\n",
    "Last layer (mse loss)\n",
    "\n",
    "$\n",
    "\\delta^{[L]} = (a^{[L]} - y) g'^{[L]}(z^{[L]}) \\\\\n",
    "\\delta^{[L]} = (a^{[L]} - y) g'^{[L]}(W^{[L]}a^{[L-1]}) \\\\  \n",
    "$\n",
    "\n",
    "Hidden Layers\n",
    "\n",
    "$\n",
    "\\delta^{[l]} = (W^{[l]})^t \\delta^{[l+1]} g'^{[l]}(W^{[l]}a^{[l-1]} + b^{[l]})  \n",
    "$\n",
    "\n",
    "Weight updates:\n",
    "\n",
    "\n",
    "$\n",
    "\\frac{\\partial}{\\partial W^{[l]}}J  = \\delta^{[l]} (a^{[l]})^t \\\\\n",
    "W^{[l]} = W^{[l]} - \\alpha \\frac{\\partial}{\\partial W^{[l]}}J \\\\\n",
    "\\frac{\\partial}{\\partial b^{[l]}}J  = \\delta^{[l]} \\\\\n",
    "b^{[l]} = b^{[l]} - \\alpha \\frac{\\partial}{\\partial b^{[l]}}J\n",
    "$"
   ]
  },
  {
   "cell_type": "markdown",
   "metadata": {},
   "source": [
    "#### Double checking the backpropagation equations\n",
    "\n",
    "https://medium.com/@a.mirzaei69/implement-a-neural-network-from-scratch-with-python-numpy-backpropagation-e82b70caa9bb\n"
   ]
  },
  {
   "cell_type": "markdown",
   "metadata": {},
   "source": [
    "Page 1\n",
    "<img src=\"../images/backprop_notes_0.jpg\" style=\"float:left\" width=\"600\" align=\"left\"/> "
   ]
  },
  {
   "cell_type": "markdown",
   "metadata": {},
   "source": [
    "-----\n",
    "Page 2"
   ]
  },
  {
   "cell_type": "markdown",
   "metadata": {},
   "source": [
    "<img src=\"../images/backprop_notes_1.jpg\" style=\"float:left\" width=\"600\" align=\"left\"/> "
   ]
  },
  {
   "cell_type": "markdown",
   "metadata": {},
   "source": [
    "-------\n",
    "Page 3\n",
    "<img src=\"../images/backprop_notes_2.jpg\" style=\"float:left\" width=\"600\" align=\"left\"/> "
   ]
  },
  {
   "cell_type": "markdown",
   "metadata": {},
   "source": [
    "------\n",
    "Page 4\n",
    "<img src=\"../images/backprop_notes_3.jpg\" style=\"float:left\" width=\"600\" align=\"left\"/> "
   ]
  },
  {
   "cell_type": "markdown",
   "metadata": {},
   "source": [
    "------\n",
    "Page 5\n",
    "<img src=\"../images/backprop_notes_4.jpg\" style=\"float:left\" width=\"600\" align=\"left\"/> "
   ]
  },
  {
   "cell_type": "markdown",
   "metadata": {},
   "source": [
    "### Implementation"
   ]
  },
  {
   "cell_type": "code",
   "execution_count": 9,
   "metadata": {},
   "outputs": [],
   "source": [
    "# WIP: Still need to finish this code\n",
    "class Layer():\n",
    "    \n",
    "    def _get_activation_func(self,activation_type):\n",
    "            \n",
    "        if activation_type == 'relu':\n",
    "            \n",
    "            def activation_func(z: np.array):\n",
    "    \n",
    "                a = np.maximum(0.0,z)\n",
    "        \n",
    "                return a\n",
    "            \n",
    "            def activation_derivative(z: np.array):\n",
    "                \n",
    "                return \n",
    "        \n",
    "        else:\n",
    "            \n",
    "            def activation_func(z: np.array):\n",
    "    \n",
    "                a = 1.0/(1.0 + np.exp(-z))\n",
    "        \n",
    "                return a\n",
    "        \n",
    "            def activation_derivative_func(z: np.array):\n",
    "                \n",
    "                return activation_func*(1.0 - activation_func)\n",
    "                \n",
    "        \n",
    "        return activation_func, activation_derivative_func\n",
    "\n",
    "    def __init__(self, input_size, output_size, activation_type):\n",
    "\n",
    "        self.activation_type = activation_type\n",
    "        \n",
    "        self.input_size = input_size\n",
    "        self.output_size = output_size\n",
    "        \n",
    "        \n",
    "        activation , first_deriv_of_activation = self._get_activation_func(activation_type)\n",
    "        \n",
    "        self.activation = activation\n",
    "        self.activation_derivative = first_deriv_of_activation\n",
    "            \n",
    "class DenseLayer(Layer):\n",
    "    \n",
    "    def __init__(self, input_size, output_size, activation_type):\n",
    "        \n",
    "        super().__init__( input_size, output_size, activation_type)\n",
    "\n",
    "    def forward_propagation(self, X_in: np.array, W: np.array, b: np.array) -> Tuple[np.array]:\n",
    "        \n",
    "        z = W.dot(X_in)\n",
    "        a = self.activation(z)\n",
    "        \n",
    "        return a, z\n",
    "    \n",
    "    def backward_propagation(self, da, W, b, z, a_prev):\n",
    "\n",
    "        dz = self.activation_derivative(z)*da  # element-wise multiplication\n",
    "        \n",
    "        dW = np.dot(dz, a_prev.T) / m\n",
    "        db = np.sum(dz, axis=1, keepdims=True) / m\n",
    "        \n",
    "        da_prev = np.dot(W.T, dZ)\n",
    "\n",
    "        return da_prev, dW, db"
   ]
  },
  {
   "cell_type": "code",
   "execution_count": 8,
   "metadata": {},
   "outputs": [
    {
     "ename": "UnboundLocalError",
     "evalue": "local variable 'activation_derivative_func' referenced before assignment",
     "output_type": "error",
     "traceback": [
      "\u001b[0;31m---------------------------------------------------------------------------\u001b[0m",
      "\u001b[0;31mUnboundLocalError\u001b[0m                         Traceback (most recent call last)",
      "\u001b[0;32m<ipython-input-8-b38806d826be>\u001b[0m in \u001b[0;36m<module>\u001b[0;34m\u001b[0m\n\u001b[1;32m      3\u001b[0m \u001b[0mbatch_size\u001b[0m \u001b[0;34m=\u001b[0m \u001b[0;36m3\u001b[0m\u001b[0;34m\u001b[0m\u001b[0;34m\u001b[0m\u001b[0m\n\u001b[1;32m      4\u001b[0m \u001b[0;34m\u001b[0m\u001b[0m\n\u001b[0;32m----> 5\u001b[0;31m \u001b[0ml1\u001b[0m \u001b[0;34m=\u001b[0m \u001b[0mDenseLayer\u001b[0m\u001b[0;34m(\u001b[0m\u001b[0min_size\u001b[0m\u001b[0;34m,\u001b[0m\u001b[0mout_size\u001b[0m\u001b[0;34m,\u001b[0m\u001b[0;34m'relu'\u001b[0m\u001b[0;34m)\u001b[0m\u001b[0;34m\u001b[0m\u001b[0;34m\u001b[0m\u001b[0m\n\u001b[0m\u001b[1;32m      6\u001b[0m \u001b[0ml1\u001b[0m\u001b[0;34m.\u001b[0m\u001b[0mactivation_type\u001b[0m\u001b[0;34m\u001b[0m\u001b[0;34m\u001b[0m\u001b[0m\n\u001b[1;32m      7\u001b[0m \u001b[0;34m\u001b[0m\u001b[0m\n",
      "\u001b[0;32m<ipython-input-7-5767f07c6d3c>\u001b[0m in \u001b[0;36m__init__\u001b[0;34m(self, input_size, output_size, activation_type)\u001b[0m\n\u001b[1;32m     47\u001b[0m     \u001b[0;32mdef\u001b[0m \u001b[0m__init__\u001b[0m\u001b[0;34m(\u001b[0m\u001b[0mself\u001b[0m\u001b[0;34m,\u001b[0m \u001b[0minput_size\u001b[0m\u001b[0;34m,\u001b[0m \u001b[0moutput_size\u001b[0m\u001b[0;34m,\u001b[0m \u001b[0mactivation_type\u001b[0m\u001b[0;34m)\u001b[0m\u001b[0;34m:\u001b[0m\u001b[0;34m\u001b[0m\u001b[0;34m\u001b[0m\u001b[0m\n\u001b[1;32m     48\u001b[0m \u001b[0;34m\u001b[0m\u001b[0m\n\u001b[0;32m---> 49\u001b[0;31m         \u001b[0msuper\u001b[0m\u001b[0;34m(\u001b[0m\u001b[0;34m)\u001b[0m\u001b[0;34m.\u001b[0m\u001b[0m__init__\u001b[0m\u001b[0;34m(\u001b[0m \u001b[0minput_size\u001b[0m\u001b[0;34m,\u001b[0m \u001b[0moutput_size\u001b[0m\u001b[0;34m,\u001b[0m \u001b[0mactivation_type\u001b[0m\u001b[0;34m)\u001b[0m\u001b[0;34m\u001b[0m\u001b[0;34m\u001b[0m\u001b[0m\n\u001b[0m\u001b[1;32m     50\u001b[0m \u001b[0;34m\u001b[0m\u001b[0m\n\u001b[1;32m     51\u001b[0m     \u001b[0;32mdef\u001b[0m \u001b[0mforward_propagation\u001b[0m\u001b[0;34m(\u001b[0m\u001b[0mself\u001b[0m\u001b[0;34m,\u001b[0m \u001b[0mX_in\u001b[0m\u001b[0;34m:\u001b[0m \u001b[0mnp\u001b[0m\u001b[0;34m.\u001b[0m\u001b[0marray\u001b[0m\u001b[0;34m,\u001b[0m \u001b[0mW\u001b[0m\u001b[0;34m:\u001b[0m \u001b[0mnp\u001b[0m\u001b[0;34m.\u001b[0m\u001b[0marray\u001b[0m\u001b[0;34m,\u001b[0m \u001b[0mb\u001b[0m\u001b[0;34m:\u001b[0m \u001b[0mnp\u001b[0m\u001b[0;34m.\u001b[0m\u001b[0marray\u001b[0m\u001b[0;34m)\u001b[0m \u001b[0;34m->\u001b[0m \u001b[0mTuple\u001b[0m\u001b[0;34m[\u001b[0m\u001b[0mnp\u001b[0m\u001b[0;34m.\u001b[0m\u001b[0marray\u001b[0m\u001b[0;34m]\u001b[0m\u001b[0;34m:\u001b[0m\u001b[0;34m\u001b[0m\u001b[0;34m\u001b[0m\u001b[0m\n",
      "\u001b[0;32m<ipython-input-7-5767f07c6d3c>\u001b[0m in \u001b[0;36m__init__\u001b[0;34m(self, input_size, output_size, activation_type)\u001b[0m\n\u001b[1;32m     38\u001b[0m \u001b[0;34m\u001b[0m\u001b[0m\n\u001b[1;32m     39\u001b[0m \u001b[0;34m\u001b[0m\u001b[0m\n\u001b[0;32m---> 40\u001b[0;31m         \u001b[0mactivation\u001b[0m \u001b[0;34m,\u001b[0m \u001b[0mfirst_deriv_of_activation\u001b[0m \u001b[0;34m=\u001b[0m \u001b[0mself\u001b[0m\u001b[0;34m.\u001b[0m\u001b[0m_get_activation_func\u001b[0m\u001b[0;34m(\u001b[0m\u001b[0mactivation_type\u001b[0m\u001b[0;34m)\u001b[0m\u001b[0;34m\u001b[0m\u001b[0;34m\u001b[0m\u001b[0m\n\u001b[0m\u001b[1;32m     41\u001b[0m \u001b[0;34m\u001b[0m\u001b[0m\n\u001b[1;32m     42\u001b[0m         \u001b[0mself\u001b[0m\u001b[0;34m.\u001b[0m\u001b[0mactivation\u001b[0m \u001b[0;34m=\u001b[0m \u001b[0mactivation\u001b[0m\u001b[0;34m\u001b[0m\u001b[0;34m\u001b[0m\u001b[0m\n",
      "\u001b[0;32m<ipython-input-7-5767f07c6d3c>\u001b[0m in \u001b[0;36m_get_activation_func\u001b[0;34m(self, activation_type)\u001b[0m\n\u001b[1;32m     28\u001b[0m \u001b[0;34m\u001b[0m\u001b[0m\n\u001b[1;32m     29\u001b[0m \u001b[0;34m\u001b[0m\u001b[0m\n\u001b[0;32m---> 30\u001b[0;31m         \u001b[0;32mreturn\u001b[0m \u001b[0mactivation_func\u001b[0m\u001b[0;34m,\u001b[0m \u001b[0mactivation_derivative_func\u001b[0m\u001b[0;34m\u001b[0m\u001b[0;34m\u001b[0m\u001b[0m\n\u001b[0m\u001b[1;32m     31\u001b[0m \u001b[0;34m\u001b[0m\u001b[0m\n\u001b[1;32m     32\u001b[0m     \u001b[0;32mdef\u001b[0m \u001b[0m__init__\u001b[0m\u001b[0;34m(\u001b[0m\u001b[0mself\u001b[0m\u001b[0;34m,\u001b[0m \u001b[0minput_size\u001b[0m\u001b[0;34m,\u001b[0m \u001b[0moutput_size\u001b[0m\u001b[0;34m,\u001b[0m \u001b[0mactivation_type\u001b[0m\u001b[0;34m)\u001b[0m\u001b[0;34m:\u001b[0m\u001b[0;34m\u001b[0m\u001b[0;34m\u001b[0m\u001b[0m\n",
      "\u001b[0;31mUnboundLocalError\u001b[0m: local variable 'activation_derivative_func' referenced before assignment"
     ]
    }
   ],
   "source": [
    "in_size = 1\n",
    "out_size = 1\n",
    "batch_size = 3\n",
    "\n",
    "l1 = DenseLayer(in_size,out_size,'relu')\n",
    "l1.activation_type\n",
    "\n",
    "l2 = DenseLayer(in_size,out_size, 'sigmoid')\n",
    "l2.activation_type\n",
    "\n",
    "\n",
    "X = np.array([[1.0, 2.0], \n",
    "              [1.0,4.0],\n",
    "             [0.0, 0.0]])\n",
    "\n",
    "print(f\"batch_size: {X.shape[0]}; in_size: {X.shape[1]}\")\n",
    "\n",
    "W = np.array([-1.0, 0.5]).reshape((1,2))\n",
    "W.shape\n",
    "print(f\"out_size: {W.shape[0]}; in_size: {W.shape[1]}\")\n",
    "\n",
    "b = np.zeros((1,))\n",
    "\n",
    "print(\"Expected Z\")\n",
    "W.dot(X[0,:])\n",
    "W.dot(X[1,:])\n",
    "W.dot(X[2,:])\n",
    "\n",
    "print(\"Layers output\")\n",
    "\n",
    "for k in range(batch_size):\n",
    "    \n",
    "    Xb = X[k,:]\n",
    "\n",
    "    l1.forward_propagation(Xb,W,b)\n",
    "    l2.forward_propagation(Xb,W,b)"
   ]
  },
  {
   "cell_type": "code",
   "execution_count": 17,
   "metadata": {},
   "outputs": [],
   "source": [
    "class NN():\n",
    "\n",
    "    def __init__(self, layers, learning_rate = 0.1, seed= 2021):\n",
    "        \n",
    "        self._seed = seed \n",
    "        np.random.seed(seed)\n",
    "\n",
    "        self.layers = layers\n",
    "        self.n_layers = len(layers)\n",
    "        self.params_values = {}\n",
    "\n",
    "        self._init_layer_parameter_random()\n",
    "        \n",
    "        loss, loss_derivative = self._get_loss('cross-entropy')\n",
    "        \n",
    "        self.loss = loss\n",
    "        self.loss_derivative = loss_derivative\n",
    "        \n",
    "        self.lr = learning_rate\n",
    "        \n",
    "\n",
    "    def _get_loss(loss_type):\n",
    "        \n",
    "        if loss_type == 'cross-entropy':\n",
    "            \n",
    "            def loss(y_hat, y):\n",
    "                \n",
    "                # J = - 1/m \\sum_1^m y log y_hat - (1 - y) log(1-y_hat)  <= cross entropy loss \n",
    "                m = y_hat.shape[1]\n",
    "                cost = -1.0 / m * (np.dot(y, np.log(y_hat).T) + np.dot(1.0 - y, np.log(1.0 - y_hat).T))\n",
    "                \n",
    "            return np.squeeze(cost)\n",
    "        \n",
    "        \n",
    "            def loss_derivative(y_hat, y):\n",
    "                \n",
    "                m = y_hat.shape[1]\n",
    "                \n",
    "                # y_hat is teh activation in the last Layer L: a^{[L]}\n",
    "                # dJ/da^[L] = dJ/dy_hat = y/y_hat - (1-y)/(1-y_hat)\n",
    "                da_prev =  -(np.divide(y, y_hat) - np.divide(1 - y, 1 - y_hat))/m\n",
    "            \n",
    "                return da_prev\n",
    "        else:\n",
    "            \n",
    "            # mse loss\n",
    "           \n",
    "            def loss(y_hat, y):\n",
    "                \n",
    "                # J = - 1/m \\sum_1^m y log y_hat - (1 - y) log(1-y_hat)  <= cross entropy loss \n",
    "                m = y_hat.shape[1]\n",
    "                cost = -0.5/m * np.dot((y - y_hat).t, (y - y_hat))\n",
    "                \n",
    "            return np.squeeze(cost)\n",
    "        \n",
    "        \n",
    "            def loss_derivative(y_hat, y):\n",
    "\n",
    "                m = y_hat.shape[1]\n",
    "                \n",
    "                # y_hat is teh activation in the last Layer L: a^{[L]}\n",
    "                # TODO: Review this equation. Maybe the constant is missing\n",
    "                # Should I include or not the term f'(z) the activation function\n",
    "                da_prev =  1.0/m * (y-y_hat)\n",
    "            \n",
    "                return da_prev\n",
    "            \n",
    "\n",
    "        return loss, loss_derivative\n",
    "        \n",
    "    # All bias are zero\n",
    "    def _init_layer_parameter_random(self):\n",
    "        \n",
    "        for idx, layer in enumerate(self.layers):\n",
    "            \n",
    "            layer_idx = idx + 1\n",
    "            \n",
    "            # We need initialize with small values. Because high values are regions with\n",
    "            # samall (almost vanish) gradients for sigmois, tanh funcitons\n",
    "            W = np.random.randn(layer.output_size, layer.input_size) * 0.01\n",
    "            self.params_values['W' + str(layer_idx)] =  W\n",
    "            \n",
    "            b = np.random.randn(layer.output_size, 1) * 0.01\n",
    "            self.params_values['b' + str(layer_idx)] = b\n",
    "\n",
    "    def _init_layer_paremeter_xavier(self):\n",
    "        \n",
    "        pass\n",
    "        \n",
    "        \n",
    "    def compile(self, optimizer,loss_type,metrcis):\n",
    "        \n",
    "        # TODO: Set this objects in the neral networks\n",
    "        pass\n",
    "        \n",
    "    def accuracy(self, y_hat, y):\n",
    "        \n",
    "        y_hat_ = convert_prob_into_class(y_hat)\n",
    "        \n",
    "        return (y_hat_ == y).all(axis=0).mean()\n",
    "\n",
    "        \n",
    "    def predict(self, X_in: np.array) -> np.array:\n",
    "        \n",
    "        y, _ = self.forward_propagation(X_in)\n",
    "        \n",
    "        return y\n",
    "     \n",
    "    def forward_propagation(self, X_in: np.array) -> Tuple[np.array, dict] : \n",
    "        # forward propagation\n",
    "        \n",
    "        memory = {}\n",
    "        # a^{[0]} = X_in. The first activation are the inputs\n",
    "        a_curr = X_in\n",
    "        \n",
    "        for idx, layer in enumerate(self.layers):\n",
    "            \n",
    "            layer_idx = idx + 1\n",
    "            a_prev = A_curr\n",
    "            \n",
    "            W_curr = self.params_values[\"W\" + str(layer_idx)]\n",
    "            b_curr = self.params_values[\"b\" + str(layer_idx)]\n",
    "            \n",
    "            a_curr, z_curr = layer.forward_propagation(a_curr, W_curr, b_curr) \n",
    "            \n",
    "            # Need this for back propagation \n",
    "            memory[\"a\" + str(idx)] = a_prev  # a^{[0]} = X_in\n",
    "            memory[\"z\" + str(layer_idx)] = z_curr\n",
    "    \n",
    "        return A_curr, memory\n",
    "    \n",
    "    def backward_propagation(y_hat, y, memory):\n",
    "        \n",
    "        gradients = {}\n",
    "        m = y.shape[1]\n",
    "        y = y.reshape(y_hat.shape)\n",
    "        \n",
    "        # d/da^{[L]}J \n",
    "        da_prev = self.loss_derivative(y_hat, y)\n",
    "        \n",
    "        for idx, layer in reversed(list(enumerate(layers))):\n",
    "    \n",
    "            layer_idx = idx + 1\n",
    "            print(f\"{idx}: {layer}\")\n",
    "            \n",
    "            da_curr = da_prev\n",
    "\n",
    "            a_prev = memory[\"a\" + str(layer_idx - 1)]\n",
    "            z = memory[\"z\" + str(layer_idx)]\n",
    "            \n",
    "            W = self.params_values[\"W\" + str(layer_idx)]\n",
    "            b = self.params_values[\"b\" + str(layer_idx)]\n",
    "            \n",
    "            da_prev, dW, db = layer.backward_propagation(da, W, b, z, a_prev)\n",
    "            \n",
    "            gradients[\"dW\" + str(layer_idx_curr)] = dW\n",
    "            gradients[\"db\" + str(layer_idx_curr)] = db\n",
    "            \n",
    "        return gradients\n",
    "    \n",
    "    def _update_parameters(self,grads_values):\n",
    "        \n",
    "        for idx, layer in enumerate(self.layers):\n",
    "            \n",
    "            layer_idx = idx + 1\n",
    "            \n",
    "            self.params_values[\"W\" + str(layer_idx)] -= self.lr * grads_values[\"dW\" + str(layer_idx)]        \n",
    "            self.params_values[\"b\" + str(layer_idx)] -= self.lr * grads_values[\"db\" + str(layer_idx)]\n",
    "\n",
    "    \n",
    "    def train(self, X, y, epochs=3):\n",
    "        \n",
    "        cost_history = []\n",
    "        accuracy_history = []\n",
    "        \n",
    "        # Gradient descent \n",
    "        for e in range(epochs):\n",
    "         \n",
    "            y_hat, memory = forward_propagation(X_in)\n",
    "            \n",
    "            cost = self.loss(y_hat, y)\n",
    "            acc = self.accuracy(y_hat, y)\n",
    "            \n",
    "            cost_history.append(cost)\n",
    "            accuracy_history.append(acc)\n",
    "           \n",
    "            #  da_prev, dW, db = grads\n",
    "            grads = self.backward_propagation(y_hat, y, memory)\n",
    "           \n",
    "            # update self.params_values\n",
    "            self._update(grads)\n",
    "            \n",
    "        return self.params_values, cost_history, accuracy_history\n",
    "        "
   ]
  },
  {
   "cell_type": "markdown",
   "metadata": {},
   "source": [
    "**TODO**:\n",
    " \n",
    "1. ~~validate forward~~ OK\n",
    "1. validate accuracy  this is easy\n",
    "1. validate loss function  easy\n",
    "1. validate layer backpropagation   this one is hard todo it\n",
    "1. validate update parameters This one is easy\n",
    "    "
   ]
  },
  {
   "cell_type": "code",
   "execution_count": 13,
   "metadata": {},
   "outputs": [
    {
     "name": "stdout",
     "output_type": "stream",
     "text": [
      "0: 3\n",
      "1: 2\n",
      "2: 1\n",
      "\n",
      "3: 3\n",
      "2: 2\n",
      "1: 1\n"
     ]
    }
   ],
   "source": [
    "layers = [1,2,3]\n",
    "\n",
    "\n",
    "for idx, layer in enumerate(list(reversed(layers))):\n",
    "    \n",
    "    print(f\"{idx}: {layer}\")\n",
    "    \n",
    "print()\n",
    "for idx, layer in reversed(list(enumerate(layers))):\n",
    "    \n",
    "    idx = idx + 1\n",
    "    \n",
    "    print(f\"{idx}: {layer}\")"
   ]
  },
  {
   "cell_type": "code",
   "execution_count": null,
   "metadata": {},
   "outputs": [],
   "source": [
    "# Code to compare or study.\n",
    "# The loss is mean square erro (mse = (y - y_hat)^2)\n",
    "def backpropagation(self,y, z_s, a_s):\n",
    "    \n",
    "    dw = []  # dC/dW\n",
    "    db = []  # dC/dB\n",
    "    \n",
    "    deltas = [None] * len(self.weights)  # delta = dC/dZ  known as error for each layer\n",
    "    \n",
    "    # insert the last layer error\n",
    "    # the derivative of mse: 2(y-y_hat)\n",
    "    deltas[-1] = ((y-a_s[-1])*(self.getDerivitiveActivationFunction(self.activations[-1]))(z_s[-1]))\n",
    "\n",
    "    # Perform BackPropagation\n",
    "    for i in reversed(range(len(deltas)-1)):\n",
    "    \n",
    "        deltas[i] = self.weights[i+1].T.dot(deltas[i+1])*(self.getDerivitiveActivationFunction(self.activations[i])(z_s[i]))        \n",
    "        batch_size = y.shape[1]\n",
    "        db = [d.dot(np.ones((batch_size,1)))/float(batch_size) for d in deltas]\n",
    "        dw = [d.dot(a_s[i].T)/float(batch_size) for i,d in enumerate(deltas)]\n",
    "        \n",
    "        # return the derivitives respect to weight matrix and biases\n",
    "    return dw, db\n"
   ]
  },
  {
   "cell_type": "markdown",
   "metadata": {},
   "source": [
    "tetsing parameter init with previous layers\n",
    "\n"
   ]
  },
  {
   "cell_type": "code",
   "execution_count": 5,
   "metadata": {},
   "outputs": [
    {
     "data": {
      "text/plain": [
       "{'W1': array([[0.01488609, 0.00676011]]),\n",
       " 'b1': array([[-0.00418451]]),\n",
       " 'W2': array([[-0.00806521]]),\n",
       " 'b2': array([[0.00555876]])}"
      ]
     },
     "execution_count": 5,
     "metadata": {},
     "output_type": "execute_result"
    },
    {
     "data": {
      "text/plain": [
       "array([0.49991546])"
      ]
     },
     "execution_count": 5,
     "metadata": {},
     "output_type": "execute_result"
    },
    {
     "data": {
      "text/plain": [
       "{'A0': array([1., 4.]),\n",
       " 'Z1': array([0.04192653]),\n",
       " 'A1': array([0.04192653]),\n",
       " 'Z2': array([-0.00033815])}"
      ]
     },
     "execution_count": 5,
     "metadata": {},
     "output_type": "execute_result"
    }
   ],
   "source": [
    "l1 = DenseLayer(input_size=2,output_size=1,activation_type = 'relu')\n",
    "l2 = DenseLayer(input_size=1,output_size=1,activation_type = 'sigmoid')\n",
    "\n",
    "layers = [l1,l2]\n",
    "\n",
    "nn = NN(layers)\n",
    "nn.params_values\n",
    "\n",
    "y , memory = nn.predict(X[1,:])\n",
    "y \n",
    "memory"
   ]
  },
  {
   "cell_type": "markdown",
   "metadata": {},
   "source": [
    "## Batch normalization  \n",
    "\n",
    "\n",
    "**TODO**\n",
    "\n",
    "* Read the paper. It explain the motivations, why there is trainable parameters and how the backpropagation is affected. There isn important conclusion regards the mistake of not including the dependency of x when doing back proagation of the bias parameter taht clears depend of the mean of the mini batch\n",
    "\n",
    "(Breaktrough in the area)\n",
    "refs:\n",
    "* https://towardsdatascience.com/understanding-batch-normalization-with-examples-in-numpy-and-tensorflow-with-interactive-code-7f59bb126642 <= very good in simple.\n",
    "* https://kevinzakka.github.io/2016/09/14/batch_normalization/\n",
    "* Batch Normalization: Accelerating Deep Network Training by Reducing Internal Covariate Shift (paper)\n",
    "    * Authors: Sergey Ioffe (same author of PLDA and works at Google) n Christian Szegedy (google)\n",
    "    * https://arxiv.org/pdf/1502.03167.pdf Paper **TODO** Read the paper. It is simple and easy to understand/ It is a good gain experience in reading paper  \n",
    "* https://www.tensorflow.org/api_docs/python/tf/keras/layers/BatchNormalization tensprflow doc\n",
    "\n",
    "\n",
    "refs:\n",
    "* https://www.deeplearningbook.org/contents/optimization.html\n",
    "* https://machinelearningmastery.com/batch-normalization-for-training-of-deep-neural-networks/\n",
    "* https://arxiv.org/pdf/1502.03167.pdf\n",
    "* https://arxiv.org/pdf/1702.03275.pdf\n",
    "* https://www.youtube.com/watch?v=nUUqwaxLnWs\n",
    "* https://arxiv.org/pdf/1805.11604.pdf\n",
    "* https://towardsdatascience.com/understanding-batch-normalization-with-examples-in-numpy-and-tensorflow-with-interactive-code-7f59bb126642 <= very good in simple.\n",
    "* https://towardsdatascience.com/lets-code-a-neural-network-in-plain-numpy-ae7e74410795    \n",
    "* https://machinelearningmastery.com/implement-backpropagation-algorithm-scratch-python/\n",
    "* https://towardsdatascience.com/batch-norm-explained-visually-how-it-works-and-why-neural-networks-need-it-b18919692739  <== good visual explanation (reduce gradients jiggling)\n",
    "\n",
    "* Batch normalization backpropagation\n",
    "    * https://kevinzakka.github.io/2016/09/14/batch_normalization/  with the equations\n",
    "    * https://arxiv.org/pdf/1502.03167.pdf  the paper is look like more clear\n",
    "\n",
    "\n",
    "Pros:\n",
    "* Batch Normalization is also a regularization technique. Not strong as dropout or l1 n l2\n",
    "* Train fast (you need less epochs)\n",
    "    * numerical stability. The models become less sensible to large learning rates. You can use much large learning rates and converge fast\n",
    "\n",
    "Eq from the original paper: https://arxiv.org/pdf/1502.03167.pdf\n",
    "\n",
    "\n",
    "$\n",
    "BN(Wx) = BN((aW)x) \\\\\n",
    "\\frac{\\partial}{\\partial x} BN((aW)x) \\equiv  \\frac{\\partial}{\\partial x} BN(Wx) \\\\\n",
    "\\frac{\\partial}{\\partial (aW)} BN((aW)x) \\equiv \\frac{1}{a} \\frac{\\partial}{\\partial W} BN(Wx)\n",
    "$\n",
    "\n",
    "    * minimizes jiggling because of reduce internal covarian shift (keep learnig rate constant, it still training fast because reduce jiggling while comparing with and without BN)\n",
    "    \n",
    "* DO not need dropout. You cannot use together\n",
    "* Good for deeper networks like **CNN** and **RNN** (Normally you need a large number of layers )\n",
    "* Minimize Gradient Vanish problems: \n",
    "    * helps to keep z = WX + b between [-4,4] where the gradients is not vanished for sigmoids functions. same for relu and tanh\n",
    "    * For this to be effective, us **BatchNorm layer before the activation of the layer**\n",
    "    * https://towardsdatascience.com/the-vanishing-gradient-problem-69bf08b15484\n",
    "    * \"We add the BN transform immediately before the\n",
    "nonlinearity, by normalizing\" page 5, from the paper https://arxiv.org/pdf/1502.03167.pdf\n",
    "\n",
    "Crons:\n",
    "* Useless in SGD. Only use wih Gradiwnt Descent or mini-batch. Because is the mean and std of the mini-batch and SGD has batch size = 1\n",
    "\n",
    "\n",
    "\n",
    "**It is being asked more often in the job interview**\n",
    "\n",
    "Batch normalization is the technique to improve the performance and stability of neural networks by normalizing the inputs in every layer so that they have mean output activation of zero and standard deviation of one.\n",
    "\n",
    "**Don’t Use With Dropout:**\n",
    "\n",
    "Batch normalization offers some regularization effect, reducing generalization error, perhaps no longer requiring the use of dropout for regularization.\n"
   ]
  },
  {
   "cell_type": "markdown",
   "metadata": {},
   "source": [
    "* Input are the values of x over a batch: $B = {x_1, x_2,..., x_i,..., x_m}$\n",
    "    * where $m$ is the batch size\n",
    "* Output: $y_i = BN_{\\gamma,\\beta}(x_i)$\n",
    "* Learning parameters: $\\gamma$ and $\\beta$\n",
    "* Normalization:\n",
    "\n",
    "$\n",
    "\\mu_B = \\frac{1}{m} \\sum_{i=1}^m x_i \\\\\n",
    "\\sigma_B^2 = \\frac{1}{m} \\sum_{i=1}^m (x_i - \\mu_B)^2 \\\\\n",
    "z_i = \\frac{x_i - \\mu_B}{\\sqrt{\\sigma^2_B + \\epsilon}} \\\\\n",
    "y_i = BN_{\\gamma,\\beta}(x_i) \\equiv \\gamma z_i + \\beta  \\text{ <= scale and shift} \n",
    "$\n",
    "\n",
    "\n",
    "Matrix formulation\n",
    "\n",
    "$\n",
    "\\mu_B = \\frac{1}{m}xˆt \\mathbb{1} \\\\\n",
    "v = \\frac{1}{m} (x-\\mu_B)ˆt(x-\\mu_B) \\\\\n",
    "z = (x-\\mu_B)\\sqrt{(v + \\epsilon)^{-1}} \\\\\n",
    "y = \\gamma z + \\beta \n",
    "$\n"
   ]
  },
  {
   "cell_type": "markdown",
   "metadata": {},
   "source": [
    "For gradients equatiosn:\n",
    "    \n",
    "* https://www.adityaagrawal.net/blog/deep_learning/bprop_batch_norm\n",
    "* https://kratzert.github.io/2016/02/12/understanding-the-gradient-flow-through-the-batch-normalization-layer.html  <== not sure the inverse is right need to test\n",
    "* https://chrisyeh96.github.io/2017/08/28/deriving-batchnorm-backprop.html <== complica demais mas da para usar para conferir, **MAS USA AS MESMAS EQ que EU na forma matricial**\n",
    "* https://kevinzakka.github.io/2016/09/14/batch_normalization/\n",
    "* papers teher is the eq: https://arxiv.org/pdf/1502.03167.pdf\n",
    "    "
   ]
  },
  {
   "cell_type": "code",
   "execution_count": 113,
   "metadata": {},
   "outputs": [
    {
     "data": {
      "text/plain": [
       "(3, 2)"
      ]
     },
     "execution_count": 113,
     "metadata": {},
     "output_type": "execute_result"
    },
    {
     "data": {
      "text/plain": [
       "array([[1, 2, 0],\n",
       "       [2, 2, 5]])"
      ]
     },
     "execution_count": 113,
     "metadata": {},
     "output_type": "execute_result"
    },
    {
     "name": "stdout",
     "output_type": "stream",
     "text": [
      "mean matrix\n"
     ]
    },
    {
     "data": {
      "text/plain": [
       "(2, 1)"
      ]
     },
     "execution_count": 113,
     "metadata": {},
     "output_type": "execute_result"
    },
    {
     "data": {
      "text/plain": [
       "array([[1.],\n",
       "       [3.]])"
      ]
     },
     "execution_count": 113,
     "metadata": {},
     "output_type": "execute_result"
    },
    {
     "name": "stdout",
     "output_type": "stream",
     "text": [
      "variance matrix\n"
     ]
    },
    {
     "data": {
      "text/plain": [
       "array([[ 0.66666667, -1.        ],\n",
       "       [-1.        ,  2.        ]])"
      ]
     },
     "execution_count": 113,
     "metadata": {},
     "output_type": "execute_result"
    },
    {
     "name": "stdout",
     "output_type": "stream",
     "text": [
      "conparing ith numpy var and covar \n"
     ]
    },
    {
     "data": {
      "text/plain": [
       "array([0.66666667, 2.        ])"
      ]
     },
     "execution_count": 113,
     "metadata": {},
     "output_type": "execute_result"
    },
    {
     "data": {
      "text/plain": [
       "array([[ 0.5,  0. ,  2.5],\n",
       "       [ 0. ,  0. ,  0. ],\n",
       "       [ 2.5,  0. , 12.5]])"
      ]
     },
     "execution_count": 113,
     "metadata": {},
     "output_type": "execute_result"
    },
    {
     "data": {
      "text/plain": [
       "array([[ 1. , -1.5],\n",
       "       [-1.5,  3. ]])"
      ]
     },
     "execution_count": 113,
     "metadata": {},
     "output_type": "execute_result"
    },
    {
     "name": "stdout",
     "output_type": "stream",
     "text": [
      "Inversion of v\n"
     ]
    },
    {
     "data": {
      "text/plain": [
       "array([[ 1.5, -1. ],\n",
       "       [-1. ,  2. ]])"
      ]
     },
     "execution_count": 113,
     "metadata": {},
     "output_type": "execute_result"
    },
    {
     "data": {
      "text/plain": [
       "array([[ 1.00000000e+00, -1.11022302e-16],\n",
       "       [-2.22044605e-16,  1.00000000e+00]])"
      ]
     },
     "execution_count": 113,
     "metadata": {},
     "output_type": "execute_result"
    }
   ],
   "source": [
    "x = np.array([[1,2],[2,2],[0,5]])\n",
    "x.shape\n",
    "x.T\n",
    "\n",
    "_ones = np.ones((3,1))\n",
    "\n",
    "print(\"mean matrix\")\n",
    "mu = np.matmul(x.T,_ones)/3.0\n",
    "mu.shape\n",
    "mu\n",
    "\n",
    "print(\"variance matrix\")\n",
    "# v is diagonal and epsilon is diagonal as well\n",
    "# the inverse of this matrix is the inverse of the non zero elements\n",
    "v = np.matmul((x- mu.T).T,(x - mu.T))/3.0\n",
    "v\n",
    "\n",
    "\n",
    "# comparing with np variance and covariance matrix\n",
    "print(\"conparing ith numpy var and covar \")\n",
    "np.var(x, axis=0)\n",
    "np.cov(x)\n",
    "np.cov(x.T)\n",
    "\n",
    "\n",
    "print(\"Inversion of v\")\n",
    "# np.linalg.inv(v)\n",
    "v_inv = v\n",
    "v_inv[0,0] = 3.0/2.0\n",
    "v_inv\n",
    "\n",
    "v_inv = np.linalg.inv(v)\n",
    "\n",
    "np.matmul(v,v_inv)\n",
    "\n",
    "# z \n",
    "# z = np.matmul((x-mu).T,(np.sqrt()))\n",
    "# z\n"
   ]
  },
  {
   "cell_type": "markdown",
   "metadata": {},
   "source": [
    "To find an expression for the gradients of Batch normalization we need to remember that:\n",
    "    \n",
    "$\n",
    "y = BN_{\\gamma,\\beta}(x) \\equiv y(\\gamma,\\beta,\\mu_B, \\sigma^2_B(\\mu_B)) =  y(\\gamma,\\beta,\\mu_B) \\\\ \n",
    "\\sigma^2_B  \\equiv\\sigma^2_B(\\mu_B) = \\frac{1}{m} (x - \\mu_B)^t(x - \\mu_B) \\\\\n",
    "z = z(\\mu_B) \\equiv \\frac{x - \\mu_B}{\\sqrt{\\sigma^2_B + \\epsilon}} \\\\\n",
    "$\n",
    "    \n",
    "You can write $\\mu_B$ in matrix formulation as:\n",
    "\n",
    "$\n",
    "\\mu_B = \\frac{1}{m}xˆt \\mathbb{1}_{1,d}\n",
    "$"
   ]
  },
  {
   "cell_type": "code",
   "execution_count": 21,
   "metadata": {},
   "outputs": [
    {
     "data": {
      "text/plain": [
       "array([2.87152147, 1.85580424, 2.26072622, 1.00925124, 2.84652559,\n",
       "       0.97547987, 2.91852008, 2.38156737, 2.589072  , 4.11549317])"
      ]
     },
     "execution_count": 21,
     "metadata": {},
     "output_type": "execute_result"
    },
    {
     "name": "stdout",
     "output_type": "stream",
     "text": [
      "shape: (10,); mean: 2.38; std: 0.89\n"
     ]
    }
   ],
   "source": [
    "# Batch\n",
    "X = np.random.uniform(0,5.0,size=(10))\n",
    "X\n",
    "\n",
    "print(f\"shape: {X.shape}; mean: {X.mean():.2f}; std: {X.std():.2f}\")\n"
   ]
  },
  {
   "cell_type": "code",
   "execution_count": 22,
   "metadata": {},
   "outputs": [
    {
     "data": {
      "text/plain": [
       "array([ 5.48732024e-01, -5.90764377e-01, -1.36497064e-01, -1.54048155e+00,\n",
       "        5.20690049e-01, -1.57836842e+00,  6.01458063e-01, -9.29752983e-04,\n",
       "        2.31862185e-01,  1.94429885e+00])"
      ]
     },
     "execution_count": 22,
     "metadata": {},
     "output_type": "execute_result"
    },
    {
     "data": {
      "text/plain": [
       "array([ 5.48732024e-01, -5.90764377e-01, -1.36497064e-01, -1.54048155e+00,\n",
       "        5.20690049e-01, -1.57836842e+00,  6.01458063e-01, -9.29752983e-04,\n",
       "        2.31862185e-01,  1.94429885e+00])"
      ]
     },
     "execution_count": 22,
     "metadata": {},
     "output_type": "execute_result"
    },
    {
     "name": "stdout",
     "output_type": "stream",
     "text": [
      "shape: (10,); mean: 0.00; std: 1.00\n"
     ]
    }
   ],
   "source": [
    "gamma = 1.0\n",
    "beta = 0.0\n",
    "epsilon = 0.0\n",
    "\n",
    "# because we did not train the layer, we are passing the mean and the variance of the batch\n",
    "Y = tf.nn.batch_normalization(X,\n",
    "                    mean = X.mean(axis=0),        # batch mean\n",
    "                    variance = X.var(axis=0),     # batch var\n",
    "                    offset = beta,scale = gamma,  # batch beta and gamma See equations  \n",
    "                    variance_epsilon = epsilon)   # batch epsilon See equations\n",
    "\n",
    "Y.numpy()\n",
    "\n",
    "# comparing with numpy\n",
    "\n",
    "Z = (X - X.mean(axis=0))/np.sqrt(X.var(axis=0) + epsilon)\n",
    "Y = gamma * Z + beta\n",
    "Y\n",
    "\n",
    "# Expectd zero mean and unit variance\n",
    "print(f\"shape: {Y.shape}; mean: {Y.mean():.2f}; std: {Y.std():.2f}\")"
   ]
  },
  {
   "cell_type": "markdown",
   "metadata": {},
   "source": [
    "### Ex: Model with Batch vs without batch noraliztion\n",
    "\n",
    "ref: https://analyticsindiamag.com/hands-on-guide-to-implement-batch-normalization-in-deep-learning-models/"
   ]
  },
  {
   "cell_type": "code",
   "execution_count": 36,
   "metadata": {},
   "outputs": [],
   "source": [
    "from keras.datasets import mnist\n",
    "\n",
    "(input_train, target_train), (input_test, target_test) = mnist.load_data()"
   ]
  },
  {
   "cell_type": "markdown",
   "metadata": {},
   "source": [
    "* Data preaparation"
   ]
  },
  {
   "cell_type": "code",
   "execution_count": 37,
   "metadata": {},
   "outputs": [
    {
     "data": {
      "text/plain": [
       "(60000, 28, 28)"
      ]
     },
     "execution_count": 37,
     "metadata": {},
     "output_type": "execute_result"
    },
    {
     "data": {
      "text/plain": [
       "(10000, 28, 28)"
      ]
     },
     "execution_count": 37,
     "metadata": {},
     "output_type": "execute_result"
    }
   ],
   "source": [
    "# Shape of the input sets\n",
    "input_train_shape = input_train.shape\n",
    "input_test_shape = input_test.shape \n",
    "\n",
    "input_train_shape\n",
    "input_test_shape\n",
    "\n",
    "# Normalize input data\n",
    "input_train = input_train / 255\n",
    "input_test = input_test / 255"
   ]
  },
  {
   "cell_type": "code",
   "execution_count": 39,
   "metadata": {},
   "outputs": [
    {
     "data": {
      "text/plain": [
       "<matplotlib.image.AxesImage at 0x151514c10>"
      ]
     },
     "execution_count": 39,
     "metadata": {},
     "output_type": "execute_result"
    },
    {
     "data": {
      "image/png": "[encoded data removed]",
      "text/plain": [
       "<Figure size 432x288 with 1 Axes>"
      ]
     },
     "metadata": {
      "needs_background": "light"
     },
     "output_type": "display_data"
    }
   ],
   "source": [
    "img = input_train[0,:,:]\n",
    "imshow(np.asarray(img))"
   ]
  },
  {
   "cell_type": "code",
   "execution_count": 40,
   "metadata": {},
   "outputs": [
    {
     "data": {
      "text/plain": [
       "(28, 28, 1)"
      ]
     },
     "execution_count": 40,
     "metadata": {},
     "output_type": "execute_result"
    },
    {
     "data": {
      "text/plain": [
       "0.0"
      ]
     },
     "execution_count": 40,
     "metadata": {},
     "output_type": "execute_result"
    },
    {
     "data": {
      "text/plain": [
       "0.13066062"
      ]
     },
     "execution_count": 40,
     "metadata": {},
     "output_type": "execute_result"
    },
    {
     "data": {
      "text/plain": [
       "1.0"
      ]
     },
     "execution_count": 40,
     "metadata": {},
     "output_type": "execute_result"
    }
   ],
   "source": [
    "# Keras layer input shape\n",
    "input_shape = (input_train_shape[1], input_train_shape[2], 1)\n",
    "\n",
    "input_shape\n",
    "\n",
    "# Reshape the training data to include channels\n",
    "input_train = input_train.reshape(input_train_shape[0], input_train_shape[1], input_train_shape[2], 1)\n",
    "\n",
    "input_test = input_test.reshape(input_test_shape[0], input_test_shape[1], input_test_shape[2], 1)\n",
    "\n",
    "# Parse numbers as floats\n",
    "input_train = input_train.astype('float32')\n",
    "input_test = input_test.astype('float32')\n",
    "\n",
    "input_train.min()\n",
    "input_train.mean()\n",
    "input_train.max()"
   ]
  },
  {
   "cell_type": "code",
   "execution_count": 41,
   "metadata": {},
   "outputs": [],
   "source": [
    "# Model configuration\n",
    "batch_size = 250\n",
    "no_epochs = 10\n",
    "no_classes = 10\n",
    "validation_split = 0.2\n",
    "verbosity = 1"
   ]
  },
  {
   "cell_type": "code",
   "execution_count": 42,
   "metadata": {},
   "outputs": [
    {
     "name": "stdout",
     "output_type": "stream",
     "text": [
      "Model: \"sequential_5\"\n",
      "_________________________________________________________________\n",
      "Layer (type)                 Output Shape              Param #   \n",
      "=================================================================\n",
      "conv2d_10 (Conv2D)           (None, 26, 26, 32)        320       \n",
      "_________________________________________________________________\n",
      "max_pooling2d_10 (MaxPooling (None, 13, 13, 32)        0         \n",
      "_________________________________________________________________\n",
      "conv2d_11 (Conv2D)           (None, 11, 11, 64)        18496     \n",
      "_________________________________________________________________\n",
      "max_pooling2d_11 (MaxPooling (None, 5, 5, 64)          0         \n",
      "_________________________________________________________________\n",
      "flatten_5 (Flatten)          (None, 1600)              0         \n",
      "_________________________________________________________________\n",
      "dense_9 (Dense)              (None, 256)               409856    \n",
      "_________________________________________________________________\n",
      "dense_10 (Dense)             (None, 10)                2570      \n",
      "=================================================================\n",
      "Total params: 431,242\n",
      "Trainable params: 431,242\n",
      "Non-trainable params: 0\n",
      "_________________________________________________________________\n"
     ]
    }
   ],
   "source": [
    "model = tf.keras.Sequential()\n",
    "model.add(tf.keras.layers.Conv2D(32, kernel_size=(3, 3), activation='relu', input_shape=input_shape))\n",
    "model.add(tf.keras.layers.MaxPooling2D(pool_size=(2, 2)))\n",
    "model.add(tf.keras.layers.Conv2D(64, kernel_size=(3, 3), activation='relu'))\n",
    "model.add(tf.keras.layers.MaxPooling2D(pool_size=(2, 2)))\n",
    "model.add(tf.keras.layers.Flatten())\n",
    "model.add(tf.keras.layers.Dense(256, activation='relu'))\n",
    "model.add(tf.keras.layers.Dense(no_classes, activation='softmax'))\n",
    "\n",
    "\n",
    "model.summary()\n"
   ]
  },
  {
   "cell_type": "code",
   "execution_count": 43,
   "metadata": {},
   "outputs": [
    {
     "name": "stdout",
     "output_type": "stream",
     "text": [
      "Epoch 1/10\n",
      "192/192 [==============================] - 31s 161ms/step - loss: 0.2906 - accuracy: 0.9176 - val_loss: 0.0886 - val_accuracy: 0.9734\n",
      "Epoch 2/10\n",
      "192/192 [==============================] - 32s 167ms/step - loss: 0.0681 - accuracy: 0.9789 - val_loss: 0.0611 - val_accuracy: 0.9812\n",
      "Epoch 3/10\n",
      "192/192 [==============================] - 31s 159ms/step - loss: 0.0488 - accuracy: 0.9851 - val_loss: 0.0452 - val_accuracy: 0.9869\n",
      "Epoch 4/10\n",
      "192/192 [==============================] - 30s 157ms/step - loss: 0.0356 - accuracy: 0.9895 - val_loss: 0.0425 - val_accuracy: 0.9875\n",
      "Epoch 5/10\n",
      "192/192 [==============================] - 30s 159ms/step - loss: 0.0282 - accuracy: 0.9912 - val_loss: 0.0474 - val_accuracy: 0.9869\n",
      "Epoch 6/10\n",
      "192/192 [==============================] - 28s 148ms/step - loss: 0.0231 - accuracy: 0.9929 - val_loss: 0.0386 - val_accuracy: 0.9887\n",
      "Epoch 7/10\n",
      "192/192 [==============================] - 28s 146ms/step - loss: 0.0178 - accuracy: 0.9945 - val_loss: 0.0368 - val_accuracy: 0.9891\n",
      "Epoch 8/10\n",
      "192/192 [==============================] - 28s 147ms/step - loss: 0.0154 - accuracy: 0.9952 - val_loss: 0.0364 - val_accuracy: 0.9895\n",
      "Epoch 9/10\n",
      "192/192 [==============================] - 28s 147ms/step - loss: 0.0115 - accuracy: 0.9962 - val_loss: 0.0431 - val_accuracy: 0.9878\n",
      "Epoch 10/10\n",
      "192/192 [==============================] - 27s 143ms/step - loss: 0.0091 - accuracy: 0.9973 - val_loss: 0.0412 - val_accuracy: 0.9897\n",
      "Test loss: 0.03152180835604668 / Test accuracy: 0.9901999831199646\n"
     ]
    }
   ],
   "source": [
    "# Compile the model\n",
    "model.compile(loss=tf.keras.losses.sparse_categorical_crossentropy,\n",
    "              optimizer=tf.keras.optimizers.Adam(),\n",
    "              metrics=['accuracy'])\n",
    "\n",
    "print(f\"default lr: {tf.keras.backend.get_value(model.optimizer.lr)}\")\n",
    "\n",
    "# Fit data to model\n",
    "history = model.fit(input_train, target_train,\n",
    "            batch_size=batch_size,\n",
    "            epochs=no_epochs,\n",
    "            verbose=verbosity,\n",
    "            validation_split=validation_split)\n",
    "\n",
    "# Generate generalization metric  s\n",
    "score = model.evaluate(input_test, target_test, verbose=0)\n",
    "print(f'Test loss: {score[0]} / Test accuracy: {score[1]}')"
   ]
  },
  {
   "cell_type": "code",
   "execution_count": 120,
   "metadata": {},
   "outputs": [
    {
     "name": "stdout",
     "output_type": "stream",
     "text": [
      "Model: \"sequential_11\"\n",
      "_________________________________________________________________\n",
      "Layer (type)                 Output Shape              Param #   \n",
      "=================================================================\n",
      "conv2d_21 (Conv2D)           (None, 26, 26, 32)        320       \n",
      "_________________________________________________________________\n",
      "batch_normalization_10 (Batc (None, 26, 26, 32)        128       \n",
      "_________________________________________________________________\n",
      "max_pooling2d_18 (MaxPooling (None, 13, 13, 32)        0         \n",
      "_________________________________________________________________\n",
      "batch_normalization_11 (Batc (None, 13, 13, 32)        128       \n",
      "_________________________________________________________________\n",
      "conv2d_22 (Conv2D)           (None, 11, 11, 64)        18496     \n",
      "_________________________________________________________________\n",
      "batch_normalization_12 (Batc (None, 11, 11, 64)        256       \n",
      "_________________________________________________________________\n",
      "max_pooling2d_19 (MaxPooling (None, 5, 5, 64)          0         \n",
      "_________________________________________________________________\n",
      "batch_normalization_13 (Batc (None, 5, 5, 64)          256       \n",
      "_________________________________________________________________\n",
      "flatten_9 (Flatten)          (None, 1600)              0         \n",
      "_________________________________________________________________\n",
      "dense_18 (Dense)             (None, 256)               409856    \n",
      "_________________________________________________________________\n",
      "batch_normalization_14 (Batc (None, 256)               1024      \n",
      "_________________________________________________________________\n",
      "dense_19 (Dense)             (None, 10)                2570      \n",
      "=================================================================\n",
      "Total params: 433,034\n",
      "Trainable params: 432,138\n",
      "Non-trainable params: 896\n",
      "_________________________________________________________________\n"
     ]
    }
   ],
   "source": [
    "model_batch = tf.keras.Sequential()\n",
    "\n",
    "# add layer and batch normalizations layers\n",
    "model_batch.add(tf.keras.layers.Conv2D(32, kernel_size=(3, 3), activation='relu', input_shape=input_shape))\n",
    "model_batch.add(tf.keras.layers.BatchNormalization())\n",
    "model_batch.add(tf.keras.layers.MaxPooling2D(pool_size=(2, 2)))\n",
    "model_batch.add(tf.keras.layers.BatchNormalization())\n",
    "model_batch.add(tf.keras.layers.Conv2D(64, kernel_size=(3, 3), activation='relu'))\n",
    "model_batch.add(tf.keras.layers.BatchNormalization())\n",
    "model_batch.add(tf.keras.layers.MaxPooling2D(pool_size=(2, 2)))\n",
    "model_batch.add(tf.keras.layers.BatchNormalization())\n",
    "model_batch.add(tf.keras.layers.Flatten())\n",
    "model_batch.add(tf.keras.layers.Dense(256, activation='relu'))\n",
    "model_batch.add(tf.keras.layers.BatchNormalization())\n",
    "model_batch.add(tf.keras.layers.Dense(no_classes, activation='softmax'))\n",
    "\n",
    "model_batch.summary()"
   ]
  },
  {
   "cell_type": "code",
   "execution_count": 121,
   "metadata": {},
   "outputs": [
    {
     "name": "stdout",
     "output_type": "stream",
     "text": [
      "default lr: 0.009999999776482582\n",
      "Epoch 1/10\n",
      "192/192 [==============================] - 55s 280ms/step - loss: 0.1119 - accuracy: 0.9657 - val_loss: 5.0127 - val_accuracy: 0.1088\n",
      "Epoch 2/10\n",
      "192/192 [==============================] - 54s 283ms/step - loss: 0.0406 - accuracy: 0.9871 - val_loss: 1.0008 - val_accuracy: 0.7089\n",
      "Epoch 3/10\n",
      "192/192 [==============================] - 55s 286ms/step - loss: 0.0266 - accuracy: 0.9915 - val_loss: 0.0548 - val_accuracy: 0.9847\n",
      "Epoch 4/10\n",
      "192/192 [==============================] - 48s 250ms/step - loss: 0.0230 - accuracy: 0.9925 - val_loss: 0.1054 - val_accuracy: 0.9737\n",
      "Epoch 5/10\n",
      "192/192 [==============================] - 50s 261ms/step - loss: 0.0189 - accuracy: 0.9936 - val_loss: 0.0968 - val_accuracy: 0.9781\n",
      "Epoch 6/10\n",
      "192/192 [==============================] - 50s 260ms/step - loss: 0.0146 - accuracy: 0.9949 - val_loss: 0.0630 - val_accuracy: 0.9857\n",
      "Epoch 7/10\n",
      "192/192 [==============================] - 44s 231ms/step - loss: 0.0148 - accuracy: 0.9950 - val_loss: 0.0528 - val_accuracy: 0.9881\n",
      "Epoch 8/10\n",
      "192/192 [==============================] - 46s 238ms/step - loss: 0.0140 - accuracy: 0.9954 - val_loss: 0.1021 - val_accuracy: 0.9797\n",
      "Epoch 9/10\n",
      "192/192 [==============================] - 50s 261ms/step - loss: 0.0092 - accuracy: 0.9971 - val_loss: 0.0783 - val_accuracy: 0.9817\n",
      "Epoch 10/10\n",
      "192/192 [==============================] - 48s 252ms/step - loss: 0.0123 - accuracy: 0.9961 - val_loss: 0.0549 - val_accuracy: 0.9893\n",
      "Test loss: 0.04337843507528305 / Test accuracy: 0.9907000064849854\n"
     ]
    }
   ],
   "source": [
    "# Compile the model\n",
    "model_batch.compile(loss=tf.keras.losses.sparse_categorical_crossentropy,\n",
    "              optimizer=tf.keras.optimizers.Adam(lr=0.01),\n",
    "              metrics=['accuracy'])\n",
    "\n",
    "print(f\"default lr: {tf.keras.backend.get_value(model_batch.optimizer.lr)}\")\n",
    "\n",
    "# Fit data to model\n",
    "history_batch = model_batch.fit(input_train, target_train,\n",
    "            batch_size=batch_size,\n",
    "            epochs=no_epochs,\n",
    "            verbose=verbosity,\n",
    "            validation_split=validation_split)\n",
    "\n",
    "# Generate generalization metric  s\n",
    "score = model_batch.evaluate(input_test, target_test, verbose=0)\n",
    "print(f'Test loss: {score[0]} / Test accuracy: {score[1]}')"
   ]
  },
  {
   "cell_type": "code",
   "execution_count": 119,
   "metadata": {},
   "outputs": [
    {
     "data": {
      "text/plain": [
       "[<matplotlib.lines.Line2D at 0x152372940>]"
      ]
     },
     "execution_count": 119,
     "metadata": {},
     "output_type": "execute_result"
    },
    {
     "data": {
      "text/plain": [
       "[<matplotlib.lines.Line2D at 0x152372c10>]"
      ]
     },
     "execution_count": 119,
     "metadata": {},
     "output_type": "execute_result"
    },
    {
     "data": {
      "text/plain": [
       "[<matplotlib.lines.Line2D at 0x152384100>]"
      ]
     },
     "execution_count": 119,
     "metadata": {},
     "output_type": "execute_result"
    },
    {
     "data": {
      "text/plain": [
       "[<matplotlib.lines.Line2D at 0x1523842e0>]"
      ]
     },
     "execution_count": 119,
     "metadata": {},
     "output_type": "execute_result"
    },
    {
     "data": {
      "text/plain": [
       "Text(0.5, 1.0, 'model accuracy')"
      ]
     },
     "execution_count": 119,
     "metadata": {},
     "output_type": "execute_result"
    },
    {
     "data": {
      "text/plain": [
       "Text(0, 0.5, 'accuracy')"
      ]
     },
     "execution_count": 119,
     "metadata": {},
     "output_type": "execute_result"
    },
    {
     "data": {
      "text/plain": [
       "Text(0.5, 0, 'epoch')"
      ]
     },
     "execution_count": 119,
     "metadata": {},
     "output_type": "execute_result"
    },
    {
     "data": {
      "text/plain": [
       "<matplotlib.legend.Legend at 0x14e6883d0>"
      ]
     },
     "execution_count": 119,
     "metadata": {},
     "output_type": "execute_result"
    },
    {
     "data": {
      "text/plain": [
       "(0.9, 1.01)"
      ]
     },
     "execution_count": 119,
     "metadata": {},
     "output_type": "execute_result"
    },
    {
     "data": {
      "image/png": "[encoded data removed]",
      "text/plain": [
       "<Figure size 432x288 with 1 Axes>"
      ]
     },
     "metadata": {
      "needs_background": "light"
     },
     "output_type": "display_data"
    }
   ],
   "source": [
    "# Show dont tell me\n",
    "\n",
    "plt.plot(history.history['accuracy'])\n",
    "plt.plot(history.history['val_accuracy'])\n",
    "plt.plot(history_batch.history['accuracy'])\n",
    "plt.plot(history_batch.history['val_accuracy'])\n",
    "plt.title('model accuracy')\n",
    "plt.ylabel('accuracy')\n",
    "plt.xlabel('epoch')\n",
    "plt.legend(['no batch: train', 'no batch: test','batch norm: train', 'batch norm:test'], loc='lower right')\n",
    "plt.ylim(0.9,1.01)\n",
    "plt.show()"
   ]
  },
  {
   "cell_type": "markdown",
   "metadata": {},
   "source": [
    "## Famous Neural Network archictecture"
   ]
  },
  {
   "cell_type": "markdown",
   "metadata": {},
   "source": [
    "### Resnet50: Deep Residual Learning for Image Recognition\n"
   ]
  },
  {
   "cell_type": "markdown",
   "metadata": {},
   "source": [
    "\n",
    "* SOTA: 1st place on the ILSVRC 2015 (object localization/detection and image/scene classification 1k classes)\n",
    "* https://github.com/keras-team/keras/blob/v2.6.0/keras/applications/resnet.py#L440-L459\n",
    "* paper: https://arxiv.org/abs/1512.03385\n",
    "* archictecture:\n",
    "    * Conv2d -> Conv2d -> MaxPooling2d: 12 Conv2 Layers\n",
    "        \n",
    "```python \n",
    "# Block 4\n",
    "  x = layers.Conv2D(\n",
    "      512, (3, 3), activation='relu', padding='same', name='block4_conv1')(x)\n",
    "  x = layers.Conv2D(\n",
    "      512, (3, 3), activation='relu', padding='same', name='block4_conv2')(x)\n",
    "  x = layers.Conv2D(\n",
    "      512, (3, 3), activation='relu', padding='same', name='block4_conv3')(x)\n",
    "  x = layers.MaxPooling2D((2, 2), strides=(2, 2), name='block4_pool')(x)\n",
    "```\n"
   ]
  },
  {
   "cell_type": "markdown",
   "metadata": {},
   "source": [
    "### VGG\n",
    "\n",
    "* https://github.com/keras-team/keras/blob/v2.6.0/keras/applications/vgg16.py#L43-L224\n",
    "*  ILSVRC 2015 \n",
    "* archictecture:\n",
    "    * Conv2d -> BatchNormalization -> Activation(\"relu\"): \n",
    "    "
   ]
  },
  {
   "cell_type": "markdown",
   "metadata": {},
   "source": [
    "### BERT\n",
    "\n",
    "https://github.com/google-research/bert\n",
    "    \n",
    "* Droput\n",
    "* Dense layers \n",
    "* layer_nomalization But the code is hard to understand\n",
    "* SMooth Relu: https://arxiv.org/pdf/1606.08415.pdf"
   ]
  },
  {
   "cell_type": "markdown",
   "metadata": {},
   "source": [
    "### Xvectors\n",
    "\n",
    "* Layers: 8\n",
    "* #param: 6M\n",
    "* Arch\n",
    "    * TDNN and mean and std pooling\n",
    "    * activations Relu and affine \n",
    "    * Softmax in the output"
   ]
  },
  {
   "cell_type": "markdown",
   "metadata": {},
   "source": [
    "### Alexnet \n",
    "\n",
    "refs:\n",
    "* https://medium.com/swlh/alexnet-with-tensorflow-46f366559ce8\n",
    "* https://en.wikipedia.org/wiki/AlexNet\n",
    "* Paper 2012 Imagenet competition (BEfore BAtchNormalization paper)\n",
    "\n",
    "Utilizes Dropout and does not use BatchNormalization ()\n"
   ]
  },
  {
   "cell_type": "code",
   "execution_count": 60,
   "metadata": {},
   "outputs": [],
   "source": [
    "import keras.datasets as datasets\n",
    "\n",
    "(x_train,y_train),(x_test,y_test) = datasets.mnist.load_data()\n",
    "x_train = tf.pad(x_train, [[0, 0], [2,2], [2,2]])/255\n",
    "x_test = tf.pad(x_test, [[0, 0], [2,2], [2,2]])/255\n",
    "x_train = tf.expand_dims(x_train, axis=3, name=None)\n",
    "x_test = tf.expand_dims(x_test, axis=3, name=None)\n",
    "x_train = tf.repeat(x_train, 3, axis=3)\n",
    "x_test = tf.repeat(x_test, 3, axis=3)\n",
    "x_val = x_train[-2000:,:,:,:]\n",
    "y_val = y_train[-2000:]\n",
    "x_train = x_train[:-2000,:,:,:]\n",
    "y_train = y_train[:-2000]"
   ]
  },
  {
   "cell_type": "code",
   "execution_count": 61,
   "metadata": {},
   "outputs": [
    {
     "name": "stdout",
     "output_type": "stream",
     "text": [
      "Model: \"sequential_9\"\n",
      "_________________________________________________________________\n",
      "Layer (type)                 Output Shape              Param #   \n",
      "=================================================================\n",
      "resizing (Resizing)          (None, 224, 224, 3)       0         \n",
      "_________________________________________________________________\n",
      "conv2d_14 (Conv2D)           (None, 56, 56, 96)        34944     \n",
      "_________________________________________________________________\n",
      "lambda (Lambda)              (None, 56, 56, 96)        0         \n",
      "_________________________________________________________________\n",
      "activation (Activation)      (None, 56, 56, 96)        0         \n",
      "_________________________________________________________________\n",
      "max_pooling2d_14 (MaxPooling (None, 27, 27, 96)        0         \n",
      "_________________________________________________________________\n",
      "conv2d_15 (Conv2D)           (None, 7, 7, 256)         614656    \n",
      "_________________________________________________________________\n",
      "lambda_1 (Lambda)            (None, 7, 7, 256)         0         \n",
      "_________________________________________________________________\n",
      "activation_1 (Activation)    (None, 7, 7, 256)         0         \n",
      "_________________________________________________________________\n",
      "max_pooling2d_15 (MaxPooling (None, 3, 3, 256)         0         \n",
      "_________________________________________________________________\n",
      "conv2d_16 (Conv2D)           (None, 1, 1, 384)         885120    \n",
      "_________________________________________________________________\n",
      "activation_2 (Activation)    (None, 1, 1, 384)         0         \n",
      "_________________________________________________________________\n",
      "conv2d_17 (Conv2D)           (None, 1, 1, 384)         1327488   \n",
      "_________________________________________________________________\n",
      "activation_3 (Activation)    (None, 1, 1, 384)         0         \n",
      "_________________________________________________________________\n",
      "conv2d_18 (Conv2D)           (None, 1, 1, 256)         884992    \n",
      "_________________________________________________________________\n",
      "activation_4 (Activation)    (None, 1, 1, 256)         0         \n",
      "_________________________________________________________________\n",
      "flatten_7 (Flatten)          (None, 256)               0         \n",
      "_________________________________________________________________\n",
      "dense_13 (Dense)             (None, 4096)              1052672   \n",
      "_________________________________________________________________\n",
      "dropout (Dropout)            (None, 4096)              0         \n",
      "_________________________________________________________________\n",
      "dense_14 (Dense)             (None, 4096)              16781312  \n",
      "_________________________________________________________________\n",
      "dropout_1 (Dropout)          (None, 4096)              0         \n",
      "_________________________________________________________________\n",
      "dense_15 (Dense)             (None, 10)                40970     \n",
      "=================================================================\n",
      "Total params: 21,622,154\n",
      "Trainable params: 21,622,154\n",
      "Non-trainable params: 0\n",
      "_________________________________________________________________\n"
     ]
    }
   ],
   "source": [
    "\n",
    "model = tf.keras.Sequential()\n",
    "\n",
    "# Convolutions: 5 layers\n",
    "model.add(tf.keras.layers.experimental.preprocessing.Resizing(224, 224, interpolation=\"bilinear\", input_shape=x_train.shape[1:]))\n",
    "model.add(tf.keras.layers.Conv2D(96, 11, strides=4, padding='same'))\n",
    "model.add(tf.keras.layers.Lambda(tf.nn.local_response_normalization))\n",
    "model.add(tf.keras.layers.Activation('relu'))\n",
    "model.add(tf.keras.layers.MaxPooling2D(3, strides=2))\n",
    "model.add(tf.keras.layers.Conv2D(256, 5, strides=4, padding='same'))\n",
    "model.add(tf.keras.layers.Lambda(tf.nn.local_response_normalization))\n",
    "model.add(tf.keras.layers.Activation('relu'))\n",
    "model.add(tf.keras.layers.MaxPooling2D(3, strides=2))\n",
    "model.add(tf.keras.layers.Conv2D(384, 3, strides=4, padding='same'))\n",
    "model.add(tf.keras.layers.Activation('relu'))\n",
    "model.add(tf.keras.layers.Conv2D(384, 3, strides=4, padding='same'))\n",
    "model.add(tf.keras.layers.Activation('relu'))\n",
    "model.add(tf.keras.layers.Conv2D(256, 3, strides=4, padding='same'))\n",
    "model.add(tf.keras.layers.Activation('relu'))\n",
    "\n",
    "\n",
    "model.add(tf.keras.layers.Flatten())\n",
    "\n",
    "# Dense with Dropout\n",
    "model.add(tf.keras.layers.Dense(4096, activation='relu'))\n",
    "model.add(tf.keras.layers.Dropout(0.5))\n",
    "model.add(tf.keras.layers.Dense(4096, activation='relu'))\n",
    "model.add(tf.keras.layers.Dropout(0.5))\n",
    "model.add(tf.keras.layers.Dense(10, activation='softmax'))\n",
    "\n",
    "model.summary()\n"
   ]
  },
  {
   "cell_type": "code",
   "execution_count": 123,
   "metadata": {},
   "outputs": [],
   "source": [
    "?tf.keras.layers.Conv2D"
   ]
  },
  {
   "cell_type": "code",
   "execution_count": null,
   "metadata": {},
   "outputs": [],
   "source": []
  }
 ],
 "metadata": {
  "kernelspec": {
   "display_name": "Python 3",
   "language": "python",
   "name": "python3"
  },
  "language_info": {
   "codemirror_mode": {
    "name": "ipython",
    "version": 3
   },
   "file_extension": ".py",
   "mimetype": "text/x-python",
   "name": "python",
   "nbconvert_exporter": "python",
   "pygments_lexer": "ipython3",
   "version": "3.9.2"
  },
  "latex_envs": {
   "LaTeX_envs_menu_present": true,
   "autoclose": false,
   "autocomplete": true,
   "bibliofile": "biblio.bib",
   "cite_by": "apalike",
   "current_citInitial": 1,
   "eqLabelWithNumbers": true,
   "eqNumInitial": 1,
   "hotkeys": {
    "equation": "Ctrl-E",
    "itemize": "Ctrl-I"
   },
   "labels_anchors": false,
   "latex_user_defs": false,
   "report_style_numbering": false,
   "user_envs_cfg": false
  },
  "toc": {
   "base_numbering": 1,
   "nav_menu": {},
   "number_sections": true,
   "sideBar": true,
   "skip_h1_title": true,
   "title_cell": "Table of Contents",
   "title_sidebar": "Contents",
   "toc_cell": false,
   "toc_position": {
    "height": "calc(100% - 180px)",
    "left": "10px",
    "top": "150px",
    "width": "301.594px"
   },
   "toc_section_display": true,
   "toc_window_display": true
  },
  "varInspector": {
   "cols": {
    "lenName": 16,
    "lenType": 16,
    "lenVar": 40
   },
   "kernels_config": {
    "python": {
     "delete_cmd_postfix": "",
     "delete_cmd_prefix": "del ",
     "library": "var_list.py",
     "varRefreshCmd": "print(var_dic_list())"
    },
    "r": {
     "delete_cmd_postfix": ") ",
     "delete_cmd_prefix": "rm(",
     "library": "var_list.r",
     "varRefreshCmd": "cat(var_dic_list()) "
    }
   },
   "types_to_exclude": [
    "module",
    "function",
    "builtin_function_or_method",
    "instance",
    "_Feature"
   ],
   "window_display": false
  }
 },
 "nbformat": 4,
 "nbformat_minor": 4
}
