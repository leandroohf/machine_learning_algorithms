{
 "cells": [
  {
   "cell_type": "markdown",
   "metadata": {},
   "source": [
    "# Understanding the code and loss funtion\n",
    "\n",
    "refs:\n",
    "* https://github.com/TeaPearce/Deep_Learning_Prediction_Intervals\n",
    "* https://arxiv.org/pdf/1802.07167.pdf\n",
    "    * High-Quality Prediction Intervals for Deep Learning: A Distribution-Free, Ensembled Approach\n",
    "\n",
    "**Goals**\n",
    "\n",
    "* Understand mpiw vs coverage term and pcip \n",
    "    * The model minimize first coverage term and then start minimize mpiw by decreasing PCIP?\n",
    "    * WHta happened if initial parameters start with very low PCIP? It is better start with PICP 100%?\n",
    "    * Why divide y by 5? in the original code\n",
    "\n",
    "* Work linear regression wher you control the error\n",
    "    * learn how to sacrifies picp to have narrow pi"
   ]
  },
  {
   "cell_type": "markdown",
   "metadata": {},
   "source": [
    "## Notes"
   ]
  },
  {
   "cell_type": "markdown",
   "metadata": {},
   "source": [
    "**findings** \n",
    "\n",
    "* mpiw vs coverage term behavor\n",
    "    1. DNN set a wide pi range, picp become 1.00 \n",
    "    1. Then the optmization try to reduce mpiw\n",
    "    1. when mpiw start to become as narrow as possible, picp increase alittle bit\n",
    "    \n",
    "* Trade mpiw per picip.\n",
    "    * It is not possible ot trade mpiw per pcip. Once the algo get the region where coverage terms is constant ans equal zero, it cannot recovery for that reagion anymore. Intiuition is related to derivatives equal to zero\n",
    "    * Or it is very hard to get that"
   ]
  },
  {
   "cell_type": "code",
   "execution_count": 2,
   "metadata": {},
   "outputs": [],
   "source": [
    "import IPython\n",
    "from IPython.core.interactiveshell import InteractiveShell\n",
    "\n",
    "InteractiveShell.ast_node_interactivity = \"all\""
   ]
  },
  {
   "cell_type": "code",
   "execution_count": 3,
   "metadata": {
    "tags": []
   },
   "outputs": [],
   "source": [
    "import numpy as np\n",
    "import matplotlib.pyplot as plt\n",
    "from keras.models import Sequential\n",
    "from keras.layers import Dense, Activation\n",
    "import keras\n",
    "from keras import backend as K\n",
    "import tensorflow as tf"
   ]
  },
  {
   "cell_type": "code",
   "execution_count": 4,
   "metadata": {},
   "outputs": [],
   "source": [
    "from utils import qd_objective, mpiw_pct, mpiw, picp,mpiw_pct_metric, mpiw_metric,picp_metric"
   ]
  },
  {
   "cell_type": "code",
   "execution_count": 5,
   "metadata": {},
   "outputs": [
    {
     "data": {
      "text/plain": [
       "['/usr/lib/python36.zip',\n",
       " '/usr/lib/python3.6',\n",
       " '/usr/lib/python3.6/lib-dynload',\n",
       " '',\n",
       " '/home/ubuntu/.local/lib/python3.6/site-packages',\n",
       " '/usr/local/lib/python3.6/dist-packages',\n",
       " '/usr/lib/python3/dist-packages',\n",
       " '/home/ubuntu/.local/lib/python3.6/site-packages/IPython/extensions',\n",
       " '/home/ubuntu/.ipython']"
      ]
     },
     "execution_count": 5,
     "metadata": {},
     "output_type": "execute_result"
    }
   ],
   "source": [
    "from pathlib import Path \n",
    "import sys\n",
    "# printing all paths\n",
    "sys.path\n",
    "\n",
    "# appending a path\n",
    "repo = '/home/ubuntu/leandro-algopricing-analytics'\n",
    "sys.path.append(repo)\n",
    "\n",
    "import pandas as pd"
   ]
  },
  {
   "cell_type": "markdown",
   "metadata": {},
   "source": [
    "## Load data"
   ]
  },
  {
   "cell_type": "code",
   "execution_count": 5,
   "metadata": {},
   "outputs": [],
   "source": [
    "def _min_max_with_missing(x: pd.Series, _min=None, _max=None) -> pd.Series:\n",
    "    \n",
    "    # missing = -1\n",
    "    x_no_missing = x[x >= 0]\n",
    "    \n",
    "    if _min is None:\n",
    "        \n",
    "        _min = x_no_missing.min()\n",
    "        \n",
    "    if _max is None:\n",
    "        _max = x_no_missing.max()\n",
    "\n",
    "    x_normalized = x.map(lambda value: -1 if value < 0 else (value - _min)/(_max - _min)  ) \n",
    "    \n",
    "    return x_normalized"
   ]
  },
  {
   "cell_type": "code",
   "execution_count": 6,
   "metadata": {},
   "outputs": [],
   "source": [
    "fname = Path(\"data\") / \"2022-06-16-lhof-target_data_one_model.csv\"\n",
    "processed_data = pd.read_csv(fname, index_col=False)"
   ]
  },
  {
   "cell_type": "code",
   "execution_count": 7,
   "metadata": {},
   "outputs": [
    {
     "data": {
      "text/plain": [
       "(7299, 25)"
      ]
     },
     "execution_count": 7,
     "metadata": {},
     "output_type": "execute_result"
    }
   ],
   "source": [
    "# see EDA on 1_2022_06_13-lhof-feature_engineer_one_asset_model\n",
    "\n",
    "processed_data.shape\n",
    "\n",
    "# miles utliers (-5 samples)\n",
    "processed_data = processed_data[processed_data.meter_reading < 0.60*1e6]\n",
    "\n",
    "# ages outliers\n",
    "processed_data = processed_data[processed_data.item_age_yrs < 27]\n",
    "\n",
    "# bad data\n",
    "criteria = (processed_data.high_bid_usd > 2500) & (processed_data.high_bid_usd < 50000)\n",
    "processed_data = processed_data[criteria]\n",
    "\n",
    "normalized_data = processed_data.copy()\n",
    "\n",
    "normalized_data['norm_miles'] = _min_max_with_missing(normalized_data.meter_reading,_min=None, _max=0.60*1e6)\n",
    "normalized_data['norm_ages'] = _min_max_with_missing(normalized_data.item_age_yrs,_min=None, _max=30)\n",
    "\n",
    "normalized_data['norm_month'] = _min_max_with_missing(normalized_data.month,_min=0, _max=12)\n",
    "\n",
    "normalized_data['norm_year'] = _min_max_with_missing(normalized_data.year,_min=2018, _max=2022)\n",
    "\n",
    "normalized_data['norm_y'] = _min_max_with_missing(normalized_data.high_bid_usd)"
   ]
  },
  {
   "cell_type": "code",
   "execution_count": 8,
   "metadata": {},
   "outputs": [
    {
     "data": {
      "text/plain": [
       "0.0"
      ]
     },
     "execution_count": 8,
     "metadata": {},
     "output_type": "execute_result"
    },
    {
     "data": {
      "text/plain": [
       "0.14754511196093834"
      ]
     },
     "execution_count": 8,
     "metadata": {},
     "output_type": "execute_result"
    },
    {
     "data": {
      "text/plain": [
       "0.11748093758825191"
      ]
     },
     "execution_count": 8,
     "metadata": {},
     "output_type": "execute_result"
    },
    {
     "data": {
      "text/plain": [
       "1.0"
      ]
     },
     "execution_count": 8,
     "metadata": {},
     "output_type": "execute_result"
    },
    {
     "data": {
      "text/plain": [
       "0.13070053035773366"
      ]
     },
     "execution_count": 8,
     "metadata": {},
     "output_type": "execute_result"
    }
   ],
   "source": [
    "prices = normalized_data.high_bid_usd\n",
    "prices = normalized_data.norm_y\n",
    "\n",
    "prices.min()\n",
    "prices.mean()\n",
    "np.median(prices)\n",
    "prices.max()\n",
    "prices.std()"
   ]
  },
  {
   "cell_type": "code",
   "execution_count": 9,
   "metadata": {},
   "outputs": [
    {
     "data": {
      "text/plain": [
       "(6182,)"
      ]
     },
     "execution_count": 9,
     "metadata": {},
     "output_type": "execute_result"
    },
    {
     "data": {
      "text/plain": [
       "0.0"
      ]
     },
     "execution_count": 9,
     "metadata": {},
     "output_type": "execute_result"
    },
    {
     "data": {
      "text/plain": [
       "0.2798692599482368"
      ]
     },
     "execution_count": 9,
     "metadata": {},
     "output_type": "execute_result"
    },
    {
     "data": {
      "text/plain": [
       "0.27912166666666666"
      ]
     },
     "execution_count": 9,
     "metadata": {},
     "output_type": "execute_result"
    },
    {
     "data": {
      "text/plain": [
       "0.9609983333333333"
      ]
     },
     "execution_count": 9,
     "metadata": {},
     "output_type": "execute_result"
    },
    {
     "data": {
      "text/plain": [
       "0.12548210471133653"
      ]
     },
     "execution_count": 9,
     "metadata": {},
     "output_type": "execute_result"
    }
   ],
   "source": [
    "X = np.array(normalized_data.norm_miles.to_list())\n",
    "\n",
    "X.shape\n",
    "X.min()\n",
    "X.mean()\n",
    "np.median(X)\n",
    "X.max()\n",
    "X.std()"
   ]
  },
  {
   "cell_type": "code",
   "execution_count": 10,
   "metadata": {
    "tags": []
   },
   "outputs": [],
   "source": [
    "# create some data\n",
    "n_samples = 512\n",
    "n_ = n_samples\n",
    "#X = np.random.uniform(low=-2.,high=2.,size=(n_samples,1))\n",
    "\n",
    "#noise = 3000*np.random.normal(loc=0.,scale=(1.0 - np.power(X,2)))\n",
    "noise = 0.13*np.random.normal(loc=0.,scale=(1.0 - np.power(X,2)))\n",
    "\n",
    "#y = 45000*np.cos(np.pi*X/2.0) + 7500 + noise\n",
    "y = 0.96*np.cos(np.pi*X/2.0) + 0.12 + noise\n",
    "\n",
    "y = y.reshape([-1,1])/5.\n",
    "\n",
    "X_train = X.reshape(-1)\n",
    "y_train = y.reshape(-1)\n",
    "\n",
    "y_train = np.stack((y_train,y_train),axis=1) # make this 2d so will be accepted\n",
    "x_grid = np.linspace(0.0,1.0,100) # for evaluation plots"
   ]
  },
  {
   "cell_type": "code",
   "execution_count": 11,
   "metadata": {},
   "outputs": [
    {
     "data": {
      "text/plain": [
       "<matplotlib.collections.PathCollection at 0x7fca62df0e48>"
      ]
     },
     "execution_count": 11,
     "metadata": {},
     "output_type": "execute_result"
    },
    {
     "data": {
      "image/png": "[encoded data removed]",
      "text/plain": [
       "<Figure size 432x288 with 1 Axes>"
      ]
     },
     "metadata": {
      "needs_background": "light"
     },
     "output_type": "display_data"
    }
   ],
   "source": [
    "plt.scatter(X_train,y_train[:,0])"
   ]
  },
  {
   "cell_type": "code",
   "execution_count": 6,
   "metadata": {},
   "outputs": [],
   "source": [
    "def graph_pi_report(result):\n",
    "    \n",
    "    result_loss =np.array(result.history['loss']).reshape(-1)\n",
    "\n",
    "    result_loss.shape\n",
    "    #result_loss = np.array(result.history['loss']).reshape(-1)\n",
    "\n",
    "    print(f\"loss last 5 values: {result_loss[-6:-1]}\")\n",
    "\n",
    "    x = range(result_loss.shape[0])\n",
    "    plt.plot(x, result_loss, label='train')\n",
    "    plt.title('Loss')\n",
    "    plt.legend(loc='center left', bbox_to_anchor=(1, 0.5))\n",
    "    #plt.ylim(0,6)\n",
    "    plt.show()\n",
    " \n",
    "    # view training\n",
    "    result_mpiw = np.array(result.history['mpiw_metric']).reshape(-1)\n",
    "    result_coverage_term = np.array(result.history['coverage_term_metric']).reshape(-1)\n",
    "\n",
    "    print(f\"Init guess => mpiw: {result_mpiw[0]}; coverage_term: {result_coverage_term[0]}\")\n",
    "    print(f\"Last values => mpiw: {result_mpiw[-1]}; coverage_term: {result_coverage_term[-1]}\")\n",
    "\n",
    "    fig, ax1 = plt.subplots()\n",
    "    x = range(result_mpiw.shape[0])\n",
    "\n",
    "    ax2 = ax1.twinx()\n",
    "    ax1.plot(x, result_mpiw, label='mpiw_metric', color='b')\n",
    "    ax2.plot(x, result_coverage_term,label='coverage_term_metric',color='g')\n",
    "\n",
    "    # ax1.set_xlabel('X data')\n",
    "    ax1.set_ylabel('mpiw_metric', color='b')\n",
    "    ax2.set_ylabel('coverage_term_metric', color='g')\n",
    "\n",
    "    # plt.plot(x, result_mpiw, color='b',  label='mpiw_metric') # upper boundary prediction\n",
    "    # plt.plot(x, result_coverage_term, color='g', label='coverage_term_metric') # lower boundary prediction\n",
    "\n",
    "    #plt.legend()\n",
    "    plt.show()\n",
    "\n",
    "    # view training\n",
    "    result_mpiw = np.array(result.history['mpiw_metric']).reshape(-1)\n",
    "    result_picp = np.array(result.history['picp_metric_']).reshape(-1)\n",
    "\n",
    "    print(f\"Init guess => mpiw: {result_mpiw[0]}; picp: {result_picp[0]}\")\n",
    "    print(f\"Last values => mpiw: {result_mpiw[-1]}; picp: {result_picp[-1]}\")\n",
    "\n",
    "    fig, ax1 = plt.subplots()\n",
    "\n",
    "    x = range(result_mpiw.shape[0])\n",
    "\n",
    "    ax2 = ax1.twinx()\n",
    "    ax1.plot(x, result_mpiw, label='mpiw_metric', color='b')\n",
    "    ax2.plot(x, result_picp,label='picp_metric_',color='g')\n",
    "\n",
    "    # ax1.set_xlabel('X data')\n",
    "    ax1.set_ylabel('mpiw_metric', color='b')\n",
    "    ax2.set_ylabel('picp_metric_', color='g')\n",
    "\n",
    "    plt.show()\n",
    "\n",
    "    \n",
    "def pi_performance_report(y_true,y_pred):\n",
    "\n",
    "    PICP = picp(y_true,y_pred)\n",
    "\n",
    "    MPIW = mpiw(y_true,y_pred)\n",
    "\n",
    "    mean_prices = np.mean(y_true[:,0])\n",
    "\n",
    "    print(f'PICP: {PICP:.2f}')\n",
    "    print(f'MPIW/2.0: {MPIW/2.0:.2f}; y_mean: {mean_prices:.2f}; cv: {MPIW/2.0/mean_prices:.2f}')\n",
    "    \n",
    "    return MPIW, PICP"
   ]
  },
  {
   "cell_type": "code",
   "execution_count": 13,
   "metadata": {},
   "outputs": [
    {
     "data": {
      "text/plain": [
       "512"
      ]
     },
     "execution_count": 13,
     "metadata": {},
     "output_type": "execute_result"
    }
   ],
   "source": [
    "# hyperparameters\n",
    "lambda_ = 0.01*100.00 # lambda in loss fn\n",
    "alpha_ = 0.40  # capturing (1-alpha)% of samples\n",
    "soften_ = 160.\n",
    "n_ = n_samples # batch size\n",
    "\n",
    "n_\n",
    "\n",
    "def loss_qd(y_true, y_pred):\n",
    "\n",
    "    return qd_objective(y_true, y_pred,n_, lambda_, alpha_, soften_)\n",
    "\n",
    "\n",
    "def picp_metric_(y_true, y_pred):\n",
    "    \n",
    "    return picp_metric(y_true, y_pred, soften_=soften_)\n",
    "\n",
    "def coverage_term_metric(y_true, y_pred):\n",
    "    \n",
    "    y_true = y_true[:,0]\n",
    "\n",
    "    y_u = y_pred[:,0]\n",
    "    y_l = y_pred[:,1]\n",
    "\n",
    "    K_SU = tf.sigmoid(soften_ * (y_u - y_true))\n",
    "    K_SL = tf.sigmoid(soften_ * (y_true - y_l))\n",
    "    K_S = tf.multiply(K_SU, K_SL)\n",
    "    \n",
    "    PICP_S = tf.reduce_mean(K_S)\n",
    "\n",
    "    coverage_term = lambda_ * n_ / (alpha_*(1-alpha_)) * tf.maximum(0.,(1-alpha_) - PICP_S)\n",
    "    \n",
    "    return coverage_term"
   ]
  },
  {
   "cell_type": "code",
   "execution_count": null,
   "metadata": {
    "tags": []
   },
   "outputs": [],
   "source": [
    "# set up model\n",
    "model = Sequential()\n",
    "model.add(Dense(100, input_dim=1, activation='relu',\n",
    "                kernel_initializer=keras.initializers.RandomNormal(mean=0.0, stddev=0.2)))\n",
    "model.add(Dense(2, activation='linear',\n",
    "                kernel_initializer=keras.initializers.RandomNormal(mean=0.0, stddev=0.3), \n",
    "                bias_initializer=keras.initializers.Constant(value=[0.3,0.05]))) # important to init biases to start!\n",
    "\n",
    "# compile\n",
    "opt = keras.optimizers.Adam(lr=0.02, decay=0.005)\n",
    "model.compile(loss=qd_objective, optimizer=opt, metrics=[mpiw_metric,coverage_term_metric,picp_metric_])"
   ]
  },
  {
   "cell_type": "code",
   "execution_count": null,
   "metadata": {},
   "outputs": [],
   "source": [
    "# plot and view some predictions\n",
    "y_pred = model.predict(x_grid, verbose=0)\n",
    "y_u_pred = y_pred[:,0]\n",
    "y_l_pred = y_pred[:,1]\n",
    "\n",
    "plt.scatter(X_train,y_train[:,0])\n",
    "plt.plot(x_grid, y_u_pred, color='r') # upper boundary prediction\n",
    "plt.plot(x_grid, y_l_pred, color='g') # lower boundary prediction\n",
    "plt.title('BEFORE training')\n",
    "#plt.xlim(-2,2)\n",
    "plt.show()"
   ]
  },
  {
   "cell_type": "code",
   "execution_count": null,
   "metadata": {},
   "outputs": [],
   "source": [
    "# print some stats\n",
    "y_pred = model.predict(X_train, verbose=0)\n",
    "\n",
    "pi_performance_report(y_train,y_pred)\n",
    "\n",
    "print(\"loss\")\n",
    "loss_qd(y_train, y_pred)\n",
    "print(\"mpiw\")\n",
    "mpiw_metric(y_train, y_pred)\n",
    "print(\"coverage related term\")\n",
    "coverage_term_metric(y_train, y_pred)\n",
    "print(\"picp\")\n",
    "picp_metric_(y_train, y_pred)"
   ]
  },
  {
   "cell_type": "code",
   "execution_count": null,
   "metadata": {},
   "outputs": [],
   "source": [
    "\n",
    "#result = model.fit(X_train, y_train, epochs=11, batch_size=n_, verbose=1,  validation_split=0.)\n",
    "result_loss=[]\n",
    "mpiw_list = []\n",
    "coverage_list = []\n",
    "loss_list = []\n",
    "pcip_list = []\n",
    "for i in range(5):\n",
    "    \n",
    "    result = model.fit(X_train, y_train, epochs=10, batch_size=n_, verbose=0,  validation_split=0.)\n",
    "    result_loss.append(result.history['loss'])\n",
    "\n",
    "    y_pred = model.predict(X_train, verbose=0)\n",
    "        \n",
    "    l = loss_qd(y_train, y_pred).numpy()\n",
    "    loss_list.append(l)\n",
    "    m = mpiw_metric(y_train, y_pred).numpy()\n",
    "    mpiw_list.append(m)\n",
    "    c = coverage_term_metric(y_train, y_pred).numpy()\n",
    "    coverage_list.append(c)\n",
    "    p = picp_metric_(y_train, y_pred).numpy()\n",
    "    pcip_list.append(p)\n",
    "    \n",
    "    if i % 4 == 0:\n",
    "    \n",
    "        print(f\"{i} => loss: {l:.3f} = {m:.3f} +  {c:.3f}; picp: {p:.2f} \")\n",
    "    \n",
    "        print(\"preditcion intervals\")\n",
    "        # plot and view some predictions\n",
    "        y_pred = model.predict(x_grid, verbose=0)\n",
    "        y_u_pred = y_pred[:,0]\n",
    "        y_l_pred = y_pred[:,1]\n",
    "\n",
    "        plt.scatter(X_train,y_train[:,0])\n",
    "        plt.plot(x_grid, y_u_pred, color='r') # upper boundary prediction\n",
    "        plt.plot(x_grid, y_l_pred, color='g') # lower boundary prediction\n",
    "        plt.title('AFTER training '+str(len(result_loss))+' epochs')\n",
    "        #plt.xlim(0,1.0)\n",
    "        plt.show()\n",
    "        \n",
    "    if i % 100 ==  i > 0:\n",
    "        \n",
    "        K.set_value(model.optimizer.lr, 0.001)\n",
    "        K.set_value(model.optimizer.decay, 0.0005)\n",
    "    "
   ]
  },
  {
   "cell_type": "code",
   "execution_count": null,
   "metadata": {},
   "outputs": [],
   "source": [
    "K.set_value(model.optimizer.lr, 0.001)\n",
    "K.set_value(model.optimizer.decay, 0.0005)"
   ]
  },
  {
   "cell_type": "code",
   "execution_count": null,
   "metadata": {},
   "outputs": [],
   "source": [
    "# view training\n",
    "result_loss = np.array(result_loss).reshape(-1)\n",
    "\n",
    "print(f\"loss last 5 values: {result_loss[-6:-1]}\")\n",
    "\n",
    "x = range(result_loss.shape[0])\n",
    "plt.plot(x, result_loss, label='train')\n",
    "plt.title('Loss')\n",
    "plt.legend(loc='center left', bbox_to_anchor=(1, 0.5))\n",
    "#plt.ylim(0,10)\n",
    "plt.show()"
   ]
  },
  {
   "cell_type": "code",
   "execution_count": null,
   "metadata": {},
   "outputs": [],
   "source": [
    "# plot and view some predictions\n",
    "y_pred = model.predict(x_grid, verbose=0)\n",
    "y_u_pred = y_pred[:,0]\n",
    "y_l_pred = y_pred[:,1]\n",
    "\n",
    "plt.scatter(X_train,y_train[:,0])\n",
    "plt.plot(x_grid, y_u_pred, color='r') # upper boundary prediction\n",
    "plt.plot(x_grid, y_l_pred, color='g') # lower boundary prediction\n",
    "#plt.xlim(-2,2)\n",
    "plt.show()"
   ]
  },
  {
   "cell_type": "code",
   "execution_count": null,
   "metadata": {},
   "outputs": [],
   "source": [
    "# print some stats\n",
    "y_pred = model.predict(X_train, verbose=0)\n",
    "y_u_pred = y_pred[:,0]\n",
    "y_l_pred = y_pred[:,1]\n",
    "K_u = y_u_pred > y_train[:,0]\n",
    "K_l = y_l_pred < y_train[:,0]\n",
    "print('PICP:', np.mean(K_u * K_l))\n",
    "print('MPIW:', np.round(np.mean(y_u_pred - y_l_pred),3))"
   ]
  },
  {
   "cell_type": "code",
   "execution_count": null,
   "metadata": {},
   "outputs": [],
   "source": [
    "# view training\n",
    "result_mpiw = np.array(result.history['mpiw_metric']).reshape(-1)\n",
    "result_coverage_term = np.array(result.history['coverage_term_metric']).reshape(-1)\n",
    "\n",
    "\n",
    "print(f\"Init guess => mpiw: {result_mpiw[0]}; coverage_term: {result_coverage_term[0]}\")\n",
    "print(f\"Last values => mpiw: {result_mpiw[-1]}; coverage_term: {result_coverage_term[-1]}\")\n",
    "\n",
    "x = range(result_mpiw.shape[0])\n",
    "\n",
    "plt.plot(x, result_mpiw, color='b',  label='mpiw_metric') # upper boundary prediction\n",
    "plt.plot(x, result_coverage_term, color='g', label='coverage_term_metric') # lower boundary prediction\n",
    "\n",
    "plt.legend()\n",
    "plt.show()"
   ]
  },
  {
   "cell_type": "code",
   "execution_count": null,
   "metadata": {},
   "outputs": [],
   "source": [
    "# view training\n",
    "result_mpiw = np.array(result.history['mpiw_metric']).reshape(-1)\n",
    "result_picp = np.array(result.history['picp_metric_']).reshape(-1)\n",
    "\n",
    "fig, ax1 = plt.subplots()\n",
    "\n",
    "x = range(result_mpiw.shape[0])\n",
    "\n",
    "ax2 = ax1.twinx()\n",
    "ax1.plot(x, result_mpiw, label='mpiw_metric', color='b')\n",
    "ax2.plot(x, result_picp,label='picp_metric_',color='g')\n",
    "\n",
    "# ax1.set_xlabel('X data')\n",
    "ax1.set_ylabel('mpiw_metric', color='b')\n",
    "ax2.set_ylabel('picp_metric_', color='g')\n",
    "\n",
    "plt.show()"
   ]
  },
  {
   "cell_type": "markdown",
   "metadata": {},
   "source": [
    "## Linear regression"
   ]
  },
  {
   "cell_type": "code",
   "execution_count": 7,
   "metadata": {},
   "outputs": [
    {
     "data": {
      "text/plain": [
       "(500, 1)"
      ]
     },
     "execution_count": 7,
     "metadata": {},
     "output_type": "execute_result"
    },
    {
     "data": {
      "text/plain": [
       "(500,)"
      ]
     },
     "execution_count": 7,
     "metadata": {},
     "output_type": "execute_result"
    },
    {
     "data": {
      "text/plain": [
       "(500,)"
      ]
     },
     "execution_count": 7,
     "metadata": {},
     "output_type": "execute_result"
    }
   ],
   "source": [
    "# create some data\n",
    "n_samples = 500\n",
    "\n",
    "X = np.random.uniform(low=0.,high=2.,size=(n_samples,1))\n",
    "\n",
    "_sigma = 0.25\n",
    "noise = np.random.normal(loc=0.,scale=_sigma,size=(n_samples,1))\n",
    "\n",
    "a = 1.5\n",
    "b = 2.0\n",
    "\n",
    "f_x = a*X + b  \n",
    "y =  f_x + noise\n",
    "\n",
    "#y = y.reshape([-1,1])/5.  # Is this important? Divide by 5 ? Why did he do it?\n",
    "y = y.reshape([-1,1])  # Is this important? Divide by 5 ? Why did he do it?\n",
    "\n",
    "\n",
    "noise.shape\n",
    "X_train = X.reshape(-1)\n",
    "y_train = y.reshape(-1)\n",
    "\n",
    "X_train.shape\n",
    "y_train.shape\n",
    "\n",
    "y_train = np.stack((y_train,y_train),axis=1) # make this 2d so will be accepted\n",
    "x_grid = np.linspace(0.0,2,100) # for evaluation plots"
   ]
  },
  {
   "cell_type": "code",
   "execution_count": 8,
   "metadata": {},
   "outputs": [
    {
     "data": {
      "text/plain": [
       "<matplotlib.collections.PathCollection at 0x7f1a189cd240>"
      ]
     },
     "execution_count": 8,
     "metadata": {},
     "output_type": "execute_result"
    },
    {
     "name": "stdout",
     "output_type": "stream",
     "text": [
      "delta: 0.50\n"
     ]
    },
    {
     "data": {
      "text/plain": [
       "[<matplotlib.lines.Line2D at 0x7f1a189cd5f8>]"
      ]
     },
     "execution_count": 8,
     "metadata": {},
     "output_type": "execute_result"
    },
    {
     "data": {
      "text/plain": [
       "[<matplotlib.lines.Line2D at 0x7f1a189cd9b0>]"
      ]
     },
     "execution_count": 8,
     "metadata": {},
     "output_type": "execute_result"
    },
    {
     "data": {
      "text/plain": [
       "[<matplotlib.lines.Line2D at 0x7f1a189cdc50>]"
      ]
     },
     "execution_count": 8,
     "metadata": {},
     "output_type": "execute_result"
    },
    {
     "data": {
      "image/png": "[encoded data removed]",
      "text/plain": [
       "<Figure size 432x288 with 1 Axes>"
      ]
     },
     "metadata": {
      "needs_background": "light"
     },
     "output_type": "display_data"
    }
   ],
   "source": [
    "plt.scatter(X_train,y_train[:,0])\n",
    "\n",
    "f_x = a*x_grid + b  \n",
    "\n",
    "_delta = 2.0*_sigma  # 2 sigmas\n",
    "\n",
    "print(f\"delta: {_delta:.2f}\")\n",
    "\n",
    "plt.plot(x_grid, f_x, 'k--') # regression line\n",
    "plt.plot(x_grid, f_x + _delta, 'r--') # upper boundary prediction\n",
    "plt.plot(x_grid, f_x - _delta, 'r--') # lower boundary prediction"
   ]
  },
  {
   "cell_type": "code",
   "execution_count": 9,
   "metadata": {},
   "outputs": [
    {
     "data": {
      "text/plain": [
       "500"
      ]
     },
     "execution_count": 9,
     "metadata": {},
     "output_type": "execute_result"
    }
   ],
   "source": [
    "# hyperparameters\n",
    "lambda_ = 0.01 # lambda in loss fn\n",
    "alpha_ = 0.30  # capturing (1-alpha)% of samples\n",
    "soften_ = 160.\n",
    "n_ = n_samples # batch size\n",
    "\n",
    "n_\n",
    "\n",
    "def loss_qd(y_true, y_pred):\n",
    "\n",
    "    return qd_objective(y_true, y_pred,n_, lambda_, alpha_, soften_)\n",
    "\n",
    "\n",
    "def picp_metric_(y_true, y_pred):\n",
    "    \n",
    "    return picp_metric(y_true, y_pred, soften_=soften_)\n",
    "\n",
    "def coverage_term_metric(y_true, y_pred):\n",
    "    \n",
    "    y_true = y_true[:,0]\n",
    "\n",
    "    y_u = y_pred[:,0]\n",
    "    y_l = y_pred[:,1]\n",
    "\n",
    "    K_SU = tf.sigmoid(soften_ * (y_u - y_true))\n",
    "    K_SL = tf.sigmoid(soften_ * (y_true - y_l))\n",
    "    K_S = tf.multiply(K_SU, K_SL)\n",
    "    \n",
    "    PICP_S = tf.reduce_mean(K_S)\n",
    "\n",
    "    coverage_term = lambda_ * n_ / (alpha_*(1-alpha_)) * tf.maximum(0.,(1-alpha_) - PICP_S)\n",
    "    \n",
    "    return coverage_term"
   ]
  },
  {
   "cell_type": "code",
   "execution_count": 10,
   "metadata": {},
   "outputs": [],
   "source": [
    "# set up model\n",
    "model = Sequential()\n",
    "model.add(Dense(100, input_dim=1, activation='relu',\n",
    "                kernel_initializer=keras.initializers.RandomNormal(mean=0.0, stddev=0.2)))\n",
    "model.add(Dense(2, activation='linear',\n",
    "                kernel_initializer=keras.initializers.RandomNormal(mean=0.0, stddev=0.3), \n",
    "                bias_initializer=keras.initializers.Constant(value=[2.0,1.0]))) # important to init biases to start!\n",
    "\n",
    "# compile\n",
    "opt = keras.optimizers.Adam(lr=0.02, decay=0.005)\n",
    "model.compile(loss=qd_objective, optimizer=opt, metrics=[mpiw_metric,coverage_term_metric,picp_metric_])"
   ]
  },
  {
   "cell_type": "code",
   "execution_count": 11,
   "metadata": {},
   "outputs": [
    {
     "data": {
      "text/plain": [
       "<matplotlib.collections.PathCollection at 0x7f1a087102b0>"
      ]
     },
     "execution_count": 11,
     "metadata": {},
     "output_type": "execute_result"
    },
    {
     "data": {
      "text/plain": [
       "[<matplotlib.lines.Line2D at 0x7f1a109255f8>]"
      ]
     },
     "execution_count": 11,
     "metadata": {},
     "output_type": "execute_result"
    },
    {
     "data": {
      "text/plain": [
       "[<matplotlib.lines.Line2D at 0x7f1a08710630>]"
      ]
     },
     "execution_count": 11,
     "metadata": {},
     "output_type": "execute_result"
    },
    {
     "data": {
      "text/plain": [
       "Text(0.5, 1.0, 'BEFORE training')"
      ]
     },
     "execution_count": 11,
     "metadata": {},
     "output_type": "execute_result"
    },
    {
     "data": {
      "image/png": "[encoded data removed]",
      "text/plain": [
       "<Figure size 432x288 with 1 Axes>"
      ]
     },
     "metadata": {
      "needs_background": "light"
     },
     "output_type": "display_data"
    }
   ],
   "source": [
    "# plot and view some predictions\n",
    "y_pred = model.predict(x_grid, verbose=0)\n",
    "y_u_pred = y_pred[:,0]\n",
    "y_l_pred = y_pred[:,1]\n",
    "\n",
    "plt.scatter(X_train,y_train[:,0])\n",
    "plt.plot(x_grid, y_u_pred, color='r') # upper boundary prediction\n",
    "plt.plot(x_grid, y_l_pred, color='g') # lower boundary prediction\n",
    "plt.title('BEFORE training')\n",
    "#plt.xlim(-2,2)\n",
    "plt.show()"
   ]
  },
  {
   "cell_type": "code",
   "execution_count": 12,
   "metadata": {},
   "outputs": [
    {
     "name": "stdout",
     "output_type": "stream",
     "text": [
      "Epoch 1/5\n",
      "1/1 [==============================] - 0s 1ms/step - loss: 20.1852 - mpiw_metric: 0.9616 - coverage_term_metric: 15.7885 - picp_metric_: 0.0369\n",
      "Epoch 2/5\n",
      "1/1 [==============================] - 0s 856us/step - loss: 18.7508 - mpiw_metric: 1.0789 - coverage_term_metric: 14.0338 - picp_metric_: 0.1106\n",
      "Epoch 3/5\n",
      "1/1 [==============================] - 0s 779us/step - loss: 15.0996 - mpiw_metric: 1.2448 - coverage_term_metric: 9.7168 - picp_metric_: 0.2919\n",
      "Epoch 4/5\n",
      "1/1 [==============================] - 0s 719us/step - loss: 4.3062 - mpiw_metric: 1.5726 - coverage_term_metric: 0.0000e+00 - picp_metric_: 0.8202\n",
      "Epoch 5/5\n",
      "1/1 [==============================] - 0s 790us/step - loss: 1.9956 - mpiw_metric: 1.9956 - coverage_term_metric: 0.0000e+00 - picp_metric_: 1.0000\n",
      "CPU times: user 560 ms, sys: 29.9 ms, total: 589 ms\n",
      "Wall time: 617 ms\n"
     ]
    }
   ],
   "source": [
    "%%time\n",
    "result = model.fit(X_train, y_train, epochs=5, batch_size=n_, verbose=1,  validation_split=0.)"
   ]
  },
  {
   "cell_type": "code",
   "execution_count": 13,
   "metadata": {},
   "outputs": [
    {
     "name": "stdout",
     "output_type": "stream",
     "text": [
      "0 => loss: 0.982 = 0.982 +  0.000; picp: 0.95 \n",
      "preditcion intervals\n"
     ]
    },
    {
     "data": {
      "text/plain": [
       "<matplotlib.collections.PathCollection at 0x7f1a42424d30>"
      ]
     },
     "execution_count": 13,
     "metadata": {},
     "output_type": "execute_result"
    },
    {
     "data": {
      "text/plain": [
       "[<matplotlib.lines.Line2D at 0x7f1a42424e48>]"
      ]
     },
     "execution_count": 13,
     "metadata": {},
     "output_type": "execute_result"
    },
    {
     "data": {
      "text/plain": [
       "[<matplotlib.lines.Line2D at 0x7f1a424244a8>]"
      ]
     },
     "execution_count": 13,
     "metadata": {},
     "output_type": "execute_result"
    },
    {
     "data": {
      "text/plain": [
       "Text(0.5, 1.0, 'AFTER training 1 epochs')"
      ]
     },
     "execution_count": 13,
     "metadata": {},
     "output_type": "execute_result"
    },
    {
     "data": {
      "image/png": "[encoded data removed]",
      "text/plain": [
       "<Figure size 432x288 with 1 Axes>"
      ]
     },
     "metadata": {
      "needs_background": "light"
     },
     "output_type": "display_data"
    },
    {
     "name": "stdout",
     "output_type": "stream",
     "text": [
      "2 => loss: 1.012 = 1.012 +  0.000; picp: 0.96 \n",
      "preditcion intervals\n"
     ]
    },
    {
     "data": {
      "text/plain": [
       "<matplotlib.collections.PathCollection at 0x7f19ec6dc160>"
      ]
     },
     "execution_count": 13,
     "metadata": {},
     "output_type": "execute_result"
    },
    {
     "data": {
      "text/plain": [
       "[<matplotlib.lines.Line2D at 0x7f19ec6dc4e0>]"
      ]
     },
     "execution_count": 13,
     "metadata": {},
     "output_type": "execute_result"
    },
    {
     "data": {
      "text/plain": [
       "[<matplotlib.lines.Line2D at 0x7f19ec6dc550>]"
      ]
     },
     "execution_count": 13,
     "metadata": {},
     "output_type": "execute_result"
    },
    {
     "data": {
      "text/plain": [
       "Text(0.5, 1.0, 'AFTER training 3 epochs')"
      ]
     },
     "execution_count": 13,
     "metadata": {},
     "output_type": "execute_result"
    },
    {
     "data": {
      "image/png": "[encoded data removed]",
      "text/plain": [
       "<Figure size 432x288 with 1 Axes>"
      ]
     },
     "metadata": {
      "needs_background": "light"
     },
     "output_type": "display_data"
    },
    {
     "name": "stdout",
     "output_type": "stream",
     "text": [
      "4 => loss: 1.016 = 1.016 +  0.000; picp: 0.94 \n",
      "preditcion intervals\n"
     ]
    },
    {
     "data": {
      "text/plain": [
       "<matplotlib.collections.PathCollection at 0x7f19ec656748>"
      ]
     },
     "execution_count": 13,
     "metadata": {},
     "output_type": "execute_result"
    },
    {
     "data": {
      "text/plain": [
       "[<matplotlib.lines.Line2D at 0x7f19ec656ac8>]"
      ]
     },
     "execution_count": 13,
     "metadata": {},
     "output_type": "execute_result"
    },
    {
     "data": {
      "text/plain": [
       "[<matplotlib.lines.Line2D at 0x7f19ec656d68>]"
      ]
     },
     "execution_count": 13,
     "metadata": {},
     "output_type": "execute_result"
    },
    {
     "data": {
      "text/plain": [
       "Text(0.5, 1.0, 'AFTER training 5 epochs')"
      ]
     },
     "execution_count": 13,
     "metadata": {},
     "output_type": "execute_result"
    },
    {
     "data": {
      "image/png": "[encoded data removed]",
      "text/plain": [
       "<Figure size 432x288 with 1 Axes>"
      ]
     },
     "metadata": {
      "needs_background": "light"
     },
     "output_type": "display_data"
    },
    {
     "name": "stdout",
     "output_type": "stream",
     "text": [
      "6 => loss: 1.005 = 1.005 +  0.000; picp: 0.95 \n",
      "preditcion intervals\n"
     ]
    },
    {
     "data": {
      "text/plain": [
       "<matplotlib.collections.PathCollection at 0x7f19ec5c4ef0>"
      ]
     },
     "execution_count": 13,
     "metadata": {},
     "output_type": "execute_result"
    },
    {
     "data": {
      "text/plain": [
       "[<matplotlib.lines.Line2D at 0x7f19ec5c4f28>]"
      ]
     },
     "execution_count": 13,
     "metadata": {},
     "output_type": "execute_result"
    },
    {
     "data": {
      "text/plain": [
       "[<matplotlib.lines.Line2D at 0x7f19ec5d3400>]"
      ]
     },
     "execution_count": 13,
     "metadata": {},
     "output_type": "execute_result"
    },
    {
     "data": {
      "text/plain": [
       "Text(0.5, 1.0, 'AFTER training 7 epochs')"
      ]
     },
     "execution_count": 13,
     "metadata": {},
     "output_type": "execute_result"
    },
    {
     "data": {
      "image/png": "[encoded data removed]",
      "text/plain": [
       "<Figure size 432x288 with 1 Axes>"
      ]
     },
     "metadata": {
      "needs_background": "light"
     },
     "output_type": "display_data"
    },
    {
     "name": "stdout",
     "output_type": "stream",
     "text": [
      "8 => loss: 0.974 = 0.974 +  0.000; picp: 0.95 \n",
      "preditcion intervals\n"
     ]
    },
    {
     "data": {
      "text/plain": [
       "<matplotlib.collections.PathCollection at 0x7f19ec549518>"
      ]
     },
     "execution_count": 13,
     "metadata": {},
     "output_type": "execute_result"
    },
    {
     "data": {
      "text/plain": [
       "[<matplotlib.lines.Line2D at 0x7f19ec549550>]"
      ]
     },
     "execution_count": 13,
     "metadata": {},
     "output_type": "execute_result"
    },
    {
     "data": {
      "text/plain": [
       "[<matplotlib.lines.Line2D at 0x7f19ec549898>]"
      ]
     },
     "execution_count": 13,
     "metadata": {},
     "output_type": "execute_result"
    },
    {
     "data": {
      "text/plain": [
       "Text(0.5, 1.0, 'AFTER training 9 epochs')"
      ]
     },
     "execution_count": 13,
     "metadata": {},
     "output_type": "execute_result"
    },
    {
     "data": {
      "image/png": "[encoded data removed]",
      "text/plain": [
       "<Figure size 432x288 with 1 Axes>"
      ]
     },
     "metadata": {
      "needs_background": "light"
     },
     "output_type": "display_data"
    }
   ],
   "source": [
    "\n",
    "#result = model.fit(X_train, y_train, epochs=11, batch_size=n_, verbose=1,  validation_split=0.)\n",
    "result_loss=[]\n",
    "mpiw_list = []\n",
    "coverage_list = []\n",
    "loss_list = []\n",
    "pcip_list = []\n",
    "for i in range(10):\n",
    "    \n",
    "    result = model.fit(X_train, y_train, epochs=100, batch_size=n_, verbose=0,  validation_split=0.)\n",
    "    result_loss.append(result.history['loss'])\n",
    "\n",
    "    y_pred = model.predict(X_train, verbose=0)\n",
    "        \n",
    "    l = loss_qd(y_train, y_pred).numpy()\n",
    "    loss_list.append(l)\n",
    "    m = mpiw_metric(y_train, y_pred).numpy()\n",
    "    mpiw_list.append(m)\n",
    "    c = coverage_term_metric(y_train, y_pred).numpy()\n",
    "    coverage_list.append(c)\n",
    "    p = picp_metric_(y_train, y_pred).numpy()\n",
    "    pcip_list.append(p)\n",
    "    \n",
    "    if i % 2 == 0:\n",
    "    \n",
    "        print(f\"{i} => loss: {l:.3f} = {m:.3f} +  {c:.3f}; picp: {p:.2f} \")\n",
    "    \n",
    "        print(\"preditcion intervals\")\n",
    "        # plot and view some predictions\n",
    "        y_pred = model.predict(x_grid, verbose=0)\n",
    "        y_u_pred = y_pred[:,0]\n",
    "        y_l_pred = y_pred[:,1]\n",
    "\n",
    "        plt.scatter(X_train,y_train[:,0])\n",
    "        plt.plot(x_grid, y_u_pred, color='r') # upper boundary prediction\n",
    "        plt.plot(x_grid, y_l_pred, color='g') # lower boundary prediction\n",
    "        plt.title('AFTER training '+str(len(result_loss))+' epochs')\n",
    "        #plt.xlim(0,1.0)\n",
    "        plt.show()    "
   ]
  },
  {
   "cell_type": "code",
   "execution_count": 111,
   "metadata": {},
   "outputs": [],
   "source": [
    "K.set_value(model.optimizer.lr, 0.00001)\n",
    "K.set_value(model.optimizer.decay, 0.005)"
   ]
  },
  {
   "cell_type": "code",
   "execution_count": 112,
   "metadata": {},
   "outputs": [
    {
     "name": "stdout",
     "output_type": "stream",
     "text": [
      "loss last 5 values: [0.21333967 0.21986106 0.22540587 0.23008184 0.23380809]\n"
     ]
    },
    {
     "data": {
      "text/plain": [
       "[<matplotlib.lines.Line2D at 0x7fc9e86ac128>]"
      ]
     },
     "execution_count": 112,
     "metadata": {},
     "output_type": "execute_result"
    },
    {
     "data": {
      "text/plain": [
       "Text(0.5, 1.0, 'Loss')"
      ]
     },
     "execution_count": 112,
     "metadata": {},
     "output_type": "execute_result"
    },
    {
     "data": {
      "text/plain": [
       "<matplotlib.legend.Legend at 0x7fc9e86acba8>"
      ]
     },
     "execution_count": 112,
     "metadata": {},
     "output_type": "execute_result"
    },
    {
     "data": {
      "image/png": "[encoded data removed]",
      "text/plain": [
       "<Figure size 432x288 with 1 Axes>"
      ]
     },
     "metadata": {
      "needs_background": "light"
     },
     "output_type": "display_data"
    }
   ],
   "source": [
    "# view training\n",
    "result_loss = np.array(result_loss).reshape(-1)\n",
    "\n",
    "print(f\"loss last 5 values: {result_loss[-6:-1]}\")\n",
    "\n",
    "x = range(result_loss.shape[0])\n",
    "plt.plot(x, result_loss, label='train')\n",
    "plt.title('Loss')\n",
    "plt.legend(loc='center left', bbox_to_anchor=(1, 0.5))\n",
    "#plt.ylim(0,10)\n",
    "plt.show()"
   ]
  },
  {
   "cell_type": "code",
   "execution_count": 102,
   "metadata": {},
   "outputs": [
    {
     "data": {
      "text/plain": [
       "array([2.53501  , 2.565626 , 2.5962002, 2.6267745, 2.6573489],\n",
       "      dtype=float32)"
      ]
     },
     "execution_count": 102,
     "metadata": {},
     "output_type": "execute_result"
    },
    {
     "data": {
      "text/plain": [
       "array([1.4159956, 1.4452981, 1.4753579, 1.5054178, 1.5354776],\n",
       "      dtype=float32)"
      ]
     },
     "execution_count": 102,
     "metadata": {},
     "output_type": "execute_result"
    },
    {
     "data": {
      "text/plain": [
       "<matplotlib.collections.PathCollection at 0x7fca2409c668>"
      ]
     },
     "execution_count": 102,
     "metadata": {},
     "output_type": "execute_result"
    },
    {
     "data": {
      "text/plain": [
       "[<matplotlib.lines.Line2D at 0x7fc9c440d828>]"
      ]
     },
     "execution_count": 102,
     "metadata": {},
     "output_type": "execute_result"
    },
    {
     "data": {
      "text/plain": [
       "[<matplotlib.lines.Line2D at 0x7fc9e82c00b8>]"
      ]
     },
     "execution_count": 102,
     "metadata": {},
     "output_type": "execute_result"
    },
    {
     "data": {
      "image/png": "[encoded data removed]",
      "text/plain": [
       "<Figure size 432x288 with 1 Axes>"
      ]
     },
     "metadata": {
      "needs_background": "light"
     },
     "output_type": "display_data"
    }
   ],
   "source": [
    "# plot and view some predictions\n",
    "y_pred = model.predict(x_grid, verbose=0)\n",
    "y_u_pred = y_pred[:,0]\n",
    "y_l_pred = y_pred[:,1]\n",
    "\n",
    "y_u_pred[0:5]\n",
    "y_l_pred[0:5]\n",
    "\n",
    "plt.scatter(X_train,y_train[:,0])\n",
    "plt.plot(x_grid, y_u_pred, color='r') # upper boundary prediction\n",
    "plt.plot(x_grid, y_l_pred, color='g') # lower boundary prediction\n",
    "#plt.xlim(-2,2)\n",
    "plt.show()"
   ]
  }
 ],
 "metadata": {
  "kernelspec": {
   "display_name": "Python 3",
   "language": "python",
   "name": "python3"
  },
  "language_info": {
   "codemirror_mode": {
    "name": "ipython",
    "version": 3
   },
   "file_extension": ".py",
   "mimetype": "text/x-python",
   "name": "python",
   "nbconvert_exporter": "python",
   "pygments_lexer": "ipython3",
   "version": "3.6.15"
  },
  "toc": {
   "base_numbering": 1,
   "nav_menu": {},
   "number_sections": true,
   "sideBar": true,
   "skip_h1_title": false,
   "title_cell": "Table of Contents",
   "title_sidebar": "Contents",
   "toc_cell": false,
   "toc_position": {},
   "toc_section_display": true,
   "toc_window_display": false
  }
 },
 "nbformat": 4,
 "nbformat_minor": 4
}
