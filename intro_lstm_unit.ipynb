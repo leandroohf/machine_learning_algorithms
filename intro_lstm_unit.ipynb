{
 "cells": [
  {
   "cell_type": "markdown",
   "metadata": {},
   "source": [
    "# LSTM unit\n",
    "\n",
    "\n",
    "refs: \n",
    "\n",
    "* https://colah.github.io/posts/2015-08-Understanding-LSTMs/\n",
    "* https://medium.com/mlreview/understanding-lstm-and-its-diagrams-37e2f46f1714\n",
    "* https://towardsdatascience.com/illustrated-guide-to-lstms-and-gru-s-a-step-by-step-explanation-44e9eb85bf21\n",
    "\n",
    "\n",
    "Consider trying to predict the last word in the text:\n",
    "\n",
    "> “I grew up in France …  blah, blah (many time) ...I speak fluent ______.”\n",
    "\n",
    "The answer is **French**. \n",
    "\n",
    "Recent information suggests that the next word is probably the name of a **language**, but if we want to narrow down which language, we need the context of **France**, from further back to predict **French**. \n",
    "\n",
    "In order to do that a RNN needs to remember **long-term depencies**. In theory RNN can do that but in practice due to gradient vanish and explodig gradient RNN does not have a **good long term memory**\n",
    "\n",
    "**Long Short Term Memory (LSTM)** networks – usually just called “LSTMs” – are a special kind of RNN, capable of learning long-term dependencies\n",
    "\n",
    "LSTMs are explicitly designed to avoid the long-term dependency problem metioned above. Remembering information for long periods of time is practically their default behavior, not something they struggle to learn!\n",
    "\n",
    "<img src=\"./images/lstm_neuron.png\" width=\"600\" align=\"left\"/> \n"
   ]
  },
  {
   "cell_type": "markdown",
   "metadata": {},
   "source": [
    "$C_t$ sometimes is called **Thought vectors**\n",
    "\n",
    "LSTM unit works like pipes. The memory is water the valves are the activations functions. The memory flow (water) in the memory pipe are changed by 2 valves:\n",
    "\n",
    "* memory pipe\n",
    "* forget valve\n",
    "* new memory valve\n"
   ]
  },
  {
   "cell_type": "markdown",
   "metadata": {},
   "source": [
    "## The memory pipe\n",
    "\n",
    "The flow in this pipe determine how much of the unit memory will be mixed with the old memory to define the new memory state of the unit.   \n",
    "\n",
    "\n",
    "<img src=\"./images/memory_pipe.png\" width=\"600\" align=\"left\"/> \n",
    "\n"
   ]
  },
  {
   "cell_type": "markdown",
   "metadata": {},
   "source": [
    "##  Forget valve\n",
    "\n",
    "$\n",
    "f_t = \\sigma(W_f[c_{t-1}, h_{t-1}, X_t] + b_f)\n",
    "$\n",
    "\n",
    "\n",
    "If $f_t = 0$ the unit will copletely forget the previous memory state. On the other hand, ($f_t = 1.0$) the unit will rememember everything.  \n",
    "\n",
    "\n",
    "<img src=\"./images/forget_valve.png\" width=\"600\" align=\"left\"/> \n",
    "\n",
    "\n"
   ]
  },
  {
   "cell_type": "markdown",
   "metadata": {},
   "source": [
    "## New memory valve\n",
    "\n",
    "\n",
    "$\n",
    "i_t = \\sigma(W_i[C_{t-1}, h_{t-1}, X_t] + b_i)\n",
    "$\n",
    "\n",
    "Like $f_t$, $i_t$ controsl how much of the new state memory will be used to mix with the old one.\n",
    "\n",
    "$\n",
    "G_t = tanh(W_g[C_{t-1}, h_{t-1}, X_t] + b_g)\n",
    "$\n",
    "\n",
    "The output of the unit is the memory state $c_t$\n",
    "\n",
    "\n",
    "$\n",
    "C_t = f_t*C_{t-1} + i_t*G_t\n",
    "$\n",
    "\n",
    "<img src=\"./images/new_memory_valve.png\" width=\"600\" align=\"left\"/>  \n"
   ]
  },
  {
   "cell_type": "markdown",
   "metadata": {},
   "source": [
    "## The output state of the unit\n",
    "\n",
    "$\n",
    "o_t = \\sigma(W_o[C_{t-1}, h_{t-1}, X_t] + b_o)\n",
    "$\n",
    "\n",
    "\n",
    "$\n",
    "h_t = o_t * tanh(C_t)\n",
    "$\n",
    "\n",
    "The ouput state are:\n",
    "* $h_t$\n",
    "* $C_t$\n",
    "\n",
    "<img src=\"./images/output_state.png\" width=\"600\" align=\"left\"/>  \n"
   ]
  },
  {
   "cell_type": "markdown",
   "metadata": {},
   "source": [
    "## Pseudo Code \n",
    "\n",
    "\n",
    "```python\n",
    "def LSTM(prev_ct, prev_ht, X_t):\n",
    "\n",
    "    combine = [prev_ct, prev_ht, X_t] \n",
    "    \n",
    "    # 𝑓𝑡=𝜎(𝑊𝑓[𝑐𝑡−1,ℎ𝑡−1,𝑋𝑡]+𝑏𝑓)\n",
    "    ft = forget_valve(combine)\n",
    "\n",
    "    # G_t: 𝐺𝑡 = 𝑡𝑎𝑛ℎ(𝑊𝑔[𝐶𝑡−1,ℎ𝑡−1,𝑋𝑡]+𝑏𝑔) \n",
    "    candidate = new_memory_valve(combine)\n",
    "\n",
    "    # 𝑖𝑡=𝜎(𝑊𝑖[𝐶𝑡−1,ℎ𝑡−1,𝑋𝑡]+𝑏𝑖)\n",
    "    it = input_layer(combine)\n",
    "    \n",
    "    # 𝐶𝑡=𝑓𝑡∗𝐶𝑡−1+𝑖𝑡∗𝐺𝑡\n",
    "    C_t = prev_ct * f_t + candidate * it\n",
    "\n",
    "    ot = output_layer(combine)\n",
    "\n",
    "    # ℎ𝑡=𝑜𝑡∗𝑡𝑎𝑛ℎ(𝐶𝑡)\n",
    "    ht = ot * tanh(Ct)\n",
    "\n",
    "    return ht, Ct\n",
    "\n",
    "\n",
    "ct = [0, 0, 0]\n",
    "ht = [0, 0, 0]\n",
    "\n",
    "for Xt in inputs:\n",
    "    ct_, ht = LSTM(ct,ht, Xt)\n",
    "```"
   ]
  }
 ],
 "metadata": {
  "kernelspec": {
   "display_name": "Python 3",
   "language": "python",
   "name": "python3"
  },
  "language_info": {
   "codemirror_mode": {
    "name": "ipython",
    "version": 3
   },
   "file_extension": ".py",
   "mimetype": "text/x-python",
   "name": "python",
   "nbconvert_exporter": "python",
   "pygments_lexer": "ipython3",
   "version": "3.9.7"
  },
  "latex_envs": {
   "LaTeX_envs_menu_present": true,
   "autoclose": false,
   "autocomplete": true,
   "bibliofile": "biblio.bib",
   "cite_by": "apalike",
   "current_citInitial": 1,
   "eqLabelWithNumbers": true,
   "eqNumInitial": 1,
   "hotkeys": {
    "equation": "Ctrl-E",
    "itemize": "Ctrl-I"
   },
   "labels_anchors": false,
   "latex_user_defs": false,
   "report_style_numbering": false,
   "user_envs_cfg": false
  },
  "toc": {
   "base_numbering": 1,
   "nav_menu": {},
   "number_sections": true,
   "sideBar": true,
   "skip_h1_title": false,
   "title_cell": "Table of Contents",
   "title_sidebar": "Contents",
   "toc_cell": false,
   "toc_position": {},
   "toc_section_display": true,
   "toc_window_display": false
  },
  "varInspector": {
   "cols": {
    "lenName": 16,
    "lenType": 16,
    "lenVar": 40
   },
   "kernels_config": {
    "python": {
     "delete_cmd_postfix": "",
     "delete_cmd_prefix": "del ",
     "library": "var_list.py",
     "varRefreshCmd": "print(var_dic_list())"
    },
    "r": {
     "delete_cmd_postfix": ") ",
     "delete_cmd_prefix": "rm(",
     "library": "var_list.r",
     "varRefreshCmd": "cat(var_dic_list()) "
    }
   },
   "types_to_exclude": [
    "module",
    "function",
    "builtin_function_or_method",
    "instance",
    "_Feature"
   ],
   "window_display": false
  }
 },
 "nbformat": 4,
 "nbformat_minor": 2
}
