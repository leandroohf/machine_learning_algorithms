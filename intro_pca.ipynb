{
 "cells": [
  {
   "cell_type": "markdown",
   "metadata": {},
   "source": [
    "# Intro to PCA\n",
    "\n",
    "Principal component analysis (PCA) and singular value decomposition (SVD) are commonly used dimensionality reduction approaches in exploratory data analysis (EDA) and preprocessing thecnique in Machine Learning.\n",
    "\n",
    "PCA aims to find **linearly uncorrelated orthogonal axes**, which are also known as principal components (PCs) in the dimensional space to project the data points onto those PCs. The first PC captures the largest variance in the data. The gif below explains that. The  2 original axes have a high correlation. We will apply rotations in this axis and find a new set of the axis where this correlation vanishes. \n",
    "\n",
    "<img src=\"images/1_XGaA7KWUlhWZLIezYEBIHA.gif\"  width=\"800\" height=\"800\">\n",
    "\n",
    "PCA is good for:\n",
    "\n",
    "1. Capture linear pattern. For non-linear patterns use other techiniques such as [t-sne](https://en.wikipedia.org/wiki/T-distributed_stochastic_neighbor_embedding)\n",
    "1. Find the strongest pattern in the data\n",
    "1. Since noise tends to have smaller amplitude than signals in the data, it can also uses to reduce noise\n",
    "1. Can be used as dimensionality reduction technique\n",
    "\n",
    "Comparison with Fouries recnstruction of the signal\n",
    "\n",
    "| item                                                         | Fourier reconstruction of signal | PCA reconstructions         |\n",
    "|------------------------------------------------------------- | -------------------------------- | ----------------------------|\n",
    "| building blocks                                              | sines n cosines                  | eigen-vectors               |\n",
    "| properties of the blocks                                     | orthogonal                       | linear uncorrelated         |\n",
    "| coefficient (gives the importance of the eigen-vector/sines) | amplitude (A)                    | eigen-value ( $\\lambda $)  |\n",
    "| variance explained                                           | $\\sum A_k^2 $                   | $\\sum \\lambda_k $       |\n",
    "| applications                                                 | filter/dimension reduction       | filters/dimension reduction |\n",
    "\n",
    "\n",
    "\n",
    "refs:\n",
    "\n",
    "* https://towardsdatascience.com/pca-and-svd-explained-with-numpy-5d13b0d2a4d8\n",
    "* https://stats.stackexchange.com/questions/2691/making-sense-of-principal-component-analysis-eigenvectors-eigenvalues\n",
    "* https://github.com/caiomiyashiro/exploratory_data_analysis\n"
   ]
  },
  {
   "cell_type": "markdown",
   "metadata": {},
   "source": [
    "## Explanation to layman"
   ]
  },
  {
   "cell_type": "markdown",
   "metadata": {
    "ExecuteTime": {
     "end_time": "2019-05-23T17:13:29.996501Z",
     "start_time": "2019-05-23T17:13:29.986538Z"
    }
   },
   "source": [
    "It is a good analogy\n",
    "\n",
    "> I lost the notes about the author of the text below. The text below is not mine\n",
    "\n",
    "> For a good explantion see the video: https://www.youtube.com/watch?v=a9jdQGybYmE (Professon Natahn, Washington University)\n",
    "\n",
    "```txt\n",
    "\n",
    "It's just a method of summarizing some data. \n",
    "\n",
    "We can describe each wine by its colour, by how strong it is, by how old it is, and so on. We can compose a whole list of different characteristics of each wine in our cellar. But many of them will measure related properties and some will be redundant. If so, we should be able to summarize each wine with fewer characteristics as possible! This is what PCA does.\n",
    "\n",
    "So this PCA thing checks what characteristics  (features) are redundant and discards them?\n",
    "\n",
    "PCA is not selecting some characteristics and discarding the others. Instead, it constructs some new characteristics that turn out to summarize our list of wines well. Of course these new characteristics are constructed using the old ones; for example, a new characteristic might be computed as wine age minus wine acidity level or some other combination like that (we call them linear combinations)\n",
    "\n",
    "What do you actually mean when you say that these new PCA characteristics \"summarize\" the list of wines?\n",
    "\n",
    "First answer is that you are looking for some wine properties (characteristics) that strongly differ across wines. Indeed, imagine that you come up with a property that is the same for most of the wines. This would not be very useful, wouldn't it? Wines are very different, but your new property makes them all look the same! This would certainly be a bad summary. Instead, PCA looks for properties that show as much variation across wines as possible.\n",
    "\n",
    "\n",
    "The second answer is that you look for the properties that would allow you to predict, or \"reconstruct\", the original wine characteristics. So PCA looks for properties that allow to reconstruct the original characteristics as well as possible.\n",
    "\n",
    "\n",
    "PCA will find the \"best\" line according to two different criteria of what is the \"best\". First, the variation of values along this line should be maximal. At the same time find the line that minimize the reconstruction error. \n",
    "\n",
    "If you stare at this animation for some time, you will notice that \"the maximum variance\" and \"the minimum error\" are reached at the same time, \n",
    "\n",
    "```\n"
   ]
  },
  {
   "cell_type": "markdown",
   "metadata": {},
   "source": [
    "## PCA as optmization\n",
    "based on: https://github.com/caiomiyashiro/exploratory_data_analysis"
   ]
  },
  {
   "cell_type": "markdown",
   "metadata": {},
   "source": [
    "PCA is the transformation of the covariance that maximizes the variance in the directions of $w$ (principal components).\n",
    "\n",
    "Let be the transformation $Xw$. The covariance in the new system of coordinates can be computed as:\n",
    "\n",
    "$\n",
    "C' = \\frac{1}{n-1} (Xw)^t Xw \\\\\n",
    " = \\frac{1}{n-1} (w^tX^t) Xw \\\\\n",
    " =  w^t (\\frac{1}{n-1}X^t X) w \\\\\n",
    "C'= w^t C w \n",
    "$\n",
    "\n",
    "where $n$ is the data size.\n",
    "\n",
    "Because we want $w$ to be a unit vector and does not add any variance in the transformed data, we introduce the constraint $w^tw = 1$. Using the optimization method of Lagrange multipliers.\n",
    "\n",
    "$\n",
    "\\mathcal{L}(w,\\lambda) = w^t C w - \\lambda (w^t w - 1) \\\\ \n",
    "\\frac{\\partial}{ \\partial w}\\mathcal{L} =  2 C w - 2 \\lambda w \\equiv 0 \\\\\n",
    "\\frac{\\partial}{ \\partial\\lambda}\\mathcal{L} = 2 w \\lambda \\equiv 0 \\\\\n",
    "$\n",
    "\n",
    "From the $\\frac{\\partial}{ \\partial w}\\mathcal{L}$ we have the [**eigen value eigen vector**](https://en.wikipedia.org/wiki/Eigenvalues_and_eigenvectors) problem.\n",
    "\n",
    "$\n",
    "C w  = \\lambda w\n",
    "$\n",
    "\n",
    "Solving the equation above is equivalent to maximizing $C'= Xw$ with the constraint $w$ unitary."
   ]
  },
  {
   "cell_type": "markdown",
   "metadata": {},
   "source": [
    "## Steps overview\n"
   ]
  },
  {
   "cell_type": "markdown",
   "metadata": {},
   "source": [
    "1. Compute the covariance matrix\n",
    "2. Compute the eigen-vectors and eigen-values of the covariance matrix \n",
    "\n",
    "\n",
    "\\begin{equation*}\n",
    "C = \\frac{XX^{T}}{(n-1)}\n",
    "\\end{equation*}\n",
    "\n",
    "Ex: of covariance matrix\n",
    "\n",
    "\\begin{equation*}\n",
    "\\begin{bmatrix}\n",
    "    1.07     &  0.63  \\\\\n",
    "    0.63    & 0.64\n",
    "\\end{bmatrix}\n",
    "\\end{equation*}\n",
    "\n",
    "What this means is that the variance of the x variable is 1.07, the variance of the y variable is 0.64, and the covariance between them is 0.63.\n",
    "\n",
    "After all, the geometrical meaning of eigen decomposition is to find a new coordinate system of the eigenvectors for C through rotations.\n",
    "\n",
    "\n",
    "\\begin{equation*}\n",
    "C = U \\Lambda U^{-1}\n",
    "\\end{equation*}\n",
    "\n",
    "Where $\\Lambda$ is a diagonal matrix and its elements are the eigen-values $\\lambda_i$ and U is a matrix where its columns are the eigen-vetors $u_i$. The eigen-vetctors are orthonormal basis of the covariance matrix. The eigen-vectors are called the principal components and **the eigenvalues are the variances in the new independent coordinate system** (If you compute the covariance matrix od the data in the new set of axis defined by the eigen-vectors you will find the eigen-values )\n",
    "\n",
    "\n",
    "We can then use matrix multiplication to project the data onto the PC space. For the purpose of dimensionality reduction, we can project the data points onto the first k PCs (eigen-vectors was sorted by their eigen-values) as the representation of the data:\n",
    "\n",
    "\\begin{equation*}\n",
    "X'_{nxk} = [X_{nxd}]_k U_{kxk}\n",
    "\\end{equation*}\n",
    "\n",
    "where $k < d$ and $[X_{nxd}]_k$ mean you are only considering the $k$ dimensions."
   ]
  },
  {
   "cell_type": "markdown",
   "metadata": {},
   "source": [
    "## Implementaion"
   ]
  },
  {
   "cell_type": "markdown",
   "metadata": {},
   "source": [
    "> Modern implementation of PCA is performing using [SVD](https://en.wikipedia.org/wiki/Singular_value_decomposition) instead of the eigen value and vector decomposition because there are more computational efficient. But they are equivalent."
   ]
  },
  {
   "cell_type": "code",
   "execution_count": 18,
   "metadata": {
    "ExecuteTime": {
     "end_time": "2019-05-23T17:25:42.187721Z",
     "start_time": "2019-05-23T17:25:42.177783Z"
    }
   },
   "outputs": [],
   "source": [
    "import pandas as pd\n",
    "import numpy as np\n",
    "import matplotlib.pyplot as plt\n",
    "\n",
    "import matplotlib\n",
    "import matplotlib.pyplot as plt\n",
    "%matplotlib inline \n",
    "\n",
    "import IPython\n",
    "from IPython.core.interactiveshell import InteractiveShell\n",
    "InteractiveShell.ast_node_interactivity = \"all\"\n",
    "\n",
    "# diplsay image side by side\n",
    "from IPython.display import HTML, display\n",
    "\n",
    "from sklearn.preprocessing import StandardScaler\n",
    "\n",
    "_figsize=[8,6]"
   ]
  },
  {
   "cell_type": "code",
   "execution_count": 19,
   "metadata": {
    "ExecuteTime": {
     "end_time": "2019-05-23T17:19:21.655686Z",
     "start_time": "2019-05-23T17:19:21.650791Z"
    }
   },
   "outputs": [],
   "source": [
    "def pca(X):\n",
    "\n",
    "    # Data matrix X, assumes 0-centered\n",
    "    n, m = X.shape\n",
    "    assert np.allclose(X.mean(axis=0), np.zeros(m))\n",
    "    \n",
    "    # Compute covariance matrix\n",
    "    C = np.dot(X.T, X) / (n-1)\n",
    "    \n",
    "    # Eigen decomposition: U^{-1}\\Lambda U\n",
    "    # \\lambdas     U\n",
    "    eigen_vals, eigen_vecs = np.linalg.eig(C)\n",
    "\n",
    "    # Project X onto PC space\n",
    "    X_pca = np.dot(X, eigen_vecs)\n",
    "\n",
    "    return X_pca, eigen_vals, eigen_vecs\n"
   ]
  },
  {
   "cell_type": "markdown",
   "metadata": {},
   "source": [
    "## Creating fake data"
   ]
  },
  {
   "cell_type": "code",
   "execution_count": 20,
   "metadata": {
    "ExecuteTime": {
     "end_time": "2019-05-23T17:20:16.268994Z",
     "start_time": "2019-05-23T17:20:16.084299Z"
    }
   },
   "outputs": [
    {
     "data": {
      "text/plain": [
       "(50, 2)"
      ]
     },
     "execution_count": 20,
     "metadata": {},
     "output_type": "execute_result"
    },
    {
     "name": "stdout",
     "output_type": "stream",
     "text": [
      "Show the data\n"
     ]
    },
    {
     "data": {
      "text/plain": [
       "<matplotlib.collections.PathCollection at 0x1279c78b0>"
      ]
     },
     "execution_count": 20,
     "metadata": {},
     "output_type": "execute_result"
    },
    {
     "data": {
      "image/png": "[encoded data removed]",
      "text/plain": [
       "<Figure size 432x288 with 1 Axes>"
      ]
     },
     "metadata": {
      "needs_background": "light"
     },
     "output_type": "display_data"
    }
   ],
   "source": [
    "n = 50\n",
    "x = np.linspace(0.0, 1.0, num=n)\n",
    "y = 1.2*x + np.random.normal(0.0,0.2,50)\n",
    "\n",
    "x = x - np.mean(x)\n",
    "y = y - np.mean(y)\n",
    "\n",
    "X = np.array([x,y]).T\n",
    "#X = X - X.mean(axis=0)\n",
    "X.shape\n",
    "\n",
    "print('Show the data')\n",
    "plt.scatter(x,y)\n",
    "plt.xlim=(-0.5,0.5)\n",
    "plt.ylim=(-1.0,1.0)"
   ]
  },
  {
   "cell_type": "markdown",
   "metadata": {},
   "source": [
    "* **Undertanding/checking the covariance matrix**"
   ]
  },
  {
   "cell_type": "code",
   "execution_count": 21,
   "metadata": {
    "ExecuteTime": {
     "end_time": "2019-05-23T17:20:20.344636Z",
     "start_time": "2019-05-23T17:20:20.325483Z"
    }
   },
   "outputs": [
    {
     "data": {
      "text/plain": [
       "array([[0.08850479, 0.12415304],\n",
       "       [0.12415304, 0.19758389]])"
      ]
     },
     "execution_count": 21,
     "metadata": {},
     "output_type": "execute_result"
    },
    {
     "name": "stdout",
     "output_type": "stream",
     "text": [
      "Uderstand the covariance matrix\n",
      "The diagonals should be the varince in each axis\n"
     ]
    },
    {
     "data": {
      "text/plain": [
       "0.08850478967097042"
      ]
     },
     "execution_count": 21,
     "metadata": {},
     "output_type": "execute_result"
    },
    {
     "data": {
      "text/plain": [
       "0.19758389398653362"
      ]
     },
     "execution_count": 21,
     "metadata": {},
     "output_type": "execute_result"
    }
   ],
   "source": [
    "# Compute covariance matrix\n",
    "C = np.dot(X.T, X) / (n-1)\n",
    "C\n",
    "C0 = C\n",
    "\n",
    "print('Uderstand the covariance matrix')\n",
    "print('The diagonals should be the varince in each axis')\n",
    "np.var(X[:,0],ddof=1)\n",
    "np.var(X[:,1],ddof=1)\n"
   ]
  },
  {
   "cell_type": "markdown",
   "metadata": {},
   "source": [
    "## Compute PCA "
   ]
  },
  {
   "cell_type": "code",
   "execution_count": 22,
   "metadata": {
    "ExecuteTime": {
     "end_time": "2019-05-23T17:21:12.469745Z",
     "start_time": "2019-05-23T17:21:12.465577Z"
    }
   },
   "outputs": [
    {
     "data": {
      "image/png": "[encoded data removed]",
      "text/plain": [
       "<Figure size 432x288 with 1 Axes>"
      ]
     },
     "metadata": {
      "needs_background": "light"
     },
     "output_type": "display_data"
    }
   ],
   "source": [
    "X_pca, eigen_vals, eigen_vecs = pca(X)\n",
    "\n",
    "plt.scatter(X_pca[:,0],X_pca[:,1])\n",
    "plt.xlim =(-0.5,0.5)\n",
    "plt.ylim=(-1.0,1.0)\n",
    "plt.title('PCA - Uncorrelated Transformed Space ')\n",
    "plt.xlabel('PC1')\n",
    "plt.ylabel('PC2');\n"
   ]
  },
  {
   "cell_type": "markdown",
   "metadata": {},
   "source": [
    "* **Checking pca properties**\n",
    "\n",
    "1. Comparing convaricance matrix after and before\n",
    "2. Checks eigen values are the variance of the new covariance matrix (diagonal)\n",
    "3. Show the total variance is constant"
   ]
  },
  {
   "cell_type": "code",
   "execution_count": 23,
   "metadata": {
    "ExecuteTime": {
     "end_time": "2019-05-23T17:23:33.077446Z",
     "start_time": "2019-05-23T17:23:33.040120Z"
    }
   },
   "outputs": [
    {
     "name": "stdout",
     "output_type": "stream",
     "text": [
      "eigen vectors\n"
     ]
    },
    {
     "data": {
      "text/plain": [
       "array([[-0.837316  , -0.54671923],\n",
       "       [ 0.54671923, -0.837316  ]])"
      ]
     },
     "execution_count": 23,
     "metadata": {},
     "output_type": "execute_result"
    },
    {
     "name": "stdout",
     "output_type": "stream",
     "text": [
      "Comparing covariance matrix before and after pca\n",
      "[[0.08850479 0.12415304]\n",
      " [0.12415304 0.19758389]]\n",
      "\n",
      "[[ 7.43998842e-03 -1.04298738e-17]\n",
      " [-1.04298738e-17  2.78648695e-01]]\n",
      "\n",
      "comparing the eigen values with the variances\n",
      "The eigen valus are in the diagonal of the new cov matrix\n",
      "the eigen values are the variance in the new axis\n",
      "[0.00743999 0.2786487 ]\n"
     ]
    },
    {
     "data": {
      "text/plain": [
       "0.007439988417439898"
      ]
     },
     "execution_count": 23,
     "metadata": {},
     "output_type": "execute_result"
    },
    {
     "data": {
      "text/plain": [
       "0.27864869524006414"
      ]
     },
     "execution_count": 23,
     "metadata": {},
     "output_type": "execute_result"
    },
    {
     "name": "stdout",
     "output_type": "stream",
     "text": [
      "\n",
      "The variance explained\n"
     ]
    },
    {
     "data": {
      "text/plain": [
       "0.286088683657504"
      ]
     },
     "execution_count": 23,
     "metadata": {},
     "output_type": "execute_result"
    },
    {
     "data": {
      "text/plain": [
       "0.286088683657504"
      ]
     },
     "execution_count": 23,
     "metadata": {},
     "output_type": "execute_result"
    },
    {
     "data": {
      "text/plain": [
       "0.2860886836575041"
      ]
     },
     "execution_count": 23,
     "metadata": {},
     "output_type": "execute_result"
    },
    {
     "name": "stdout",
     "output_type": "stream",
     "text": [
      "The product of eigen values are the determinant of the covariance matrix\n"
     ]
    },
    {
     "data": {
      "text/plain": [
       "0.002073143065120818"
      ]
     },
     "execution_count": 23,
     "metadata": {},
     "output_type": "execute_result"
    },
    {
     "data": {
      "text/plain": [
       "0.0020731430651208106"
      ]
     },
     "execution_count": 23,
     "metadata": {},
     "output_type": "execute_result"
    },
    {
     "data": {
      "text/plain": [
       "0.0020731430651208093"
      ]
     },
     "execution_count": 23,
     "metadata": {},
     "output_type": "execute_result"
    }
   ],
   "source": [
    "# Compute covariance matrix\n",
    "C = np.dot(X_pca.T, X_pca) / (n-1)\n",
    "\n",
    "print('eigen vectors')\n",
    "eigen_vecs\n",
    "\n",
    "print('Comparing covariance matrix before and after pca')\n",
    "print(C0)\n",
    "print()\n",
    "print(C)\n",
    "\n",
    "print()\n",
    "print('comparing the eigen values with the variances')\n",
    "print('The eigen valus are in the diagonal of the new cov matrix')\n",
    "print('the eigen values are the variance in the new axis')\n",
    "print(eigen_vals)\n",
    "\n",
    "# The eigen values should be equal to the variances below\n",
    "# ddof = 1 tels to divide by N-1 instead of N\n",
    "np.var(X_pca[:,0],ddof=1)\n",
    "np.var(X_pca[:,1],ddof=1) \n",
    "\n",
    "print()\n",
    "print('The variance explained')\n",
    "np.sum(eigen_vals)\n",
    "np.sum(np.trace(C0))\n",
    "np.sum(np.trace(C))\n",
    "\n",
    "print('The product of eigen values are the determinant of the covariance matrix')\n",
    "np.linalg.det(C)\n",
    "np.linalg.det(C0)\n",
    "np.prod(eigen_vals)"
   ]
  },
  {
   "cell_type": "markdown",
   "metadata": {},
   "source": [
    "## The difference between OLS (Least square) n PCA (**very important**)\n",
    "\n",
    "Very nice discussion\n",
    "\n",
    "**Least square minimize the distance in the y n x direction**\n",
    "\n",
    "* left y ~ x \n",
    "* right x ~ y"
   ]
  },
  {
   "cell_type": "code",
   "execution_count": 7,
   "metadata": {
    "ExecuteTime": {
     "end_time": "2019-05-23T17:25:46.343115Z",
     "start_time": "2019-05-23T17:25:46.335642Z"
    }
   },
   "outputs": [
    {
     "data": {
      "text/html": [
       "<table><tr><td><img src='images/ozqBY.png'></td><td><img src='images/pHbub.png'></td></tr></table>"
      ],
      "text/plain": [
       "<IPython.core.display.HTML object>"
      ]
     },
     "metadata": {},
     "output_type": "display_data"
    }
   ],
   "source": [
    "display(HTML(\"<table><tr><td><img src='images/ozqBY.png'></td><td><img src='images/pHbub.png'></td></tr></table>\"))"
   ]
  },
  {
   "cell_type": "markdown",
   "metadata": {},
   "source": [
    "**While PCA minize the distance orthogonal to the line**\n",
    "\n",
    "<img src=\"images/bOl5N.png\"  width=\"300\" height=\"300\">\n"
   ]
  },
  {
   "cell_type": "code",
   "execution_count": 8,
   "metadata": {
    "ExecuteTime": {
     "end_time": "2019-05-23T17:26:50.214201Z",
     "start_time": "2019-05-23T17:26:50.050096Z"
    }
   },
   "outputs": [
    {
     "name": "stdout",
     "output_type": "stream",
     "text": [
      "1.3196992926047324 -4.7102773760513245e-17\n"
     ]
    },
    {
     "data": {
      "text/plain": [
       "<matplotlib.collections.PathCollection at 0x127793d00>"
      ]
     },
     "execution_count": 8,
     "metadata": {},
     "output_type": "execute_result"
    },
    {
     "data": {
      "text/plain": [
       "[<matplotlib.lines.Line2D at 0x127602460>]"
      ]
     },
     "execution_count": 8,
     "metadata": {},
     "output_type": "execute_result"
    },
    {
     "data": {
      "text/plain": [
       "[<matplotlib.lines.Line2D at 0x1277a0280>]"
      ]
     },
     "execution_count": 8,
     "metadata": {},
     "output_type": "execute_result"
    },
    {
     "data": {
      "text/plain": [
       "<matplotlib.legend.Legend at 0x12776eb50>"
      ]
     },
     "execution_count": 8,
     "metadata": {},
     "output_type": "execute_result"
    },
    {
     "data": {
      "image/png": "[encoded data removed]",
      "text/plain": [
       "<Figure size 432x288 with 1 Axes>"
      ]
     },
     "metadata": {
      "needs_background": "light"
     },
     "output_type": "display_data"
    }
   ],
   "source": [
    "# Solving OLS with numpy y = m x+ c + e\n",
    "A = np.vstack([x, np.ones(len(x))]).T\n",
    "m, c = np.linalg.lstsq(A, y, rcond=None)[0]\n",
    "print(m, c)\n",
    "x0 = 1.0\n",
    "x_ols = [-x0, x0]\n",
    "y_ols = [-m*x0 + c, m*x0 + c]\n",
    "\n",
    "\n",
    "u1 = eigen_vecs.T[0]\n",
    "u2 = eigen_vecs.T[1]\n",
    "\n",
    "x1 = np.array([-u2[0],u2[0]])*1.5\n",
    "y1 = np.array([-u2[1],u2[1]])*1.5\n",
    "\n",
    "plt.scatter(x,y)\n",
    "plt.plot(x1,y1,c='r',label='eigen vectors')\n",
    "plt.plot(x_ols,y_ols,c='k',label='ols')\n",
    "plt.xlim=(-0.5,0.5)\n",
    "plt.ylim=(-1.0,1.0)\n",
    "plt.legend()"
   ]
  },
  {
   "cell_type": "markdown",
   "metadata": {},
   "source": [
    "## Comparison with SVD"
   ]
  },
  {
   "cell_type": "markdown",
   "metadata": {},
   "source": [
    "\n",
    "PCA and SVD are closely related approaches and can be both applied to decompose any rectangular matrices. \n",
    "\n",
    "Most implementations of PCA actually use performs SVD under the hood rather than doing eigen decomposition on the covariance matrix because SVD can be much more efficient and is able to handle sparse matrices. In addition, there are reduced forms of SVD which are even more economic to compute.\n",
    "\n",
    "\n",
    "We can look into their relationship by performing SVD on the covariance matrix C\n",
    "\n",
    "\n",
    "Decompose X using SVD\n",
    "\\begin{equation*}\n",
    "X = V \\Sigma U^T \\\\\n",
    "C = \\frac{U \\Sigma V^T V \\Sigma  U^T}{n-1} \\\\\n",
    "C = U \\frac{\\Sigma^2}{n-1} U^T \\\\\n",
    "C = U \\frac{\\Sigma^2}{n-1} U^{-1}\n",
    "\\end{equation*}\n",
    "\n",
    "Because the eigenvector matrix U is unitary \n",
    "\n",
    "comparing with \n",
    "\n",
    "\\begin{equation*}\n",
    "C = U \\Lambda U^{-1}\n",
    "\\end{equation*}\n",
    "\n",
    "We have\n",
    "\n",
    "\\begin{equation*}\n",
    "\\Lambda = \\frac{\\Sigma^2}{n-1}\n",
    "\\end{equation*}\n"
   ]
  },
  {
   "cell_type": "code",
   "execution_count": 9,
   "metadata": {
    "ExecuteTime": {
     "end_time": "2019-05-23T17:30:04.167215Z",
     "start_time": "2019-05-23T17:30:04.162836Z"
    }
   },
   "outputs": [],
   "source": [
    "# Compute covariance matrix\n",
    "C = np.dot(X.T, X) / (n-1)\n",
    "\n",
    "# Eigen decomposition\n",
    "eigen_vals, eigen_vecs = np.linalg.eig(C)\n",
    "\n",
    "# SVD\n",
    "V, Sigma, Uh = np.linalg.svd(X, \n",
    "    full_matrices=False, \n",
    "    compute_uv=True)\n"
   ]
  },
  {
   "cell_type": "markdown",
   "metadata": {},
   "source": [
    "* **cheking SVD n PCA relationship**\n",
    "\n",
    "\n",
    "\n",
    "* $ U^{-1} = U^T$\n",
    "\n",
    "* $\\Sigma$ and $\\Lambda$\n",
    "\n",
    "\\begin{equation*}\n",
    "\\Lambda = \\frac{\\Sigma^2}{n-1}\n",
    "\\end{equation*}"
   ]
  },
  {
   "cell_type": "code",
   "execution_count": 10,
   "metadata": {
    "ExecuteTime": {
     "end_time": "2019-05-23T17:30:05.327281Z",
     "start_time": "2019-05-23T17:30:05.314711Z"
    }
   },
   "outputs": [
    {
     "name": "stdout",
     "output_type": "stream",
     "text": [
      "Checking U*U^T = I\n"
     ]
    },
    {
     "data": {
      "text/plain": [
       "array([[ 1.00000000e+00, -1.13079638e-17],\n",
       "       [-1.13079638e-17,  1.00000000e+00]])"
      ]
     },
     "execution_count": 10,
     "metadata": {},
     "output_type": "execute_result"
    },
    {
     "data": {
      "text/plain": [
       "array([[1., 0.],\n",
       "       [0., 1.]])"
      ]
     },
     "execution_count": 10,
     "metadata": {},
     "output_type": "execute_result"
    },
    {
     "name": "stdout",
     "output_type": "stream",
     "text": [
      "\n",
      "Sigma matrix\n",
      "[3.60558811 0.74562756]\n",
      "\n",
      "Comparing Sigma matrix with Lambda matrix\n",
      "[0.01134613 0.26531154]\n",
      "[0.26531154 0.01134613]\n"
     ]
    }
   ],
   "source": [
    "print('Checking U*U^T = I')\n",
    "np.matmul(Uh,Uh.T)\n",
    "U0 = eigen_vecs\n",
    "np.matmul(U0,U0.T)\n",
    "\n",
    "print()\n",
    "print('Sigma matrix')\n",
    "print(Sigma)\n",
    "\n",
    "\n",
    "print()\n",
    "print('Comparing Sigma matrix with Lambda matrix')\n",
    "# Relationship between singular values and eigen values:\n",
    "print(eigen_vals)\n",
    "print(np.square(Sigma) / (n - 1))\n"
   ]
  },
  {
   "cell_type": "markdown",
   "metadata": {},
   "source": [
    "## Variable explained\n",
    "\n",
    "based on: https://github.com/caiomiyashiro/exploratory_data_analysis"
   ]
  },
  {
   "cell_type": "markdown",
   "metadata": {},
   "source": [
    "If the eigen values $\\lambda$ are order in the decrescent order, we can compute the percentage of total variance the new tranformed data has if we keep only the first $k$ eigen vectors (PC). \n",
    "\n",
    "To ilustrade we are going to load a dataset, compute the PCA, order the eigen values and build a graph of variance explained vs the number of dimensions."
   ]
  },
  {
   "cell_type": "code",
   "execution_count": 11,
   "metadata": {},
   "outputs": [
    {
     "name": "stdout",
     "output_type": "stream",
     "text": [
      "Dataset shape: (28, 13)\n"
     ]
    },
    {
     "data": {
      "text/html": [
       "<div>\n",
       "<style scoped>\n",
       "    .dataframe tbody tr th:only-of-type {\n",
       "        vertical-align: middle;\n",
       "    }\n",
       "\n",
       "    .dataframe tbody tr th {\n",
       "        vertical-align: top;\n",
       "    }\n",
       "\n",
       "    .dataframe thead th {\n",
       "        text-align: right;\n",
       "    }\n",
       "</style>\n",
       "<table border=\"1\" class=\"dataframe\">\n",
       "  <thead>\n",
       "    <tr style=\"text-align: right;\">\n",
       "      <th></th>\n",
       "      <th>100m</th>\n",
       "      <th>Long jump</th>\n",
       "      <th>Shot put</th>\n",
       "      <th>High jump</th>\n",
       "      <th>400m</th>\n",
       "      <th>110m H</th>\n",
       "      <th>Discus</th>\n",
       "      <th>Pole vault</th>\n",
       "      <th>Javeline</th>\n",
       "      <th>1500m</th>\n",
       "      <th>Rank</th>\n",
       "      <th>Points</th>\n",
       "      <th>Competition</th>\n",
       "    </tr>\n",
       "  </thead>\n",
       "  <tbody>\n",
       "    <tr>\n",
       "      <th>Sebrle</th>\n",
       "      <td>10.85</td>\n",
       "      <td>7.84</td>\n",
       "      <td>16.36</td>\n",
       "      <td>2.12</td>\n",
       "      <td>48.36</td>\n",
       "      <td>14.05</td>\n",
       "      <td>48.72</td>\n",
       "      <td>5.0</td>\n",
       "      <td>70.52</td>\n",
       "      <td>280.01</td>\n",
       "      <td>1</td>\n",
       "      <td>8893</td>\n",
       "      <td>OlympicG</td>\n",
       "    </tr>\n",
       "    <tr>\n",
       "      <th>Clay</th>\n",
       "      <td>10.44</td>\n",
       "      <td>7.96</td>\n",
       "      <td>15.23</td>\n",
       "      <td>2.06</td>\n",
       "      <td>49.19</td>\n",
       "      <td>14.13</td>\n",
       "      <td>50.11</td>\n",
       "      <td>4.9</td>\n",
       "      <td>69.71</td>\n",
       "      <td>282.00</td>\n",
       "      <td>2</td>\n",
       "      <td>8820</td>\n",
       "      <td>OlympicG</td>\n",
       "    </tr>\n",
       "    <tr>\n",
       "      <th>Karpov</th>\n",
       "      <td>10.50</td>\n",
       "      <td>7.81</td>\n",
       "      <td>15.93</td>\n",
       "      <td>2.09</td>\n",
       "      <td>46.81</td>\n",
       "      <td>13.97</td>\n",
       "      <td>51.65</td>\n",
       "      <td>4.6</td>\n",
       "      <td>55.54</td>\n",
       "      <td>278.11</td>\n",
       "      <td>3</td>\n",
       "      <td>8725</td>\n",
       "      <td>OlympicG</td>\n",
       "    </tr>\n",
       "    <tr>\n",
       "      <th>Macey</th>\n",
       "      <td>10.89</td>\n",
       "      <td>7.47</td>\n",
       "      <td>15.73</td>\n",
       "      <td>2.15</td>\n",
       "      <td>48.97</td>\n",
       "      <td>14.56</td>\n",
       "      <td>48.34</td>\n",
       "      <td>4.4</td>\n",
       "      <td>58.46</td>\n",
       "      <td>265.42</td>\n",
       "      <td>4</td>\n",
       "      <td>8414</td>\n",
       "      <td>OlympicG</td>\n",
       "    </tr>\n",
       "    <tr>\n",
       "      <th>Warners</th>\n",
       "      <td>10.62</td>\n",
       "      <td>7.74</td>\n",
       "      <td>14.48</td>\n",
       "      <td>1.97</td>\n",
       "      <td>47.97</td>\n",
       "      <td>14.01</td>\n",
       "      <td>43.73</td>\n",
       "      <td>4.9</td>\n",
       "      <td>55.39</td>\n",
       "      <td>278.05</td>\n",
       "      <td>5</td>\n",
       "      <td>8343</td>\n",
       "      <td>OlympicG</td>\n",
       "    </tr>\n",
       "  </tbody>\n",
       "</table>\n",
       "</div>"
      ],
      "text/plain": [
       "          100m  Long jump  Shot put  High jump   400m  110m H  Discus  \\\n",
       "Sebrle   10.85       7.84     16.36       2.12  48.36   14.05   48.72   \n",
       "Clay     10.44       7.96     15.23       2.06  49.19   14.13   50.11   \n",
       "Karpov   10.50       7.81     15.93       2.09  46.81   13.97   51.65   \n",
       "Macey    10.89       7.47     15.73       2.15  48.97   14.56   48.34   \n",
       "Warners  10.62       7.74     14.48       1.97  47.97   14.01   43.73   \n",
       "\n",
       "         Pole vault  Javeline   1500m  Rank  Points Competition  \n",
       "Sebrle          5.0     70.52  280.01     1    8893    OlympicG  \n",
       "Clay            4.9     69.71  282.00     2    8820    OlympicG  \n",
       "Karpov          4.6     55.54  278.11     3    8725    OlympicG  \n",
       "Macey           4.4     58.46  265.42     4    8414    OlympicG  \n",
       "Warners         4.9     55.39  278.05     5    8343    OlympicG  "
      ]
     },
     "execution_count": 11,
     "metadata": {},
     "output_type": "execute_result"
    }
   ],
   "source": [
    "df = pd.read_csv('data/data_PCA_Decathlon.csv', sep=';', index_col=0)\n",
    "df = df.loc[df['Competition'] == 'OlympicG']\n",
    "print(f'Dataset shape: {df.shape}')\n",
    "df.head()"
   ]
  },
  {
   "cell_type": "markdown",
   "metadata": {},
   "source": [
    "* **Normalizing data**\n",
    "\n",
    "**PCA gives high importance for variables with high variance**. In order to make PCA consider all dimension with the same importance, a common approach is to standardize all dimensions.\n",
    "\n",
    "$\n",
    "z = \\frac{\\bar{x} -x}{\\sigma^2}\n",
    "$\n"
   ]
  },
  {
   "cell_type": "code",
   "execution_count": 12,
   "metadata": {},
   "outputs": [
    {
     "data": {
      "text/html": [
       "<div>\n",
       "<style scoped>\n",
       "    .dataframe tbody tr th:only-of-type {\n",
       "        vertical-align: middle;\n",
       "    }\n",
       "\n",
       "    .dataframe tbody tr th {\n",
       "        vertical-align: top;\n",
       "    }\n",
       "\n",
       "    .dataframe thead th {\n",
       "        text-align: right;\n",
       "    }\n",
       "</style>\n",
       "<table border=\"1\" class=\"dataframe\">\n",
       "  <thead>\n",
       "    <tr style=\"text-align: right;\">\n",
       "      <th></th>\n",
       "      <th>100m</th>\n",
       "      <th>Long jump</th>\n",
       "      <th>Shot put</th>\n",
       "      <th>High jump</th>\n",
       "      <th>400m</th>\n",
       "      <th>110m H</th>\n",
       "      <th>Discus</th>\n",
       "      <th>Pole vault</th>\n",
       "      <th>Javeline</th>\n",
       "      <th>1500m</th>\n",
       "    </tr>\n",
       "  </thead>\n",
       "  <tbody>\n",
       "    <tr>\n",
       "      <th>Sebrle</th>\n",
       "      <td>-0.289664</td>\n",
       "      <td>1.714344</td>\n",
       "      <td>2.063529</td>\n",
       "      <td>1.625467</td>\n",
       "      <td>-1.003534</td>\n",
       "      <td>-1.158385</td>\n",
       "      <td>1.340775</td>\n",
       "      <td>0.942595</td>\n",
       "      <td>2.368119</td>\n",
       "      <td>0.221202</td>\n",
       "    </tr>\n",
       "    <tr>\n",
       "      <th>Clay</th>\n",
       "      <td>-2.096912</td>\n",
       "      <td>2.072565</td>\n",
       "      <td>0.719559</td>\n",
       "      <td>0.946167</td>\n",
       "      <td>-0.337187</td>\n",
       "      <td>-0.974358</td>\n",
       "      <td>1.769771</td>\n",
       "      <td>0.590693</td>\n",
       "      <td>2.202345</td>\n",
       "      <td>0.400194</td>\n",
       "    </tr>\n",
       "    <tr>\n",
       "      <th>Karpov</th>\n",
       "      <td>-1.832437</td>\n",
       "      <td>1.624789</td>\n",
       "      <td>1.552107</td>\n",
       "      <td>1.285817</td>\n",
       "      <td>-2.247916</td>\n",
       "      <td>-1.342412</td>\n",
       "      <td>2.245060</td>\n",
       "      <td>-0.465014</td>\n",
       "      <td>-0.697666</td>\n",
       "      <td>0.050305</td>\n",
       "    </tr>\n",
       "    <tr>\n",
       "      <th>Macey</th>\n",
       "      <td>-0.113347</td>\n",
       "      <td>0.609829</td>\n",
       "      <td>1.314236</td>\n",
       "      <td>1.965117</td>\n",
       "      <td>-0.513809</td>\n",
       "      <td>0.014788</td>\n",
       "      <td>1.223496</td>\n",
       "      <td>-1.168818</td>\n",
       "      <td>-0.100063</td>\n",
       "      <td>-1.091106</td>\n",
       "    </tr>\n",
       "    <tr>\n",
       "      <th>Warners</th>\n",
       "      <td>-1.303486</td>\n",
       "      <td>1.415827</td>\n",
       "      <td>-0.172456</td>\n",
       "      <td>-0.072782</td>\n",
       "      <td>-1.316637</td>\n",
       "      <td>-1.250399</td>\n",
       "      <td>-0.199287</td>\n",
       "      <td>0.590693</td>\n",
       "      <td>-0.728365</td>\n",
       "      <td>0.044909</td>\n",
       "    </tr>\n",
       "  </tbody>\n",
       "</table>\n",
       "</div>"
      ],
      "text/plain": [
       "             100m  Long jump  Shot put  High jump      400m    110m H  \\\n",
       "Sebrle  -0.289664   1.714344  2.063529   1.625467 -1.003534 -1.158385   \n",
       "Clay    -2.096912   2.072565  0.719559   0.946167 -0.337187 -0.974358   \n",
       "Karpov  -1.832437   1.624789  1.552107   1.285817 -2.247916 -1.342412   \n",
       "Macey   -0.113347   0.609829  1.314236   1.965117 -0.513809  0.014788   \n",
       "Warners -1.303486   1.415827 -0.172456  -0.072782 -1.316637 -1.250399   \n",
       "\n",
       "           Discus  Pole vault  Javeline     1500m  \n",
       "Sebrle   1.340775    0.942595  2.368119  0.221202  \n",
       "Clay     1.769771    0.590693  2.202345  0.400194  \n",
       "Karpov   2.245060   -0.465014 -0.697666  0.050305  \n",
       "Macey    1.223496   -1.168818 -0.100063 -1.091106  \n",
       "Warners -0.199287    0.590693 -0.728365  0.044909  "
      ]
     },
     "execution_count": 12,
     "metadata": {},
     "output_type": "execute_result"
    }
   ],
   "source": [
    "numerical_cols = df.columns[:10]\n",
    "X = StandardScaler().fit_transform(df[numerical_cols])\n",
    "\n",
    "df_scaled = pd.DataFrame(X, columns=numerical_cols, index=df.index)\n",
    "df_scaled.head()"
   ]
  },
  {
   "cell_type": "markdown",
   "metadata": {},
   "source": [
    "Compute the principal components and sorting in decreasing order."
   ]
  },
  {
   "cell_type": "code",
   "execution_count": 13,
   "metadata": {},
   "outputs": [
    {
     "data": {
      "text/plain": [
       "array([3.67594091, 2.0429173 , 1.47438128, 0.93695384, 0.58450723,\n",
       "       0.54779092, 0.44889321, 0.37935876, 0.16955096, 0.11007596])"
      ]
     },
     "execution_count": 13,
     "metadata": {},
     "output_type": "execute_result"
    },
    {
     "data": {
      "text/plain": [
       "array([0.35446573, 0.55146133, 0.69363381, 0.78398293, 0.84034613,\n",
       "       0.89316882, 0.93645495, 0.97303598, 0.98938553, 1.        ])"
      ]
     },
     "execution_count": 13,
     "metadata": {},
     "output_type": "execute_result"
    }
   ],
   "source": [
    "X_pca, eigen_vals, eigen_vecs = pca(X)\n",
    "\n",
    "# sort reverse order\n",
    "idxs = np.argsort(-eigen_vals)\n",
    "eigen_vals[idxs]\n",
    "\n",
    "# compute the cumulative variance percentage for ploting\n",
    "cum_var = np.cumsum(eigen_vals[idxs])/np.sum(eigen_vals)\n",
    "cum_var"
   ]
  },
  {
   "cell_type": "markdown",
   "metadata": {},
   "source": [
    "* Plotting"
   ]
  },
  {
   "cell_type": "code",
   "execution_count": 14,
   "metadata": {},
   "outputs": [
    {
     "data": {
      "image/png": "[encoded data removed]",
      "text/plain": [
       "<Figure size 432x288 with 1 Axes>"
      ]
     },
     "metadata": {
      "needs_background": "light"
     },
     "output_type": "display_data"
    }
   ],
   "source": [
    "idxs = range(len(eigen_vals))\n",
    "plt.plot(idxs,cum_var,c='b')\n",
    "plt.scatter(idxs, cum_var)\n",
    "plt.title('PCA - Cumulative Explained Variance')\n",
    "plt.xlabel('Principal Component Index (eigen vector)')\n",
    "plt.ylabel('Cumulative Variance (%)');\n"
   ]
  },
  {
   "cell_type": "markdown",
   "metadata": {},
   "source": [
    "By analysisng the graph above, the first 2 principal components explain about little bit more than half of the original variance of the data. By considering the first 5 PC, the new tranformed data carry more than 90% of the total variance of the initial data with 10 dimensions. **OW!**\n"
   ]
  }
 ],
 "metadata": {
  "kernelspec": {
   "display_name": "Python 3",
   "language": "python",
   "name": "python3"
  },
  "language_info": {
   "codemirror_mode": {
    "name": "ipython",
    "version": 3
   },
   "file_extension": ".py",
   "mimetype": "text/x-python",
   "name": "python",
   "nbconvert_exporter": "python",
   "pygments_lexer": "ipython3",
   "version": "3.9.7"
  },
  "latex_envs": {
   "LaTeX_envs_menu_present": true,
   "autoclose": false,
   "autocomplete": true,
   "bibliofile": "biblio.bib",
   "cite_by": "apalike",
   "current_citInitial": 1,
   "eqLabelWithNumbers": true,
   "eqNumInitial": 1,
   "hotkeys": {
    "equation": "Ctrl-E",
    "itemize": "Ctrl-I"
   },
   "labels_anchors": false,
   "latex_user_defs": false,
   "report_style_numbering": false,
   "user_envs_cfg": false
  },
  "toc": {
   "base_numbering": 1,
   "nav_menu": {},
   "number_sections": true,
   "sideBar": true,
   "skip_h1_title": false,
   "title_cell": "Table of Contents",
   "title_sidebar": "Contents",
   "toc_cell": false,
   "toc_position": {},
   "toc_section_display": true,
   "toc_window_display": true
  }
 },
 "nbformat": 4,
 "nbformat_minor": 2
}
