{
 "cells": [
  {
   "cell_type": "markdown",
   "metadata": {},
   "source": [
    "# Gradients\n",
    "\n",
    "Refs:\n",
    "* Book: Elements of Statistical Learning\n",
    "* https://www.deeplearningbook.org/  <== This is a goodreference for Deep Learning\n",
    "* math demonstrations:\n",
    "    * https://stats.stackexchange.com/questions/278771/how-is-the-cost-function-from-logistic-regression-derivated/278812 \n",
    "    * https://medium.com/analytics-vidhya/derivative-of-log-loss-function-for-logistic-regression-9b832f025c2d\n",
    "    * https://ml-cheatsheet.readthedocs.io/en/latest/logistic_regression.html\n",
    "* Explanations and equations about momentum and others optmizers:\n",
    "    * https://vzahorui.net/optimization/gradient-descent/\n",
    "    \n",
    "* Vidsual animations: https://towardsdatascience.com/a-visual-explanation-of-gradient-descent-methods-momentum-adagrad-rmsprop-adam-f898b102325c\n",
    "* Learning Rate finder\n",
    "    * https://miguel-data-sc.github.io/2017-11-05-first/\n",
    "    * https://arxiv.org/pdf/1506.01186.pdf\n",
    "\n",
    "This notebook reviews some central concepts in deep learning and implements the three main gradient descent algorithms using the NumPy library for linear regression and logistic regression. Latter, we introduce momentum and learning rate scheduler. While presenting the algorithms, we will be doing brief discussions about the impact of initialization, learning rate and outliers in the data.\n",
    "  \n",
    "--------\n",
    "Terms used in deep learning:\n",
    "\n",
    "* epoch: one pass over the entire data\n",
    "* 1 step: update the parameters\n",
    "* B: mini-batch size\n",
    "\n",
    "ref: https://towardsdatascience.com/learning-parameters-part-3-ee8558f65dd7\n",
    "\n",
    "| Gradient Algo                     | #steps in epoch |\n",
    "|-----------------------------------|-----------------|\n",
    "| Vanilla or Batch Gradient Descent | 1               |\n",
    "| Stochastic Gradient Descent       | N               |\n",
    "| Mini Batch Gradient Descent       | N/B             |\n",
    "\n"
   ]
  },
  {
   "cell_type": "markdown",
   "metadata": {},
   "source": [
    "Analogy with Gravity:\n",
    "\n",
    "* Potential Energy => Loss Function\n",
    "* Goal Minimize Potential Energy => Minimize Loss Function \n",
    "* Mountain (x,y,z) => Regression Coefficient ($\\theta$)\n",
    "* modify (x,y) to archive the goal => modify $\\theta$ to achive the goal\n",
    "* Bottom of the Bowl or mountain => Minimum Value of Loss (Error)\n"
   ]
  },
  {
   "cell_type": "code",
   "execution_count": 3,
   "metadata": {},
   "outputs": [],
   "source": [
    "import numpy as np\n",
    "import random as rand\n",
    "\n",
    "import matplotlib\n",
    "import matplotlib.pyplot as plt\n",
    "# required for iteractive plot\n",
    "%matplotlib notebook  \n",
    "\n",
    "import seaborn as sns\n",
    "\n",
    "from sklearn.datasets import make_classification, make_regression\n",
    "from sklearn.metrics import accuracy_score\n",
    "\n",
    "from typing import List, Dict, Tuple, Callable\n",
    "\n",
    "import tensorflow as tf\n",
    "\n",
    "import warnings\n",
    "warnings.filterwarnings('ignore')\n",
    "\n",
    "from IPython.core.interactiveshell import InteractiveShell\n",
    "InteractiveShell.ast_node_interactivity = \"all\"\n",
    "%matplotlib inline"
   ]
  },
  {
   "cell_type": "markdown",
   "metadata": {},
   "source": [
    "## Cost, Loss and hypothesis function\n"
   ]
  },
  {
   "cell_type": "markdown",
   "metadata": {},
   "source": [
    "The terms **cost** and **loss** are many time used interchancheble by many authors (Ian Goodfellow, Yoshua Bengio, Aaron Courville ), other authors preffer to make a clear distinguish between them. Here we decide define this concepts and the concept of hypothesis in machine learning using the ref: https://stats.stackexchange.com/questions/179026/objective-function-cost-function-loss-function-are-they-the-same-thing .\n",
    "\n",
    "* Hypothesis function $h_{\\theta}(x, y)$\n",
    "    1. It is the fucntional responsiple to do the mapping: (x -> y). It is the model you pick that you believe is the best to solve the task. \n",
    "    1. Ex in the context of Machine learning: linear regression, logistic regression and support vector machine all they have different $h_{\\theta}(x, y)$. You neeed to determine the best by try and fail\n",
    "    1. Ex context of deep learning: It is the different architecture you are tryng\n",
    "\n",
    "\n",
    "* Loss function $\\mathcal{L}(h_{\\theta}(x^{(i)}), y_i)$\n",
    "    1. It is the penality the algorithms pays by predicting $\\hat{y}_i = h_{\\theta}(x^{(i)}, y_i)$\n",
    "        * if the estimation (prediction) is right $\\hat{y}_i$, the penality should be zero\n",
    "        * if the estimation (prediction) is wrong, the penality should increase with the difference between $\\hat{y}_i$ and $y_i$\n",
    "     1. It is a fucntion of data and not parameters. The parameters are assumed given and constant\n",
    "     1. Examples of loss functions: Linear regression\n",
    "     \n",
    "$$\n",
    "\\mathcal{L}(x,y) =  \\frac{1}{2} \\left ( x \\theta_1 + \\theta_0 - y \\right )^2 \\\\\n",
    "h_{\\theta_0,\\theta_1}(x, y) = \\left ( x \\theta_1 + \\theta_0 - y \\right )^2\n",
    "$$\n",
    "     \n",
    "\n",
    "* Cost function $J(\\theta)$ \n",
    "    1. It is a function only of parameters. Data $x^{(i)},y_i$ are assumed as given and constant\n",
    "    1. It is the average of the loss function over the dataset\n",
    "    1. It means the average cost (penality) the algo paid for there mistakes over data sets or the complete batch\n",
    "    \n",
    "$$\n",
    "J(\\theta) = \\frac{1}{n} \\sum_{i=1}^n \\mathcal{L}(h_{\\theta}(x^{(i)}), y_i)\n",
    "$$"
   ]
  },
  {
   "cell_type": "markdown",
   "metadata": {},
   "source": [
    "## Gradient descent\n"
   ]
  },
  {
   "cell_type": "markdown",
   "metadata": {},
   "source": [
    "In machine learning we define the loss fucntion $L = L(y, h_{\\theta}(X))$. This function is reponsible  for penalizing mistakes. The machine learning algorithm learns by minimizing this function. $\\theta$ are the paremeters of the models, $X$ is the trainning data, and $y$ are the labels. The term $h_{\\theta}(X)$ is the hypothesis.  We define the cost function $J(\\theta) = \\frac{1}{n} \\sum_{i=1}^n \\mathcal{L}(h_{\\theta}(x^{(i)}), y_i)$. Notices that the cost function $J(\\theta)$ depends of the trainning data $X$, $y$ as well, but is considered only a function of the parameters $\\theta$. Bellow is the cost function for Multiple Linear Regression:\n",
    "\n",
    "$\n",
    "J(\\theta) =  \\frac{1}{2n} \\left ( X \\theta - y \\right )^t\\left ( X \\theta - y \\right )\n",
    "$\n",
    "\n",
    "where $h_{\\theta}(X) = X \\theta$.\n",
    "\n",
    "From calculus, \n",
    "\n",
    "$\n",
    "d J(\\theta) = \\nabla_{\\theta} J(\\theta) * d\\theta\n",
    "$\n",
    "\n",
    "where $*$ is the scalar product. Because the $cos(a)$ function is maximum when $a=0$ - $a$ is the angle between $\\nabla_{\\theta} J(\\theta)$ and $d\\theta$, therefore $\\nabla_{\\theta} J(\\theta)$ and $d\\theta$ are aligned - we know that the opposite direction of the gradient point to the direction that minimizes the cost function $J(\\theta)$.\n",
    "\n",
    ">PS: The opposite direction $\\nabla_{\\theta}J(\\theta)$ minimizes the cost function. The gradient is a compass that instead of pointing North, is always pointing downhill.\n",
    "\n",
    "\n",
    "The algorithm is summarized as follow:\n",
    "    \n",
    "1. Start from a random point $\\theta = \\theta_0$\n",
    "\n",
    "1. Repeat the steps\n",
    "\n",
    "    1. update direction (find the direction to minimize $J(\\theta)$): $\\Delta \\theta = -\\eta \\nabla_{\\theta}J(\\theta)$\n",
    "    \n",
    "    1. update the position (keep changing the parameters to minimize $J(\\theta)$): $\\theta = \\theta + \\Delta \\theta$\n",
    "    \n",
    "where $\\eta$ is the **learning rate**. \n",
    "\n",
    "There are other gradienst variations. We will talk more about those variation in the next sections.\n"
   ]
  },
  {
   "cell_type": "markdown",
   "metadata": {},
   "source": [
    "## Examples of cost functions and their gradients"
   ]
  },
  {
   "cell_type": "markdown",
   "metadata": {},
   "source": [
    "The cost function can be defined in the matrix notation. The matrix notation simplifies the equations and makes it easy to implement the cost function and its gradients.\n",
    "\n",
    "In this notation, in order to consider bias term (intercept) in both regression - logistic and linear - we must add a column of ones in the matrix $X$. The equations are the matrix representation of dataset of $n$ samples and $p$ features. \n",
    "\n",
    "$ \n",
    "X = \\begin{bmatrix}\n",
    "1 & a_1 & b_1 & c_1 & \\ldots & p_1 \\\\\n",
    "1 & a_2 & b_2 & c_2 & \\ldots & p_2 \\\\\n",
    "1 & a_2 & b_3 & c_3 & \\ldots & p_3 \\\\\n",
    "\\vdots & \\vdots & \\ & \\ldots &  & \\vdots \\\\ \n",
    "1 & a_n & b_n & c_n & \\ldots & p_n\n",
    "\\end{bmatrix}\n",
    "$\n",
    "\n",
    "where each row is an observation and $a$, $b$, $c$ ... $p$ are the features considered in the regression. The vector of parameters $\\theta$, also called $W$ in deep learning, is a column vector of:\n",
    "\n",
    "$ \n",
    "\\theta = \\begin{bmatrix}\n",
    "\\theta_0 \\\\\n",
    "\\theta_1 \\\\\n",
    "\\theta_2 \\\\\n",
    "\\vdots  \\\\ \n",
    "\\theta_p\n",
    "\\end{bmatrix}\n",
    "$\n",
    "\n",
    "and the input of activation function can be expressed by $z = X\\theta$. The equations of this section are assumed that $X$ and $\\theta$ are in this form. Note that, the definition is different from the one implemented in TensorFlow, $z = WX + b$.\n"
   ]
  },
  {
   "cell_type": "markdown",
   "metadata": {},
   "source": [
    "### Linear Regression: RMSE \n",
    "\n",
    "For linear regression problems we are going to present the **RMSE** cost function.\n"
   ]
  },
  {
   "cell_type": "markdown",
   "metadata": {},
   "source": [
    "$\n",
    "J(\\theta) = \\frac{1}{2n} \\sum_i^n \\left ( h_{\\theta}(x_i) - y_i \\right )^2\n",
    "$\n",
    "\n",
    "The equation above can be rewritten in a more concise way using the matrix notation.\n",
    "\n",
    "$\n",
    "J(\\theta) = \\frac{1}{2n} \\left ( X \\theta - y \\right )^t\\left ( X \\theta - y \\right )\n",
    "$\n",
    "\n",
    "And its gradient as:\n",
    "\n",
    "$\n",
    "\\nabla_{\\theta}J(\\theta) = \\frac{1}{n} X^t \\left ( X\\theta - y \\right )\n",
    "$\n"
   ]
  },
  {
   "cell_type": "code",
   "execution_count": 9,
   "metadata": {},
   "outputs": [],
   "source": [
    "# X: matrix nxd\n",
    "# y: column vector nx1\n",
    "# theta: column vector dx1\n",
    "\n",
    "def cost_func_linear_regression(theta: np.array, X: np.array, y: np.array) -> np.array:\n",
    "    \n",
    "    n = X.shape[0]\n",
    "    \n",
    "    # error: pred - y\n",
    "    z = np.matmul(X,theta) - y\n",
    "\n",
    "    return np.matmul(z.T,z)/2.0/n  # <== average of all loss MSE\n",
    "\n",
    "def gradient_linear_regression(theta: np.array, X: np.array, y: np.array) -> np.array:\n",
    "    \n",
    "    n = X.shape[0]\n",
    "    \n",
    "    # error: pred - y\n",
    "    z = np.matmul(X,theta) - y    \n",
    "    grad = np.matmul(X.T,z)\n",
    "        \n",
    "    return grad/n"
   ]
  },
  {
   "cell_type": "markdown",
   "metadata": {},
   "source": [
    "### Logistic Regression Sigmoid activation\n",
    "\n",
    "* vectorized formula of the cost function: https://ml-cheatsheet.readthedocs.io/en/latest/logistic_regression.html\n",
    "\n",
    "* Cost function is also called **Cross-entropy** or **log loss**\n"
   ]
  },
  {
   "cell_type": "markdown",
   "metadata": {},
   "source": [
    "$\n",
    "J(\\theta) = \\frac{1}{n} \\sum_i^n \\left ( y^i log(h_{\\theta}(x_i)) - (1 - y_i) log(1 - h_{\\theta}(x_i)) \\right ) \\\\\n",
    "J(\\theta) = - \\frac{1}{n} \\left ( y^t log(h(X\\theta)) + (1 - y)^t log(1 - h(X\\theta))  \\right )\n",
    "$\n",
    "\n",
    "$\n",
    "\\nabla_{\\theta}J(\\theta) = X^t \\left ( \\sigma(X\\theta) - y) \\right )\n",
    "$\n",
    "\n",
    "where:\n",
    "\n",
    "$\n",
    "h(X\\theta) = h(z) = \\sigma(z) \\equiv \\frac{1}{1 + e^{-z}} \\\\\n",
    "\\frac{\\partial}{\\partial z} \\sigma(z) = \\sigma(z) (1 - \\sigma(z))  \\\\\n",
    "z = X\\theta\n",
    "$\n"
   ]
  },
  {
   "cell_type": "code",
   "execution_count": 8,
   "metadata": {
    "code_folding": []
   },
   "outputs": [],
   "source": [
    "# X: matrix nxd\n",
    "# y: column vector nx1\n",
    "# theta: column vector dx1\n",
    "\n",
    "def cost_func_logistic_regression(theta: np.array, X: np.array, y: np.array) -> np.array:\n",
    "    \n",
    "    n = X.shape[0]\n",
    "    z = np.matmul(X,theta)  # nx1\n",
    "    h = 1.0/(1.0 + np.exp(-z))  # activation: nx1\n",
    "    \n",
    "    cost = (-1.0/n)*(np.matmul(y.T,np.log(h)) + np.matmul(1-y.T,np.log(1-h))) # scalar\n",
    "    \n",
    "    return cost\n",
    "\n",
    "def gradient_logistic_regression(theta: np.array, X: np.array, y: np.array)-> np.array:\n",
    "    \n",
    "    z = np.matmul(X,theta)\n",
    "    \n",
    "    # pred\n",
    "    h = 1.0/(1.0 + np.exp(-z))  # activation\n",
    "    \n",
    "    return np.matmul(X.T,h - y)"
   ]
  },
  {
   "cell_type": "markdown",
   "metadata": {},
   "source": [
    "## Simulated Data and auxiliar functions"
   ]
  },
  {
   "cell_type": "markdown",
   "metadata": {},
   "source": [
    "In this section, simulated data is produced to test the gradients descent implementation."
   ]
  },
  {
   "cell_type": "code",
   "execution_count": 180,
   "metadata": {
    "code_folding": []
   },
   "outputs": [
    {
     "name": "stdout",
     "output_type": "stream",
     "text": [
      "True parameters: [4. 5.]\n",
      "bayes error: 0.01\n"
     ]
    },
    {
     "data": {
      "image/png": "[encoded data removed]",
      "text/plain": [
       "<Figure size 432x288 with 1 Axes>"
      ]
     },
     "metadata": {
      "needs_background": "light"
     },
     "output_type": "display_data"
    }
   ],
   "source": [
    "def make_2d_linear_data(slope: float, intercept: float, noise: float, \n",
    "                        n_samples: int, random: int = 2021):\n",
    "    \n",
    "    x = np.linspace(-1.0, 1.0, n_samples).reshape(n_samples,1)\n",
    "    \n",
    "    np.random.seed(random)\n",
    "    e = np.random.normal(0.0,noise,n).reshape(n_samples,1)\n",
    "    \n",
    "    y = slope*x + intercept + e\n",
    "    y = y.reshape(n,)\n",
    "\n",
    "    _ones = np.ones((n_samples,1))\n",
    "\n",
    "    x.shape\n",
    "\n",
    "    _ones.shape\n",
    "\n",
    "    X = np.hstack((_ones, x))\n",
    "    \n",
    "    return X,y, e\n",
    "\n",
    "slope = 5.0 \n",
    "intercept = 4.0\n",
    "noise = 0.1\n",
    "n = 50\n",
    "\n",
    "X,y, e = make_2d_linear_data(slope,intercept, noise, n)\n",
    "theta_true = np.array([intercept,slope])\n",
    "\n",
    "print(f\"True parameters: {theta_true}\")\n",
    "\n",
    "bayes_error = np.sum(np.matmul(e.T,e))/n  # <== mse\n",
    "print(f\"bayes error: {bayes_error:.2f}\")\n",
    "\n",
    "_ = plt.subplot(121);\n",
    "_ = plt.scatter(X[:,1],y);\n",
    "\n",
    "plt.show()"
   ]
  },
  {
   "cell_type": "code",
   "execution_count": 145,
   "metadata": {},
   "outputs": [],
   "source": [
    "def generate_parameter_space(grid_size: int,theta_range: tuple, \n",
    "                         cost_func: Callable[[np.array,np.array], np.array]):\n",
    "    \n",
    "    theta_start, theta_end = theta_range\n",
    "    \n",
    "    grid_size = n_iter\n",
    "    theta1 = np.linspace(theta_start, theta_end, grid_size)\n",
    "    theta2 = np.linspace(theta_start, theta_end, grid_size)\n",
    "\n",
    "    Theta1,Theta2 = np.meshgrid(theta1,theta2)\n",
    "\n",
    "    J_grid = np.zeros((grid_size,grid_size))\n",
    "    theta = np.array([0.0,0.0]).T\n",
    "    for r in range(0,grid_size):\n",
    "    \n",
    "        for c in range(0,grid_size):\n",
    "        \n",
    "            theta[0] = theta1[r]\n",
    "            theta[1] = theta2[c]\n",
    "        \n",
    "            J_grid[r,c] = cost_func(theta, X,y)\n",
    "            \n",
    "      \n",
    "    return Theta1, Theta2, J_grid\n",
    "            \n",
    "\n",
    "def plot_parameter_space_experiment(Theta1, Theta2, J_grid, theta_true: tuple, \n",
    "                                    history: dict,\n",
    "                                    experiment: List[Tuple]):\n",
    "    \n",
    "    intercept, slope = theta_true\n",
    "    \n",
    "    cp = plt.contour(Theta1, Theta2, J_grid)\n",
    "    colors = ['b','k','firebrick']\n",
    "\n",
    "    for idx, hyper_params in enumerate(experiment):\n",
    "        name = hyper_params[0]\n",
    "       \n",
    "        #name, bs, lr,init_guess = hyper_params\n",
    "    \n",
    "        theta_x = [ history[name]['theta'][k][0] for k in range(0, len(history[name]['theta']),1) ]\n",
    "        theta_y = [ history[name]['theta'][k][1] for k in range(0, len(history[name]['theta']),1) ]\n",
    "    \n",
    "        plt.plot(theta_x, theta_y, color=colors[idx], marker='.', markersize=1, label=name)\n",
    "\n",
    "    plt.title('Contour Plot')\n",
    "    plt.xlabel(r'$\\theta_1$')\n",
    "    plt.ylabel(r'$\\theta_2$')\n",
    "    plt.scatter(intercept,slope)  # <= Expected true value\n",
    "    plt.grid(axis='x', color='0.95')\n",
    "    plt.grid(axis='y', color='0.95')\n",
    "    plt.legend()\n",
    "    plt.show();\n",
    "    "
   ]
  },
  {
   "cell_type": "markdown",
   "metadata": {},
   "source": [
    "## Batch Gradient descent\n"
   ]
  },
  {
   "cell_type": "markdown",
   "metadata": {},
   "source": [
    "Batch gradient descent computes the gradient using the whole dataset. "
   ]
  },
  {
   "cell_type": "code",
   "execution_count": 119,
   "metadata": {},
   "outputs": [],
   "source": [
    "def gradient_descent(X: np.array,y: np.array, \n",
    "                     cost_func: Callable[[np.array,np.array], np.array], \n",
    "                     gradient_func: Callable[[np.array,np.array], np.array], \n",
    "                     learning_rate: float, \n",
    "                     n_iterations: int, init_guess: np.array) -> dict:\n",
    "    \n",
    "    n = X.shape[0] # training size\n",
    "    d = X.shape[1]  # number of dimensions or paramters\n",
    "    \n",
    "    theta_history = np.zeros((n_iterations,d))\n",
    "    grad_history = np.zeros((n_iterations,d))\n",
    "    cost_history = np.zeros(n_iterations)\n",
    "    \n",
    "\n",
    "    theta = init_guess\n",
    "\n",
    "    for it in range(0,n_iterations):\n",
    "\n",
    "        # compute gradients and cost function\n",
    "        cost_at_theta = cost_func(theta,X,y)\n",
    "        gradient_at_theta = gradient_func(theta,X,y)\n",
    "\n",
    "        # log history for ploting\n",
    "        theta_history[it, :] = theta.T\n",
    "        grad_history[it,:] = gradient_at_theta.T\n",
    "        cost_history[it] = cost_at_theta\n",
    "        \n",
    "        # update parameters\n",
    "        dtheta = -learning_rate* gradient_at_theta\n",
    "        theta = theta + dtheta\n",
    "\n",
    "    history = {'theta': theta_history, \"cost\": cost_history, \"grad\": grad_history}\n",
    "\n",
    "    return theta, history"
   ]
  },
  {
   "cell_type": "markdown",
   "metadata": {},
   "source": [
    "### Training "
   ]
  },
  {
   "cell_type": "code",
   "execution_count": 182,
   "metadata": {},
   "outputs": [
    {
     "name": "stdout",
     "output_type": "stream",
     "text": [
      "True parameters: 32.69\n"
     ]
    },
    {
     "data": {
      "image/png": "[encoded data removed]",
      "text/plain": [
       "<Figure size 432x288 with 1 Axes>"
      ]
     },
     "metadata": {
      "needs_background": "light"
     },
     "output_type": "display_data"
    }
   ],
   "source": [
    "X, y, theta_true = make_regression(n_samples = 300, \n",
    "                       n_features=1, \n",
    "                       n_informative=1, \n",
    "                       noise=1,  # <== This is related with the bayes error. The minimum the cost function can converted\n",
    "                        coef=True,\n",
    "                       random_state=2021)\n",
    "\n",
    "print(f\"True parameters: {theta_true:.2f}\")\n",
    "\n",
    "plt.scatter(X,y);"
   ]
  },
  {
   "cell_type": "code",
   "execution_count": 185,
   "metadata": {},
   "outputs": [
    {
     "name": "stdout",
     "output_type": "stream",
     "text": [
      "\n",
      "Initial Guess it: 0 => theta: [50.]; grad: [17.66328858]; cost: 153.96\n",
      "it: 99 => theta: [32.7167683]; grad: [0.10120038]; cost: 0.45\n",
      "Expected theta:32.69\n",
      "CPU times: user 4.89 ms, sys: 1.45 ms, total: 6.35 ms\n",
      "Wall time: 5.53 ms\n"
     ]
    }
   ],
   "source": [
    "%%time\n",
    "lr = 0.05\n",
    "n_iter = 100\n",
    "\n",
    "init_guess = np.array([50.0])\n",
    "\n",
    "theta, history = gradient_descent(X, y, cost_func_linear_regression, gradient_linear_regression, \n",
    "                                  lr, n_iter, init_guess)\n",
    "\n",
    "print()\n",
    "theta0 = history['theta'][0]\n",
    "grad0 =  history['grad'][0]\n",
    "cost0 = history['cost'][0]\n",
    "\n",
    "print(f\"Initial Guess it: 0 => theta: {theta0}; grad: {grad0}; cost: {cost0:.2f}\")\n",
    "\n",
    "it = n_iter -1\n",
    "theta = history['theta'][it]\n",
    "grad =  history['grad'][it]\n",
    "cost = history['cost'][it]\n",
    "\n",
    "print(f\"it: {it} => theta: {theta}; grad: {grad}; cost: {cost:.2f}\")\n",
    "print(f\"Expected theta:{theta_true:.2f}\")"
   ]
  },
  {
   "cell_type": "markdown",
   "metadata": {},
   "source": [
    "### Checking the fit\n",
    "\n",
    "We can inspect our solution by ploting the prediction against the data."
   ]
  },
  {
   "cell_type": "code",
   "execution_count": 186,
   "metadata": {},
   "outputs": [
    {
     "data": {
      "image/png": "[encoded data removed]",
      "text/plain": [
       "<Figure size 432x288 with 1 Axes>"
      ]
     },
     "metadata": {
      "needs_background": "light"
     },
     "output_type": "display_data"
    }
   ],
   "source": [
    "y_pred0 = np.matmul(X,theta0)\n",
    "y_pred = np.matmul(X,theta)\n",
    "\n",
    "plt.plot(X,y_pred,c='black', label='fit');\n",
    "plt.plot(X,y_pred0,'r', label='Initial Guess');\n",
    "plt.plot(X,y,'b.', label='Data');\n",
    "plt.legend();"
   ]
  },
  {
   "cell_type": "markdown",
   "metadata": {},
   "source": [
    "### Cost Function and  learning rate "
   ]
  },
  {
   "cell_type": "markdown",
   "metadata": {},
   "source": [
    "Learning rates are central points in the algorithm. Good values of learning rate can make gradient descent find a local minimum quick on the other hand, bad values can lead to problems.\n",
    "\n",
    "1. large: loss will explode\n",
    "1. small: takes longer to learn\n",
    "1. need to find the optmum learning rate"
   ]
  },
  {
   "cell_type": "code",
   "execution_count": 187,
   "metadata": {},
   "outputs": [
    {
     "name": "stdout",
     "output_type": "stream",
     "text": [
      "CPU times: user 8.31 ms, sys: 3.94 ms, total: 12.2 ms\n",
      "Wall time: 9.46 ms\n"
     ]
    }
   ],
   "source": [
    "%%time\n",
    "lr = 2.0\n",
    "n_iter = 100\n",
    "\n",
    "theta_big, history_big = gradient_descent(X, y, cost_func_linear_regression, gradient_linear_regression, \n",
    "                                          lr, n_iter, init_guess)\n",
    "\n",
    "lr = 5e-3\n",
    "n_iter = 100\n",
    "\n",
    "theta, history_small = gradient_descent(X, y, cost_func_linear_regression, gradient_linear_regression, \n",
    "                                        lr, n_iter, init_guess)"
   ]
  },
  {
   "cell_type": "code",
   "execution_count": 188,
   "metadata": {},
   "outputs": [
    {
     "data": {
      "image/png": "[encoded data removed]",
      "text/plain": [
       "<Figure size 432x288 with 1 Axes>"
      ]
     },
     "metadata": {
      "needs_background": "light"
     },
     "output_type": "display_data"
    }
   ],
   "source": [
    "fig,ax = plt.subplots()\n",
    "_ = ax.plot(range(n_iter),history_small['cost'],'r',label='small lr');\n",
    "_ = ax.plot(range(n_iter),history['cost'],'b',label='better lr');\n",
    "_ = ax.plot(range(n_iter), history_big['cost'], 'g', label=\"lr big\");\n",
    "_ = ax.set_ylim([0, 300.0])\n",
    "ax.legend();"
   ]
  },
  {
   "cell_type": "markdown",
   "metadata": {},
   "source": [
    "The learning rate can be tune using the methodology describe in the section **8. TUNNING Learning Rate**"
   ]
  },
  {
   "cell_type": "markdown",
   "metadata": {},
   "source": [
    "### Changing bayes error\n",
    "\n",
    "The error can be decomposed on bias, variance and Bayes error. The Bayes error can NOT be reduced. Therefore the cost function should converge to this value.\n",
    "\n",
    "$y = \\hat{y} + \\epsilon$\n",
    "\n",
    "* $\\epsilon$ is the bayes error \n",
    "* $\\epsilon \\sim N(h_{\\theta}(x),\\sigma^2)$  <== Our simulated data and, statistics have this assumption for Multiple Linear regression models.\n"
   ]
  },
  {
   "cell_type": "code",
   "execution_count": 189,
   "metadata": {},
   "outputs": [
    {
     "name": "stdout",
     "output_type": "stream",
     "text": [
      "True parameters: 32.69\n"
     ]
    },
    {
     "data": {
      "image/png": "[encoded data removed]",
      "text/plain": [
       "<Figure size 432x288 with 2 Axes>"
      ]
     },
     "metadata": {
      "needs_background": "light"
     },
     "output_type": "display_data"
    }
   ],
   "source": [
    "n_sample = 300\n",
    "std_low_bayes_error = 1\n",
    "\n",
    "X_low_bayes_error, y_low_bayes_error, theta_true = make_regression(n_samples = n_sample, \n",
    "                       n_features=1, \n",
    "                       n_informative=1, \n",
    "                       noise=std_low_bayes_error,  # <== Low bayes error\n",
    "                        coef=True,\n",
    "                       random_state=2021)\n",
    "\n",
    "print(f\"True parameters: {theta_true:.2f}\")\n",
    "\n",
    "\n",
    "std_high_bayes_error = 10\n",
    "X_high_bayes_error, y_high_bayes_error, theta_true = make_regression(n_samples = n_sample, \n",
    "                       n_features=1, \n",
    "                       n_informative=1, \n",
    "                       noise=std_high_bayes_error,  # <== High bayes error\n",
    "                        coef=True,\n",
    "                       random_state=2021)\n",
    "\n",
    "_ = plt.subplot(121);\n",
    "_ = plt.scatter(X_low_bayes_error,y_low_bayes_error);\n",
    "_ = plt.subplot(122);\n",
    "_ = plt.scatter(X_high_bayes_error,y_high_bayes_error);\n",
    "\n",
    "plt.show()"
   ]
  },
  {
   "cell_type": "code",
   "execution_count": 190,
   "metadata": {},
   "outputs": [
    {
     "name": "stdout",
     "output_type": "stream",
     "text": [
      "CPU times: user 7.34 ms, sys: 1.51 ms, total: 8.85 ms\n",
      "Wall time: 8.15 ms\n"
     ]
    }
   ],
   "source": [
    "%%time\n",
    "lr = 0.05\n",
    "n_iter = 100\n",
    "\n",
    "init_guess = np.array([50.0])\n",
    "\n",
    "theta, history_low_bayes_error = gradient_descent(X_low_bayes_error, y_low_bayes_error, cost_func_linear_regression, gradient_linear_regression, \n",
    "                                  lr, n_iter, init_guess)\n",
    "\n",
    "\n",
    "theta, history_high_bayes_error = gradient_descent(X_high_bayes_error, y_high_bayes_error, cost_func_linear_regression, gradient_linear_regression, \n",
    "                                  lr, n_iter, init_guess)\n"
   ]
  },
  {
   "cell_type": "code",
   "execution_count": 191,
   "metadata": {},
   "outputs": [
    {
     "name": "stdout",
     "output_type": "stream",
     "text": [
      "Low bayes Error: Cost function converged to 0.4498957115700963 vs expected 0.5\n",
      "High bayes Error: Cost function converged to 44.491052934509085 vs expected 50.0\n"
     ]
    }
   ],
   "source": [
    "J_low_bayes_error = 1.0/2.0*pow(std_low_bayes_error,2) # <= half of std^2\n",
    "print(f\"Low bayes Error: Cost function converged to {history_low_bayes_error['cost'][-1]} vs expected {std_low_bayes_error**2/2.0}\")\n",
    "\n",
    "J_high_bayes_error = 1.0/2.0*pow(std_high_bayes_error,2) # <= half of std^2\n",
    "print(f\"High bayes Error: Cost function converged to {history_high_bayes_error['cost'][-1]} vs expected {std_high_bayes_error**2/2.0}\")"
   ]
  },
  {
   "cell_type": "code",
   "execution_count": 192,
   "metadata": {},
   "outputs": [
    {
     "data": {
      "image/png": "[encoded data removed]",
      "text/plain": [
       "<Figure size 432x288 with 1 Axes>"
      ]
     },
     "metadata": {
      "needs_background": "light"
     },
     "output_type": "display_data"
    }
   ],
   "source": [
    "fig,ax = plt.subplots()\n",
    "_ = ax.plot(range(n_iter),history_low_bayes_error['cost'],'r',label='cost: low bayes error');\n",
    "_ = ax.plot(range(n_iter),history_high_bayes_error['cost'],'b',label='cost:high bayes error');\n",
    "_ = ax.axhline(y=J_low_bayes_error, color='r', linestyle='--',label='Expected: low bayes error');\n",
    "_ = ax.axhline(y=J_high_bayes_error, color='b', linestyle='--',label='Expected: high bayes error');\n",
    "ax.legend();"
   ]
  },
  {
   "cell_type": "markdown",
   "metadata": {},
   "source": [
    "### Case: 2D feature space \n",
    "\n",
    "Checking with 2d paremeters space."
   ]
  },
  {
   "cell_type": "code",
   "execution_count": 193,
   "metadata": {},
   "outputs": [],
   "source": [
    "slope = 5.0 \n",
    "intercept = 4.0\n",
    "noise = 0.1\n",
    "n = 50\n",
    "\n",
    "X,y,_ = make_2d_linear_data(slope,intercept, noise, n)\n",
    "theta_true = np.array([intercept,slope])"
   ]
  },
  {
   "cell_type": "code",
   "execution_count": 194,
   "metadata": {},
   "outputs": [
    {
     "name": "stdout",
     "output_type": "stream",
     "text": [
      "\n",
      "Initial Guess it: 0 => theta: [-10. -10.]; grad: [-14.01099638  -5.19944385]; cost: 137.12\n",
      "it: 199 => theta: [4.01099637 4.97332617]; grad: [-1.09831868e-08 -4.61640576e-03]; cost: 0.00\n",
      "Expected theta:[4. 5.]\n",
      "CPU times: user 5.96 ms, sys: 1.75 ms, total: 7.71 ms\n",
      "Wall time: 7 ms\n"
     ]
    }
   ],
   "source": [
    "%%time\n",
    "lr =0.1\n",
    "n_iter = 200\n",
    "\n",
    "init_guess = np.array([-10.0, -10.0])\n",
    "\n",
    "theta, history = gradient_descent(X, y, cost_func_linear_regression, gradient_linear_regression, \n",
    "                                             lr, n_iter, init_guess)\n",
    "\n",
    "print()\n",
    "theta0 = history['theta'][0]\n",
    "grad0 =  history['grad'][0]\n",
    "cost0 = history['cost'][0]\n",
    "\n",
    "print(f\"Initial Guess it: 0 => theta: {theta0}; grad: {grad0}; cost: {cost0:.2f}\")\n",
    "\n",
    "it = n_iter -1\n",
    "theta = history['theta'][it]\n",
    "grad =  history['grad'][it]\n",
    "cost = history['cost'][it]\n",
    "\n",
    "print(f\"it: {it} => theta: {theta}; grad: {grad}; cost: {cost:.2f}\")\n",
    "print(f\"Expected theta:{theta_true}\")"
   ]
  },
  {
   "cell_type": "code",
   "execution_count": 195,
   "metadata": {},
   "outputs": [
    {
     "data": {
      "image/png": "[encoded data removed]",
      "text/plain": [
       "<Figure size 432x288 with 1 Axes>"
      ]
     },
     "metadata": {
      "needs_background": "light"
     },
     "output_type": "display_data"
    }
   ],
   "source": [
    "fig,ax = plt.subplots()\n",
    "_ = ax.plot(range(n_iter),history['cost'],'b',label='cost');\n",
    "ax.legend();"
   ]
  },
  {
   "cell_type": "markdown",
   "metadata": {},
   "source": [
    "Generating parameters space"
   ]
  },
  {
   "cell_type": "code",
   "execution_count": 196,
   "metadata": {},
   "outputs": [
    {
     "data": {
      "image/png": "[encoded data removed]",
      "text/plain": [
       "<Figure size 432x288 with 1 Axes>"
      ]
     },
     "metadata": {
      "needs_background": "light"
     },
     "output_type": "display_data"
    }
   ],
   "source": [
    "Theta1, Theta2, J_grid = generate_parameter_space(grid_size=500,theta_range=(-10.0,10.0),\n",
    "                                                  cost_func=cost_func_linear_regression)\n",
    "\n",
    "grad_exp = [('vanilla', lr)]\n",
    "history2 = { 'vanilla': history}\n",
    "\n",
    "plot_parameter_space_experiment(Theta1, Theta2, J_grid,theta_true=(intercept,slope),\n",
    "                                history=history2,\n",
    "                                experiment=grad_exp)"
   ]
  },
  {
   "cell_type": "markdown",
   "metadata": {},
   "source": [
    "## Stochastic Gradient Descent\n",
    "\n",
    "In stochastic Gradient descent, instead of use the entire data $X$ to compute the gradients, we randonly peak one sample and use it to have an estimation of the gradients at that point. The estimation will not be accurate, but in average the algorithm will converge to an optimal solution. The algorithm is ilustrade bellow:\n",
    "\n",
    "The update formula is given by:\n",
    "\n",
    "\n",
    "$\n",
    "\\theta = \\theta - \\eta \\nabla_{\\theta}J(X_i)\n",
    "$\n",
    "\n",
    "\n",
    "* Start with initi guess: $\\theta$\n",
    "\n",
    "* for each iteration\n",
    "\n",
    "    1. random shuffle $X$\n",
    "    1. for i=0,1,..., n-1\n",
    "        1. Compute  $\\nabla_{\\theta}J(X_i)$\n",
    "        1. update the parameters $\\theta = \\theta - \\eta \\nabla_{\\theta}J(X_i)$\n"
   ]
  },
  {
   "cell_type": "code",
   "execution_count": 197,
   "metadata": {},
   "outputs": [],
   "source": [
    "def stochastic_gradient_descent(X: np.array,y: np.array, \n",
    "                     cost_func: Callable[[np.array,np.array], np.array], \n",
    "                     gradient_func: Callable[[np.array,np.array], np.array], \n",
    "                     learning_rate: float, \n",
    "                     n_iterations: int, init_guess: np.array) -> dict:\n",
    "    \n",
    "    n = X.shape[0]  # training size\n",
    "    d = X.shape[1]  # number of dimensions or paramters\n",
    "    \n",
    "    Xy = np.hstack((X,y.reshape((n,1))))\n",
    "    \n",
    "    theta_history = []\n",
    "    grad_history = []\n",
    "    cost_history = []\n",
    "     \n",
    "    theta = init_guess\n",
    "    for it in range(1,n_iterations):\n",
    "\n",
    "        cost = 0.0\n",
    "        \n",
    "        # shuffle data\n",
    "        rand_idx = np.random.randint(0, n, n )\n",
    "        data_shuffle = Xy[rand_idx,:]\n",
    "        \n",
    "        for i in range(n):\n",
    "\n",
    "            X_i = data_shuffle[i,:-1].reshape(1, d)\n",
    "            y_i = data_shuffle[i,-1]\n",
    "            \n",
    "            cost += cost_func(theta,X_i,y_i)\n",
    "            gradient_at_theta = gradient_func(theta,X_i,y_i)  # gradient approximation using 1 data point\n",
    "            \n",
    "            # log history for oploting\n",
    "            theta_history.append(theta.T)\n",
    "            grad_history.append(gradient_at_theta)\n",
    "            \n",
    "           # update parameters\n",
    "            dtheta = -learning_rate* gradient_at_theta\n",
    "\n",
    "            theta = theta + dtheta\n",
    "                \n",
    "        cost_history.append(cost/n)   # <= average loss in the epoch \n",
    "        \n",
    "    history = {'theta': theta_history, \"cost\": cost_history, \"grad\": grad_history}\n",
    "\n",
    "    return theta, history"
   ]
  },
  {
   "cell_type": "markdown",
   "metadata": {},
   "source": [
    "#### Case: 1D parameter sapce"
   ]
  },
  {
   "cell_type": "code",
   "execution_count": 199,
   "metadata": {},
   "outputs": [
    {
     "name": "stdout",
     "output_type": "stream",
     "text": [
      "True parameters: 26.52\n"
     ]
    },
    {
     "data": {
      "image/png": "[encoded data removed]",
      "text/plain": [
       "<Figure size 432x288 with 1 Axes>"
      ]
     },
     "metadata": {
      "needs_background": "light"
     },
     "output_type": "display_data"
    }
   ],
   "source": [
    "# Simulating data\n",
    "X, y, theta_true = make_regression(n_samples = 50, \n",
    "                       n_features=1, \n",
    "                       n_informative=1, \n",
    "                       noise=1.0,\n",
    "                       coef=True,\n",
    "                       random_state=2021)\n",
    "\n",
    "print(f\"True parameters: {theta_true:.2f}\")\n",
    "plt.scatter(X,y);"
   ]
  },
  {
   "cell_type": "code",
   "execution_count": 200,
   "metadata": {},
   "outputs": [
    {
     "name": "stdout",
     "output_type": "stream",
     "text": [
      "\n",
      "Initial Guess it: 0 => theta: [20]; grad: [-0.18600079]; cost: 16.57\n",
      "it: 119 => theta: [26.50866704]; grad: [0.80460918]; cost: 0.54\n",
      "Expected theta:26.52\n",
      "CPU times: user 174 ms, sys: 5.81 ms, total: 180 ms\n",
      "Wall time: 202 ms\n"
     ]
    }
   ],
   "source": [
    "%%time\n",
    "lr =0.001\n",
    "n_iter = 120\n",
    "\n",
    "init_guess = np.array([20])\n",
    "\n",
    "theta, history = stochastic_gradient_descent(X, y, cost_func_linear_regression, gradient_linear_regression, \n",
    "                                             lr, n_iter, init_guess)\n",
    "\n",
    "print()\n",
    "theta0 = history['theta'][0]\n",
    "grad0 =  history['grad'][0]\n",
    "cost0 = history['cost'][0]\n",
    "\n",
    "print(f\"Initial Guess it: 0 => theta: {theta0}; grad: {grad0}; cost: {cost0:.2f}\")\n",
    "\n",
    "it = n_iter -1\n",
    "theta = history['theta'][-1]\n",
    "grad =  history['grad'][-1]\n",
    "cost = history['cost'][-1]\n",
    "\n",
    "print(f\"it: {it} => theta: {theta}; grad: {grad}; cost: {cost:.2f}\")\n",
    "print(f\"Expected theta:{theta_true:.2f}\")"
   ]
  },
  {
   "cell_type": "code",
   "execution_count": 201,
   "metadata": {},
   "outputs": [
    {
     "data": {
      "image/png": "[encoded data removed]",
      "text/plain": [
       "<Figure size 432x288 with 1 Axes>"
      ]
     },
     "metadata": {
      "needs_background": "light"
     },
     "output_type": "display_data"
    }
   ],
   "source": [
    "fig,ax = plt.subplots()\n",
    "\n",
    "cost = history['cost']\n",
    "    \n",
    "m = len(cost)\n",
    "x = np.linspace(0,n_iter,m)\n",
    "\n",
    "_ = ax.plot(x,cost,'b',label='cost');\n",
    "_ = ax.set_ylim([0, 4.0])\n",
    "ax.legend();"
   ]
  },
  {
   "cell_type": "code",
   "execution_count": 202,
   "metadata": {},
   "outputs": [
    {
     "data": {
      "image/png": "[encoded data removed]",
      "text/plain": [
       "<Figure size 432x288 with 1 Axes>"
      ]
     },
     "metadata": {
      "needs_background": "light"
     },
     "output_type": "display_data"
    }
   ],
   "source": [
    "fig,ax = plt.subplots()\n",
    "\n",
    "parameters = history['theta']\n",
    "    \n",
    "m = len(parameters)\n",
    "x = np.linspace(0,n_iter,m)\n",
    "    \n",
    "_ = ax.plot(x,parameters,'b',label='parameter');\n",
    "_ = ax.axhline(y=theta_true, color='k', linestyle='--',label='Expected: parameter');\n",
    "ax.legend();"
   ]
  },
  {
   "cell_type": "markdown",
   "metadata": {},
   "source": [
    "#### Case: 2D parameters space"
   ]
  },
  {
   "cell_type": "code",
   "execution_count": 203,
   "metadata": {},
   "outputs": [],
   "source": [
    "slope = 5.0 \n",
    "intercept = 4.0\n",
    "noise = 0.5\n",
    "n = 50\n",
    "\n",
    "X,y,_ = make_2d_linear_data(slope,intercept, noise, n)\n",
    "theta_true = np.array([intercept,slope])"
   ]
  },
  {
   "cell_type": "code",
   "execution_count": 204,
   "metadata": {},
   "outputs": [
    {
     "name": "stdout",
     "output_type": "stream",
     "text": [
      "\n",
      "Initial Guess it: 0 => theta: [-10. -10.]; grad: [-0.43347429  0.3803958 ]; cost: 109.68\n",
      "it: 29 => theta: [4.05686163 4.88635486]; grad: [-0.57379776  0.57379776]; cost: 0.12\n",
      "Expected theta:[4. 5.]\n",
      "CPU times: user 50.1 ms, sys: 3.08 ms, total: 53.2 ms\n",
      "Wall time: 52.2 ms\n"
     ]
    }
   ],
   "source": [
    "%%time\n",
    "lr = 0.01\n",
    "n_iter = 30\n",
    "\n",
    "init_guess = np.array([-10.0, -10.0])\n",
    "\n",
    "theta, history = stochastic_gradient_descent(X, y, cost_func_linear_regression, gradient_linear_regression, \n",
    "                                             lr, n_iter, init_guess)\n",
    "\n",
    "print()\n",
    "theta0 = history['theta'][0]\n",
    "grad0 =  history['grad'][0]\n",
    "cost0 = history['cost'][0]\n",
    "\n",
    "print(f\"Initial Guess it: 0 => theta: {theta0}; grad: {grad0}; cost: {cost0:.2f}\")\n",
    "\n",
    "it = n_iter -1\n",
    "theta = history['theta'][-1]\n",
    "grad =  history['grad'][-1]\n",
    "cost = history['cost'][-1]\n",
    "\n",
    "print(f\"it: {it} => theta: {theta}; grad: {grad}; cost: {cost:.2f}\")\n",
    "print(f\"Expected theta:{theta_true}\")"
   ]
  },
  {
   "cell_type": "code",
   "execution_count": 205,
   "metadata": {},
   "outputs": [
    {
     "data": {
      "image/png": "[encoded data removed]",
      "text/plain": [
       "<Figure size 432x288 with 1 Axes>"
      ]
     },
     "metadata": {
      "needs_background": "light"
     },
     "output_type": "display_data"
    }
   ],
   "source": [
    "fig,ax = plt.subplots()\n",
    "\n",
    "cost = history['cost']\n",
    "    \n",
    "m = len(cost)\n",
    "x = np.linspace(0,n_iter,m)\n",
    "    \n",
    "_ = ax.plot(x,cost,'b',label='cost');\n",
    "ax.legend();"
   ]
  },
  {
   "cell_type": "markdown",
   "metadata": {},
   "source": [
    "Generating parameters space"
   ]
  },
  {
   "cell_type": "code",
   "execution_count": 206,
   "metadata": {},
   "outputs": [
    {
     "data": {
      "image/png": "[encoded data removed]",
      "text/plain": [
       "<Figure size 432x288 with 1 Axes>"
      ]
     },
     "metadata": {
      "needs_background": "light"
     },
     "output_type": "display_data"
    }
   ],
   "source": [
    "Theta1, Theta2, J_grid = generate_parameter_space(grid_size=500,theta_range=(-10.0,10.0),\n",
    "                                                  cost_func=cost_func_linear_regression)\n",
    "\n",
    "grad_exp = [('sthocastic', 1)]\n",
    "history2 = { 'sthocastic': history}\n",
    "\n",
    "plot_parameter_space_experiment(Theta1, Theta2, J_grid,theta_true=(intercept,slope),\n",
    "                                history=history2,\n",
    "                                experiment=grad_exp)"
   ]
  },
  {
   "cell_type": "markdown",
   "metadata": {},
   "source": [
    "## Mini Batch Gradient Descent\n",
    "\n",
    "In the case of mini-batch, instead of making an update considering only one data point at a time, we calculate gradients using a batch of data points of size B. Mini batch can be seen as a generalization of the previous algorithm:\n",
    "\n",
    "1. Batch gradient descent, $𝐵=|X|$\n",
    "1. Online stochastic gradient descent: $𝐵=1$\n",
    "1. Mini-batch stochastic gradient descent: $𝐵>1$ but $𝐵<|𝑥|$.\n",
    "\n",
    "> Note: in real life we're reading these training example data from memory and, due to cache pre-fetching and other memory tricks done by your computer, your algorithm will run faster if the memory accesses are coalesced, i.e. when you read the memory in order and don't jump around randomly. So, most SGD implementations shuffle the dataset and then load the examples into memory in the order that they'll be read.\n",
    "\n",
    "> Note: Online stochastic gradient descent is not the same as Sthocastibc gradient descent. The first use the most recently gradients to update the parameters while the latter pic up a random point. \n",
    "\n",
    "> Note: proper weight should be assigned to each mini-batch as a function of its size, when there are mini-batches with different size because number of training examples are not exatly divide by batch size.\n",
    "\n",
    "The points below summarize the advantages and disadvantages of each algorithm.\n",
    "\n",
    "* Gradient descent: \n",
    "    * Gradients are precise. \n",
    "    * Computationally slow\n",
    "    * Resource hungry: Load the entire training dataset in memory \n",
    "    * Numerical convergence slow because 1 update per epoch\n",
    "    \n",
    "* Stochastic:\n",
    "    * Gradients are NOT precise. The cost function has oscillations.\n",
    "    * Do not consume too much resource \n",
    "    * Lack of parallelism\n",
    "    * Faster numerical convergence. $n$ updates per epoch where $n$ is the training dataset\n",
    " \n",
    " * Mini batch\n",
    "     * Gradients are more precise than Stochastic. The cost function oscillates less than Stochastic gradient descent. \n",
    "     * Computationally fast because can explore parallelism \n",
    "     * Fast numerical convergence because there are many updates per epoch\n",
    "     * Do not use too many resources\n",
    "\n",
    "In the next cell follows the implementation."
   ]
  },
  {
   "cell_type": "code",
   "execution_count": 207,
   "metadata": {},
   "outputs": [],
   "source": [
    "def create_mini_batches(data_shuffle, batch_size):\n",
    "    \n",
    "    n = data_shuffle.shape[0]\n",
    "    mini_batches = []\n",
    "    \n",
    "    for k in np.arange(0, n, batch_size):\n",
    "        \n",
    "        X_mini = data_shuffle[k:k+batch_size,:-1]\n",
    "        y_mini = data_shuffle[k:k+batch_size,-1]\n",
    "        \n",
    "        mini_batches.append((X_mini,y_mini))\n",
    "    return mini_batches\n",
    "\n",
    "def mini_batch_gradient_descent(X: np.array,y: np.array, \n",
    "                     cost_func: Callable[[np.array,np.array], np.array], \n",
    "                     gradient_func: Callable[[np.array,np.array], np.array], \n",
    "                     learning_rate: float, \n",
    "                     n_iterations: int, \n",
    "                     batch_size: int,\n",
    "                     init_guess: np.array) -> dict:\n",
    "    \n",
    "    n = X.shape[0] # training size\n",
    "    d = X.shape[1]  # number of dimensions or paramters\n",
    "    \n",
    "    theta = init_guess\n",
    "\n",
    "    Xy = np.hstack((X,y.reshape((n,1))))\n",
    "        \n",
    "    theta_history = []\n",
    "    grad_history = []\n",
    "    cost_history = []\n",
    " \n",
    "    for it in range(1,n_iterations):\n",
    "        \n",
    "        data_shuffle = Xy.copy()\n",
    "        np.random.shuffle(data_shuffle)\n",
    "        \n",
    "        cost = 0.0\n",
    "        mini_batches = create_mini_batches(data_shuffle,batch_size)\n",
    "        \n",
    "        for X_mini, y_mini in mini_batches:\n",
    "\n",
    "            # compute the gradients and cost function\n",
    "            cost += cost_func(theta,X_mini,y_mini)\n",
    "            gradient_at_theta = gradient_func(theta,X_mini,y_mini)  # gradient approximation\n",
    "        \n",
    "            # log history for oploting\n",
    "            theta_history.append(theta.T)\n",
    "            grad_history.append(gradient_at_theta)\n",
    "            \n",
    "           # update parameters\n",
    "            dtheta = -learning_rate* gradient_at_theta\n",
    "\n",
    "            theta = theta + dtheta\n",
    "            \n",
    "        cost_history.append(cost/len(mini_batches)) # << average loss in the epoch \n",
    "\n",
    "    history = {'theta': theta_history, \"cost\": cost_history, \"grad\": grad_history}\n",
    "\n",
    "    return theta, history"
   ]
  },
  {
   "cell_type": "markdown",
   "metadata": {},
   "source": [
    "### Case: 2D feature space compare all approaches (Linear Regression)\n",
    "\n",
    "To test our implementation, we are going to run in-batches for different batch sizes and compare the learning curves and the travel performed by each run. All runs start close to each other but not the same initial parameter's guesses."
   ]
  },
  {
   "cell_type": "code",
   "execution_count": 208,
   "metadata": {},
   "outputs": [],
   "source": [
    "slope = 5.0 \n",
    "intercept = 4.0\n",
    "noise = 0.1\n",
    "n = 50\n",
    "\n",
    "X,y,_ = make_2d_linear_data(slope,intercept, noise, n)\n",
    "theta_true = np.array([intercept,slope])"
   ]
  },
  {
   "cell_type": "code",
   "execution_count": 209,
   "metadata": {},
   "outputs": [
    {
     "name": "stdout",
     "output_type": "stream",
     "text": [
      "#samples: 50\n",
      "sthocastic, bs: 1\n",
      "Initial Guess it: 0 => theta: [-10. -10.]; grad: [-16.09563875  -2.29937696]; cost: 71.11\n",
      "it: 149 => theta: [4.00485465 4.9856539 ]; grad: [-0.02859749 -0.01108882]; cost: 0.00\n",
      "Expected theta:[4. 5.]\n",
      "\n",
      "mini, bs: 12\n",
      "Initial Guess it: 0 => theta: [ -9. -10.]; grad: [-10.63049228  -3.36001783]; cost: 130.95\n",
      "it: 149 => theta: [4.00719305 4.89946225]; grad: [-0.0648019  -0.00561593]; cost: 0.01\n",
      "Expected theta:[4. 5.]\n",
      "\n",
      "vanila, bs: 50\n",
      "Initial Guess it: 0 => theta: [-10.  -9.]; grad: [-14.01099638  -4.85250508]; cost: 132.09\n",
      "it: 149 => theta: [ 3.30641977 -0.00410597]; grad: [-0.70457661 -1.73148062]; cost: 4.57\n",
      "Expected theta:[4. 5.]\n",
      "\n",
      "CPU times: user 255 ms, sys: 9.57 ms, total: 264 ms\n",
      "Wall time: 304 ms\n"
     ]
    }
   ],
   "source": [
    "%%time\n",
    "n_iter = 150\n",
    "\n",
    "print(f\"#samples: {n}\")\n",
    "\n",
    "init_guess = np.array([-10.0, -10.0])\n",
    "d1 = np.array\n",
    "\n",
    "history = dict()\n",
    "\n",
    "batch_sizes = [('sthocastic',1, 0.02,  np.array([-10.0, -10.0]) ),\n",
    "               ('mini',12, 0.02,  np.array([-9.0, -10.0])), \n",
    "               ('vanila',n, 0.02, np.array([-10.0, -9.0]) )]\n",
    "\n",
    "for name, bs, lr, init_guess in batch_sizes:\n",
    "\n",
    "    theta, history[name] = mini_batch_gradient_descent(X, y, cost_func_linear_regression, gradient_linear_regression, \n",
    "                                             lr, n_iter,bs, init_guess)\n",
    "\n",
    "    print(f\"{name}, bs: {bs}\")\n",
    "    theta0 = history[name]['theta'][0]\n",
    "    grad0 =  history[name]['grad'][0]\n",
    "    cost0 = history[name]['cost'][0]\n",
    "\n",
    "    print(f\"Initial Guess it: 0 => theta: {theta0}; grad: {grad0}; cost: {cost0:.2f}\")\n",
    "\n",
    "    it = n_iter -1\n",
    "    theta = history[name]['theta'][-1]\n",
    "    grad =  history[name]['grad'][-1]\n",
    "    cost = history[name]['cost'][-1]\n",
    "\n",
    "    print(f\"it: {it} => theta: {theta}; grad: {grad}; cost: {cost:.2f}\")\n",
    "    print(f\"Expected theta:{theta_true}\")\n",
    "    print()"
   ]
  },
  {
   "cell_type": "code",
   "execution_count": 210,
   "metadata": {},
   "outputs": [
    {
     "data": {
      "image/png": "[encoded data removed]",
      "text/plain": [
       "<Figure size 432x288 with 1 Axes>"
      ]
     },
     "metadata": {
      "needs_background": "light"
     },
     "output_type": "display_data"
    }
   ],
   "source": [
    "colors = ['b','k','g']\n",
    "\n",
    "fig,ax = plt.subplots()\n",
    "for idx, hyper_params in enumerate(batch_sizes):\n",
    "    \n",
    "    name, bs, lr,_ = hyper_params\n",
    "    \n",
    "    cost = history[name]['cost']\n",
    "    \n",
    "    m = len(cost)\n",
    "    x = np.linspace(0,n_iter,m)\n",
    "    \n",
    "    _ = ax.plot(x,cost,colors[idx],label=name);\n",
    "\n",
    "_ = ax.set_ylabel(\"Cost\")\n",
    "_ = ax.set_ylabel(\"Epoch\")\n",
    "ax.legend();"
   ]
  },
  {
   "cell_type": "markdown",
   "metadata": {},
   "source": [
    "As you can see from the graph above, the fastest algorithm is Stochastic, followed by mini-batch as expected.\n",
    "\n",
    "* **Confirming fit**"
   ]
  },
  {
   "cell_type": "code",
   "execution_count": 211,
   "metadata": {},
   "outputs": [
    {
     "data": {
      "image/png": "[encoded data removed]",
      "text/plain": [
       "<Figure size 432x288 with 1 Axes>"
      ]
     },
     "metadata": {
      "needs_background": "light"
     },
     "output_type": "display_data"
    }
   ],
   "source": [
    "name = 'mini'\n",
    "\n",
    "theta = history[name]['theta'][-1]\n",
    "y_pred0 = np.matmul(X,init_guess)\n",
    "y_pred = np.matmul(X,theta)\n",
    "\n",
    "y_pred.shape\n",
    "\n",
    "plt.plot(X[:,1],y_pred,c='black', label='fit');\n",
    "plt.plot(X[:,1],y_pred0,'r', label='Initial Guess');\n",
    "plt.plot(X[:,1],y,'b.', label='Data');\n",
    "plt.legend();"
   ]
  },
  {
   "cell_type": "markdown",
   "metadata": {},
   "source": [
    "Comparing the runs, see graph below. It can be noticed that vanilla gradients descent travel directly to the local minimum while stochastic gradient travel by oscillating around the mini-batch gradient descent travel that can be seen as a smoothed version of the stochastic gradient descent."
   ]
  },
  {
   "cell_type": "code",
   "execution_count": 212,
   "metadata": {},
   "outputs": [
    {
     "data": {
      "image/png": "[encoded data removed]",
      "text/plain": [
       "<Figure size 432x288 with 1 Axes>"
      ]
     },
     "metadata": {
      "needs_background": "light"
     },
     "output_type": "display_data"
    }
   ],
   "source": [
    "Theta1, Theta2, J_grid = generate_parameter_space(grid_size=500,theta_range=(-10.0,10.0),\n",
    "                                                  cost_func=cost_func_linear_regression)\n",
    "\n",
    "plot_parameter_space_experiment(Theta1, Theta2, J_grid,theta_true=(intercept,slope),\n",
    "                                history=history,\n",
    "                                experiment=batch_sizes)"
   ]
  },
  {
   "cell_type": "markdown",
   "metadata": {},
   "source": [
    "## TUNING Learning rate \n",
    "\n",
    "One of the most critical hyperparameters and hard to tune in a deep neural network is the learning rate $\\eta$. The author of https://arxiv.org/abs/1506.01186 introduced this methodology to help us determine the acceptable range learning rate. \n",
    "\n",
    "The learning rate parameter is not constant anymore, but a function of the iteration and the update equation can be written as:\n",
    "\n",
    "$\n",
    "\\theta_t = \\theta_{t-1} + \\eta(t) \\nabla J(\\theta)\n",
    "$\n",
    "\n",
    "The function $\\eta(t)$ is called the learning rate scheduler function. The methodology is described below.\n",
    "\n",
    "1. start very small learning rate\n",
    "1. increase exponentially\n",
    "1. record learning rate vs cost function\n",
    "\n",
    "The acceptable learning rate is illustrated in the figure.\n",
    "\n",
    "<img src=\"images/learing_rate_finder_lr_plot.png\" style=\"float:left\" width=\"500\" align=\"right\">"
   ]
  },
  {
   "cell_type": "markdown",
   "metadata": {},
   "source": [
    "The figure below (extract from https://miguel-data-sc.github.io/2017-11-05-first/) shows that big batches sizes allow the use of big learning rate and allow the gradients learn faster. Intuitively, a large batch sizes computes more precise gradients and this allows confidence to take large stepa since youa taking steps in the right direction (descent direction).\n",
    "\n",
    "<img src=\"images/learning_rate_vs_batch_sizes.png\" style=\"float:left\" width=\"600\" align=\"right\">"
   ]
  },
  {
   "cell_type": "code",
   "execution_count": 262,
   "metadata": {},
   "outputs": [],
   "source": [
    "from abc import ABC, abstractmethod\n",
    "\n",
    "class LearningRateScheduler(ABC):\n",
    "\n",
    "    def __init__(self, lr0: float ):\n",
    "        \n",
    "        self._lr0 = lr0\n",
    "        \n",
    "    @abstractmethod\n",
    "    def run(it: int) -> float: \n",
    "        return\n",
    "    \n",
    "class ConstLearningRateScheduler(LearningRateScheduler):\n",
    "    \n",
    "    def run(self, it: int) -> float: \n",
    "        return self._lr0\n",
    "    \n",
    "class FindLearningRateScheduler(LearningRateScheduler):\n",
    "    \n",
    "    def __init__(self, lr0: float, number_of_lr_per_order: int = 4 ):\n",
    "    \n",
    "        super().__init__(lr0)\n",
    "        \n",
    "        self._lr0 = lr0\n",
    "        self._number_of_lr_per_order = number_of_lr_per_order\n",
    "    \n",
    "    def run(self, it: int) -> float: \n",
    "        \n",
    "        lr = self._lr0*(10**(it/self._number_of_lr_per_order))\n",
    "        \n",
    "        return lr"
   ]
  },
  {
   "cell_type": "code",
   "execution_count": 263,
   "metadata": {},
   "outputs": [
    {
     "data": {
      "image/png": "[encoded data removed]",
      "text/plain": [
       "<Figure size 432x288 with 2 Axes>"
      ]
     },
     "metadata": {
      "needs_background": "light"
     },
     "output_type": "display_data"
    }
   ],
   "source": [
    "n_iter = 55\n",
    "\n",
    "lr_scheduler = FindLearningRateScheduler(1e-5,number_of_lr_per_order=10)\n",
    "\n",
    "lrs = np.zeros((n_iter,))\n",
    "for it in range(n_iter):\n",
    "    \n",
    "    lrs[it] = lr_scheduler.run(it)\n",
    "\n",
    "fig, (ax1, ax2) = plt.subplots(2);\n",
    "fig.suptitle('learning rate scheduler');\n",
    "ax1.plot(range(n_iter),lrs,'b',label='');\n",
    "ax1.set_yscale('log');\n",
    "ax1.grid(True);\n",
    "ax1.set_title('log scale');\n",
    "ax2.plot(range(n_iter),lrs,'b',label='learning rate scheduler');\n",
    "ax2.grid(True);"
   ]
  },
  {
   "cell_type": "code",
   "execution_count": 264,
   "metadata": {},
   "outputs": [],
   "source": [
    "def create_mini_batches(data_shuffle, batch_size):\n",
    "    \n",
    "    n = data_shuffle.shape[0]\n",
    "    mini_batches = []\n",
    "    \n",
    "    for k in np.arange(0, n, batch_size):\n",
    "        \n",
    "        X_mini = data_shuffle[k:k+batch_size,:-1]\n",
    "        y_mini = data_shuffle[k:k+batch_size,-1]\n",
    "        \n",
    "        mini_batches.append((X_mini,y_mini))\n",
    "    return mini_batches\n",
    "\n",
    "def mini_batch_gradient_descent(X,y, cost_func, gradient_func, \n",
    "                                learning_rate_scheduler: Callable[[float,int], float],\n",
    "                                n_iterations: int,\n",
    "                                batch_size: int, \n",
    "                                init_guess: np.array,seed: int =1):\n",
    "    \n",
    "    n = X.shape[0] # training size\n",
    "    d = X.shape[1]  # number of dimensions or paramters\n",
    "    \n",
    "    theta = init_guess\n",
    "\n",
    "    Xy = np.hstack((X,y.reshape((n,1))))\n",
    "        \n",
    "    theta_history = []\n",
    "    grad_history = []\n",
    "    cost_history = []\n",
    " \n",
    "    for it in range(0,n_iterations):\n",
    "           \n",
    "        data_shuffle = Xy.copy()\n",
    "        np.random.shuffle(data_shuffle)\n",
    "        \n",
    "        cost = 0.0\n",
    "        mini_batches = create_mini_batches(data_shuffle,batch_size)\n",
    "        \n",
    "        for X_mini, y_mini in mini_batches:\n",
    "\n",
    "            # compute the gradients and cost function\n",
    "            cost += cost_func(theta,X_mini,y_mini)\n",
    "            gradient_at_theta = gradient_func(theta,X_mini,y_mini)  # gradient approximation using 1 data point\n",
    "            \n",
    "\n",
    "            # log history for oploting\n",
    "            theta_history.append(theta.T)\n",
    "            grad_history.append(gradient_at_theta)\n",
    "            \n",
    "           # update parameters\n",
    "            learning_rate = learning_rate_scheduler.run(it)\n",
    "            dtheta = -learning_rate* gradient_at_theta\n",
    "\n",
    "            theta = theta + dtheta\n",
    "            \n",
    "        cost_history.append(cost/len(mini_batches)) # << average loss in the epoch \n",
    "\n",
    "    history = {'theta': theta_history, \"cost\": cost_history, \"grad\": grad_history}\n",
    "\n",
    "    return theta, history"
   ]
  },
  {
   "cell_type": "code",
   "execution_count": 265,
   "metadata": {},
   "outputs": [
    {
     "data": {
      "image/png": "[encoded data removed]",
      "text/plain": [
       "<Figure size 432x288 with 1 Axes>"
      ]
     },
     "metadata": {
      "needs_background": "light"
     },
     "output_type": "display_data"
    }
   ],
   "source": [
    "# other options are also available\n",
    "X, y = make_classification(\n",
    "    n_samples=100, \n",
    "    n_classes=2,\n",
    "    n_clusters_per_class=1,\n",
    "    n_features=2,\n",
    "    n_redundant = 0,\n",
    "    n_informative = 2,\n",
    "    n_repeated = 0,\n",
    "    weights=[0.5,0.5], # balanced classes\n",
    "    flip_y=0.001, # add noisy the default value for flip_y is 0.1%\n",
    "    class_sep=1.7, # class_sep is 1.0. The lower the value, the harder classification is.\n",
    "    random_state=2020) \n",
    "\n",
    "ax = sns.scatterplot(X[:,0],X[:,1],hue=y);\n",
    "ax.set_title(\"Dataset\");"
   ]
  },
  {
   "cell_type": "code",
   "execution_count": 266,
   "metadata": {},
   "outputs": [
    {
     "name": "stdout",
     "output_type": "stream",
     "text": [
      "Initial Guess it: 0 => theta: [1.  0.5]; grad: [ 2.46180965 -2.11780916]; cost: 1.10\n",
      "it: 53 => theta: [-0.45956011  0.70088545]; grad: [-3.09255999  3.3984169 ]; cost: 1.69\n",
      "Expected theta:[4. 5.]\n",
      "\n"
     ]
    }
   ],
   "source": [
    "n_iter = 54\n",
    "bs = 100\n",
    "\n",
    "lr_scheduler = FindLearningRateScheduler(1e-5,number_of_lr_per_order=10)\n",
    "\n",
    "init_guess = np.array([1.0,0.5])\n",
    "\n",
    "theta, history = mini_batch_gradient_descent(X, y, cost_func_linear_regression, gradient_linear_regression, \n",
    "                                             lr_scheduler, n_iter,bs, init_guess)\n",
    "\n",
    "\n",
    "theta0 = history['theta'][0]\n",
    "grad0 =  history['grad'][0]\n",
    "cost0 = history['cost'][0]\n",
    "\n",
    "print(f\"Initial Guess it: 0 => theta: {theta0}; grad: {grad0}; cost: {cost0:.2f}\")\n",
    "\n",
    "it = n_iter -1\n",
    "theta = history['theta'][-1]\n",
    "grad =  history['grad'][-1]\n",
    "cost = history['cost'][-1]\n",
    "\n",
    "print(f\"it: {it} => theta: {theta}; grad: {grad}; cost: {cost:.2f}\")\n",
    "print(f\"Expected theta:{theta_true}\")\n",
    "print()"
   ]
  },
  {
   "cell_type": "code",
   "execution_count": 268,
   "metadata": {},
   "outputs": [
    {
     "data": {
      "image/png": "[encoded data removed]",
      "text/plain": [
       "<Figure size 432x288 with 1 Axes>"
      ]
     },
     "metadata": {
      "needs_background": "light"
     },
     "output_type": "display_data"
    }
   ],
   "source": [
    "lrs = np.zeros((n_iter,))\n",
    "for it in range(n_iter):\n",
    "    \n",
    "    lrs[it] = lr_scheduler.run(it)\n",
    "\n",
    "\n",
    "cost = history['cost'] \n",
    "\n",
    "plt.subplots()\n",
    "plt.plot(lrs,cost,'b',label='cost');\n",
    "plt.xscale('log');\n",
    "plt.ylim(0.0,2.0);\n",
    "plt.legend();\n",
    "plt.title('Learning Rate Finder');\n",
    "plt.grid(True);"
   ]
  },
  {
   "cell_type": "code",
   "execution_count": 269,
   "metadata": {},
   "outputs": [
    {
     "data": {
      "text/plain": [
       "array([1. , 0.5])"
      ]
     },
     "execution_count": 269,
     "metadata": {},
     "output_type": "execute_result"
    },
    {
     "data": {
      "text/plain": [
       "100"
      ]
     },
     "execution_count": 269,
     "metadata": {},
     "output_type": "execute_result"
    },
    {
     "name": "stdout",
     "output_type": "stream",
     "text": [
      "manual, lr: 0.01\n",
      "Initial Guess it: 0 => theta: [1.  0.5]; grad: [ 2.46180965 -2.11780916]; cost: 1.10\n",
      "it: 299 => theta: [0.18585499 0.38900841]; grad: [0.08524474 0.07781186]; cost: 0.17\n",
      "accuracy: 0.94\n",
      "\n",
      "tuned lr, lr: 0.2\n",
      "Initial Guess it: 0 => theta: [1.  0.5]; grad: [ 2.46180965 -2.11780916]; cost: 1.10\n",
      "it: 299 => theta: [-0.0237049   0.19772102]; grad: [2.76050294e-12 2.51990206e-12]; cost: 0.16\n",
      "accuracy: 0.97\n",
      "\n"
     ]
    }
   ],
   "source": [
    "experiment = [('manual', 0.01),\n",
    "             ('tuned lr',0.2 )]\n",
    "\n",
    "n_iter = 300\n",
    "init_guess\n",
    "bs\n",
    "\n",
    "for name, lr in experiment:\n",
    "\n",
    "    lr_scheduler = ConstLearningRateScheduler(lr)\n",
    "    \n",
    "    theta, history[name] = mini_batch_gradient_descent(X, y, cost_func_linear_regression, gradient_linear_regression, \n",
    "                                             lr_scheduler, n_iter,bs, init_guess)\n",
    "\n",
    "\n",
    "    print(f\"{name}, lr: {lr}\")\n",
    "    theta0 = history[name]['theta'][0]\n",
    "    grad0 =  history[name]['grad'][0]\n",
    "    cost0 = history[name]['cost'][0]\n",
    "\n",
    "    print(f\"Initial Guess it: 0 => theta: {theta0}; grad: {grad0}; cost: {cost0:.2f}\")\n",
    "\n",
    "    it = n_iter -1\n",
    "    theta = history[name]['theta'][-1]\n",
    "    grad =  history[name]['grad'][-1]\n",
    "    cost = history[name]['cost'][-1]\n",
    "\n",
    "    print(f\"it: {it} => theta: {theta}; grad: {grad}; cost: {cost:.2f}\")\n",
    "    \n",
    "    z = np.matmul(X,theta)  # nx1\n",
    "    h = 1.0/(1.0 + np.exp(-z))\n",
    "    y_pred = h > 0.5\n",
    "\n",
    "    acc = accuracy_score(y, y_pred)\n",
    "    print(f\"accuracy: {acc}\")\n",
    "    \n",
    "    #print(f\"Expected theta:{theta_true}\")\n",
    "    print()\n"
   ]
  },
  {
   "cell_type": "code",
   "execution_count": 271,
   "metadata": {},
   "outputs": [
    {
     "data": {
      "image/png": "[encoded data removed]",
      "text/plain": [
       "<Figure size 432x288 with 1 Axes>"
      ]
     },
     "metadata": {
      "needs_background": "light"
     },
     "output_type": "display_data"
    }
   ],
   "source": [
    "colors = ['b','k','g']\n",
    "\n",
    "fig,ax = plt.subplots()\n",
    "for idx, hyper_params in enumerate(experiment):\n",
    "    \n",
    "    name, lr = hyper_params= hyper_params\n",
    "    \n",
    "    cost = history[name]['cost']\n",
    "    \n",
    "    m = len(cost)\n",
    "    x = np.linspace(0,n_iter,m)\n",
    "    \n",
    "    _ = ax.plot(x,cost,colors[idx],label=name);\n",
    "\n",
    "_ = ax.set_ylabel(\"Cost\")\n",
    "_ = ax.set_ylabel(\"Epoch\")\n",
    "ax.legend();"
   ]
  },
  {
   "cell_type": "markdown",
   "metadata": {},
   "source": [
    "## Impact of outlier: Gradient Exploding\n",
    "\n",
    "In this section, we are going to show that in the presence of outliers, gradient descent can become numerical unstable and the gradients can increase and explode to numerical precision of the computer. The stochastic gradients descent is the most sensible to outliers because the computation of the gradient depends only on one sample.\n"
   ]
  },
  {
   "cell_type": "code",
   "execution_count": 275,
   "metadata": {},
   "outputs": [
    {
     "name": "stdout",
     "output_type": "stream",
     "text": [
      "True parameters: [4. 5.]\n"
     ]
    },
    {
     "data": {
      "image/png": "[encoded data removed]",
      "text/plain": [
       "<Figure size 432x288 with 1 Axes>"
      ]
     },
     "metadata": {
      "needs_background": "light"
     },
     "output_type": "display_data"
    }
   ],
   "source": [
    "slope = 5.0 \n",
    "intercept = 4.0\n",
    "noise = 0.1\n",
    "n = 50\n",
    "\n",
    "X,y,_ = make_2d_linear_data(slope,intercept, noise, n)\n",
    "theta_true = np.array([intercept,slope])\n",
    "\n",
    "outlier_X = [1., 15]\n",
    "outlier_y = 0.0\n",
    "\n",
    "X1 = np.vstack((X,outlier_X))\n",
    "y1 = np.hstack((y,outlier_y))\n",
    "\n",
    "print(f\"True parameters: {theta_true}\")\n",
    "\n",
    "_ = plt.subplot(121);\n",
    "_ = plt.scatter(X1[:,1],y1);\n",
    "\n",
    "plt.show()"
   ]
  },
  {
   "cell_type": "code",
   "execution_count": 277,
   "metadata": {},
   "outputs": [
    {
     "name": "stdout",
     "output_type": "stream",
     "text": [
      "\n",
      "Initial Guess it: 0 => theta: [-10. -10.]; grad: [-9.88678757  2.62302527]; cost: 96.26\n",
      "it: 29 => theta: [4.01225528 4.90909773]; grad: [0.24151933 0.13308208]; cost: 0.01\n",
      "Expected theta:[4. 5.]\n",
      "\n",
      "Initial Guess it: 0 => theta: [-10. -10.]; grad: [-9.88678757  2.62302527]; cost: 281.93\n",
      "it: 29 => theta: [  1.88076625 -57.47255584]; grad: [ 44.94083483 -33.93491609]; cost: 5656.27\n",
      "Expected theta:[4. 5.]\n",
      "\n",
      "Initial Guess it: 0 => theta: [-10. -10.]; grad: [-11.49711797  -4.06832992]; cost: 338.87\n",
      "it: 29 => theta: [2.20749653 0.17708429]; grad: [-3.59567027 -1.95335839]; cost: 6.09\n",
      "Expected theta:[4. 5.]\n",
      "\n",
      "Initial Guess it: 0 => theta: [-10. -10.]; grad: [-16.87352587 -52.1563175 ]; cost: 385.41\n",
      "it: 29 => theta: [-6.11355424 -1.81423465]; grad: [-10.57950206 -12.11530065]; cost: 69.01\n",
      "Expected theta:[4. 5.]\n"
     ]
    }
   ],
   "source": [
    "lr = 0.01\n",
    "n_iter = 30\n",
    "bs = 51\n",
    "init_guess = np.array([-10.0, -10.0])\n",
    "\n",
    "experiment = [('No outlier: sthochastic',1,(X,y)),\n",
    "             ('Outlier: sthochastic',1, (X1,y1)),\n",
    "             ('Outlier: mini',8, (X1,y1)),\n",
    "             ('Outlier: vanila',51, (X1,y1))\n",
    "              ]\n",
    "\n",
    "lr_scheduler = ConstLearningRateScheduler(lr)\n",
    "\n",
    "history = {}\n",
    "for name, bs, data in experiment:\n",
    "    \n",
    "    X_sim,y_sim = data\n",
    "    \n",
    "    theta, history[name] = mini_batch_gradient_descent(X_sim, y_sim, cost_func_linear_regression, gradient_linear_regression, \n",
    "                                             lr_scheduler, n_iter,bs, init_guess)\n",
    "    print()\n",
    "    theta0 = history[name]['theta'][0]\n",
    "    grad0 =  history[name]['grad'][0]\n",
    "    cost0 = history[name]['cost'][0]\n",
    "\n",
    "    print(f\"Initial Guess it: 0 => theta: {theta0}; grad: {grad0}; cost: {cost0:.2f}\")\n",
    "\n",
    "    it = n_iter -1\n",
    "    theta = history[name]['theta'][-1]\n",
    "    grad =  history[name]['grad'][-1]\n",
    "    cost = history[name]['cost'][-1]\n",
    "\n",
    "    print(f\"it: {it} => theta: {theta}; grad: {grad}; cost: {cost:.2f}\")\n",
    "    print(f\"Expected theta:{theta_true}\")"
   ]
  },
  {
   "cell_type": "code",
   "execution_count": 278,
   "metadata": {},
   "outputs": [
    {
     "data": {
      "image/png": "[encoded data removed]",
      "text/plain": [
       "<Figure size 432x288 with 1 Axes>"
      ]
     },
     "metadata": {
      "needs_background": "light"
     },
     "output_type": "display_data"
    }
   ],
   "source": [
    "colors = ['b','k','g','r']\n",
    "\n",
    "fig,ax = plt.subplots()\n",
    "for idx, sim_param in enumerate(experiment):\n",
    "    \n",
    "    name, bs, data = sim_param\n",
    "    \n",
    "    cost = history[name]['cost']\n",
    "    \n",
    "    m = len(cost)\n",
    "    x = np.linspace(0,n_iter,m)\n",
    "    \n",
    "    _ = ax.plot(x,cost,colors[idx],label=name);\n",
    "\n",
    "_ = ax.set_ylabel(\"Cost\")\n",
    "_ = ax.set_ylabel(\"Epoch\")\n",
    "ax.legend();\n"
   ]
  },
  {
   "cell_type": "markdown",
   "metadata": {},
   "source": [
    "## Gradient descent with Momentum \n",
    "\n",
    "Intuitively momentum adds a term that can be understood as an inertial term (velocity) in the update equation. This inertia also makes the gradient descent with momentum oscillates more when it is near the local minimum of the cost function.  Other solutions try to address this phenomena: **AdaGrad**, **RMSProp** and **Adam (momentum+ RMSProp) (This is the best available right now)**. However, these solutions are not discussed in this **notebook**.\n",
    "\n",
    "The momentum was inspired by the concept of **exponential moving average** (exponential smoothing).\n",
    "\n",
    "$\n",
    "V_t = \\beta V_{t-1} + (1-\\beta)S_t\n",
    "$\n",
    "\n",
    "where $S_t$ is a new observation and $\\beta = [0,1]$. The new smooth value is a linear combination of the new observation $S_t$ and the old smoothed value $V_{t-1}$ and $\\beta$ determine the fraction of the old smoothed value will be \"remember\". In the analogy of the physical system, $V$ denotes velocity and the term $\\beta V_{t-1}$ is the resistance applied in the previous velocity and $(1 -\\beta)S_t$ is the acceleration at the current time. \n",
    "\n",
    "This equation reduces the gradient oscillations because a considered amount of the gradient oscillation is cancelled due to the resistance term. The equation for the gradient is given: \n",
    "\n",
    "$\n",
    "V_t = \\beta V_{t-1} + (1-\\beta) \\eta \\nabla J(\\theta)\n",
    "$\n",
    "\n",
    "Since the learning rate can be selected to account for the term $(1- \\beta)$, thus making it redundant, this term is usually omitted in the literature or implementation of the algorithm. \n",
    "\n",
    "$\n",
    "V_t = \\beta V_{t-1} + \\eta \\nabla J(\\theta)\n",
    "$\n",
    "\n",
    "Where $\\eta = (1-\\beta) \\eta $. The parameters are updated with the formula:\n",
    "\n",
    "$\n",
    "\\theta_t = \\theta_{t-1} + V_t\n",
    "$\n",
    "\n",
    "Default value $\\beta = 0.9$  works well in many situations.\n",
    "\n",
    "* $\\beta = 0$: normal gradients (no momentum)\n",
    "* $\\beta = 1$: pure momentum and the gradients are ignored in the update, and the algorithm does not converge.\n",
    "\n",
    "Below, we added momentum to the gradient descent implementation. We are going to verify our solution using **logistic regression and cross-entropy cost function**. Besides, we are going to show that momentum makes gradient descent converge faster."
   ]
  },
  {
   "cell_type": "code",
   "execution_count": 283,
   "metadata": {},
   "outputs": [],
   "source": [
    "def gradient_descent(X: np.array,y: np.array, \n",
    "                     cost_func: Callable[[np.array,np.array], np.array], \n",
    "                     gradient_func: Callable[[np.array,np.array], np.array], \n",
    "                     learning_rate: float, beta: float,\n",
    "                     n_iterations: int, init_guess: np.array) -> dict:\n",
    "    \n",
    "    n = X.shape[0] # training size\n",
    "    d = X.shape[1]  # number of dimensions or paramters\n",
    "    \n",
    "    theta_history = np.zeros((n_iterations,d))\n",
    "    grad_history = np.zeros((n_iterations,d))\n",
    "    cost_history = np.zeros(n_iterations)\n",
    "\n",
    "    theta = init_guess\n",
    "\n",
    "    V = 0.0\n",
    "    for it in range(0,n_iterations):\n",
    "\n",
    "        # compute gradients and cost function\n",
    "        cost_at_theta = cost_func(theta,X,y)\n",
    "        gradient_at_theta = gradient_func(theta,X,y)\n",
    "\n",
    "        # log history for ploting\n",
    "        theta_history[it, :] = theta.T\n",
    "        grad_history[it,:] = gradient_at_theta.T\n",
    "        cost_history[it] = cost_at_theta\n",
    "        \n",
    "        # update parameters\n",
    "        V = beta*V - learning_rate*gradient_at_theta\n",
    "        theta = theta + V\n",
    "\n",
    "    history = {'theta': theta_history, \"cost\": cost_history, \"grad\": grad_history}\n",
    "\n",
    "    return theta, history"
   ]
  },
  {
   "cell_type": "code",
   "execution_count": 284,
   "metadata": {},
   "outputs": [
    {
     "data": {
      "image/png": "[encoded data removed]",
      "text/plain": [
       "<Figure size 432x288 with 1 Axes>"
      ]
     },
     "metadata": {
      "needs_background": "light"
     },
     "output_type": "display_data"
    }
   ],
   "source": [
    "# other options are also available\n",
    "X, y = make_classification(\n",
    "    n_samples=100, \n",
    "    n_classes=2,\n",
    "    n_clusters_per_class=1,\n",
    "    n_features=2,\n",
    "    n_redundant = 0,\n",
    "    n_informative = 2,\n",
    "    n_repeated = 0,\n",
    "    weights=[0.5,0.5], # balanced classes\n",
    "    flip_y=0.001, # add noisy the default value for flip_y is 0.1%\n",
    "    class_sep=1.7, # class_sep is 1.0. The lower the value, the harder classification is.\n",
    "    random_state=2020) \n",
    "\n",
    "ax = sns.scatterplot(X[:,0],X[:,1],hue=y);\n",
    "ax.set_title(\"Dataset\");"
   ]
  },
  {
   "cell_type": "code",
   "execution_count": 285,
   "metadata": {},
   "outputs": [
    {
     "name": "stdout",
     "output_type": "stream",
     "text": [
      "vanilla, beta: 0.0\n",
      "Initial Guess it: 0 => theta: [ 5. -1.]; grad: [ 157.85144702 -174.08001426]; cost: 9.70\n",
      "it: 15 => theta: [2.68038789 1.46900113]; grad: [ 134.73723693 -129.54614344]; cost: 2.08\n",
      "accuracy: 0.26\n",
      "\n",
      "momentum, beta: 0.89\n",
      "Initial Guess it: 0 => theta: [ 5. -1.]; grad: [ 157.85144702 -174.08001426]; cost: 9.70\n",
      "it: 15 => theta: [-2.24158459  6.52676486]; grad: [-0.10632569  1.12946241]; cost: 0.09\n",
      "accuracy: 0.98\n",
      "\n"
     ]
    }
   ],
   "source": [
    "lr = 0.001\n",
    "n_iter = 16\n",
    "\n",
    "experiment = [('vanilla', 0.00),\n",
    "       ('momentum',0.89 )]\n",
    "\n",
    "init_guess = np.array([5.0,-1.0])  ## <== also works well\n",
    "\n",
    "for name, beta in experiment:\n",
    "\n",
    "    theta, history[name] = gradient_descent(X, y,\n",
    "                                            cost_func_logistic_regression, gradient_logistic_regression,\n",
    "                                            lr, beta, \n",
    "                                            n_iter, init_guess)\n",
    "\n",
    "    print(f\"{name}, beta: {beta}\")\n",
    "    theta0 = history[name]['theta'][0]\n",
    "    grad0 =  history[name]['grad'][0]\n",
    "    cost0 = history[name]['cost'][0]\n",
    "\n",
    "    print(f\"Initial Guess it: 0 => theta: {theta0}; grad: {grad0}; cost: {cost0:.2f}\")\n",
    "\n",
    "    it = n_iter -1\n",
    "    theta = history[name]['theta'][-1]\n",
    "    grad =  history[name]['grad'][-1]\n",
    "    cost = history[name]['cost'][-1]\n",
    "\n",
    "    print(f\"it: {it} => theta: {theta}; grad: {grad}; cost: {cost:.2f}\")\n",
    "    \n",
    "    z = np.matmul(X,theta)  # nx1\n",
    "    h = 1.0/(1.0 + np.exp(-z))\n",
    "    y_pred = h > 0.5\n",
    "\n",
    "    acc = accuracy_score(y, y_pred)\n",
    "    print(f\"accuracy: {acc}\")  # <== check if converged\n",
    "    \n",
    "    print()"
   ]
  },
  {
   "cell_type": "code",
   "execution_count": 286,
   "metadata": {},
   "outputs": [
    {
     "data": {
      "image/png": "[encoded data removed]",
      "text/plain": [
       "<Figure size 432x288 with 1 Axes>"
      ]
     },
     "metadata": {
      "needs_background": "light"
     },
     "output_type": "display_data"
    }
   ],
   "source": [
    "colors = ['b','k','g']\n",
    "\n",
    "fig,ax = plt.subplots()\n",
    "for idx, hyper_params in enumerate(experiment):\n",
    "    \n",
    "    name, beta = hyper_params= hyper_params\n",
    "    \n",
    "    cost = history[name]['cost']\n",
    "    \n",
    "    m = len(cost)\n",
    "    x = np.linspace(0,n_iter,m)\n",
    "    \n",
    "    _ = ax.plot(x,cost,colors[idx],label=name);\n",
    "    \n",
    "_ = ax.set_ylabel(\"Cost\")\n",
    "_ = ax.set_ylabel(\"Epoch\")\n",
    "ax.legend();"
   ]
  },
  {
   "cell_type": "markdown",
   "metadata": {},
   "source": [
    "As you can see, gradient with momentum converges fast than regular vanilla gradient descent."
   ]
  },
  {
   "cell_type": "markdown",
   "metadata": {},
   "source": [
    "## Impact of initialization in Neural Network: \n",
    "\n",
    "\n",
    "*TODO* discusee zero initilzaion and the others intialiazation\n",
    "\n",
    "In this section we are going to use tensorflow to demonstrate the impact of the initialization on gradients. \n",
    "\n",
    "1. Constant initialization poor perform\n",
    "1. zero: not learning \n",
    "1. too-large: leads too gradients vanish and not learning\n",
    "1. constant:  hard to learn (poor performance)\n",
    "\n",
    "Recently, the best to initialzation methods, see https://www.deeplearning.ai/ai-notes/initialization/, are:\n",
    "\n",
    "* Xavier: better for sigmoid activations\n",
    "* He: better for Relu types activations\n",
    "\n",
    "We are not discussing this methods in this notebook.  We are going to build a simple neural network with 2 layers and 2 neurons.\n"
   ]
  },
  {
   "cell_type": "code",
   "execution_count": 287,
   "metadata": {},
   "outputs": [
    {
     "data": {
      "image/png": "[encoded data removed]",
      "text/plain": [
       "<Figure size 432x288 with 1 Axes>"
      ]
     },
     "metadata": {
      "needs_background": "light"
     },
     "output_type": "display_data"
    }
   ],
   "source": [
    "# other options are also available\n",
    "X, y = make_classification(\n",
    "    n_samples=100, \n",
    "    n_classes=2,\n",
    "    n_clusters_per_class=1,\n",
    "    n_features=2,\n",
    "    n_redundant = 0,\n",
    "    n_informative = 2,\n",
    "    n_repeated = 0,\n",
    "    weights=[0.5,0.5], # balanced classes\n",
    "    flip_y=0.001, # add noisy the default value for flip_y is 0.1%\n",
    "    class_sep=1.7, # class_sep is 1.0. The lower the value, the harder classification is.\n",
    "    random_state=2020) \n",
    "\n",
    "ax = sns.scatterplot(X[:,0],X[:,1],hue=y);\n",
    "ax.set_title(\"Dataset\");"
   ]
  },
  {
   "cell_type": "markdown",
   "metadata": {},
   "source": [
    "Remember that the input of the activations function on TensorFlow is given by $z = WX + b$"
   ]
  },
  {
   "cell_type": "code",
   "execution_count": 288,
   "metadata": {},
   "outputs": [
    {
     "data": {
      "text/plain": [
       "array([ 5., -1.])"
      ]
     },
     "execution_count": 288,
     "metadata": {},
     "output_type": "execute_result"
    },
    {
     "name": "stdout",
     "output_type": "stream",
     "text": [
      "manual:\n",
      " ==> Layer 0: [[1.]],[[0.5]]\n",
      " ==> Layer 1: [[-1.]],[[0.]]\n",
      "const:\n",
      " ==> Layer 0: [[0.5]],[[0.5]]\n",
      " ==> Layer 1: [[0.5]],[[0.5]]\n",
      "grad vanish:\n",
      " ==> Layer 0: [[5.]],[[5.]]\n",
      " ==> Layer 1: [[5.]],[[5.]]\n",
      "zero:\n",
      " ==> Layer 0: [[0.]],[[0.]]\n",
      " ==> Layer 1: [[0.]],[[0.]]\n",
      "random:\n",
      " ==> Layer 0: [[0.21195656]],[[0.46673872]]\n",
      " ==> Layer 1: [[-0.72210569]],[[-0.37465383]]\n",
      "Last model summary and config\n",
      "Model: \"sequential_11\"\n",
      "_________________________________________________________________\n",
      "Layer (type)                 Output Shape              Param #   \n",
      "=================================================================\n",
      "dense_22 (Dense)             (None, 1)                 3         \n",
      "_________________________________________________________________\n",
      "dense_23 (Dense)             (None, 1)                 2         \n",
      "=================================================================\n",
      "Total params: 5\n",
      "Trainable params: 5\n",
      "Non-trainable params: 0\n",
      "_________________________________________________________________\n"
     ]
    },
    {
     "data": {
      "text/plain": [
       "{'name': 'SGD',\n",
       " 'learning_rate': 0.05,\n",
       " 'decay': 0.0,\n",
       " 'momentum': 0.0,\n",
       " 'nesterov': False}"
      ]
     },
     "execution_count": 288,
     "metadata": {},
     "output_type": "execute_result"
    }
   ],
   "source": [
    "init_guess\n",
    "n_iter = 50\n",
    "lr = 0.05\n",
    "\n",
    "# manual\n",
    "W00 = tf.constant_initializer(1.0)\n",
    "b00 = tf.constant_initializer(0.5)\n",
    "W01 = tf.constant_initializer(-1.0)\n",
    "b01 = tf.constant_initializer(0.0)\n",
    "\n",
    "# constant\n",
    "WB_const = tf.constant_initializer(0.5)\n",
    "\n",
    "# grad vanish regions\n",
    "WB_grad_vanish = tf.constant_initializer(5.0)\n",
    "\n",
    "# Zero\n",
    "WB0 = tf.constant_initializer(0.0)\n",
    "\n",
    "# random: uniform\n",
    "np.random.seed(2021)\n",
    "W00_rd = tf.constant_initializer(np.random.uniform(-1.0,1.0,1))\n",
    "b00_rd = tf.constant_initializer(np.random.uniform(-1.0,1.0,1))\n",
    "W01_rd = tf.constant_initializer(np.random.uniform(-1.0,1.0,1))\n",
    "b01_rd = tf.constant_initializer(np.random.uniform(-1.0,1.0,1))\n",
    "\n",
    "\n",
    "experiment = [('manual',X.shape[0], (W00,b00,W01,b01)),\n",
    "               ('const',X.shape[0], (WB_const,WB_const,WB_const,WB_const)),\n",
    "               ('grad vanish',X.shape[0], (WB_grad_vanish,WB_grad_vanish,WB_grad_vanish,WB_grad_vanish)),\n",
    "               ('zero',X.shape[0], (WB0,WB0,WB0,WB0)),\n",
    "               ('random',X.shape[0], (W00_rd,b00_rd,W01_rd,b01_rd)),\n",
    "              ]\n",
    "\n",
    "models = {}\n",
    "for name, bs, initialization in experiment:\n",
    "\n",
    "    \n",
    "    W00,b00,W01,b01 = initialization\n",
    "\n",
    "    print(f\"{name}:\")\n",
    "    print(f\" ==> Layer 0: {W00((1,1)).numpy()},{b00((1,1)).numpy()}\")\n",
    "    print(f\" ==> Layer 1: {W01((1,1)).numpy()},{b01((1,1)).numpy()}\")\n",
    "    \n",
    "    \n",
    "    # https://www.tensorflow.org/api_docs/python/tf/keras/layers/Dense\n",
    "    models[name] = tf.keras.Sequential([\n",
    "                tf.keras.layers.Dense(1, activation='sigmoid',\n",
    "                          kernel_initializer=W00,\n",
    "                          bias_initializer=b00,\n",
    "                          input_shape=(2,)),\n",
    "                tf.keras.layers.Dense(1, activation='sigmoid',\n",
    "                          kernel_initializer=W01,\n",
    "                          bias_initializer=b01,\n",
    "                          input_shape=(1,))\n",
    "    ])\n",
    "\n",
    "\n",
    "    sgd = tf.keras.optimizers.SGD(learning_rate=lr, \n",
    "                              momentum=0.0,\n",
    "                              nesterov=False, name='SGD'\n",
    "                             )\n",
    "\n",
    "    models[name].compile(loss='mse', optimizer=sgd, metrics=['mse'])\n",
    "\n",
    "    \n",
    "\n",
    "    _ = models[name].fit(X, y, epochs=n_iter, batch_size=bs, verbose=0, validation_split=0.0)\n",
    "    \n",
    "    \n",
    "print(\"Last model summary and config\")\n",
    "models[name].summary()\n",
    "models[name].optimizer.get_config()\n",
    "\n"
   ]
  },
  {
   "cell_type": "code",
   "execution_count": 293,
   "metadata": {},
   "outputs": [
    {
     "data": {
      "image/png": "[encoded data removed]",
      "text/plain": [
       "<Figure size 504x432 with 1 Axes>"
      ]
     },
     "metadata": {
      "needs_background": "light"
     },
     "output_type": "display_data"
    }
   ],
   "source": [
    "colors = ['b','k','firebrick','g', 'y', 'v', 'o']\n",
    "\n",
    "\n",
    "fig,ax = plt.subplots(figsize=(7,6))\n",
    "for idx, sim  in enumerate(experiment): \n",
    "\n",
    "    name, bs, initialization = sim \n",
    "    tf_cost = models[name].history.history['loss']\n",
    "    \n",
    "    # re scaling cost for better visualization purpose\n",
    "    if name == 'grad vanish':\n",
    "        tf_cost = [value/2.0 for value in tf_cost]\n",
    "    \n",
    "    _ = ax.plot(range(n_iter),tf_cost,colors[idx],label=f'{name}: tf_cost');\n",
    "\n",
    "ax.legend();"
   ]
  },
  {
   "cell_type": "markdown",
   "metadata": {},
   "source": [
    "As you can see in the graph above, by initializing the neural network with all parameters to zero or high parameters values, the neural network is NOT capable of learning.\n",
    "\n",
    "Besides, if the neural networks are initialized with constant values, this results in poor performance."
   ]
  },
  {
   "cell_type": "code",
   "execution_count": null,
   "metadata": {},
   "outputs": [],
   "source": []
  }
 ],
 "metadata": {
  "kernelspec": {
   "display_name": "Python 3",
   "language": "python",
   "name": "python3"
  },
  "language_info": {
   "codemirror_mode": {
    "name": "ipython",
    "version": 3
   },
   "file_extension": ".py",
   "mimetype": "text/x-python",
   "name": "python",
   "nbconvert_exporter": "python",
   "pygments_lexer": "ipython3",
   "version": "3.9.7"
  },
  "latex_envs": {
   "LaTeX_envs_menu_present": true,
   "autoclose": false,
   "autocomplete": true,
   "bibliofile": "biblio.bib",
   "cite_by": "apalike",
   "current_citInitial": 1,
   "eqLabelWithNumbers": true,
   "eqNumInitial": 1,
   "hotkeys": {
    "equation": "Ctrl-E",
    "itemize": "Ctrl-I"
   },
   "labels_anchors": false,
   "latex_user_defs": false,
   "report_style_numbering": false,
   "user_envs_cfg": false
  },
  "name": "intro_gradient_algos.ipynb",
  "toc": {
   "base_numbering": 1,
   "nav_menu": {
    "height": "383.75px",
    "width": "252.222px"
   },
   "number_sections": true,
   "sideBar": true,
   "skip_h1_title": true,
   "title_cell": "Table of Contents",
   "title_sidebar": "Contents",
   "toc_cell": false,
   "toc_position": {
    "height": "calc(100% - 180px)",
    "left": "10px",
    "top": "150px",
    "width": "201.111px"
   },
   "toc_section_display": true,
   "toc_window_display": true
  },
  "varInspector": {
   "cols": {
    "lenName": 16,
    "lenType": 16,
    "lenVar": 40
   },
   "kernels_config": {
    "python": {
     "delete_cmd_postfix": "",
     "delete_cmd_prefix": "del ",
     "library": "var_list.py",
     "varRefreshCmd": "print(var_dic_list())"
    },
    "r": {
     "delete_cmd_postfix": ") ",
     "delete_cmd_prefix": "rm(",
     "library": "var_list.r",
     "varRefreshCmd": "cat(var_dic_list()) "
    }
   },
   "types_to_exclude": [
    "module",
    "function",
    "builtin_function_or_method",
    "instance",
    "_Feature"
   ],
   "window_display": false
  }
 },
 "nbformat": 4,
 "nbformat_minor": 4
}
