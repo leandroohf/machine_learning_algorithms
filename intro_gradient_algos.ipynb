{
 "cells": [
  {
   "cell_type": "markdown",
   "metadata": {},
   "source": [
    "# Gradients\n",
    "\n",
    "Refs:\n",
    "* Book: Elements of Statistical Learning\n",
    "* https://www.deeplearningbook.org/  <== This is a goodreference for Deep Learning\n",
    "* math demonstrations:\n",
    "    * https://stats.stackexchange.com/questions/278771/how-is-the-cost-function-from-logistic-regression-derivated/278812 \n",
    "    * https://medium.com/analytics-vidhya/derivative-of-log-loss-function-for-logistic-regression-9b832f025c2d\n",
    "    * https://ml-cheatsheet.readthedocs.io/en/latest/logistic_regression.html\n",
    "* Explanations and equations about momentum and others optmizers:\n",
    "    * https://vzahorui.net/optimization/gradient-descent/\n",
    "    \n",
    "* Vidsual animations: https://towardsdatascience.com/a-visual-explanation-of-gradient-descent-methods-momentum-adagrad-rmsprop-adam-f898b102325c\n",
    "* Learning Rate finder\n",
    "    * https://miguel-data-sc.github.io/2017-11-05-first/\n",
    "    * https://arxiv.org/pdf/1506.01186.pdf\n",
    "\n",
    "This notebook reviews some central concepts in deep learning and implements the three main gradient descent algorithms using the NumPy library for linear regression and logistic regression. Latter, we introduce momentum and learning rate scheduler. While presenting the algorithms, we will be doing brief discussions about the impact of initialization, learning rate and outliers in the data (Gradient Vanish).\n",
    " \n",
    " \n",
    "**TODO**: Review and write it better Add motivations of each algo\n",
    "\n",
    "\n",
    "* Gradient descent: \n",
    "    * Precise\n",
    "    * Computational slow\n",
    "    * Resource hungry \n",
    "    * Numerical convergence slow because 1 update per epcoh\n",
    "    \n",
    "* Stochastic:\n",
    "    * Gradients is not precise. \n",
    "    * Do not consuming too much resource \n",
    "    * Lack of parrellism\n",
    "    *  Do not use too many rsources\n",
    "    * Faster numerical convergence. $n$ updates per eoch where $n$ is the train dataset\n",
    " \n",
    " * Mini batch\n",
    "     * Gradients more precise than Stochastic \n",
    "     * Computational fast because can expore parralellism \n",
    "     * Fast neumerical convergence becuase teher are many updates per epcoh\n",
    "     * Do not use too many rsources\n",
    " \n",
    "--------\n",
    "Terms used in deep learning:\n",
    "\n",
    "* epoch: one pass over the entire data\n",
    "* 1 step: update the parameters\n",
    "* B: mini-batch size\n",
    "\n",
    "ref: https://towardsdatascience.com/learning-parameters-part-3-ee8558f65dd7\n",
    "\n",
    "| Gradient Algo                     | #steps in epoch |\n",
    "|-----------------------------------|-----------------|\n",
    "| Vanilla or Batch Gradient Descent | 1               |\n",
    "| Stochastic Gradient Descent       | N               |\n",
    "| Mini Batch Gradient Descent       | N/B             |\n",
    "\n"
   ]
  },
  {
   "cell_type": "markdown",
   "metadata": {},
   "source": [
    "Analogy with Gravity:\n",
    "\n",
    "* Potential Energy => Loss Function\n",
    "* Goal Minimize Potential Energy => Minimize Loss Function \n",
    "* Mountain (x,y,z) => Regression Coefficient ($\\theta$)\n",
    "* modify (x,y) to archive the goal => modify $\\theta$ to achive the goal\n",
    "* Bottom of the Bowl or mountain => Minimum Value of Loss (Error)\n"
   ]
  },
  {
   "cell_type": "code",
   "execution_count": 3,
   "metadata": {},
   "outputs": [],
   "source": [
    "import numpy as np\n",
    "import random as rand\n",
    "\n",
    "import matplotlib\n",
    "import matplotlib.pyplot as plt\n",
    "# required for iteractive plot\n",
    "%matplotlib notebook  \n",
    "\n",
    "import seaborn as sns\n",
    "from scipy import stats \n",
    "\n",
    "from sklearn.datasets import make_classification, make_blobs, make_regression\n",
    "from sklearn.metrics import accuracy_score\n",
    "\n",
    "from typing import List, Set, Dict, Tuple, Optional, Union, Callable\n",
    "\n",
    "import tensorflow as tf\n",
    "\n",
    "import warnings\n",
    "warnings.filterwarnings('ignore')\n",
    "\n",
    "from IPython.core.interactiveshell import InteractiveShell\n",
    "InteractiveShell.ast_node_interactivity = \"all\"\n",
    "%matplotlib inline"
   ]
  },
  {
   "cell_type": "markdown",
   "metadata": {},
   "source": [
    "## Cost, Loss and hypothesis function\n"
   ]
  },
  {
   "cell_type": "markdown",
   "metadata": {},
   "source": [
    "The terms **cost** and **loss** are many time used interchancheble by many authors (Ian Goodfellow, Yoshua Bengio, Aaron Courville ), other authors preffer to make a clear distinguish between them. Here we decide define this concepts and the concept of hypothesis in machine learning using the ref: https://stats.stackexchange.com/questions/179026/objective-function-cost-function-loss-function-are-they-the-same-thing .\n",
    "\n",
    "* Hypothesis function $h_{\\theta}(x, y)$\n",
    "    1. It is the fucntional responsiple to do the mapping: (x -> y). It is the model you pick that you believe is the best to solve the task. \n",
    "    1. Ex in the context of Machine learning: linear regression, logistic regression and support vector machine all they have different $h_{\\theta}(x, y)$. You neeed to determine the best by try and fail\n",
    "    1. Ex context of deep learning: It is the different architecture you are tryng\n",
    "\n",
    "\n",
    "* Loss function $\\mathcal{L}(h_{\\theta}(x^{(i)}), y_i)$\n",
    "    1. It is the penality the algorithms pays by predicting $\\hat{y}_i = h_{\\theta}(x^{(i)}, y_i)$\n",
    "        * if the estimation (prediction) is right $\\hat{y}_i$, the penality should be zero\n",
    "        * if the estimation (prediction) is wrong, the penality should increase with the difference between $\\hat{y}_i$ and $y_i$\n",
    "     1. It is a fucntion of data and not parameters. The parameters are assumed given and constant\n",
    "     1. Examples of loss functions: Linear regression\n",
    "     \n",
    "$$\n",
    "\\mathcal{L}(x,y) =  \\frac{1}{2} \\left ( x \\theta_1 + \\theta_0 - y \\right )^2 \\\\\n",
    "h_{\\theta_0,\\theta_1}(x, y) = \\left ( x \\theta_1 + \\theta_0 - y \\right )^2\n",
    "$$\n",
    "     \n",
    "\n",
    "* Cost function $J(\\theta)$ \n",
    "    1. It is a function only of parameters. Data $x^{(i)},y_i$ are assumed as given and constant\n",
    "    1. It is the average of the loss function over the dataset\n",
    "    1. It means the average cost (penality) the algo paid for there mistakes over data sets or the complete batch\n",
    "    \n",
    "$$\n",
    "J(\\theta) = \\frac{1}{n} \\sum_{i=1}^n \\mathcal{L}(h_{\\theta}(x^{(i)}), y_i)\n",
    "$$"
   ]
  },
  {
   "cell_type": "markdown",
   "metadata": {},
   "source": [
    "## Gradient descent\n"
   ]
  },
  {
   "cell_type": "markdown",
   "metadata": {},
   "source": [
    "In machine learning we define the loss fucntion $L = L(y, h_{\\theta}(X))$. This function is reponsible  for penalizing mistakes. The machine learning algorithm learns by minimizing this function. $\\theta$ are the paremeters of the models, $X$ is the trainning data, and $y$ are the labels. The term $h_{\\theta}(X)$ is the hypothesis.  We define the cost function $J(\\theta) = \\frac{1}{n} \\sum_{i=1}^n \\mathcal{L}(h_{\\theta}(x^{(i)}), y_i)$. Notices that the cost function $J(\\theta)$ depends of the trainning data $X$, $y$ as well, but is considered only a function of the parameters $\\theta$. Bellow is the cost function for Multiple Linear Regression:\n",
    "\n",
    "$\n",
    "J(\\theta) =  \\frac{1}{2n} \\left ( X \\theta - y \\right )^t\\left ( X \\theta - y \\right )\n",
    "$\n",
    "\n",
    "where $h_{\\theta}(X) = X \\theta$.\n",
    "\n",
    "From calculus, \n",
    "\n",
    "$\n",
    "d J(\\theta) = \\nabla_{\\theta} J(\\theta) * d\\theta\n",
    "$\n",
    "\n",
    "where $*$ is the scalar product. Because the $cos(a)$ function is maximum when $a=0$ - $a$ is the angle between $\\nabla_{\\theta} J(\\theta)$ and $d\\theta$, therefore $\\nabla_{\\theta} J(\\theta)$ and $d\\theta$ are aligned - we know that the opposite direction of the gradient point to the direction that minimizes the cost function $J(\\theta)$.\n",
    "\n",
    ">PS: The opposite direction $\\nabla_{\\theta}J(\\theta)$ minimizes the cost function. The gradient is a compass that instead of pointing North, is always pointing downhill.\n",
    "\n",
    "\n",
    "The algorithm is summarized as follow:\n",
    "    \n",
    "1. Start from a random point $\\theta = \\theta_0$\n",
    "\n",
    "1. Repeat the steps\n",
    "\n",
    "    1. update direction (find the direction to minimize $J(\\theta)$): $\\Delta \\theta = -\\eta \\nabla_{\\theta}J(\\theta)$\n",
    "    \n",
    "    1. update the position (keep changing the parameters to minimize $J(\\theta)$): $\\theta = \\theta + \\Delta \\theta$\n",
    "    \n",
    "where $\\eta$ is the **learning rate**. \n",
    "\n",
    "There are other gradienst variations. We will talk more about those variation in the next sections.\n"
   ]
  },
  {
   "cell_type": "markdown",
   "metadata": {},
   "source": [
    "## Examples of cost functions and their gradients"
   ]
  },
  {
   "cell_type": "markdown",
   "metadata": {},
   "source": [
    "The cost function can be defined in the matrix notation. The matrix notation simplifies the equations and makes it easy to implement the cost function and its gradients.\n",
    "\n",
    "In this notation, in order to consider bias term (intercept) in both regression - logistic and linear - we must add a column of ones in the matrix $X$. The equations is the matrix representation of dataset of $n$ samples and $p$ features. \n",
    "\n",
    "$ \n",
    "X = \\begin{bmatrix}\n",
    "1 & a_1 & b_1 & c_1 & \\ldots & p_1 \\\\\n",
    "1 & a_2 & b_2 & c_2 & \\ldots & p_2 \\\\\n",
    "1 & a_2 & b_3 & c_3 & \\ldots & p_3 \\\\\n",
    "\\vdots & \\vdots & \\ & \\ldots &  & \\vdots \\\\ \n",
    "1 & a_n & b_n & c_n & \\ldots & p_n\n",
    "\\end{bmatrix}\n",
    "$\n",
    "\n",
    "where each row is an observation and $a$, $b$, $c$ ... $p$ are the features considered in the regression. The vector of parameters $\\theta$, also called $W$ in deep learning, is a column vector of:\n",
    "\n",
    "$ \n",
    "\\theta = \\begin{bmatrix}\n",
    "\\theta_0 \\\\\n",
    "\\theta_1 \\\\\n",
    "\\theta_2 \\\\\n",
    "\\vdots  \\\\ \n",
    "\\theta_p\n",
    "\\end{bmatrix}\n",
    "$\n",
    "\n",
    "In the equations in this section, it is assumed that $X$ and $theta$ are in this form."
   ]
  },
  {
   "cell_type": "markdown",
   "metadata": {},
   "source": [
    "### Linear Regression: RMSE \n",
    "\n",
    "For linear regression problems we are going to present the **RMSE** cost function.\n"
   ]
  },
  {
   "cell_type": "markdown",
   "metadata": {},
   "source": [
    "$\n",
    "J(\\theta) = \\frac{1}{2n} \\sum_i^n \\left ( h_{\\theta}(x_i) - y_i \\right )^2\n",
    "$\n",
    "\n",
    "The equation above can be rewritten in a more concise way using the matrix notation.\n",
    "\n",
    "$\n",
    "J(\\theta) = \\frac{1}{2n} \\left ( X \\theta - y \\right )^t\\left ( X \\theta - y \\right )\n",
    "$\n",
    "\n",
    "And its gradient as:\n",
    "\n",
    "$\n",
    "\\nabla_{\\theta}J(\\theta) = \\frac{1}{n} X^t \\left ( X\\theta - y \\right )\n",
    "$\n"
   ]
  },
  {
   "cell_type": "code",
   "execution_count": 9,
   "metadata": {},
   "outputs": [],
   "source": [
    "# X: matrix nxd\n",
    "# y: column vector nx1\n",
    "# theta: column vector dx1\n",
    "\n",
    "def cost_func_linear_regression(theta: np.array, X: np.array, y: np.array) -> np.array:\n",
    "    \n",
    "    n = X.shape[0]\n",
    "    \n",
    "    # error: pred - y\n",
    "    z = np.matmul(X,theta) - y\n",
    "\n",
    "    return np.matmul(z.T,z)/2.0/n  # <== average of all loss MSE\n",
    "\n",
    "def gradient_linear_regression(theta: np.array, X: np.array, y: np.array) -> np.array:\n",
    "    \n",
    "    n = X.shape[0]\n",
    "    \n",
    "    # error: pred - y\n",
    "    z = np.matmul(X,theta) - y    \n",
    "    grad = np.matmul(X.T,z)\n",
    "        \n",
    "    return grad/n"
   ]
  },
  {
   "cell_type": "markdown",
   "metadata": {},
   "source": [
    "### Logistic Regression Sigmoid activation\n",
    "\n",
    "* vectorized formula of the cost function: https://ml-cheatsheet.readthedocs.io/en/latest/logistic_regression.html\n",
    "\n",
    "* Cost function is also called **Cross-entropy** or **log loss**\n"
   ]
  },
  {
   "cell_type": "markdown",
   "metadata": {},
   "source": [
    "$\n",
    "J(\\theta) = \\frac{1}{n} \\sum_i^n \\left ( y^i log(h_{\\theta}(x_i)) - (1 - y_i) log(1 - h_{\\theta}(x_i)) \\right ) \\\\\n",
    "J(\\theta) = - \\frac{1}{n} \\left ( y^t log(h(X\\theta)) + (1 - y)^t log(1 - h(X\\theta))  \\right )\n",
    "$\n",
    "\n",
    "$\n",
    "\\nabla_{\\theta}J(\\theta) = X^t \\left ( \\sigma(X\\theta) - y) \\right )\n",
    "$\n",
    "\n",
    "where:\n",
    "\n",
    "$\n",
    "h(X\\theta) = h(z) = \\sigma(z) \\equiv \\frac{1}{1 + e^{-z}} \\\\\n",
    "\\frac{\\partial}{\\partial z} \\sigma(z) = \\sigma(z) (1 - \\sigma(z))  \\\\\n",
    "z = X\\theta\n",
    "$\n"
   ]
  },
  {
   "cell_type": "code",
   "execution_count": 8,
   "metadata": {
    "code_folding": []
   },
   "outputs": [],
   "source": [
    "# X: matrix nxd\n",
    "# y: column vector nx1\n",
    "# theta: column vector dx1\n",
    "\n",
    "def cost_func_logistic_regression(theta: np.array, X: np.array, y: np.array) -> np.array:\n",
    "    \n",
    "    n = X.shape[0]\n",
    "    z = np.matmul(X,theta)  # nx1\n",
    "    h = 1.0/(1.0 + np.exp(-z))  # activation: nx1\n",
    "    \n",
    "    cost = (-1.0/n)*(np.matmul(y.T,np.log(h)) + np.matmul(1-y.T,np.log(1-h))) # scalar\n",
    "    \n",
    "    return cost\n",
    "\n",
    "def gradient_logistic_regression(theta: np.array, X: np.array, y: np.array)-> np.array:\n",
    "    \n",
    "    z = np.matmul(X,theta)\n",
    "    \n",
    "    # pred\n",
    "    h = 1.0/(1.0 + np.exp(-z))  # activation\n",
    "    \n",
    "    return np.matmul(X.T,h - y)"
   ]
  },
  {
   "cell_type": "markdown",
   "metadata": {},
   "source": [
    "## Simulated Data and auxiliar functions"
   ]
  },
  {
   "cell_type": "markdown",
   "metadata": {},
   "source": [
    "In this section, simulated data is produced to test the gradients descent implementation."
   ]
  },
  {
   "cell_type": "code",
   "execution_count": 6,
   "metadata": {
    "code_folding": [
     0
    ]
   },
   "outputs": [
    {
     "data": {
      "text/plain": [
       "(50, 2)"
      ]
     },
     "execution_count": 6,
     "metadata": {},
     "output_type": "execute_result"
    },
    {
     "data": {
      "text/plain": [
       "(50,)"
      ]
     },
     "execution_count": 6,
     "metadata": {},
     "output_type": "execute_result"
    },
    {
     "data": {
      "text/plain": [
       "array([[ 1.        , -1.        ],\n",
       "       [ 1.        , -0.95918367],\n",
       "       [ 1.        , -0.91836735]])"
      ]
     },
     "execution_count": 6,
     "metadata": {},
     "output_type": "execute_result"
    },
    {
     "name": "stdout",
     "output_type": "stream",
     "text": [
      "True parameters: [4. 5.]\n",
      "bayes error: 0.01\n"
     ]
    },
    {
     "data": {
      "image/png": "[encoded data removed]",
      "text/plain": [
       "<Figure size 432x288 with 1 Axes>"
      ]
     },
     "metadata": {
      "needs_background": "light"
     },
     "output_type": "display_data"
    }
   ],
   "source": [
    "def make_2d_linear_data(slope: float, intercept: float, noise: float, \n",
    "                        n_sanples: int, random: int = 2021):\n",
    "    \n",
    "    x = np.linspace(-1.0, 1.0, n).reshape(n,1)\n",
    "    \n",
    "    np.random.seed(random)\n",
    "    e = np.random.normal(0.0,noise,n).reshape(n,1)\n",
    "    \n",
    "    y = slope*x + intercept + e\n",
    "    y = y.reshape(n,)\n",
    "\n",
    "    _ones = np.ones((n,1))\n",
    "\n",
    "    x.shape\n",
    "\n",
    "    _ones.shape\n",
    "\n",
    "    X = np.hstack((_ones, x))\n",
    "    \n",
    "    return X,y, e\n",
    "\n",
    "slope = 5.0 \n",
    "intercept = 4.0\n",
    "noise = 0.1\n",
    "n = 50\n",
    "\n",
    "X,y, e = make_2d_linear_data(slope,intercept, noise, n)\n",
    "theta_true = np.array([intercept,slope])\n",
    "\n",
    "X.shape\n",
    "y.shape\n",
    "\n",
    "X[0:3]\n",
    "\n",
    "print(f\"True parameters: {theta_true}\")\n",
    "bayes_error = np.sum(np.matmul(e.T,e))/n  # <== mse\n",
    "print(f\"bayes error: {bayes_error:.2f}\")\n",
    "\n",
    "_ = plt.subplot(121);\n",
    "_ = plt.scatter(X[:,1],y);\n",
    "\n",
    "plt.show()"
   ]
  },
  {
   "cell_type": "markdown",
   "metadata": {},
   "source": [
    "## Batch Gradient descent\n",
    "\n"
   ]
  },
  {
   "cell_type": "markdown",
   "metadata": {},
   "source": [
    "Batch gradient descent computes the gradient using the whole dataset. "
   ]
  },
  {
   "cell_type": "code",
   "execution_count": 35,
   "metadata": {},
   "outputs": [],
   "source": [
    "def gradient_descent(X: np.array,y: np.array, \n",
    "                     cost_func: Callable[[np.array,np.array], np.array], \n",
    "                     gradient_func: Callable[[np.array,np.array], np.array], \n",
    "                     learning_rate: float, \n",
    "                     n_iterations: int, init_guess: np.array) -> dict:\n",
    "    \n",
    "    n = X.shape[0] # training size\n",
    "    d = X.shape[1]  # number of dimensions or paramters\n",
    "    \n",
    "    theta_history = np.zeros((n_iterations,d))\n",
    "    grad_history = np.zeros((n_iterations,d))\n",
    "    cost_history = np.zeros(n_iterations)\n",
    "    \n",
    "\n",
    "    theta = init_guess\n",
    "\n",
    "    for it in range(0,n_iterations):\n",
    "\n",
    "        # compute gradients and cost function\n",
    "        cost_at_theta = cost_func(theta,X,y)\n",
    "        gradient_at_theta = gradient_func(theta,X,y)\n",
    "\n",
    "        # log history for ploting\n",
    "        theta_history[it, :] = theta.T\n",
    "        grad_history[it,:] = gradient_at_theta.T\n",
    "        cost_history[it] = cost_at_theta\n",
    "        \n",
    "        # update parameters\n",
    "        dtheta = -learning_rate* gradient_at_theta\n",
    "        theta = theta + dtheta\n",
    "\n",
    "    history = {'theta': theta_history, \"cost\": cost_history, \"grad\": grad_history}\n",
    "\n",
    "    return theta, history"
   ]
  },
  {
   "cell_type": "markdown",
   "metadata": {},
   "source": [
    "### Training "
   ]
  },
  {
   "cell_type": "code",
   "execution_count": 36,
   "metadata": {},
   "outputs": [
    {
     "name": "stdout",
     "output_type": "stream",
     "text": [
      "True parameters: 32.69\n"
     ]
    },
    {
     "data": {
      "text/plain": [
       "(300, 1)"
      ]
     },
     "execution_count": 36,
     "metadata": {},
     "output_type": "execute_result"
    },
    {
     "data": {
      "text/plain": [
       "(300,)"
      ]
     },
     "execution_count": 36,
     "metadata": {},
     "output_type": "execute_result"
    },
    {
     "data": {
      "text/plain": [
       "<matplotlib.collections.PathCollection at 0x152076fa0>"
      ]
     },
     "execution_count": 36,
     "metadata": {},
     "output_type": "execute_result"
    },
    {
     "data": {
      "image/png": "[encoded data removed]",
      "text/plain": [
       "<Figure size 432x288 with 1 Axes>"
      ]
     },
     "metadata": {
      "needs_background": "light"
     },
     "output_type": "display_data"
    }
   ],
   "source": [
    "X, y, theta_true = make_regression(n_samples = 300, \n",
    "                       n_features=1, \n",
    "                       n_informative=1, \n",
    "                       noise=1,  # <== This is related with the bayes error. The minimum the cost function can converted\n",
    "                        coef=True,\n",
    "                       random_state=2021)\n",
    "\n",
    "print(f\"True parameters: {theta_true:.2f}\")\n",
    "\n",
    "X.shape\n",
    "y.shape\n",
    "plt.scatter(X,y)"
   ]
  },
  {
   "cell_type": "code",
   "execution_count": 37,
   "metadata": {},
   "outputs": [
    {
     "name": "stdout",
     "output_type": "stream",
     "text": [
      "\n",
      "Initial Guess it: 0 => theta: [50.]; grad: [17.66328858]; cost: 153.96\n",
      "it: 99 => theta: [32.7167683]; grad: [0.10120038]; cost: 0.45\n",
      "Expected theta:32.69\n",
      "CPU times: user 5.94 ms, sys: 2.37 ms, total: 8.31 ms\n",
      "Wall time: 13.1 ms\n"
     ]
    }
   ],
   "source": [
    "%%time\n",
    "lr = 0.05\n",
    "n_iter = 100\n",
    "\n",
    "init_guess = np.array([50.0])\n",
    "\n",
    "theta, history = gradient_descent(X, y, cost_func_linear_regression, gradient_linear_regression, \n",
    "                                  lr, n_iter, init_guess)\n",
    "\n",
    "print()\n",
    "theta0 = history['theta'][0]\n",
    "grad0 =  history['grad'][0]\n",
    "cost0 = history['cost'][0]\n",
    "\n",
    "print(f\"Initial Guess it: 0 => theta: {theta0}; grad: {grad0}; cost: {cost0:.2f}\")\n",
    "\n",
    "it = n_iter -1\n",
    "theta = history['theta'][it]\n",
    "grad =  history['grad'][it]\n",
    "cost = history['cost'][it]\n",
    "\n",
    "print(f\"it: {it} => theta: {theta}; grad: {grad}; cost: {cost:.2f}\")\n",
    "print(f\"Expected theta:{theta_true:.2f}\")"
   ]
  },
  {
   "cell_type": "markdown",
   "metadata": {},
   "source": [
    "### Checking the fit\n",
    "\n",
    "We can inspect our solution by ploting the prediction against the data."
   ]
  },
  {
   "cell_type": "code",
   "execution_count": 13,
   "metadata": {},
   "outputs": [
    {
     "data": {
      "image/png": "[encoded data removed]",
      "text/plain": [
       "<Figure size 432x288 with 1 Axes>"
      ]
     },
     "metadata": {
      "needs_background": "light"
     },
     "output_type": "display_data"
    }
   ],
   "source": [
    "y_pred0 = np.matmul(X,theta0)\n",
    "y_pred = np.matmul(X,theta)\n",
    "\n",
    "plt.plot(X,y_pred,c='black', label='fit');\n",
    "plt.plot(X,y_pred0,'r', label='Initial Guess');\n",
    "plt.plot(X,y,'b.', label='Data');\n",
    "plt.legend();"
   ]
  },
  {
   "cell_type": "markdown",
   "metadata": {},
   "source": [
    "### Cost Function and  learning rate "
   ]
  },
  {
   "cell_type": "markdown",
   "metadata": {},
   "source": [
    "Learning rates are central points in the algorithm. Good values of learning rate can make gradient descent find a local minimum quick on the other hand, bad values can lead to problems.\n",
    "\n",
    "1. large: loss will explode\n",
    "1. small: takes longer to learn\n",
    "1. need to find the optmum learning rate"
   ]
  },
  {
   "cell_type": "code",
   "execution_count": 14,
   "metadata": {},
   "outputs": [
    {
     "name": "stdout",
     "output_type": "stream",
     "text": [
      "CPU times: user 3.12 ms, sys: 5 µs, total: 3.12 ms\n",
      "Wall time: 3.13 ms\n"
     ]
    }
   ],
   "source": [
    "%%time\n",
    "lr = 2.0\n",
    "n_iter = 100\n",
    "\n",
    "theta_big, history_big = gradient_descent(X, y, cost_func_linear_regression, gradient_linear_regression, \n",
    "                                          lr, n_iter, init_guess)\n",
    "\n",
    "lr = 5e-3\n",
    "n_iter = 100\n",
    "\n",
    "theta, history_small = gradient_descent(X, y, cost_func_linear_regression, gradient_linear_regression, \n",
    "                                        lr, n_iter, init_guess)"
   ]
  },
  {
   "cell_type": "code",
   "execution_count": 15,
   "metadata": {},
   "outputs": [
    {
     "data": {
      "image/png": "[encoded data removed]",
      "text/plain": [
       "<Figure size 432x288 with 1 Axes>"
      ]
     },
     "metadata": {
      "needs_background": "light"
     },
     "output_type": "display_data"
    }
   ],
   "source": [
    "fig,ax = plt.subplots()\n",
    "_ = ax.plot(range(n_iter),history_small['cost'],'r',label='small lr');\n",
    "_ = ax.plot(range(n_iter),history['cost'],'b',label='better lr');\n",
    "_ = ax.plot(range(n_iter), history_big['cost'], 'g', label=\"lr big\");\n",
    "_ = ax.set_ylim([0, 300.0])\n",
    "ax.legend();"
   ]
  },
  {
   "cell_type": "markdown",
   "metadata": {},
   "source": [
    "The learning rate can be tune using a methodology describe in the section **8. TUNNING Learning Rate**"
   ]
  },
  {
   "cell_type": "markdown",
   "metadata": {},
   "source": [
    "### Changing bayes error\n",
    "\n",
    "\n",
    "The erro can be decomposed on bias, variance and  bayes error. The bayes erro is inreductivel. There fore the cost should converge to this value.\n",
    "\n",
    "\n",
    "\n",
    "$y = \\hat{y} + \\epsilon$\n",
    "\n",
    "* $\\epsilon$ is the bayes error \n",
    "* $\\epsilon \\sim N(h_{\\theta}(x),\\sigma^2)$  <== Our simulated data and, statistics have this assumption for Multiple Linear regression models. \n"
   ]
  },
  {
   "cell_type": "code",
   "execution_count": 18,
   "metadata": {},
   "outputs": [
    {
     "name": "stdout",
     "output_type": "stream",
     "text": [
      "True parameters: 32.69\n"
     ]
    },
    {
     "data": {
      "text/plain": [
       "(300, 1)"
      ]
     },
     "execution_count": 18,
     "metadata": {},
     "output_type": "execute_result"
    },
    {
     "data": {
      "text/plain": [
       "(300,)"
      ]
     },
     "execution_count": 18,
     "metadata": {},
     "output_type": "execute_result"
    },
    {
     "data": {
      "image/png": "[encoded data removed]",
      "text/plain": [
       "<Figure size 432x288 with 2 Axes>"
      ]
     },
     "metadata": {
      "needs_background": "light"
     },
     "output_type": "display_data"
    }
   ],
   "source": [
    "n_sample = 300\n",
    "std_low_bayes_error = 1\n",
    "\n",
    "X_low_bayes_error, y_low_bayes_error, theta_true = make_regression(n_samples = n_sample, \n",
    "                       n_features=1, \n",
    "                       n_informative=1, \n",
    "                       noise=std_low_bayes_error,  # <== Low bayes error\n",
    "                        coef=True,\n",
    "                       random_state=2021)\n",
    "\n",
    "print(f\"True parameters: {theta_true:.2f}\")\n",
    "\n",
    "\n",
    "std_high_bayes_error = 10\n",
    "X_high_bayes_error, y_high_bayes_error, theta_true = make_regression(n_samples = n_sample, \n",
    "                       n_features=1, \n",
    "                       n_informative=1, \n",
    "                       noise=std_high_bayes_error,  # <== High bayes error\n",
    "                        coef=True,\n",
    "                       random_state=2021)\n",
    "\n",
    "X_low_bayes_error.shape\n",
    "y_low_bayes_error.shape\n",
    "\n",
    "_ = plt.subplot(121);\n",
    "_ = plt.scatter(X_low_bayes_error,y_low_bayes_error);\n",
    "_ = plt.subplot(122);\n",
    "_ = plt.scatter(X_high_bayes_error,y_high_bayes_error);\n",
    "\n",
    "plt.show()"
   ]
  },
  {
   "cell_type": "code",
   "execution_count": 19,
   "metadata": {},
   "outputs": [
    {
     "name": "stdout",
     "output_type": "stream",
     "text": [
      "CPU times: user 5.81 ms, sys: 2.35 ms, total: 8.16 ms\n",
      "Wall time: 5.95 ms\n"
     ]
    }
   ],
   "source": [
    "%%time\n",
    "lr = 0.05\n",
    "n_iter = 100\n",
    "\n",
    "init_guess = np.array([50.0])\n",
    "\n",
    "theta, history_low_bayes_error = gradient_descent(X_low_bayes_error, y_low_bayes_error, cost_func_linear_regression, gradient_linear_regression, \n",
    "                                  lr, n_iter, init_guess)\n",
    "\n",
    "\n",
    "theta, history_high_bayes_error = gradient_descent(X_high_bayes_error, y_high_bayes_error, cost_func_linear_regression, gradient_linear_regression, \n",
    "                                  lr, n_iter, init_guess)\n"
   ]
  },
  {
   "cell_type": "code",
   "execution_count": 20,
   "metadata": {},
   "outputs": [
    {
     "data": {
      "text/plain": [
       "1"
      ]
     },
     "execution_count": 20,
     "metadata": {},
     "output_type": "execute_result"
    },
    {
     "data": {
      "text/plain": [
       "0.5"
      ]
     },
     "execution_count": 20,
     "metadata": {},
     "output_type": "execute_result"
    },
    {
     "data": {
      "text/plain": [
       "0.4498957115700963"
      ]
     },
     "execution_count": 20,
     "metadata": {},
     "output_type": "execute_result"
    },
    {
     "name": "stdout",
     "output_type": "stream",
     "text": [
      "\n"
     ]
    },
    {
     "data": {
      "text/plain": [
       "10"
      ]
     },
     "execution_count": 20,
     "metadata": {},
     "output_type": "execute_result"
    },
    {
     "data": {
      "text/plain": [
       "50.0"
      ]
     },
     "execution_count": 20,
     "metadata": {},
     "output_type": "execute_result"
    },
    {
     "data": {
      "text/plain": [
       "44.491052934509085"
      ]
     },
     "execution_count": 20,
     "metadata": {},
     "output_type": "execute_result"
    }
   ],
   "source": [
    "J_low_bayes_error = 1.0/2.0*pow(std_low_bayes_error,2)\n",
    "std_low_bayes_error\n",
    "J_low_bayes_error  # <= half of std^2\n",
    "\n",
    "history_low_bayes_error['cost'][-1]\n",
    "\n",
    "print()\n",
    "J_high_bayes_error = 1.0/2.0*pow(std_high_bayes_error,2)\n",
    "std_high_bayes_error\n",
    "J_high_bayes_error # <= half of std^2\n",
    "\n",
    "history_high_bayes_error['cost'][-1]"
   ]
  },
  {
   "cell_type": "code",
   "execution_count": 21,
   "metadata": {},
   "outputs": [
    {
     "data": {
      "image/png": "[encoded data removed]",
      "text/plain": [
       "<Figure size 432x288 with 1 Axes>"
      ]
     },
     "metadata": {
      "needs_background": "light"
     },
     "output_type": "display_data"
    }
   ],
   "source": [
    "fig,ax = plt.subplots()\n",
    "_ = ax.plot(range(n_iter),history_low_bayes_error['cost'],'r',label='cost: low bayes error');\n",
    "_ = ax.plot(range(n_iter),history_high_bayes_error['cost'],'b',label='cost:high bayes error');\n",
    "_ = ax.axhline(y=J_low_bayes_error, color='r', linestyle='--',label='Expected: low bayes error');\n",
    "_ = ax.axhline(y=J_high_bayes_error, color='b', linestyle='--',label='Expected: high bayes error');\n",
    "ax.legend();"
   ]
  },
  {
   "cell_type": "markdown",
   "metadata": {},
   "source": [
    "### Case: 2D feature space "
   ]
  },
  {
   "cell_type": "code",
   "execution_count": 26,
   "metadata": {},
   "outputs": [],
   "source": [
    "slope = 5.0 \n",
    "intercept = 4.0\n",
    "noise = 0.1\n",
    "n = 50\n",
    "\n",
    "X,y,_ = make_2d_linear_data(slope,intercept, noise, n)\n",
    "theta_true = np.array([intercept,slope])"
   ]
  },
  {
   "cell_type": "code",
   "execution_count": 27,
   "metadata": {},
   "outputs": [
    {
     "name": "stdout",
     "output_type": "stream",
     "text": [
      "\n",
      "Initial Guess it: 0 => theta: [-10. -10.]; grad: [-14.01099638  -5.19944385]; cost: 137.12\n",
      "it: 199 => theta: [4.01099637 4.97332617]; grad: [-1.09831868e-08 -4.61640576e-03]; cost: 0.00\n",
      "Expected theta:[4. 5.]\n",
      "CPU times: user 8.77 ms, sys: 4.73 ms, total: 13.5 ms\n",
      "Wall time: 11.7 ms\n"
     ]
    }
   ],
   "source": [
    "%%time\n",
    "lr =0.1\n",
    "n_iter = 200\n",
    "\n",
    "init_guess = np.array([-10.0, -10.0])\n",
    "\n",
    "theta, history = gradient_descent(X, y, cost_func_linear_regression, gradient_linear_regression, \n",
    "                                             lr, n_iter, init_guess)\n",
    "\n",
    "print()\n",
    "theta0 = history['theta'][0]\n",
    "grad0 =  history['grad'][0]\n",
    "cost0 = history['cost'][0]\n",
    "\n",
    "print(f\"Initial Guess it: 0 => theta: {theta0}; grad: {grad0}; cost: {cost0:.2f}\")\n",
    "\n",
    "it = n_iter -1\n",
    "theta = history['theta'][it]\n",
    "grad =  history['grad'][it]\n",
    "cost = history['cost'][it]\n",
    "\n",
    "print(f\"it: {it} => theta: {theta}; grad: {grad}; cost: {cost:.2f}\")\n",
    "print(f\"Expected theta:{theta_true}\")"
   ]
  },
  {
   "cell_type": "code",
   "execution_count": 28,
   "metadata": {},
   "outputs": [
    {
     "data": {
      "image/png": "[encoded data removed]",
      "text/plain": [
       "<Figure size 432x288 with 1 Axes>"
      ]
     },
     "metadata": {
      "needs_background": "light"
     },
     "output_type": "display_data"
    }
   ],
   "source": [
    "fig,ax = plt.subplots()\n",
    "_ = ax.plot(range(n_iter),history['cost'],'b',label='cost');\n",
    "ax.legend();"
   ]
  },
  {
   "cell_type": "markdown",
   "metadata": {},
   "source": [
    "Generating parameters space"
   ]
  },
  {
   "cell_type": "code",
   "execution_count": 29,
   "metadata": {},
   "outputs": [],
   "source": [
    "grid_size = 300\n",
    "theta1 = np.linspace(-10, 10, grid_size)\n",
    "theta2 = np.linspace(-10, 10, grid_size)\n",
    "\n",
    "Theta1,Theta2 = np.meshgrid(theta1,theta2)\n",
    "\n",
    "J_grid = np.zeros((grid_size,grid_size))\n",
    "theta = np.array([0.0,0.0]).T\n",
    "for r in range(0,grid_size):\n",
    "    \n",
    "    for c in range(0,grid_size):\n",
    "        \n",
    "        theta[0] = theta1[r]\n",
    "        theta[1] = theta2[c]\n",
    "        \n",
    "        J_grid[r,c] = cost_func_linear_regression(theta, X,y)"
   ]
  },
  {
   "cell_type": "code",
   "execution_count": 30,
   "metadata": {},
   "outputs": [
    {
     "data": {
      "image/png": "[encoded data removed]",
      "text/plain": [
       "<Figure size 432x288 with 1 Axes>"
      ]
     },
     "metadata": {
      "needs_background": "light"
     },
     "output_type": "display_data"
    }
   ],
   "source": [
    "cp = plt.contour(Theta1, Theta2, J_grid)\n",
    "\n",
    "thetas = [ history['theta'][k] for k in range(0, len(history['cost']),5) ] \n",
    "for j in range(1,len(thetas)):\n",
    "    _ = plt.annotate('', xy=thetas[j], xytext=thetas[j-1],\n",
    "                   arrowprops={'arrowstyle': '->', 'color': 'r', 'lw': 1},\n",
    "                   va='center', ha='center');\n",
    "\n",
    "plt.title('Contour Plot')\n",
    "plt.xlabel(r'$\\theta_1$')\n",
    "plt.ylabel(r'$\\theta_2$')\n",
    "plt.scatter(theta_true[0],theta_true[1])  # <= Expected true value\n",
    "plt.show();"
   ]
  },
  {
   "cell_type": "markdown",
   "metadata": {},
   "source": [
    "## Stochastic Gradient Descent\n",
    "\n",
    "In stochastic Gradient descent, instead of use the entire data $X$ to compute the gradients, we randonly peak one sample and use it to have an estimation of the gradients at that point. The estimation will not be accurate, but in average the algorithm will converge to an optimal solution. The algorithm is ilustrade bellow:\n",
    "\n",
    "The update formula is given by:\n",
    "\n",
    "\n",
    "$\n",
    "\\theta = \\theta - \\eta \\nabla_{\\theta}J(X_i)\n",
    "$\n",
    "\n",
    "\n",
    "* Start with initi guess: $\\theta$\n",
    "\n",
    "* for each iteration\n",
    "\n",
    "    1. random shuffle $X$\n",
    "    1. for i=0,1,..., n-1\n",
    "        1. Compute  $\\nabla_{\\theta}J(X_i)$\n",
    "        1. update the parameters $\\theta = \\theta - \\eta \\nabla_{\\theta}J(X_i)$\n"
   ]
  },
  {
   "cell_type": "code",
   "execution_count": 38,
   "metadata": {},
   "outputs": [],
   "source": [
    "def stochastic_gradient_descent(X: np.array,y: np.array, \n",
    "                     cost_func: Callable[[np.array,np.array], np.array], \n",
    "                     gradient_func: Callable[[np.array,np.array], np.array], \n",
    "                     learning_rate: float, \n",
    "                     n_iterations: int, init_guess: np.array) -> dict:\n",
    "    \n",
    "    n = X.shape[0]  # training size\n",
    "    d = X.shape[1]  # number of dimensions or paramters\n",
    "    \n",
    "    Xy = np.hstack((X,y.reshape((n,1))))\n",
    "    \n",
    "    theta_history = []\n",
    "    grad_history = []\n",
    "    cost_history = []\n",
    "     \n",
    "    theta = init_guess\n",
    "    for it in range(1,n_iterations):\n",
    "\n",
    "        cost = 0.0\n",
    "        \n",
    "        # shuffle data\n",
    "        rand_idx = np.random.randint(0, n, n )\n",
    "        data_shuffle = Xy[rand_idx,:]\n",
    "        \n",
    "        for i in range(n):\n",
    "\n",
    "            X_i = data_shuffle[i,:-1].reshape(1, d)\n",
    "            y_i = data_shuffle[i,-1]\n",
    "            \n",
    "            cost += cost_func(theta,X_i,y_i)\n",
    "            gradient_at_theta = gradient_func(theta,X_i,y_i)  # gradient approximation using 1 data point\n",
    "            \n",
    "            # log history for oploting\n",
    "            theta_history.append(theta.T)\n",
    "            grad_history.append(gradient_at_theta)\n",
    "            \n",
    "           # update parameters\n",
    "            dtheta = -learning_rate* gradient_at_theta\n",
    "\n",
    "            theta = theta + dtheta\n",
    "                \n",
    "        cost_history.append(cost/n)   # <= average loss in the epoch \n",
    "        \n",
    "    history = {'theta': theta_history, \"cost\": cost_history, \"grad\": grad_history}\n",
    "\n",
    "    return theta, history"
   ]
  },
  {
   "cell_type": "markdown",
   "metadata": {},
   "source": [
    "#### Case: 1D parameter sapce"
   ]
  },
  {
   "cell_type": "code",
   "execution_count": 39,
   "metadata": {},
   "outputs": [
    {
     "name": "stdout",
     "output_type": "stream",
     "text": [
      "True parameters: 26.52\n"
     ]
    },
    {
     "data": {
      "text/plain": [
       "(50, 1)"
      ]
     },
     "execution_count": 39,
     "metadata": {},
     "output_type": "execute_result"
    },
    {
     "data": {
      "text/plain": [
       "(50,)"
      ]
     },
     "execution_count": 39,
     "metadata": {},
     "output_type": "execute_result"
    },
    {
     "data": {
      "text/plain": [
       "<matplotlib.collections.PathCollection at 0x152eb2d90>"
      ]
     },
     "execution_count": 39,
     "metadata": {},
     "output_type": "execute_result"
    },
    {
     "data": {
      "image/png": "[encoded data removed]",
      "text/plain": [
       "<Figure size 432x288 with 1 Axes>"
      ]
     },
     "metadata": {
      "needs_background": "light"
     },
     "output_type": "display_data"
    }
   ],
   "source": [
    "# Simulating data\n",
    "X, y, theta_true = make_regression(n_samples = 50, \n",
    "                       n_features=1, \n",
    "                       n_informative=1, \n",
    "                       noise=1.0,\n",
    "                       coef=True,\n",
    "                       random_state=2021)\n",
    "\n",
    "print(f\"True parameters: {theta_true:.2f}\")\n",
    "\n",
    "X.shape\n",
    "y.shape\n",
    "plt.scatter(X,y)"
   ]
  },
  {
   "cell_type": "code",
   "execution_count": 40,
   "metadata": {},
   "outputs": [
    {
     "name": "stdout",
     "output_type": "stream",
     "text": [
      "\n",
      "Initial Guess it: 0 => theta: [20]; grad: [-0.18600079]; cost: 16.57\n",
      "it: 119 => theta: [26.50866704]; grad: [0.80460918]; cost: 0.54\n",
      "Expected theta:26.52\n",
      "CPU times: user 165 ms, sys: 6.18 ms, total: 171 ms\n",
      "Wall time: 171 ms\n"
     ]
    }
   ],
   "source": [
    "%%time\n",
    "lr =0.001\n",
    "n_iter = 120\n",
    "\n",
    "init_guess = np.array([20])\n",
    "\n",
    "theta, history = stochastic_gradient_descent(X, y, cost_func_linear_regression, gradient_linear_regression, \n",
    "                                             lr, n_iter, init_guess)\n",
    "\n",
    "print()\n",
    "theta0 = history['theta'][0]\n",
    "grad0 =  history['grad'][0]\n",
    "cost0 = history['cost'][0]\n",
    "\n",
    "print(f\"Initial Guess it: 0 => theta: {theta0}; grad: {grad0}; cost: {cost0:.2f}\")\n",
    "\n",
    "it = n_iter -1\n",
    "theta = history['theta'][-1]\n",
    "grad =  history['grad'][-1]\n",
    "cost = history['cost'][-1]\n",
    "\n",
    "print(f\"it: {it} => theta: {theta}; grad: {grad}; cost: {cost:.2f}\")\n",
    "print(f\"Expected theta:{theta_true:.2f}\")"
   ]
  },
  {
   "cell_type": "code",
   "execution_count": 44,
   "metadata": {},
   "outputs": [
    {
     "data": {
      "image/png": "[encoded data removed]",
      "text/plain": [
       "<Figure size 432x288 with 1 Axes>"
      ]
     },
     "metadata": {
      "needs_background": "light"
     },
     "output_type": "display_data"
    }
   ],
   "source": [
    "fig,ax = plt.subplots()\n",
    "\n",
    "cost = history['cost']\n",
    "    \n",
    "m = len(cost)\n",
    "x = np.linspace(0,n_iter,m)\n",
    "\n",
    "_ = ax.plot(x,cost,'b',label='cost');\n",
    "_ = ax.set_ylim([0, 4.0])\n",
    "ax.legend();"
   ]
  },
  {
   "cell_type": "code",
   "execution_count": 45,
   "metadata": {},
   "outputs": [
    {
     "data": {
      "image/png": "[encoded data removed]",
      "text/plain": [
       "<Figure size 432x288 with 1 Axes>"
      ]
     },
     "metadata": {
      "needs_background": "light"
     },
     "output_type": "display_data"
    }
   ],
   "source": [
    "fig,ax = plt.subplots()\n",
    "\n",
    "parameters = history['theta']\n",
    "    \n",
    "m = len(parameters)\n",
    "x = np.linspace(0,n_iter,m)\n",
    "    \n",
    "_ = ax.plot(x,parameters,'b',label='parameter');\n",
    "_ = ax.axhline(y=theta_true, color='k', linestyle='--',label='Expected: parameter');\n",
    "ax.legend();"
   ]
  },
  {
   "cell_type": "markdown",
   "metadata": {},
   "source": [
    "#### Case: 2D parameters space"
   ]
  },
  {
   "cell_type": "code",
   "execution_count": 46,
   "metadata": {},
   "outputs": [],
   "source": [
    "slope = 5.0 \n",
    "intercept = 4.0\n",
    "noise = 0.5\n",
    "n = 50\n",
    "\n",
    "X,y,_ = make_2d_linear_data(slope,intercept, noise, n)\n",
    "theta_true = np.array([intercept,slope])"
   ]
  },
  {
   "cell_type": "code",
   "execution_count": 47,
   "metadata": {},
   "outputs": [
    {
     "name": "stdout",
     "output_type": "stream",
     "text": [
      "\n",
      "Initial Guess it: 0 => theta: [-10. -10.]; grad: [-0.43347429  0.3803958 ]; cost: 109.68\n",
      "it: 29 => theta: [4.05686163 4.88635486]; grad: [-0.57379776  0.57379776]; cost: 0.12\n",
      "Expected theta:[4. 5.]\n",
      "CPU times: user 46.7 ms, sys: 1.79 ms, total: 48.5 ms\n",
      "Wall time: 48.5 ms\n"
     ]
    }
   ],
   "source": [
    "%%time\n",
    "lr = 0.01\n",
    "n_iter = 30\n",
    "\n",
    "init_guess = np.array([-10.0, -10.0])\n",
    "\n",
    "theta, history = stochastic_gradient_descent(X, y, cost_func_linear_regression, gradient_linear_regression, \n",
    "                                             lr, n_iter, init_guess)\n",
    "\n",
    "print()\n",
    "theta0 = history['theta'][0]\n",
    "grad0 =  history['grad'][0]\n",
    "cost0 = history['cost'][0]\n",
    "\n",
    "print(f\"Initial Guess it: 0 => theta: {theta0}; grad: {grad0}; cost: {cost0:.2f}\")\n",
    "\n",
    "it = n_iter -1\n",
    "theta = history['theta'][-1]\n",
    "grad =  history['grad'][-1]\n",
    "cost = history['cost'][-1]\n",
    "\n",
    "print(f\"it: {it} => theta: {theta}; grad: {grad}; cost: {cost:.2f}\")\n",
    "print(f\"Expected theta:{theta_true}\")"
   ]
  },
  {
   "cell_type": "code",
   "execution_count": 48,
   "metadata": {},
   "outputs": [
    {
     "data": {
      "image/png": "[encoded data removed]",
      "text/plain": [
       "<Figure size 432x288 with 1 Axes>"
      ]
     },
     "metadata": {
      "needs_background": "light"
     },
     "output_type": "display_data"
    }
   ],
   "source": [
    "fig,ax = plt.subplots()\n",
    "\n",
    "cost = history['cost']\n",
    "    \n",
    "m = len(cost)\n",
    "x = np.linspace(0,n_iter,m)\n",
    "    \n",
    "_ = ax.plot(x,cost,'b',label='cost');\n",
    "ax.legend();"
   ]
  },
  {
   "cell_type": "markdown",
   "metadata": {},
   "source": [
    "Generating parameters space"
   ]
  },
  {
   "cell_type": "code",
   "execution_count": 49,
   "metadata": {},
   "outputs": [],
   "source": [
    "grid_size = n_iter\n",
    "theta1 = np.linspace(-10, 10, grid_size)\n",
    "theta2 = np.linspace(-10, 10, grid_size)\n",
    "\n",
    "Theta1,Theta2 = np.meshgrid(theta1,theta2)\n",
    "\n",
    "J_grid = np.zeros((grid_size,grid_size))\n",
    "theta = np.array([0.0,0.0]).T\n",
    "for r in range(0,grid_size):\n",
    "    \n",
    "    for c in range(0,grid_size):\n",
    "        \n",
    "        theta[0] = theta1[r]\n",
    "        theta[1] = theta2[c]\n",
    "        \n",
    "        J_grid[r,c] = cost_func_linear_regression(theta, X,y)"
   ]
  },
  {
   "cell_type": "code",
   "execution_count": 51,
   "metadata": {},
   "outputs": [
    {
     "data": {
      "image/png": "[encoded data removed]",
      "text/plain": [
       "<Figure size 432x288 with 1 Axes>"
      ]
     },
     "metadata": {
      "needs_background": "light"
     },
     "output_type": "display_data"
    }
   ],
   "source": [
    "cp = plt.contour(Theta1, Theta2, J_grid)\n",
    "\n",
    "thetas = [ history['theta'][k] for k in range(0, len(history['theta']),20) ] \n",
    "for j in range(1,len(thetas)):\n",
    "    _ = plt.annotate('', xy=thetas[j], xytext=thetas[j-1],\n",
    "                   arrowprops={'arrowstyle': '->', 'color': 'r', 'lw': 1},\n",
    "                   va='center', ha='center');\n",
    "\n",
    "plt.title('Contour Plot')\n",
    "plt.xlabel(r'$\\theta_1$')\n",
    "plt.ylabel(r'$\\theta_2$')\n",
    "plt.scatter(theta_true[0],theta_true[1])  # <= Expected true value\n",
    "plt.show();"
   ]
  },
  {
   "cell_type": "markdown",
   "metadata": {},
   "source": [
    "## Mini Batch Gradient Descent\n",
    "\n",
    "\n",
    "res:\n",
    "* mini batch update formula: https://stats.stackexchange.com/questions/140811/how-large-should-the-batch-size-be-for-stochastic-gradient-descent\n",
    "\n",
    "* desambiguation: https://stats.stackexchange.com/questions/167088/stochastic-gradient-descent-vs-online-gradient-descent\n",
    "\n",
    "In the case of mini-batch, instead of making an update with gradients of one data point at a time, we calculate gradients of a batch of data points of size B. \n",
    "\n",
    "\n",
    "$\n",
    "\\theta = \\theta - \\eta(t) \\frac{1}{B} \\sum_{b=0}^{B - 1}  \\nabla J_{\\theta}(\\theta, m_b)\n",
    "$\n",
    "\n",
    "where $B$ is the cardinality of $m_b$ (the size of the batch).\n",
    "\n",
    "1. Batch gradient descent, $𝐵=|X|$\n",
    "1. Online stochastic gradient descent: $𝐵=1$\n",
    "1. Mini-batch stochastic gradient descent: $𝐵>1$ but $𝐵<|𝑥|$.\n",
    "\n",
    "> Note: in real life we're reading these training example data from memory and, due to cache pre-fetching and other memory tricks done by your computer, your algorithm will run faster if the memory accesses are coalesced, i.e. when you read the memory in order and don't jump around randomly. So, most SGD implementations shuffle the dataset and then load the examples into memory in the order that they'll be read.\n",
    "\n",
    "> NOte: Online stochastic gradient descent is not the same as Sthocastibc gradient descent. The forst use the most recently gradients to update the parameters while the latter usepic up a random point. \n",
    "\n",
    "The function $\\eta(t)$ is called learning rate schedule and it is constant in this notebook. \n",
    "\n",
    "\n",
    "> NOte: proper weight should be assigned to each mini-batch as a function of its size, when there are mini-batches with different size because number of training examples are not exatly divide by batch size."
   ]
  },
  {
   "cell_type": "code",
   "execution_count": 53,
   "metadata": {},
   "outputs": [],
   "source": [
    "def create_mini_batches(data_shuffle, batch_size):\n",
    "    \n",
    "    n = data_shuffle.shape[0]\n",
    "    mini_batches = []\n",
    "    \n",
    "    for k in np.arange(0, n, batch_size):\n",
    "        \n",
    "        X_mini = data_shuffle[k:k+batch_size,:-1]\n",
    "        y_mini = data_shuffle[k:k+batch_size,-1]\n",
    "        \n",
    "        mini_batches.append((X_mini,y_mini))\n",
    "    return mini_batches\n",
    "\n",
    "def mini_batch_gradient_descent(X: np.array,y: np.array, \n",
    "                     cost_func: Callable[[np.array,np.array], np.array], \n",
    "                     gradient_func: Callable[[np.array,np.array], np.array], \n",
    "                     learning_rate: float, \n",
    "                     n_iterations: int, \n",
    "                     batch_size: int,\n",
    "                     init_guess: np.array) -> dict:\n",
    "    \n",
    "    n = X.shape[0] # training size\n",
    "    d = X.shape[1]  # number of dimensions or paramters\n",
    "    \n",
    "    theta = init_guess\n",
    "\n",
    "    Xy = np.hstack((X,y.reshape((n,1))))\n",
    "        \n",
    "    theta_history = []\n",
    "    grad_history = []\n",
    "    cost_history = []\n",
    " \n",
    "    for it in range(1,n_iterations):\n",
    "        \n",
    "        data_shuffle = Xy.copy()\n",
    "        np.random.shuffle(data_shuffle)\n",
    "        \n",
    "        cost = 0.0\n",
    "        mini_batches = create_mini_batches(data_shuffle,batch_size)\n",
    "        \n",
    "        for X_mini, y_mini in mini_batches:\n",
    "\n",
    "            # compute the gradients and cost function\n",
    "            cost += cost_func(theta,X_mini,y_mini)\n",
    "            gradient_at_theta = gradient_func(theta,X_mini,y_mini)  # gradient approximation\n",
    "        \n",
    "            # log history for oploting\n",
    "            theta_history.append(theta.T)\n",
    "            grad_history.append(gradient_at_theta)\n",
    "            \n",
    "           # update parameters\n",
    "            dtheta = -learning_rate* gradient_at_theta\n",
    "\n",
    "            theta = theta + dtheta\n",
    "            \n",
    "        cost_history.append(cost/len(mini_batches)) # << average loss in the epoch \n",
    "\n",
    "    history = {'theta': theta_history, \"cost\": cost_history, \"grad\": grad_history}\n",
    "\n",
    "    return theta, history"
   ]
  },
  {
   "cell_type": "markdown",
   "metadata": {},
   "source": [
    "### Case: 2D feature space compare all approaches (Linear Regression)"
   ]
  },
  {
   "cell_type": "code",
   "execution_count": 54,
   "metadata": {},
   "outputs": [],
   "source": [
    "slope = 5.0 \n",
    "intercept = 4.0\n",
    "noise = 0.1\n",
    "n = 50\n",
    "\n",
    "X,y,_ = make_2d_linear_data(slope,intercept, noise, n)\n",
    "theta_true = np.array([intercept,slope])"
   ]
  },
  {
   "cell_type": "code",
   "execution_count": 55,
   "metadata": {},
   "outputs": [
    {
     "name": "stdout",
     "output_type": "stream",
     "text": [
      "#samples: 50\n",
      "sthocastic, bs: 1\n",
      "Initial Guess it: 0 => theta: [-10. -10.]; grad: [-16.09563875  -2.29937696]; cost: 71.11\n",
      "it: 149 => theta: [4.00485465 4.9856539 ]; grad: [-0.02859749 -0.01108882]; cost: 0.00\n",
      "Expected theta:[4. 5.]\n",
      "\n",
      "mini, bs: 12\n",
      "Initial Guess it: 0 => theta: [ -9. -10.]; grad: [-10.63049228  -3.36001783]; cost: 130.95\n",
      "it: 149 => theta: [4.00719305 4.89946225]; grad: [-0.0648019  -0.00561593]; cost: 0.01\n",
      "Expected theta:[4. 5.]\n",
      "\n",
      "vanila, bs: 50\n",
      "Initial Guess it: 0 => theta: [-10.  -9.]; grad: [-14.01099638  -4.85250508]; cost: 132.09\n",
      "it: 149 => theta: [ 3.30641977 -0.00410597]; grad: [-0.70457661 -1.73148062]; cost: 4.57\n",
      "Expected theta:[4. 5.]\n",
      "\n",
      "CPU times: user 251 ms, sys: 12.1 ms, total: 263 ms\n",
      "Wall time: 331 ms\n"
     ]
    }
   ],
   "source": [
    "%%time\n",
    "n_iter = 150\n",
    "\n",
    "print(f\"#samples: {n}\")\n",
    "\n",
    "init_guess = np.array([-10.0, -10.0])\n",
    "d1 = np.array\n",
    "\n",
    "history = dict()\n",
    "\n",
    "batch_sizes = [('sthocastic',1, 0.02,  np.array([-10.0, -10.0]) ),\n",
    "               ('mini',12, 0.02,  np.array([-9.0, -10.0])), \n",
    "               ('vanila',n, 0.02, np.array([-10.0, -9.0]) )]\n",
    "\n",
    "for name, bs, lr, init_guess in batch_sizes:\n",
    "\n",
    "    theta, history[name] = mini_batch_gradient_descent(X, y, cost_func_linear_regression, gradient_linear_regression, \n",
    "                                             lr, n_iter,bs, init_guess)\n",
    "\n",
    "    print(f\"{name}, bs: {bs}\")\n",
    "    theta0 = history[name]['theta'][0]\n",
    "    grad0 =  history[name]['grad'][0]\n",
    "    cost0 = history[name]['cost'][0]\n",
    "\n",
    "    print(f\"Initial Guess it: 0 => theta: {theta0}; grad: {grad0}; cost: {cost0:.2f}\")\n",
    "\n",
    "    it = n_iter -1\n",
    "    theta = history[name]['theta'][-1]\n",
    "    grad =  history[name]['grad'][-1]\n",
    "    cost = history[name]['cost'][-1]\n",
    "\n",
    "    print(f\"it: {it} => theta: {theta}; grad: {grad}; cost: {cost:.2f}\")\n",
    "    print(f\"Expected theta:{theta_true}\")\n",
    "    print()"
   ]
  },
  {
   "cell_type": "code",
   "execution_count": 57,
   "metadata": {},
   "outputs": [
    {
     "data": {
      "image/png": "[encoded data removed]",
      "text/plain": [
       "<Figure size 432x288 with 1 Axes>"
      ]
     },
     "metadata": {
      "needs_background": "light"
     },
     "output_type": "display_data"
    }
   ],
   "source": [
    "colors = ['b','k','g']\n",
    "\n",
    "fig,ax = plt.subplots()\n",
    "for idx, hyper_params in enumerate(batch_sizes):\n",
    "    \n",
    "    name, bs, lr,_ = hyper_params\n",
    "    \n",
    "    cost = history[name]['cost']\n",
    "    \n",
    "    m = len(cost)\n",
    "    x = np.linspace(0,n_iter,m)\n",
    "    \n",
    "    _ = ax.plot(x,cost,colors[idx],label=name);\n",
    "\n",
    "_ = ax.set_ylabel(\"Cost\")\n",
    "_ = ax.set_ylabel(\"Epoch\")\n",
    "ax.legend();"
   ]
  },
  {
   "cell_type": "markdown",
   "metadata": {},
   "source": [
    "* **Confirming fit**"
   ]
  },
  {
   "cell_type": "code",
   "execution_count": 58,
   "metadata": {},
   "outputs": [
    {
     "data": {
      "image/png": "[encoded data removed]",
      "text/plain": [
       "<Figure size 432x288 with 1 Axes>"
      ]
     },
     "metadata": {
      "needs_background": "light"
     },
     "output_type": "display_data"
    }
   ],
   "source": [
    "name = 'mini'\n",
    "\n",
    "theta = history[name]['theta'][-1]\n",
    "y_pred0 = np.matmul(X,init_guess)\n",
    "y_pred = np.matmul(X,theta)\n",
    "\n",
    "y_pred.shape\n",
    "\n",
    "plt.plot(X[:,1],y_pred,c='black', label='fit');\n",
    "plt.plot(X[:,1],y_pred0,'r', label='Initial Guess');\n",
    "plt.plot(X[:,1],y,'b.', label='Data');\n",
    "plt.legend();"
   ]
  },
  {
   "cell_type": "code",
   "execution_count": 59,
   "metadata": {},
   "outputs": [],
   "source": [
    "# Generatin 2d feature space\n",
    "grid_size = 500\n",
    "\n",
    "theta1 = np.linspace(-10.0, 10.0, grid_size)\n",
    "theta2 = np.linspace(-10.0, 10.0, grid_size)\n",
    "\n",
    "Theta1,Theta2 = np.meshgrid(theta1,theta2)\n",
    "\n",
    "J_grid = np.zeros((grid_size,grid_size))\n",
    "theta = np.array([0.0,0.0]).T\n",
    "\n",
    "for r in range(0,grid_size):\n",
    "    \n",
    "    for c in range(0,grid_size):\n",
    "        \n",
    "        theta[0] = theta1[r]\n",
    "        theta[1] = theta2[c]\n",
    "        \n",
    "        #J_grid[r,c] = parabola(theta)\n",
    "        J_grid[r,c] = cost_func_linear_regression(theta, X,y)"
   ]
  },
  {
   "cell_type": "code",
   "execution_count": 60,
   "metadata": {},
   "outputs": [
    {
     "data": {
      "image/png": "[encoded data removed]",
      "text/plain": [
       "<Figure size 432x288 with 1 Axes>"
      ]
     },
     "metadata": {
      "needs_background": "light"
     },
     "output_type": "display_data"
    }
   ],
   "source": [
    "cp = plt.contour(Theta1, Theta2, J_grid)\n",
    "colors = ['b','k','firebrick']\n",
    "\n",
    "for idx, hyper_params in enumerate(batch_sizes):\n",
    "    name, bs, lr,init_guess = hyper_params\n",
    "    \n",
    "    theta_x = [ history[name]['theta'][k][0] for k in range(0, len(history[name]['theta']),1) ]\n",
    "    theta_y = [ history[name]['theta'][k][1] for k in range(0, len(history[name]['theta']),1) ]\n",
    "    \n",
    "    plt.plot(theta_x, theta_y, color=colors[idx], marker='.', markersize=1, label=name)\n",
    "\n",
    "plt.title('Contour Plot')\n",
    "plt.xlabel(r'$\\theta_1$')\n",
    "plt.ylabel(r'$\\theta_2$')\n",
    "plt.scatter(intercept,slope)  # <= Expected true value\n",
    "plt.grid(axis='x', color='0.95')\n",
    "plt.grid(axis='y', color='0.95')\n",
    "plt.legend()\n",
    "plt.show();"
   ]
  },
  {
   "cell_type": "markdown",
   "metadata": {},
   "source": [
    "## TUNING Learning rate \n",
    "\n",
    "https://miguel-data-sc.github.io/2017-11-05-first/\n",
    "https://arxiv.org/abs/1506.01186\n",
    "\n",
    "1. learning rate finding \n",
    "1. learnig rate find vs batchs size\n",
    "\n",
    "Needs to introduce learning rate shdedule $\\eta = \\eta(t)$ in mini batch algo"
   ]
  },
  {
   "cell_type": "code",
   "execution_count": 69,
   "metadata": {},
   "outputs": [],
   "source": [
    "from abc import ABC, abstractmethod\n",
    "\n",
    "class LearningRateScheduler(ABC):\n",
    "\n",
    "    def __init__(self, lr0: float ):\n",
    "        \n",
    "        self._lr0 = lr0\n",
    "        \n",
    "    @abstractmethod\n",
    "    def run(it: int) -> float: \n",
    "        return\n",
    "    \n",
    "class ConstLearningRateScheduler(LearningRateScheduler):\n",
    "    \n",
    "    def run(self, it: int) -> float: \n",
    "        return self._lr0\n",
    "    \n",
    "class FindLearningRateScheduler(LearningRateScheduler):\n",
    "    \n",
    "    def __init__(self, lr0: float, number_of_lr_per_order: int = 4 ):\n",
    "    \n",
    "        super().__init__(lr0)\n",
    "        \n",
    "        self._lr0 = lr0\n",
    "        self._number_of_lr_per_order = number_of_lr_per_order\n",
    "    \n",
    "    def run(self, it: int) -> float: \n",
    "        \n",
    "        lr = self._lr0*(10**(it/self._number_of_lr_per_order))\n",
    "        \n",
    "        return lr"
   ]
  },
  {
   "cell_type": "code",
   "execution_count": 70,
   "metadata": {},
   "outputs": [],
   "source": [
    "n_iter = 55\n",
    "\n",
    "lr_scheduler = FindLearningRateScheduler(1e-5,number_of_lr_per_order=10)\n",
    "\n",
    "lrs = np.zeros((n_iter,))\n",
    "for it in range(n_iter):\n",
    "    \n",
    "    lrs[it] = lr_scheduler.run(it)\n",
    "    "
   ]
  },
  {
   "cell_type": "code",
   "execution_count": 71,
   "metadata": {},
   "outputs": [
    {
     "data": {
      "image/png": "[encoded data removed]",
      "text/plain": [
       "<Figure size 432x288 with 1 Axes>"
      ]
     },
     "metadata": {
      "needs_background": "light"
     },
     "output_type": "display_data"
    }
   ],
   "source": [
    "fig,ax = plt.subplots()\n",
    "_ = ax.plot(range(n_iter),lrs,'b',label='learning rate scheduler');\n",
    "ax.legend();"
   ]
  },
  {
   "cell_type": "code",
   "execution_count": 72,
   "metadata": {},
   "outputs": [
    {
     "data": {
      "image/png": "[encoded data removed]",
      "text/plain": [
       "<Figure size 432x288 with 1 Axes>"
      ]
     },
     "metadata": {
      "needs_background": "light"
     },
     "output_type": "display_data"
    }
   ],
   "source": [
    "plt.subplots()\n",
    "plt.plot(range(n_iter),lrs,'b',label='learning rate scheduler');\n",
    "plt.yscale('log');\n",
    "plt.legend();\n",
    "plt.title('log');\n",
    "plt.grid(True);"
   ]
  },
  {
   "cell_type": "code",
   "execution_count": 73,
   "metadata": {},
   "outputs": [],
   "source": [
    "def create_mini_batches(data_shuffle, batch_size):\n",
    "    \n",
    "    n = data_shuffle.shape[0]\n",
    "    mini_batches = []\n",
    "    \n",
    "    for k in np.arange(0, n, batch_size):\n",
    "        \n",
    "        X_mini = data_shuffle[k:k+batch_size,:-1]\n",
    "        y_mini = data_shuffle[k:k+batch_size,-1]\n",
    "        \n",
    "        mini_batches.append((X_mini,y_mini))\n",
    "    return mini_batches\n",
    "\n",
    "def mini_batch_gradient_descent(X,y, cost_func, gradient_func, \n",
    "                                learning_rate_scheduler: Callable[[float,int], float],\n",
    "                                n_iterations: int,\n",
    "                                batch_size: int, \n",
    "                                init_guess: np.array,seed: int =1):\n",
    "    \n",
    "    n = X.shape[0] # training size\n",
    "    d = X.shape[1]  # number of dimensions or paramters\n",
    "    \n",
    "    # init guess\n",
    "    if init_guess is None:\n",
    "        theta = np.random.randn(d)\n",
    "        \n",
    "    else:\n",
    "        theta = init_guess\n",
    "\n",
    "\n",
    "    Xy = np.hstack((X,y.reshape((n,1))))\n",
    "        \n",
    "    theta_history = []\n",
    "    grad_history = []\n",
    "    cost_history = []\n",
    " \n",
    "    #print(f\"theta0: {theta}\")\n",
    "    for it in range(0,n_iterations):\n",
    "        \n",
    "        #rand_idx = np.random.randint(0, n, n )\n",
    "        #data_shuffle = Xy[rand_idx,:]\n",
    "        \n",
    "        data_shuffle = Xy.copy()\n",
    "        np.random.shuffle(data_shuffle)\n",
    "        \n",
    "        cost = 0.0\n",
    "        mini_batches = create_mini_batches(data_shuffle,batch_size)\n",
    "        \n",
    "        for X_mini, y_mini in mini_batches:\n",
    "\n",
    "            # compute the gradients and cost function\n",
    "            \n",
    "            #cost_at_theta = cost_func(theta,X_mini,y_mini)\n",
    "            cost += cost_func(theta,X_mini,y_mini)\n",
    "            gradient_at_theta = gradient_func(theta,X_mini,y_mini)  # gradient approximation using 1 data point\n",
    "            \n",
    "\n",
    "            # log history for oploting\n",
    "            theta_history.append(theta.T)\n",
    "            grad_history.append(gradient_at_theta)\n",
    "            \n",
    "           # update parameters\n",
    "            learning_rate = learning_rate_scheduler.run(it)\n",
    "            dtheta = -learning_rate* gradient_at_theta\n",
    "\n",
    "            theta = theta + dtheta\n",
    "            \n",
    "        cost_history.append(cost/len(mini_batches)) # << average loss in the epoch \n",
    "\n",
    "    history = {'theta': theta_history, \"cost\": cost_history, \"grad\": grad_history}\n",
    "\n",
    "    return theta, history"
   ]
  },
  {
   "cell_type": "code",
   "execution_count": 74,
   "metadata": {},
   "outputs": [
    {
     "data": {
      "image/png": "[encoded data removed]",
      "text/plain": [
       "<Figure size 432x288 with 1 Axes>"
      ]
     },
     "metadata": {
      "needs_background": "light"
     },
     "output_type": "display_data"
    }
   ],
   "source": [
    "# other options are also available\n",
    "X, y = make_classification(\n",
    "    n_samples=100, \n",
    "    n_classes=2,\n",
    "    n_clusters_per_class=1,\n",
    "    n_features=2,\n",
    "    n_redundant = 0,\n",
    "    n_informative = 2,\n",
    "    n_repeated = 0,\n",
    "    weights=[0.5,0.5], # balanced classes\n",
    "    flip_y=0.001, # add noisy the default value for flip_y is 0.1%\n",
    "    class_sep=1.7, # class_sep is 1.0. The lower the value, the harder classification is.\n",
    "    random_state=2020) \n",
    "\n",
    "ax = sns.scatterplot(X[:,0],X[:,1],hue=y);\n",
    "ax.set_title(\"Dataset\");"
   ]
  },
  {
   "cell_type": "code",
   "execution_count": 75,
   "metadata": {},
   "outputs": [
    {
     "name": "stdout",
     "output_type": "stream",
     "text": [
      "Initial Guess it: 0 => theta: [1.  0.5]; grad: [ 2.46180965 -2.11780916]; cost: 1.10\n",
      "it: 199 => theta: [-0.02352229  0.19788771]; grad: [7.42818314e-05 6.78048566e-05]; cost: 0.16\n",
      "Expected theta:[4. 5.]\n",
      "\n"
     ]
    }
   ],
   "source": [
    "lr = 0.1\n",
    "n_iter = 200\n",
    "bs = 100\n",
    "\n",
    "lr_scheduler = ConstLearningRateScheduler(lr)\n",
    "\n",
    "init_guess = np.array([1.0,0.5])\n",
    "\n",
    "theta, history = mini_batch_gradient_descent(X, y, cost_func_linear_regression, gradient_linear_regression, \n",
    "                                             lr_scheduler, n_iter,bs, init_guess)\n",
    "\n",
    "\n",
    "theta0 = history['theta'][0]\n",
    "grad0 =  history['grad'][0]\n",
    "cost0 = history['cost'][0]\n",
    "\n",
    "print(f\"Initial Guess it: 0 => theta: {theta0}; grad: {grad0}; cost: {cost0:.2f}\")\n",
    "\n",
    "it = n_iter -1\n",
    "theta = history['theta'][-1]\n",
    "grad =  history['grad'][-1]\n",
    "cost = history['cost'][-1]\n",
    "\n",
    "print(f\"it: {it} => theta: {theta}; grad: {grad}; cost: {cost:.2f}\")\n",
    "print(f\"Expected theta:{theta_true}\")\n",
    "print()"
   ]
  },
  {
   "cell_type": "code",
   "execution_count": 76,
   "metadata": {},
   "outputs": [
    {
     "data": {
      "image/png": "[encoded data removed]",
      "text/plain": [
       "<Figure size 432x288 with 1 Axes>"
      ]
     },
     "metadata": {
      "needs_background": "light"
     },
     "output_type": "display_data"
    }
   ],
   "source": [
    "cost = history['cost']\n",
    "    \n",
    "    \n",
    "m = len(cost)\n",
    "x = np.linspace(0,n_iter,m)\n",
    "    \n",
    "fig,ax = plt.subplots()\n",
    "_ = ax.plot(x,cost,'b',label='cost');\n",
    "_ = ax.set_ylabel(\"Cost\")\n",
    "_ = ax.set_ylabel(\"Epoch\")\n",
    "ax.legend();"
   ]
  },
  {
   "cell_type": "code",
   "execution_count": 77,
   "metadata": {},
   "outputs": [
    {
     "name": "stdout",
     "output_type": "stream",
     "text": [
      "Initial Guess it: 0 => theta: [1.  0.5]; grad: [ 2.46180965 -2.11780916]; cost: 1.10\n",
      "it: 53 => theta: [-0.45956011  0.70088545]; grad: [-3.09255999  3.3984169 ]; cost: 1.69\n",
      "Expected theta:[4. 5.]\n",
      "\n"
     ]
    }
   ],
   "source": [
    "n_iter = 54\n",
    "bs = 100\n",
    "\n",
    "lr_scheduler = FindLearningRateScheduler(1e-5,number_of_lr_per_order=10)\n",
    "\n",
    "init_guess = np.array([1.0,0.5])\n",
    "\n",
    "theta, history = mini_batch_gradient_descent(X, y, cost_func_linear_regression, gradient_linear_regression, \n",
    "                                             lr_scheduler, n_iter,bs, init_guess)\n",
    "\n",
    "\n",
    "theta0 = history['theta'][0]\n",
    "grad0 =  history['grad'][0]\n",
    "cost0 = history['cost'][0]\n",
    "\n",
    "print(f\"Initial Guess it: 0 => theta: {theta0}; grad: {grad0}; cost: {cost0:.2f}\")\n",
    "\n",
    "it = n_iter -1\n",
    "theta = history['theta'][-1]\n",
    "grad =  history['grad'][-1]\n",
    "cost = history['cost'][-1]\n",
    "\n",
    "print(f\"it: {it} => theta: {theta}; grad: {grad}; cost: {cost:.2f}\")\n",
    "print(f\"Expected theta:{theta_true}\")\n",
    "print()"
   ]
  },
  {
   "cell_type": "code",
   "execution_count": 78,
   "metadata": {},
   "outputs": [
    {
     "name": "stdout",
     "output_type": "stream",
     "text": [
      "first 5 lrs: [1.00000000e-05 1.25892541e-05 1.58489319e-05 1.99526231e-05\n",
      " 2.51188643e-05]\n",
      "last 5 lrs: [0.79432823 1.         1.25892541 1.58489319 1.99526231]\n",
      "last 5 cost: [0.16923198299949826, 0.16242434361657435, 0.1589434993911103, 0.1726004425914452, 1.685589737833711]\n"
     ]
    },
    {
     "data": {
      "image/png": "[encoded data removed]",
      "text/plain": [
       "<Figure size 432x288 with 1 Axes>"
      ]
     },
     "metadata": {
      "needs_background": "light"
     },
     "output_type": "display_data"
    }
   ],
   "source": [
    "lrs = np.zeros((n_iter,))\n",
    "for it in range(n_iter):\n",
    "    \n",
    "    lrs[it] = lr_scheduler.run(it)\n",
    "\n",
    "\n",
    "cost = history['cost'] \n",
    "print(f\"first 5 lrs: {lrs[0:5]}\")\n",
    "print(f\"last 5 lrs: {lrs[-5:]}\")\n",
    "print(f\"last 5 cost: {cost[-5:]}\")\n",
    "\n",
    "\n",
    "plt.subplots()\n",
    "plt.plot(lrs,cost,'b',label='cost');\n",
    "plt.xscale('log');\n",
    "plt.ylim(0.0,2.0);\n",
    "plt.legend();\n",
    "plt.title('Learning Rate Finder');\n",
    "plt.grid(True);"
   ]
  },
  {
   "cell_type": "code",
   "execution_count": 79,
   "metadata": {},
   "outputs": [
    {
     "data": {
      "text/plain": [
       "array([1. , 0.5])"
      ]
     },
     "execution_count": 79,
     "metadata": {},
     "output_type": "execute_result"
    },
    {
     "data": {
      "text/plain": [
       "100"
      ]
     },
     "execution_count": 79,
     "metadata": {},
     "output_type": "execute_result"
    },
    {
     "name": "stdout",
     "output_type": "stream",
     "text": [
      "manual, lr: 0.01\n",
      "Initial Guess it: 0 => theta: [1.  0.5]; grad: [ 2.46180965 -2.11780916]; cost: 1.10\n",
      "it: 299 => theta: [0.18585499 0.38900841]; grad: [0.08524474 0.07781186]; cost: 0.17\n",
      "accuracy: 0.94\n",
      "\n",
      "tuned lr, lr: 0.2\n",
      "Initial Guess it: 0 => theta: [1.  0.5]; grad: [ 2.46180965 -2.11780916]; cost: 1.10\n",
      "it: 299 => theta: [-0.0237049   0.19772102]; grad: [2.76054291e-12 2.51982213e-12]; cost: 0.16\n",
      "accuracy: 0.97\n",
      "\n"
     ]
    }
   ],
   "source": [
    "sim = [('manual', 0.01),\n",
    "       ('tuned lr',0.2 )]\n",
    "\n",
    "n_iter = 300\n",
    "init_guess\n",
    "bs\n",
    "\n",
    "for name, lr in sim:\n",
    "\n",
    "    lr_scheduler = ConstLearningRateScheduler(lr)\n",
    "    \n",
    "    theta, history[name] = mini_batch_gradient_descent(X, y, cost_func_linear_regression, gradient_linear_regression, \n",
    "                                             lr_scheduler, n_iter,bs, init_guess)\n",
    "\n",
    "\n",
    "    print(f\"{name}, lr: {lr}\")\n",
    "    theta0 = history[name]['theta'][0]\n",
    "    grad0 =  history[name]['grad'][0]\n",
    "    cost0 = history[name]['cost'][0]\n",
    "\n",
    "    print(f\"Initial Guess it: 0 => theta: {theta0}; grad: {grad0}; cost: {cost0:.2f}\")\n",
    "\n",
    "    it = n_iter -1\n",
    "    theta = history[name]['theta'][-1]\n",
    "    grad =  history[name]['grad'][-1]\n",
    "    cost = history[name]['cost'][-1]\n",
    "\n",
    "    print(f\"it: {it} => theta: {theta}; grad: {grad}; cost: {cost:.2f}\")\n",
    "    \n",
    "    z = np.matmul(X,theta)  # nx1\n",
    "    h = 1.0/(1.0 + np.exp(-z))\n",
    "    y_pred = h > 0.5\n",
    "\n",
    "    acc = accuracy_score(y, y_pred)\n",
    "    print(f\"accuracy: {acc}\")\n",
    "    \n",
    "    #print(f\"Expected theta:{theta_true}\")\n",
    "    print()\n"
   ]
  },
  {
   "cell_type": "code",
   "execution_count": 80,
   "metadata": {},
   "outputs": [
    {
     "data": {
      "image/png": "[encoded data removed]",
      "text/plain": [
       "<Figure size 432x288 with 1 Axes>"
      ]
     },
     "metadata": {
      "needs_background": "light"
     },
     "output_type": "display_data"
    }
   ],
   "source": [
    "colors = ['b','k','g']\n",
    "\n",
    "fig,ax = plt.subplots()\n",
    "for idx, hyper_params in enumerate(sim):\n",
    "    \n",
    "    name, lr = hyper_params= hyper_params\n",
    "    \n",
    "    cost = history[name]['cost']\n",
    "    \n",
    "    m = len(cost)\n",
    "    x = np.linspace(0,n_iter,m)\n",
    "    \n",
    "    _ = ax.plot(x,cost,colors[idx],label=name);\n",
    "    \n",
    "#_ = ax.set_ylim([6, 8])\n",
    "_ = ax.set_ylabel(\"Cost\")\n",
    "_ = ax.set_ylabel(\"Epoch\")\n",
    "ax.legend();"
   ]
  },
  {
   "cell_type": "markdown",
   "metadata": {},
   "source": [
    "## Gradient Exploding\n",
    "\n",
    "In this section we are going to show that in the presence of outliers, gradient descent can become unstable and the gradients can increase and explode to numerical precision of the computer. The stochastic gradients descent is the most sensible to oultiers because the computation of the gradient depends only the one sample.\n"
   ]
  },
  {
   "cell_type": "code",
   "execution_count": 85,
   "metadata": {},
   "outputs": [
    {
     "data": {
      "text/plain": [
       "(50, 2)"
      ]
     },
     "execution_count": 85,
     "metadata": {},
     "output_type": "execute_result"
    },
    {
     "data": {
      "text/plain": [
       "(51, 2)"
      ]
     },
     "execution_count": 85,
     "metadata": {},
     "output_type": "execute_result"
    },
    {
     "data": {
      "text/plain": [
       "(50,)"
      ]
     },
     "execution_count": 85,
     "metadata": {},
     "output_type": "execute_result"
    },
    {
     "data": {
      "text/plain": [
       "(51,)"
      ]
     },
     "execution_count": 85,
     "metadata": {},
     "output_type": "execute_result"
    },
    {
     "name": "stdout",
     "output_type": "stream",
     "text": [
      "True parameters: [4. 5.]\n"
     ]
    },
    {
     "data": {
      "image/png": "[encoded data removed]",
      "text/plain": [
       "<Figure size 432x288 with 1 Axes>"
      ]
     },
     "metadata": {
      "needs_background": "light"
     },
     "output_type": "display_data"
    }
   ],
   "source": [
    "slope = 5.0 \n",
    "intercept = 4.0\n",
    "noise = 0.1\n",
    "n = 50\n",
    "\n",
    "X,y,_ = make_2d_linear_data(slope,intercept, noise, n)\n",
    "theta_true = np.array([intercept,slope])\n",
    "\n",
    "outlier_X = [1., 15]\n",
    "outlier_y = 0.0\n",
    "\n",
    "X1 = np.vstack((X,outlier_X))\n",
    "y1 = np.hstack((y,outlier_y))\n",
    "\n",
    "X.shape\n",
    "X1.shape\n",
    "\n",
    "y.shape\n",
    "y1.shape\n",
    "\n",
    "print(f\"True parameters: {theta_true}\")\n",
    "\n",
    "_ = plt.subplot(121);\n",
    "_ = plt.scatter(X1[:,1],y1);\n",
    "\n",
    "plt.show()"
   ]
  },
  {
   "cell_type": "code",
   "execution_count": 86,
   "metadata": {},
   "outputs": [
    {
     "ename": "AttributeError",
     "evalue": "'float' object has no attribute 'run'",
     "output_type": "error",
     "traceback": [
      "\u001b[0;31m---------------------------------------------------------------------------\u001b[0m",
      "\u001b[0;31mAttributeError\u001b[0m                            Traceback (most recent call last)",
      "\u001b[0;32m<ipython-input-86-e3ca3b3074be>\u001b[0m in \u001b[0;36m<module>\u001b[0;34m\u001b[0m\n\u001b[1;32m     15\u001b[0m     \u001b[0mX_sim\u001b[0m\u001b[0;34m,\u001b[0m\u001b[0my_sim\u001b[0m \u001b[0;34m=\u001b[0m \u001b[0mdata\u001b[0m\u001b[0;34m\u001b[0m\u001b[0;34m\u001b[0m\u001b[0m\n\u001b[1;32m     16\u001b[0m \u001b[0;34m\u001b[0m\u001b[0m\n\u001b[0;32m---> 17\u001b[0;31m     theta, history[name] = mini_batch_gradient_descent(X_sim, y_sim, cost_func_linear_regression, gradient_linear_regression, \n\u001b[0m\u001b[1;32m     18\u001b[0m                                              lr, n_iter,bs, init_guess)\n\u001b[1;32m     19\u001b[0m     \u001b[0mprint\u001b[0m\u001b[0;34m(\u001b[0m\u001b[0;34m)\u001b[0m\u001b[0;34m\u001b[0m\u001b[0;34m\u001b[0m\u001b[0m\n",
      "\u001b[0;32m<ipython-input-73-968aeefbd5f8>\u001b[0m in \u001b[0;36mmini_batch_gradient_descent\u001b[0;34m(X, y, cost_func, gradient_func, learning_rate_scheduler, n_iterations, batch_size, init_guess, seed)\u001b[0m\n\u001b[1;32m     61\u001b[0m \u001b[0;34m\u001b[0m\u001b[0m\n\u001b[1;32m     62\u001b[0m            \u001b[0;31m# update parameters\u001b[0m\u001b[0;34m\u001b[0m\u001b[0;34m\u001b[0m\u001b[0m\n\u001b[0;32m---> 63\u001b[0;31m             \u001b[0mlearning_rate\u001b[0m \u001b[0;34m=\u001b[0m \u001b[0mlearning_rate_scheduler\u001b[0m\u001b[0;34m.\u001b[0m\u001b[0mrun\u001b[0m\u001b[0;34m(\u001b[0m\u001b[0mit\u001b[0m\u001b[0;34m)\u001b[0m\u001b[0;34m\u001b[0m\u001b[0;34m\u001b[0m\u001b[0m\n\u001b[0m\u001b[1;32m     64\u001b[0m             \u001b[0mdtheta\u001b[0m \u001b[0;34m=\u001b[0m \u001b[0;34m-\u001b[0m\u001b[0mlearning_rate\u001b[0m\u001b[0;34m*\u001b[0m \u001b[0mgradient_at_theta\u001b[0m\u001b[0;34m\u001b[0m\u001b[0;34m\u001b[0m\u001b[0m\n\u001b[1;32m     65\u001b[0m \u001b[0;34m\u001b[0m\u001b[0m\n",
      "\u001b[0;31mAttributeError\u001b[0m: 'float' object has no attribute 'run'"
     ]
    }
   ],
   "source": [
    "lr = 0.01\n",
    "n_iter = 30\n",
    "bs = 51\n",
    "init_guess = np.array([-10.0, -10.0])\n",
    "\n",
    "sim = [('No outlier: sthochastic',1,(X,y)),\n",
    "       ('Outlier: sthochastic',1, (X1,y1)),\n",
    "       ('Outlier: mini',8, (X1,y1)),\n",
    "       ('Outlier: vanila',51, (X1,y1))\n",
    "      ]\n",
    "\n",
    "history = {}\n",
    "for name, bs, data in sim:\n",
    "    \n",
    "    X_sim,y_sim = data\n",
    "    \n",
    "    theta, history[name] = mini_batch_gradient_descent(X_sim, y_sim, cost_func_linear_regression, gradient_linear_regression, \n",
    "                                             lr, n_iter,bs, init_guess)\n",
    "    print()\n",
    "    theta0 = history[name]['theta'][0]\n",
    "    grad0 =  history[name]['grad'][0]\n",
    "    cost0 = history[name]['cost'][0]\n",
    "\n",
    "    print(f\"Initial Guess it: 0 => theta: {theta0}; grad: {grad0}; cost: {cost0:.2f}\")\n",
    "\n",
    "    it = n_iter -1\n",
    "    theta = history[name]['theta'][-1]\n",
    "    grad =  history[name]['grad'][-1]\n",
    "    cost = history[name]['cost'][-1]\n",
    "\n",
    "    print(f\"it: {it} => theta: {theta}; grad: {grad}; cost: {cost:.2f}\")\n",
    "    print(f\"Expected theta:{theta_true}\")"
   ]
  },
  {
   "cell_type": "code",
   "execution_count": 87,
   "metadata": {},
   "outputs": [
    {
     "ename": "KeyError",
     "evalue": "'No outlier: sthochastic'",
     "output_type": "error",
     "traceback": [
      "\u001b[0;31m---------------------------------------------------------------------------\u001b[0m",
      "\u001b[0;31mKeyError\u001b[0m                                  Traceback (most recent call last)",
      "\u001b[0;32m<ipython-input-87-2421c2ba6511>\u001b[0m in \u001b[0;36m<module>\u001b[0;34m\u001b[0m\n\u001b[1;32m      6\u001b[0m     \u001b[0mname\u001b[0m\u001b[0;34m,\u001b[0m \u001b[0mbs\u001b[0m\u001b[0;34m,\u001b[0m \u001b[0mdata\u001b[0m \u001b[0;34m=\u001b[0m \u001b[0msim_param\u001b[0m\u001b[0;34m\u001b[0m\u001b[0;34m\u001b[0m\u001b[0m\n\u001b[1;32m      7\u001b[0m \u001b[0;34m\u001b[0m\u001b[0m\n\u001b[0;32m----> 8\u001b[0;31m     \u001b[0mcost\u001b[0m \u001b[0;34m=\u001b[0m \u001b[0mhistory\u001b[0m\u001b[0;34m[\u001b[0m\u001b[0mname\u001b[0m\u001b[0;34m]\u001b[0m\u001b[0;34m[\u001b[0m\u001b[0;34m'cost'\u001b[0m\u001b[0;34m]\u001b[0m\u001b[0;34m\u001b[0m\u001b[0;34m\u001b[0m\u001b[0m\n\u001b[0m\u001b[1;32m      9\u001b[0m \u001b[0;34m\u001b[0m\u001b[0m\n\u001b[1;32m     10\u001b[0m     \u001b[0mm\u001b[0m \u001b[0;34m=\u001b[0m \u001b[0mlen\u001b[0m\u001b[0;34m(\u001b[0m\u001b[0mcost\u001b[0m\u001b[0;34m)\u001b[0m\u001b[0;34m\u001b[0m\u001b[0;34m\u001b[0m\u001b[0m\n",
      "\u001b[0;31mKeyError\u001b[0m: 'No outlier: sthochastic'"
     ]
    },
    {
     "data": {
      "image/png": "[encoded data removed]",
      "text/plain": [
       "<Figure size 432x288 with 1 Axes>"
      ]
     },
     "metadata": {
      "needs_background": "light"
     },
     "output_type": "display_data"
    }
   ],
   "source": [
    "colors = ['b','k','g','r']\n",
    "\n",
    "fig,ax = plt.subplots()\n",
    "for idx, sim_param in enumerate(sim):\n",
    "    \n",
    "    name, bs, data = sim_param\n",
    "    \n",
    "    cost = history[name]['cost']\n",
    "    \n",
    "    m = len(cost)\n",
    "    x = np.linspace(0,n_iter,m)\n",
    "    \n",
    "    _ = ax.plot(x,cost,colors[idx],label=name);\n",
    "\n",
    "_ = ax.set_ylabel(\"Cost\")\n",
    "_ = ax.set_ylabel(\"Epoch\")\n",
    "ax.legend();\n"
   ]
  },
  {
   "cell_type": "markdown",
   "metadata": {},
   "source": [
    "## Gradient vanish\n",
    "\n",
    "1. bad initialzation (**logistic regression**)\n",
    "1. deeper neural network (See intro_back_propagation) DO small discussion"
   ]
  },
  {
   "cell_type": "code",
   "execution_count": 88,
   "metadata": {},
   "outputs": [
    {
     "data": {
      "text/plain": [
       "(10, 2)"
      ]
     },
     "execution_count": 88,
     "metadata": {},
     "output_type": "execute_result"
    },
    {
     "data": {
      "text/plain": [
       "array([[-2.15267014,  1.64632745],\n",
       "       [-1.77172127,  1.52979319],\n",
       "       [ 1.6864323 , -1.74495532]])"
      ]
     },
     "execution_count": 88,
     "metadata": {},
     "output_type": "execute_result"
    },
    {
     "data": {
      "text/plain": [
       "array([2.46018457, 1.64632745])"
      ]
     },
     "execution_count": 88,
     "metadata": {},
     "output_type": "execute_result"
    },
    {
     "data": {
      "text/plain": [
       "array([-2.15267014, -2.45159076])"
      ]
     },
     "execution_count": 88,
     "metadata": {},
     "output_type": "execute_result"
    },
    {
     "data": {
      "text/plain": [
       "(10,)"
      ]
     },
     "execution_count": 88,
     "metadata": {},
     "output_type": "execute_result"
    },
    {
     "data": {
      "text/plain": [
       "array([1, 1, 0])"
      ]
     },
     "execution_count": 88,
     "metadata": {},
     "output_type": "execute_result"
    }
   ],
   "source": [
    "# other options are also available\n",
    "X, y = make_classification(\n",
    "    n_samples=10, \n",
    "    n_classes=2,\n",
    "    n_clusters_per_class=1,\n",
    "    n_features=2,\n",
    "    n_redundant = 0,\n",
    "    n_informative = 2,\n",
    "    n_repeated = 0,\n",
    "    weights=[0.5,0.5], # balanced classes\n",
    "    flip_y=0.001, # add noisy the default value for flip_y is 0.1%\n",
    "    class_sep=1.7, # class_sep is 1.0. The lower the value, the harder classification is.\n",
    "    random_state=2020) \n",
    "X.shape\n",
    "X[0:3]\n",
    "\n",
    "X.max(axis=0)\n",
    "X.min(axis=0)\n",
    "\n",
    "y.shape\n",
    "y[0:3]\n"
   ]
  },
  {
   "cell_type": "code",
   "execution_count": 89,
   "metadata": {},
   "outputs": [
    {
     "data": {
      "image/png": "[encoded data removed]",
      "text/plain": [
       "<Figure size 432x288 with 1 Axes>"
      ]
     },
     "metadata": {
      "needs_background": "light"
     },
     "output_type": "display_data"
    }
   ],
   "source": [
    "\n",
    "ax = sns.scatterplot(X[:,0],X[:,1],hue=y);\n",
    "ax.set_title(\"Dataset\");"
   ]
  },
  {
   "cell_type": "code",
   "execution_count": 90,
   "metadata": {},
   "outputs": [
    {
     "data": {
      "text/plain": [
       "(10,)"
      ]
     },
     "execution_count": 90,
     "metadata": {},
     "output_type": "execute_result"
    },
    {
     "data": {
      "text/plain": [
       "array([-1.32950641, -1.00682467,  0.81395464])"
      ]
     },
     "execution_count": 90,
     "metadata": {},
     "output_type": "execute_result"
    },
    {
     "data": {
      "text/plain": [
       "(10,)"
      ]
     },
     "execution_count": 90,
     "metadata": {},
     "output_type": "execute_result"
    },
    {
     "data": {
      "text/plain": [
       "array([0.20924102, 0.26760173, 0.69295157])"
      ]
     },
     "execution_count": 90,
     "metadata": {},
     "output_type": "execute_result"
    },
    {
     "data": {
      "text/plain": [
       "1.2418866104904696"
      ]
     },
     "execution_count": 90,
     "metadata": {},
     "output_type": "execute_result"
    },
    {
     "data": {
      "text/plain": [
       "array([11.06728263, -8.9374648 ])"
      ]
     },
     "execution_count": 90,
     "metadata": {},
     "output_type": "execute_result"
    }
   ],
   "source": [
    "lr = 0.05\n",
    "n_iter = 150\n",
    "bs = 1\n",
    "\n",
    "init_guess = np.array([1.0, 0.5])\n",
    "\n",
    "z = np.matmul(X,init_guess)  # nx1\n",
    "h = 1.0/(1.0 + np.exp(-z))\n",
    "\n",
    "z.shape\n",
    "z[0:3]\n",
    "\n",
    "h.shape\n",
    "h[0:3]\n",
    "\n",
    "cost_func_logistic_regression(init_guess,X,y)\n",
    "gradient_logistic_regression(init_guess,X,y)"
   ]
  },
  {
   "cell_type": "code",
   "execution_count": 91,
   "metadata": {
    "code_folding": []
   },
   "outputs": [
    {
     "ename": "AttributeError",
     "evalue": "'float' object has no attribute 'run'",
     "output_type": "error",
     "traceback": [
      "\u001b[0;31m---------------------------------------------------------------------------\u001b[0m",
      "\u001b[0;31mAttributeError\u001b[0m                            Traceback (most recent call last)",
      "\u001b[0;32m<ipython-input-91-9954163c62ea>\u001b[0m in \u001b[0;36m<module>\u001b[0;34m\u001b[0m\n\u001b[0;32m----> 1\u001b[0;31m theta, history = mini_batch_gradient_descent(X, y, cost_func_logistic_regression, gradient_logistic_regression, \n\u001b[0m\u001b[1;32m      2\u001b[0m                                              lr, n_iter,bs, init_guess)\n\u001b[1;32m      3\u001b[0m \u001b[0;34m\u001b[0m\u001b[0m\n\u001b[1;32m      4\u001b[0m \u001b[0mprint\u001b[0m\u001b[0;34m(\u001b[0m\u001b[0;34m\"agora vai\"\u001b[0m\u001b[0;34m)\u001b[0m\u001b[0;34m\u001b[0m\u001b[0;34m\u001b[0m\u001b[0m\n\u001b[1;32m      5\u001b[0m \u001b[0mprint\u001b[0m\u001b[0;34m(\u001b[0m\u001b[0;34m)\u001b[0m\u001b[0;34m\u001b[0m\u001b[0;34m\u001b[0m\u001b[0m\n",
      "\u001b[0;32m<ipython-input-73-968aeefbd5f8>\u001b[0m in \u001b[0;36mmini_batch_gradient_descent\u001b[0;34m(X, y, cost_func, gradient_func, learning_rate_scheduler, n_iterations, batch_size, init_guess, seed)\u001b[0m\n\u001b[1;32m     61\u001b[0m \u001b[0;34m\u001b[0m\u001b[0m\n\u001b[1;32m     62\u001b[0m            \u001b[0;31m# update parameters\u001b[0m\u001b[0;34m\u001b[0m\u001b[0;34m\u001b[0m\u001b[0m\n\u001b[0;32m---> 63\u001b[0;31m             \u001b[0mlearning_rate\u001b[0m \u001b[0;34m=\u001b[0m \u001b[0mlearning_rate_scheduler\u001b[0m\u001b[0;34m.\u001b[0m\u001b[0mrun\u001b[0m\u001b[0;34m(\u001b[0m\u001b[0mit\u001b[0m\u001b[0;34m)\u001b[0m\u001b[0;34m\u001b[0m\u001b[0;34m\u001b[0m\u001b[0m\n\u001b[0m\u001b[1;32m     64\u001b[0m             \u001b[0mdtheta\u001b[0m \u001b[0;34m=\u001b[0m \u001b[0;34m-\u001b[0m\u001b[0mlearning_rate\u001b[0m\u001b[0;34m*\u001b[0m \u001b[0mgradient_at_theta\u001b[0m\u001b[0;34m\u001b[0m\u001b[0;34m\u001b[0m\u001b[0m\n\u001b[1;32m     65\u001b[0m \u001b[0;34m\u001b[0m\u001b[0m\n",
      "\u001b[0;31mAttributeError\u001b[0m: 'float' object has no attribute 'run'"
     ]
    }
   ],
   "source": [
    "\n",
    "\n",
    "theta, history = mini_batch_gradient_descent(X, y, cost_func_logistic_regression, gradient_logistic_regression, \n",
    "                                             lr, n_iter,bs, init_guess)\n",
    "\n",
    "print(\"agora vai\")\n",
    "print()\n",
    "theta0 = history['theta'][0]\n",
    "grad0 =  history['grad'][0]\n",
    "cost0 = history['cost'][0]\n",
    "\n",
    "print(f\"Initial Guess it: 0 => theta: {theta0}; grad: {grad0}; cost: {cost0}\")\n",
    "\n",
    "it = n_iter -1\n",
    "theta = history['theta'][-1]\n",
    "grad =  history['grad'][-1]\n",
    "cost = history['cost'][-1]\n",
    "\n",
    "print(f\"it: {it} => theta: {theta}; grad: {grad}; cost: {cost}\")\n"
   ]
  },
  {
   "cell_type": "code",
   "execution_count": 571,
   "metadata": {},
   "outputs": [
    {
     "data": {
      "text/plain": [
       "array([1. , 0.5])"
      ]
     },
     "execution_count": 571,
     "metadata": {},
     "output_type": "execute_result"
    },
    {
     "data": {
      "text/plain": [
       "array([ 1.89723487, -1.21497497])"
      ]
     },
     "execution_count": 571,
     "metadata": {},
     "output_type": "execute_result"
    },
    {
     "data": {
      "text/plain": [
       "0.9129825738872123"
      ]
     },
     "execution_count": 571,
     "metadata": {},
     "output_type": "execute_result"
    },
    {
     "data": {
      "text/plain": [
       "array([-2.24729153,  2.22143852])"
      ]
     },
     "execution_count": 571,
     "metadata": {},
     "output_type": "execute_result"
    }
   ],
   "source": [
    "theta0\n",
    "grad0\n",
    "cost0\n",
    "\n",
    "theta"
   ]
  },
  {
   "cell_type": "code",
   "execution_count": 572,
   "metadata": {},
   "outputs": [
    {
     "data": {
      "image/png": "[encoded data removed]",
      "text/plain": [
       "<Figure size 432x288 with 1 Axes>"
      ]
     },
     "metadata": {
      "needs_background": "light"
     },
     "output_type": "display_data"
    }
   ],
   "source": [
    "fig,ax = plt.subplots()\n",
    "\n",
    "cost = history['cost']\n",
    "    \n",
    "m = len(cost)\n",
    "x = np.linspace(0,n_iter,m)\n",
    "    \n",
    "_ = ax.plot(x,cost,'b',label='cost');\n",
    "\n",
    "ax.legend();"
   ]
  },
  {
   "cell_type": "code",
   "execution_count": 517,
   "metadata": {},
   "outputs": [
    {
     "data": {
      "text/plain": [
       "0.98"
      ]
     },
     "execution_count": 517,
     "metadata": {},
     "output_type": "execute_result"
    }
   ],
   "source": [
    "z = np.matmul(X,theta)  # nx1\n",
    "h = 1.0/(1.0 + np.exp(-z))\n",
    "y_pred = h > 0.5\n",
    "\n",
    "accuracy_score(y, y_pred)"
   ]
  },
  {
   "cell_type": "markdown",
   "metadata": {},
   "source": [
    "* **Start from small grads as possible**\n",
    "\n",
    "1. find init_guess closest to a solution. We know the grads is close to zro there \n",
    "1. train a model starting for this position ans show that it i snot learning\n",
    "1. The problems rises when we have multi-layer DNN. Neuron can die in a local minimum and cannot learn anymore\n"
   ]
  },
  {
   "cell_type": "code",
   "execution_count": 566,
   "metadata": {
    "code_folding": []
   },
   "outputs": [
    {
     "ename": "ValueError",
     "evalue": "could not broadcast input array from shape (100) into shape (1)",
     "output_type": "error",
     "traceback": [
      "\u001b[0;31m---------------------------------------------------------------------------\u001b[0m",
      "\u001b[0;31mValueError\u001b[0m                                Traceback (most recent call last)",
      "\u001b[0;32m<ipython-input-566-a7448a6e96b8>\u001b[0m in \u001b[0;36m<module>\u001b[0;34m\u001b[0m\n\u001b[1;32m     22\u001b[0m \u001b[0;34m\u001b[0m\u001b[0m\n\u001b[1;32m     23\u001b[0m \u001b[0;34m\u001b[0m\u001b[0m\n\u001b[0;32m---> 24\u001b[0;31m     \u001b[0mz\u001b[0m\u001b[0;34m[\u001b[0m\u001b[0midx\u001b[0m\u001b[0;34m]\u001b[0m \u001b[0;34m=\u001b[0m \u001b[0mnp\u001b[0m\u001b[0;34m.\u001b[0m\u001b[0mmatmul\u001b[0m\u001b[0;34m(\u001b[0m\u001b[0mX\u001b[0m\u001b[0;34m,\u001b[0m\u001b[0minit_guess\u001b[0m\u001b[0;34m)\u001b[0m  \u001b[0;31m# nx1\u001b[0m\u001b[0;34m\u001b[0m\u001b[0;34m\u001b[0m\u001b[0m\n\u001b[0m\u001b[1;32m     25\u001b[0m     \u001b[0mh\u001b[0m\u001b[0;34m[\u001b[0m\u001b[0midx\u001b[0m\u001b[0;34m]\u001b[0m \u001b[0;34m=\u001b[0m \u001b[0;36m1.0\u001b[0m\u001b[0;34m/\u001b[0m\u001b[0;34m(\u001b[0m\u001b[0;36m1.0\u001b[0m \u001b[0;34m+\u001b[0m \u001b[0mnp\u001b[0m\u001b[0;34m.\u001b[0m\u001b[0mexp\u001b[0m\u001b[0;34m(\u001b[0m\u001b[0;34m-\u001b[0m\u001b[0mz\u001b[0m\u001b[0;34m)\u001b[0m\u001b[0;34m)\u001b[0m\u001b[0;34m\u001b[0m\u001b[0;34m\u001b[0m\u001b[0m\n\u001b[1;32m     26\u001b[0m \u001b[0;34m\u001b[0m\u001b[0m\n",
      "\u001b[0;31mValueError\u001b[0m: could not broadcast input array from shape (100) into shape (1)"
     ]
    }
   ],
   "source": [
    "init_guess = np.array([10.0, 10.5])\n",
    "\n",
    "\n",
    "d = 2\n",
    "n = 100\n",
    "\n",
    "xx = np.linspace(0.0,5000000.0,n)\n",
    "\n",
    "norm_x = np.zeros((n,1))\n",
    "grad_norm = np.zeros((n,1))\n",
    "z = np.zeros((n,1))\n",
    "h = z\n",
    "\n",
    "for idx, x in enumerate(xx):\n",
    "    \n",
    "    init_guess = np.array([-x, x])\n",
    "    norm_x[idx] = np.sqrt(np.matmul(init_guess.T,init_guess))\n",
    "    \n",
    "    grad = gradient_logistic_regression(init_guess,X,y)\n",
    "    \n",
    "    grad_norm[idx] = np.sqrt(np.matmul(grad.T,grad))\n",
    "    \n",
    "    \n",
    "    z = np.matmul(X,init_guess)  # nx1\n",
    "    h[idx] = 1.0/(1.0 + np.exp(-z))\n",
    " \n",
    "    cost[idx] = cost_func_logistic_regression(init_guess,X,y)\n"
   ]
  },
  {
   "cell_type": "code",
   "execution_count": 561,
   "metadata": {},
   "outputs": [
    {
     "data": {
      "text/plain": [
       "array([4797979.7979798 , 4848484.84848485, 4898989.8989899 ,\n",
       "       4949494.94949495])"
      ]
     },
     "execution_count": 561,
     "metadata": {},
     "output_type": "execute_result"
    },
    {
     "data": {
      "text/plain": [
       "array([[1.21390831],\n",
       "       [1.21390831],\n",
       "       [1.21390831],\n",
       "       [1.21390831]])"
      ]
     },
     "execution_count": 561,
     "metadata": {},
     "output_type": "execute_result"
    }
   ],
   "source": [
    "xx[-5:-1]\n",
    "grad_norm[-5:-1]"
   ]
  },
  {
   "cell_type": "code",
   "execution_count": 560,
   "metadata": {},
   "outputs": [
    {
     "data": {
      "image/png": "[encoded data removed]",
      "text/plain": [
       "<Figure size 432x288 with 1 Axes>"
      ]
     },
     "metadata": {
      "needs_background": "light"
     },
     "output_type": "display_data"
    }
   ],
   "source": [
    "    \n",
    "fig,ax = plt.subplots()\n",
    "\n",
    "_ = ax.plot(xx,grad_norm,'b',label='norm_grads');\n",
    "\n",
    "ax.legend();"
   ]
  },
  {
   "cell_type": "code",
   "execution_count": 576,
   "metadata": {},
   "outputs": [
    {
     "name": "stdout",
     "output_type": "stream",
     "text": [
      "agora vai\n",
      "\n",
      "Initial Guess it: 0 => theta: [-2.86518817  3.3551    ]; grad: [ 1.80079434e-05 -1.37721850e-05]; cost: 0.08707387109777445\n",
      "it: 149 => theta: [-3.08587957  3.81855903]; grad: [0.19572736 0.08938462]; cost: 0.08354973676336896\n"
     ]
    }
   ],
   "source": [
    "init_guess = np.array([-2.86518817,3.3551])\n",
    "\n",
    "theta, history = mini_batch_gradient_descent(X, y, cost_func_logistic_regression, gradient_logistic_regression, \n",
    "                                             lr, n_iter,bs, init_guess)\n",
    "\n",
    "print(\"agora vai\")\n",
    "print()\n",
    "theta0 = history['theta'][0]\n",
    "grad0 =  history['grad'][0]\n",
    "cost0 = history['cost'][0]\n",
    "\n",
    "print(f\"Initial Guess it: 0 => theta: {theta0}; grad: {grad0}; cost: {cost0}\")\n",
    "\n",
    "it = n_iter -1\n",
    "theta = history['theta'][-1]\n",
    "grad =  history['grad'][-1]\n",
    "cost = history['cost'][-1]\n",
    "\n",
    "print(f\"it: {it} => theta: {theta}; grad: {grad}; cost: {cost}\")"
   ]
  },
  {
   "cell_type": "code",
   "execution_count": 579,
   "metadata": {},
   "outputs": [
    {
     "data": {
      "image/png": "[encoded data removed]",
      "text/plain": [
       "<Figure size 432x288 with 1 Axes>"
      ]
     },
     "metadata": {
      "needs_background": "light"
     },
     "output_type": "display_data"
    }
   ],
   "source": [
    "fig,ax = plt.subplots()\n",
    "\n",
    "cost = history['cost']\n",
    "    \n",
    "m = len(cost)\n",
    "x = np.linspace(0,n_iter,m)\n",
    "    \n",
    "_ = ax.plot(x,cost,'b',label='cost');\n",
    "ax.set_ylim(0.0,0.9)\n",
    "ax.legend();"
   ]
  },
  {
   "cell_type": "markdown",
   "metadata": {},
   "source": [
    "## Momentum \n",
    "\n",
    "* Gradient Descent with momentum\n",
    "\n",
    "    * The problem mmentum address is to speedup the steps in the regions where gradients is too small (Vanish). It helps the gradient:\n",
    "        * escape from local small valleys \n",
    "        * speedup in plateuas and\n",
    "        * also avoid stopping in saddle points\n",
    "    * Intuition: adds term that can be understood as innertial term in the update \n",
    "    * Gradients tends to jiggle more when it is closed to minimum because the gradients are change directions. Othe siolutions try to address this peoblems: **AdaGrad**, **RMSProp** and **Adam (momentum+ RMSProp) (This is the best available right now)**\n",
    "\n",
    "$\n",
    "d\\theta = \\beta d\\theta + \\eta (1 - \\beta)  \\nabla_{\\theta} J(\\theta) \n",
    "$\n",
    "    \n",
    "Default value $\\beta = 0.9$ works well in many situations\n",
    "* $\\beta = 0$: we have normall gardeints (no momentum)\n",
    "* $\\beta = 1$: oure momentum and the slopes (gradients) are ignored in the update\n",
    "\n",
    "\n",
    "----------\n",
    "\n",
    "The problem this extension tries to tackle is slow convergence in the standard gradient descent. When the slope becomes too gentle gradient descent takes too small steps, has hardship escaping valleys and even may stop at a saddle point. In addition, the slope may be oscillating around the general direction of the slope following ravines in the loss function.\n",
    "\n",
    "The momentum was inspired in the concpet of exponential moving average (exponential smoothing).\n",
    "\n",
    "\n",
    "$\n",
    "V_t = \\beta V_{t-1} + (1-\\beta)S_t\n",
    "$\n",
    "\n",
    "\n",
    "where $S_t$ is a new observation and $\\beta = [0,1]$. The new smoooth value is linear combination of the new observation $S_t$ and the old smooothed value $V_{t-1}$ and $\\beta$ determine the fraction of the old smooothed value will be \"remember\". Analogy of pyhsical system, $V$ denotes velocity and the term $\\beta V_{t-1}$ is the resistence applied in the previous velocity and $(1 -\\beta)S_t$ is the acceleration at current time. \n",
    "\n",
    "\n",
    "This equation is to reduce rhe gradients oscilations because a considered amount of the gradient oscilation is cancelled due to the resistence term. The equation for gradient is given b\n",
    "\n",
    "\n",
    "\n",
    "$\n",
    "V_t = \\beta V_{t-1} + (1-\\beta) \\eta \\nabla J(\\theta)\n",
    "$\n",
    "\n",
    "Since the learning rate can be selected to account for $(1- \\beta)$ term thus making it redundant, this term is usually omitted in the literature.\n",
    "\n",
    "\n",
    "$\n",
    "V_t = \\beta V_{t-1} + \\eta \\nabla J(\\theta)\n",
    "$\n",
    "\n",
    "\n",
    "Where $\\eta = (1-\\beta) \\eta $. The parameters are updated with the formula:\n",
    "\n",
    "\n",
    "$\n",
    "\\theta_t = \\theta_{t-1} + V_t\n",
    "$\n",
    "\n",
    "Changing mini batches to include moemntum"
   ]
  },
  {
   "cell_type": "code",
   "execution_count": 92,
   "metadata": {},
   "outputs": [],
   "source": [
    "def gradient_descent(X,y, cost_func, gradient_func, learning_rate: float, beta: float,\n",
    "                     n_iterations: int, init_guess: np.array):\n",
    "    \n",
    "    n = X.shape[0] # training size\n",
    "    d = X.shape[1]  # number of dimensions or paramters\n",
    "    \n",
    "    theta_history = np.zeros((n_iterations,d))\n",
    "    grad_history = np.zeros((n_iterations,d))\n",
    "    cost_history = np.zeros(n_iterations)\n",
    "    \n",
    "    # init guess\n",
    "    if init_guess is None:\n",
    "        theta = np.random.randn(d)\n",
    "        \n",
    "    else:\n",
    "        theta = init_guess\n",
    "\n",
    "    V = 0.0\n",
    "    #print(f\"theta0: {theta}\")\n",
    "    for it in range(0,n_iterations):\n",
    "\n",
    "        # compute gradients and cost function\n",
    "        cost_at_theta = cost_func(theta,X,y)\n",
    "        gradient_at_theta = gradient_func(theta,X,y)\n",
    "\n",
    "        # log history for ploting\n",
    "        theta_history[it, :] = theta.T\n",
    "        grad_history[it,:] = gradient_at_theta.T\n",
    "        cost_history[it] = cost_at_theta\n",
    "        \n",
    "        # update parameters\n",
    "        #V = beta*V - learning_rate*(1.0-beta)*gradient_at_theta\n",
    "        V = beta*V - learning_rate*gradient_at_theta\n",
    "        theta = theta + V\n",
    "\n",
    "    history = {'theta': theta_history, \"cost\": cost_history, \"grad\": grad_history}\n",
    "\n",
    "    return theta, history"
   ]
  },
  {
   "cell_type": "code",
   "execution_count": 93,
   "metadata": {},
   "outputs": [
    {
     "data": {
      "text/plain": [
       "(100, 2)"
      ]
     },
     "execution_count": 93,
     "metadata": {},
     "output_type": "execute_result"
    },
    {
     "data": {
      "text/plain": [
       "array([[ 2.67810485, -2.83445393],\n",
       "       [-1.62960075,  1.08021034],\n",
       "       [-0.1782987 , -0.62585341]])"
      ]
     },
     "execution_count": 93,
     "metadata": {},
     "output_type": "execute_result"
    },
    {
     "data": {
      "text/plain": [
       "array([3.42558658, 4.33317746])"
      ]
     },
     "execution_count": 93,
     "metadata": {},
     "output_type": "execute_result"
    },
    {
     "data": {
      "text/plain": [
       "array([-3.56921968, -4.53509512])"
      ]
     },
     "execution_count": 93,
     "metadata": {},
     "output_type": "execute_result"
    },
    {
     "data": {
      "text/plain": [
       "(100,)"
      ]
     },
     "execution_count": 93,
     "metadata": {},
     "output_type": "execute_result"
    },
    {
     "data": {
      "text/plain": [
       "array([0, 1, 0])"
      ]
     },
     "execution_count": 93,
     "metadata": {},
     "output_type": "execute_result"
    }
   ],
   "source": [
    "# other options are also available\n",
    "X, y = make_classification(\n",
    "    n_samples=100, \n",
    "    n_classes=2,\n",
    "    n_clusters_per_class=1,\n",
    "    n_features=2,\n",
    "    n_redundant = 0,\n",
    "    n_informative = 2,\n",
    "    n_repeated = 0,\n",
    "    weights=[0.5,0.5], # balanced classes\n",
    "    flip_y=0.001, # add noisy the default value for flip_y is 0.1%\n",
    "    class_sep=1.7, # class_sep is 1.0. The lower the value, the harder classification is.\n",
    "    random_state=2020) \n",
    "\n",
    "# Intercept (bias) equal to zero when define X this way\n",
    "X.shape\n",
    "X[0:3]\n",
    "\n",
    "X.max(axis=0)\n",
    "X.min(axis=0)\n",
    "\n",
    "y.shape\n",
    "y[0:3]\n"
   ]
  },
  {
   "cell_type": "code",
   "execution_count": 94,
   "metadata": {},
   "outputs": [
    {
     "data": {
      "image/png": "[encoded data removed]",
      "text/plain": [
       "<Figure size 432x288 with 1 Axes>"
      ]
     },
     "metadata": {
      "needs_background": "light"
     },
     "output_type": "display_data"
    }
   ],
   "source": [
    "ax = sns.scatterplot(X[:,0],X[:,1],hue=y);\n",
    "ax.set_title(\"Dataset\");"
   ]
  },
  {
   "cell_type": "code",
   "execution_count": 95,
   "metadata": {},
   "outputs": [
    {
     "name": "stdout",
     "output_type": "stream",
     "text": [
      "vanilla, beta: 0.0\n",
      "Initial Guess it: 0 => theta: [0. 0.]; grad: [ 78.07148411 -89.26535366]; cost: 0.69\n",
      "it: 19 => theta: [-0.57547971  0.69477225]; grad: [ 12.5985412  -16.75125393]; cost: 0.17\n",
      "accuracy: 0.98\n",
      "\n",
      "momentum, beta: 0.89\n",
      "Initial Guess it: 0 => theta: [0. 0.]; grad: [ 78.07148411 -89.26535366]; cost: 0.69\n",
      "it: 19 => theta: [-1.9491862   2.37439412]; grad: [-0.08236252 -0.33870484]; cost: 0.05\n",
      "accuracy: 0.98\n",
      "\n"
     ]
    }
   ],
   "source": [
    "lr = 0.001\n",
    "n_iter = 20\n",
    "\n",
    "sim = [('vanilla', 0.00),\n",
    "       ('momentum',0.89 )]\n",
    "\n",
    "\n",
    "init_guess = np.array([-2.86518817,3.3551])  # <== Good to show even close to minimum momentu is still learning \n",
    "init_guess = np.array([0.0,0.0]) ## <== Best initialzation to show momentum is fast\n",
    "#init_guess = np.array([5.0,-1.0])  ## <== also works well\n",
    "\n",
    "\n",
    "for name, beta in sim:\n",
    "\n",
    "\n",
    "    theta, history[name] = gradient_descent(X, y,\n",
    "                                            cost_func_logistic_regression, gradient_logistic_regression,\n",
    "                                            lr, beta, \n",
    "                                            n_iter, init_guess)\n",
    "\n",
    "    print(f\"{name}, beta: {beta}\")\n",
    "    theta0 = history[name]['theta'][0]\n",
    "    grad0 =  history[name]['grad'][0]\n",
    "    cost0 = history[name]['cost'][0]\n",
    "\n",
    "    print(f\"Initial Guess it: 0 => theta: {theta0}; grad: {grad0}; cost: {cost0:.2f}\")\n",
    "\n",
    "    it = n_iter -1\n",
    "    theta = history[name]['theta'][-1]\n",
    "    grad =  history[name]['grad'][-1]\n",
    "    cost = history[name]['cost'][-1]\n",
    "\n",
    "    print(f\"it: {it} => theta: {theta}; grad: {grad}; cost: {cost:.2f}\")\n",
    "    \n",
    "    z = np.matmul(X,theta)  # nx1\n",
    "    h = 1.0/(1.0 + np.exp(-z))\n",
    "    y_pred = h > 0.5\n",
    "\n",
    "    acc = accuracy_score(y, y_pred)\n",
    "    print(f\"accuracy: {acc}\")\n",
    "    \n",
    "    #print(f\"Expected theta:{theta_true}\")\n",
    "    print()"
   ]
  },
  {
   "cell_type": "code",
   "execution_count": 96,
   "metadata": {},
   "outputs": [
    {
     "data": {
      "image/png": "[encoded data removed]",
      "text/plain": [
       "<Figure size 432x288 with 1 Axes>"
      ]
     },
     "metadata": {
      "needs_background": "light"
     },
     "output_type": "display_data"
    }
   ],
   "source": [
    "colors = ['b','k','g']\n",
    "\n",
    "fig,ax = plt.subplots()\n",
    "for idx, hyper_params in enumerate(sim):\n",
    "    \n",
    "    name, beta = hyper_params= hyper_params\n",
    "    \n",
    "    cost = history[name]['cost']\n",
    "    \n",
    "    m = len(cost)\n",
    "    x = np.linspace(0,n_iter,m)\n",
    "    \n",
    "    _ = ax.plot(x,cost,colors[idx],label=name);\n",
    "    \n",
    "#_ = ax.set_ylim([6, 8])\n",
    "_ = ax.set_ylabel(\"Cost\")\n",
    "_ = ax.set_ylabel(\"Epoch\")\n",
    "ax.legend();"
   ]
  },
  {
   "cell_type": "markdown",
   "metadata": {},
   "source": [
    "## Impact of initialization: TODO move this for another notebook\n",
    "\n",
    "TODO: Review\n",
    "refs: https://www.deeplearning.ai/ai-notes/initialization/\n",
    "\n",
    "1. REVIEW and leran more: xavier and he need a deep NN to start make sense and bit random or constant\n",
    "    1. TODO: Show that xavier is better for sigmoid and softmax and He for ReLu and Linear\n",
    "1. Constant intialization the DNN will perform very poor <==\n",
    "1. too-small: leads to gradient vanish\n",
    "1. too-large: leads too gradients exploding"
   ]
  },
  {
   "cell_type": "code",
   "execution_count": 97,
   "metadata": {},
   "outputs": [
    {
     "data": {
      "image/png": "[encoded data removed]",
      "text/plain": [
       "<Figure size 432x288 with 1 Axes>"
      ]
     },
     "metadata": {
      "needs_background": "light"
     },
     "output_type": "display_data"
    }
   ],
   "source": [
    "# other options are also available\n",
    "X, y = make_classification(\n",
    "    n_samples=100, \n",
    "    n_classes=2,\n",
    "    n_clusters_per_class=1,\n",
    "    n_features=2,\n",
    "    n_redundant = 0,\n",
    "    n_informative = 2,\n",
    "    n_repeated = 0,\n",
    "    weights=[0.5,0.5], # balanced classes\n",
    "    flip_y=0.001, # add noisy the default value for flip_y is 0.1%\n",
    "    class_sep=1.7, # class_sep is 1.0. The lower the value, the harder classification is.\n",
    "    random_state=2020) \n",
    "\n",
    "ax = sns.scatterplot(X[:,0],X[:,1],hue=y);\n",
    "ax.set_title(\"Dataset\");"
   ]
  },
  {
   "cell_type": "code",
   "execution_count": 98,
   "metadata": {},
   "outputs": [
    {
     "data": {
      "text/plain": [
       "array([0., 0.])"
      ]
     },
     "execution_count": 98,
     "metadata": {},
     "output_type": "execute_result"
    },
    {
     "name": "stdout",
     "output_type": "stream",
     "text": [
      "manual:\n",
      " ==> Layer 0: [[1.]],[[0.5]]\n",
      " ==> Layer 1: [[-1.]],[[0.]]\n",
      "const:\n",
      " ==> Layer 0: [[0.5]],[[0.5]]\n",
      " ==> Layer 1: [[0.5]],[[0.5]]\n",
      "grad vanish:\n",
      " ==> Layer 0: [[5.]],[[5.]]\n",
      " ==> Layer 1: [[5.]],[[5.]]\n",
      "zero:\n",
      " ==> Layer 0: [[0.]],[[0.]]\n",
      " ==> Layer 1: [[0.]],[[0.]]\n",
      "random:\n",
      " ==> Layer 0: [[0.21195656]],[[0.46673872]]\n",
      " ==> Layer 1: [[-0.72210569]],[[-0.37465383]]\n",
      "xavier:\n",
      " ==> Layer 0: [[-2.0109973]],[[1.6921577]]\n",
      " ==> Layer 1: [[0.5425734]],[[-0.8163171]]\n",
      "he:\n",
      " ==> Layer 0: [[-2.8439798]],[[2.3930724]]\n",
      " ==> Layer 1: [[0.7673147]],[[-1.1544467]]\n",
      "Last model summary and config\n",
      "Model: \"sequential_6\"\n",
      "_________________________________________________________________\n",
      "Layer (type)                 Output Shape              Param #   \n",
      "=================================================================\n",
      "dense_12 (Dense)             (None, 1)                 3         \n",
      "_________________________________________________________________\n",
      "dense_13 (Dense)             (None, 1)                 2         \n",
      "=================================================================\n",
      "Total params: 5\n",
      "Trainable params: 5\n",
      "Non-trainable params: 0\n",
      "_________________________________________________________________\n"
     ]
    },
    {
     "data": {
      "text/plain": [
       "{'name': 'SGD',\n",
       " 'learning_rate': 0.05,\n",
       " 'decay': 0.0,\n",
       " 'momentum': 0.0,\n",
       " 'nesterov': False}"
      ]
     },
     "execution_count": 98,
     "metadata": {},
     "output_type": "execute_result"
    }
   ],
   "source": [
    "init_guess\n",
    "n_iter = 50\n",
    "lr = 0.05\n",
    "\n",
    "\n",
    "\n",
    "# manual\n",
    "W00 = tf.constant_initializer(1.0)\n",
    "b00 = tf.constant_initializer(0.5)\n",
    "W01 = tf.constant_initializer(-1.0)\n",
    "b01 = tf.constant_initializer(0.0)\n",
    "\n",
    "# constant\n",
    "WB_const = tf.constant_initializer(0.5)\n",
    "\n",
    "# grad vanish regions\n",
    "WB_grad_vanish = tf.constant_initializer(5.0)\n",
    "\n",
    "# Zero\n",
    "WB0 = tf.constant_initializer(0.0)\n",
    "\n",
    "# random: uniform\n",
    "np.random.seed(2021)\n",
    "W00_rd = tf.constant_initializer(np.random.uniform(-1.0,1.0,1))\n",
    "b00_rd = tf.constant_initializer(np.random.uniform(-1.0,1.0,1))\n",
    "W01_rd = tf.constant_initializer(np.random.uniform(-1.0,1.0,1))\n",
    "b01_rd = tf.constant_initializer(np.random.uniform(-1.0,1.0,1))\n",
    "\n",
    "# xavier best for sigmoid and softmax\n",
    "W00_xv = tf.keras.initializers.GlorotNormal(seed=2021)\n",
    "b00_xv = tf.keras.initializers.GlorotNormal(seed=2020) \n",
    "W01_xv = tf.keras.initializers.GlorotNormal(seed=2019)\n",
    "b01_xv = tf.keras.initializers.GlorotNormal(seed=2018)\n",
    "\n",
    "\n",
    "# he\n",
    "W00_he = tf.keras.initializers.HeNormal(seed=2021)\n",
    "b00_he = tf.keras.initializers.HeNormal(seed=2020) \n",
    "W01_he = tf.keras.initializers.HeNormal(seed=2019)\n",
    "b01_he = tf.keras.initializers.HeNormal(seed=2018)\n",
    "\n",
    "batch_sizes = [('manual',X.shape[0], (W00,b00,W01,b01)),\n",
    "               ('const',X.shape[0], (WB_const,WB_const,WB_const,WB_const)),\n",
    "               ('grad vanish',X.shape[0], (WB_grad_vanish,WB_grad_vanish,WB_grad_vanish,WB_grad_vanish)),\n",
    "               ('zero',X.shape[0], (WB0,WB0,WB0,WB0)),\n",
    "               ('random',X.shape[0], (W00_rd,b00_rd,W01_rd,b01_rd)),\n",
    "               ('xavier',X.shape[0], (W00_xv,b00_xv,W01_xv,b01_xv)),\n",
    "               ('he',X.shape[0], (W00_he,b00_he,W01_he,b01_he))\n",
    "              ]\n",
    "\n",
    "models = {}\n",
    "for name, bs, initialization in batch_sizes:\n",
    "\n",
    "    \n",
    "    W00,b00,W01,b01 = initialization\n",
    "\n",
    "    print(f\"{name}:\")\n",
    "    print(f\" ==> Layer 0: {W00((1,1)).numpy()},{b00((1,1)).numpy()}\")\n",
    "    print(f\" ==> Layer 1: {W01((1,1)).numpy()},{b01((1,1)).numpy()}\")\n",
    "    \n",
    "    \n",
    "    # https://www.tensorflow.org/api_docs/python/tf/keras/layers/Dense\n",
    "    models[name] = tf.keras.Sequential([\n",
    "                tf.keras.layers.Dense(1, activation='sigmoid',\n",
    "                          kernel_initializer=W00,\n",
    "                          bias_initializer=b00,\n",
    "                          input_shape=(2,)),\n",
    "                tf.keras.layers.Dense(1, activation='sigmoid',\n",
    "                          kernel_initializer=W01,\n",
    "                          bias_initializer=b01,\n",
    "                          input_shape=(1,))\n",
    "    ])\n",
    "\n",
    "\n",
    "    sgd = tf.keras.optimizers.SGD(learning_rate=lr, \n",
    "                              momentum=0.0,\n",
    "                              nesterov=False, name='SGD'\n",
    "                             )\n",
    "\n",
    "    models[name].compile(loss='mse', optimizer=sgd, metrics=['mse'])\n",
    "\n",
    "    \n",
    "\n",
    "    _ = models[name].fit(X, y, epochs=n_iter, batch_size=bs, verbose=0, validation_split=0.0)\n",
    "    \n",
    "    \n",
    "print(\"Last model summary and config\")\n",
    "models[name].summary()\n",
    "models[name].optimizer.get_config()\n",
    "\n"
   ]
  },
  {
   "cell_type": "code",
   "execution_count": 99,
   "metadata": {},
   "outputs": [
    {
     "data": {
      "image/png": "[encoded data removed]",
      "text/plain": [
       "<Figure size 504x432 with 1 Axes>"
      ]
     },
     "metadata": {
      "needs_background": "light"
     },
     "output_type": "display_data"
    }
   ],
   "source": [
    "colors = ['b','k','firebrick','g', 'y', 'v', 'o']\n",
    "fig,ax = plt.subplots(figsize=(7,6))\n",
    "for idx, sim  in enumerate(batch_sizes): \n",
    "\n",
    "    name, bs, initialization = sim \n",
    "    tf_cost = models[name].history.history['loss']\n",
    "    \n",
    "    _ = ax.plot(range(n_iter),tf_cost,colors[idx],label=f'{name}: tf_cost');\n",
    "\n",
    "#_ = ax.set_ylim([0, 1])\n",
    "ax.legend();"
   ]
  }
 ],
 "metadata": {
  "kernelspec": {
   "display_name": "Python 3",
   "language": "python",
   "name": "python3"
  },
  "language_info": {
   "codemirror_mode": {
    "name": "ipython",
    "version": 3
   },
   "file_extension": ".py",
   "mimetype": "text/x-python",
   "name": "python",
   "nbconvert_exporter": "python",
   "pygments_lexer": "ipython3",
   "version": "3.9.7"
  },
  "latex_envs": {
   "LaTeX_envs_menu_present": true,
   "autoclose": false,
   "autocomplete": true,
   "bibliofile": "biblio.bib",
   "cite_by": "apalike",
   "current_citInitial": 1,
   "eqLabelWithNumbers": true,
   "eqNumInitial": 1,
   "hotkeys": {
    "equation": "Ctrl-E",
    "itemize": "Ctrl-I"
   },
   "labels_anchors": false,
   "latex_user_defs": false,
   "report_style_numbering": false,
   "user_envs_cfg": false
  },
  "name": "intro_gradient_algos.ipynb",
  "toc": {
   "base_numbering": 1,
   "nav_menu": {
    "height": "383.75px",
    "width": "252.222px"
   },
   "number_sections": true,
   "sideBar": true,
   "skip_h1_title": true,
   "title_cell": "Table of Contents",
   "title_sidebar": "Contents",
   "toc_cell": false,
   "toc_position": {
    "height": "calc(100% - 180px)",
    "left": "10px",
    "top": "150px",
    "width": "201.111px"
   },
   "toc_section_display": true,
   "toc_window_display": true
  },
  "varInspector": {
   "cols": {
    "lenName": 16,
    "lenType": 16,
    "lenVar": 40
   },
   "kernels_config": {
    "python": {
     "delete_cmd_postfix": "",
     "delete_cmd_prefix": "del ",
     "library": "var_list.py",
     "varRefreshCmd": "print(var_dic_list())"
    },
    "r": {
     "delete_cmd_postfix": ") ",
     "delete_cmd_prefix": "rm(",
     "library": "var_list.r",
     "varRefreshCmd": "cat(var_dic_list()) "
    }
   },
   "types_to_exclude": [
    "module",
    "function",
    "builtin_function_or_method",
    "instance",
    "_Feature"
   ],
   "window_display": false
  }
 },
 "nbformat": 4,
 "nbformat_minor": 4
}
